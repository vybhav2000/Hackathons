{
 "metadata": {
  "language_info": {
   "codemirror_mode": {
    "name": "ipython",
    "version": 3
   },
   "file_extension": ".py",
   "mimetype": "text/x-python",
   "name": "python",
   "nbconvert_exporter": "python",
   "pygments_lexer": "ipython3",
   "version": "3.7.6-final"
  },
  "orig_nbformat": 2,
  "kernelspec": {
   "name": "python_defaultSpec_1597481286357",
   "display_name": "Python 3.7.6 64-bit (conda)"
  }
 },
 "nbformat": 4,
 "nbformat_minor": 2,
 "cells": [
  {
   "cell_type": "code",
   "execution_count": 1,
   "metadata": {},
   "outputs": [],
   "source": [
    "import numpy as np\n",
    "import pandas as pd\n",
    "import matplotlib.pyplot as plt\n",
    "import plotly.express as px\n",
    "import seaborn as sns"
   ]
  },
  {
   "cell_type": "code",
   "execution_count": 56,
   "metadata": {},
   "outputs": [],
   "source": [
    "train=pd.read_csv('Train.csv')\n",
    "test=pd.read_csv('Test.csv')\n",
    "sample=pd.read_csv('Sample_submission.csv')"
   ]
  },
  {
   "cell_type": "code",
   "execution_count": 3,
   "metadata": {},
   "outputs": [
    {
     "output_type": "execute_result",
     "data": {
      "text/plain": "    Offered_By         Category  Rating  Reviews                Size  \\\n0  ps_id-24654          Finance    4.18     1481  Varies with device   \n1  ps_id-35329  Music And Audio    4.81      302                 10M   \n2  ps_id-11044      Game Casual    4.27      374                 27M   \n3  ps_id-36068         Business    4.03   122058  Varies with device   \n4  ps_id-35831          Medical    4.60      358  Varies with device   \n\n      Price Content_Rating Last_Updated_On     Release_Version  \\\n0      Free       Everyone     May 05 2020  Varies with device   \n1      Free       Everyone     Mar 26 2020              3.9.18   \n2      Free       Everyone     May 01 2020              1.10.1   \n3      Free           Teen     May 02 2020  Varies with device   \n4  297.5742       Everyone     Nov 29 2018  Varies with device   \n\n  OS_Version_Required    Downloads  \n0  Varies with device     100,000+  \n1          4.1 and up       5,000+  \n2          4.1 and up      10,000+  \n3  Varies with device  10,000,000+  \n4  Varies with device       5,000+  ",
      "text/html": "<div>\n<style scoped>\n    .dataframe tbody tr th:only-of-type {\n        vertical-align: middle;\n    }\n\n    .dataframe tbody tr th {\n        vertical-align: top;\n    }\n\n    .dataframe thead th {\n        text-align: right;\n    }\n</style>\n<table border=\"1\" class=\"dataframe\">\n  <thead>\n    <tr style=\"text-align: right;\">\n      <th></th>\n      <th>Offered_By</th>\n      <th>Category</th>\n      <th>Rating</th>\n      <th>Reviews</th>\n      <th>Size</th>\n      <th>Price</th>\n      <th>Content_Rating</th>\n      <th>Last_Updated_On</th>\n      <th>Release_Version</th>\n      <th>OS_Version_Required</th>\n      <th>Downloads</th>\n    </tr>\n  </thead>\n  <tbody>\n    <tr>\n      <th>0</th>\n      <td>ps_id-24654</td>\n      <td>Finance</td>\n      <td>4.18</td>\n      <td>1481</td>\n      <td>Varies with device</td>\n      <td>Free</td>\n      <td>Everyone</td>\n      <td>May 05 2020</td>\n      <td>Varies with device</td>\n      <td>Varies with device</td>\n      <td>100,000+</td>\n    </tr>\n    <tr>\n      <th>1</th>\n      <td>ps_id-35329</td>\n      <td>Music And Audio</td>\n      <td>4.81</td>\n      <td>302</td>\n      <td>10M</td>\n      <td>Free</td>\n      <td>Everyone</td>\n      <td>Mar 26 2020</td>\n      <td>3.9.18</td>\n      <td>4.1 and up</td>\n      <td>5,000+</td>\n    </tr>\n    <tr>\n      <th>2</th>\n      <td>ps_id-11044</td>\n      <td>Game Casual</td>\n      <td>4.27</td>\n      <td>374</td>\n      <td>27M</td>\n      <td>Free</td>\n      <td>Everyone</td>\n      <td>May 01 2020</td>\n      <td>1.10.1</td>\n      <td>4.1 and up</td>\n      <td>10,000+</td>\n    </tr>\n    <tr>\n      <th>3</th>\n      <td>ps_id-36068</td>\n      <td>Business</td>\n      <td>4.03</td>\n      <td>122058</td>\n      <td>Varies with device</td>\n      <td>Free</td>\n      <td>Teen</td>\n      <td>May 02 2020</td>\n      <td>Varies with device</td>\n      <td>Varies with device</td>\n      <td>10,000,000+</td>\n    </tr>\n    <tr>\n      <th>4</th>\n      <td>ps_id-35831</td>\n      <td>Medical</td>\n      <td>4.60</td>\n      <td>358</td>\n      <td>Varies with device</td>\n      <td>297.5742</td>\n      <td>Everyone</td>\n      <td>Nov 29 2018</td>\n      <td>Varies with device</td>\n      <td>Varies with device</td>\n      <td>5,000+</td>\n    </tr>\n  </tbody>\n</table>\n</div>"
     },
     "metadata": {},
     "execution_count": 3
    }
   ],
   "source": [
    "train.head()"
   ]
  },
  {
   "cell_type": "code",
   "execution_count": 4,
   "metadata": {},
   "outputs": [
    {
     "output_type": "execute_result",
     "data": {
      "text/plain": "18"
     },
     "metadata": {},
     "execution_count": 4
    }
   ],
   "source": [
    "train['Downloads'].nunique()"
   ]
  },
  {
   "cell_type": "code",
   "execution_count": 86,
   "metadata": {},
   "outputs": [],
   "source": [
    "train['Price']=train['Price'].apply(lambda x: 0 if x=='Free'  else x)\n",
    "test['Price']=test['Price'].apply(lambda x: 0 if x=='Free' else x)"
   ]
  },
  {
   "cell_type": "code",
   "execution_count": 11,
   "metadata": {},
   "outputs": [
    {
     "output_type": "execute_result",
     "data": {
      "text/plain": "    Offered_By         Category  Rating  Reviews                Size  \\\n0  ps_id-24654          Finance    4.18     1481  Varies with device   \n1  ps_id-35329  Music And Audio    4.81      302                 10M   \n2  ps_id-11044      Game Casual    4.27      374                 27M   \n3  ps_id-36068         Business    4.03   122058  Varies with device   \n4  ps_id-35831          Medical    4.60      358  Varies with device   \n\n      Price Content_Rating Last_Updated_On     Release_Version  \\\n0         0       Everyone     May 05 2020  Varies with device   \n1         0       Everyone     Mar 26 2020              3.9.18   \n2         0       Everyone     May 01 2020              1.10.1   \n3         0           Teen     May 02 2020  Varies with device   \n4  297.5742       Everyone     Nov 29 2018  Varies with device   \n\n  OS_Version_Required    Downloads  \n0  Varies with device     100,000+  \n1          4.1 and up       5,000+  \n2          4.1 and up      10,000+  \n3  Varies with device  10,000,000+  \n4  Varies with device       5,000+  ",
      "text/html": "<div>\n<style scoped>\n    .dataframe tbody tr th:only-of-type {\n        vertical-align: middle;\n    }\n\n    .dataframe tbody tr th {\n        vertical-align: top;\n    }\n\n    .dataframe thead th {\n        text-align: right;\n    }\n</style>\n<table border=\"1\" class=\"dataframe\">\n  <thead>\n    <tr style=\"text-align: right;\">\n      <th></th>\n      <th>Offered_By</th>\n      <th>Category</th>\n      <th>Rating</th>\n      <th>Reviews</th>\n      <th>Size</th>\n      <th>Price</th>\n      <th>Content_Rating</th>\n      <th>Last_Updated_On</th>\n      <th>Release_Version</th>\n      <th>OS_Version_Required</th>\n      <th>Downloads</th>\n    </tr>\n  </thead>\n  <tbody>\n    <tr>\n      <th>0</th>\n      <td>ps_id-24654</td>\n      <td>Finance</td>\n      <td>4.18</td>\n      <td>1481</td>\n      <td>Varies with device</td>\n      <td>0</td>\n      <td>Everyone</td>\n      <td>May 05 2020</td>\n      <td>Varies with device</td>\n      <td>Varies with device</td>\n      <td>100,000+</td>\n    </tr>\n    <tr>\n      <th>1</th>\n      <td>ps_id-35329</td>\n      <td>Music And Audio</td>\n      <td>4.81</td>\n      <td>302</td>\n      <td>10M</td>\n      <td>0</td>\n      <td>Everyone</td>\n      <td>Mar 26 2020</td>\n      <td>3.9.18</td>\n      <td>4.1 and up</td>\n      <td>5,000+</td>\n    </tr>\n    <tr>\n      <th>2</th>\n      <td>ps_id-11044</td>\n      <td>Game Casual</td>\n      <td>4.27</td>\n      <td>374</td>\n      <td>27M</td>\n      <td>0</td>\n      <td>Everyone</td>\n      <td>May 01 2020</td>\n      <td>1.10.1</td>\n      <td>4.1 and up</td>\n      <td>10,000+</td>\n    </tr>\n    <tr>\n      <th>3</th>\n      <td>ps_id-36068</td>\n      <td>Business</td>\n      <td>4.03</td>\n      <td>122058</td>\n      <td>Varies with device</td>\n      <td>0</td>\n      <td>Teen</td>\n      <td>May 02 2020</td>\n      <td>Varies with device</td>\n      <td>Varies with device</td>\n      <td>10,000,000+</td>\n    </tr>\n    <tr>\n      <th>4</th>\n      <td>ps_id-35831</td>\n      <td>Medical</td>\n      <td>4.60</td>\n      <td>358</td>\n      <td>Varies with device</td>\n      <td>297.5742</td>\n      <td>Everyone</td>\n      <td>Nov 29 2018</td>\n      <td>Varies with device</td>\n      <td>Varies with device</td>\n      <td>5,000+</td>\n    </tr>\n  </tbody>\n</table>\n</div>"
     },
     "metadata": {},
     "execution_count": 11
    }
   ],
   "source": [
    "train.head()"
   ]
  },
  {
   "cell_type": "code",
   "execution_count": 20,
   "metadata": {},
   "outputs": [
    {
     "output_type": "display_data",
     "data": {
      "application/vnd.plotly.v1+json": {
       "config": {
        "plotlyServerURL": "https://plot.ly"
       },
       "data": [
        {
         "alignmentgroup": "True",
         "hovertemplate": "x=%{x}<br>y=%{y}<extra></extra>",
         "legendgroup": "",
         "marker": {
          "color": "#636efa"
         },
         "name": "",
         "offsetgroup": "",
         "orientation": "v",
         "showlegend": false,
         "textposition": "auto",
         "type": "bar",
         "x": [
          "100,000+",
          "5,000+",
          "10,000+",
          "10,000,000+",
          "50,000+",
          "1,000,000+",
          "5,000,000+",
          "500,000+",
          "1,000+",
          "1,000,000,000+",
          "50,000,000+",
          "100+",
          "100,000,000+",
          "500+",
          "10+",
          "50+",
          "500,000,000+",
          "5,000,000,000+"
         ],
         "xaxis": "x",
         "y": [
          4.181048321048314,
          4.289316586627263,
          4.2678787878787885,
          4.502307692307693,
          4.190205448861104,
          4.3305246671887225,
          4.413799212598425,
          4.243112729575683,
          4.4206015037593955,
          4.167116644823064,
          4.288530701754383,
          4.37,
          4.53952380952381,
          4.23159292035398,
          4.372834008097168,
          4.25475274725275,
          4.270080882352939,
          4.366666666666667
         ],
         "yaxis": "y"
        }
       ],
       "layout": {
        "barmode": "relative",
        "legend": {
         "tracegroupgap": 0
        },
        "margin": {
         "t": 60
        },
        "template": {
         "data": {
          "bar": [
           {
            "error_x": {
             "color": "#2a3f5f"
            },
            "error_y": {
             "color": "#2a3f5f"
            },
            "marker": {
             "line": {
              "color": "#E5ECF6",
              "width": 0.5
             }
            },
            "type": "bar"
           }
          ],
          "barpolar": [
           {
            "marker": {
             "line": {
              "color": "#E5ECF6",
              "width": 0.5
             }
            },
            "type": "barpolar"
           }
          ],
          "carpet": [
           {
            "aaxis": {
             "endlinecolor": "#2a3f5f",
             "gridcolor": "white",
             "linecolor": "white",
             "minorgridcolor": "white",
             "startlinecolor": "#2a3f5f"
            },
            "baxis": {
             "endlinecolor": "#2a3f5f",
             "gridcolor": "white",
             "linecolor": "white",
             "minorgridcolor": "white",
             "startlinecolor": "#2a3f5f"
            },
            "type": "carpet"
           }
          ],
          "choropleth": [
           {
            "colorbar": {
             "outlinewidth": 0,
             "ticks": ""
            },
            "type": "choropleth"
           }
          ],
          "contour": [
           {
            "colorbar": {
             "outlinewidth": 0,
             "ticks": ""
            },
            "colorscale": [
             [
              0,
              "#0d0887"
             ],
             [
              0.1111111111111111,
              "#46039f"
             ],
             [
              0.2222222222222222,
              "#7201a8"
             ],
             [
              0.3333333333333333,
              "#9c179e"
             ],
             [
              0.4444444444444444,
              "#bd3786"
             ],
             [
              0.5555555555555556,
              "#d8576b"
             ],
             [
              0.6666666666666666,
              "#ed7953"
             ],
             [
              0.7777777777777778,
              "#fb9f3a"
             ],
             [
              0.8888888888888888,
              "#fdca26"
             ],
             [
              1,
              "#f0f921"
             ]
            ],
            "type": "contour"
           }
          ],
          "contourcarpet": [
           {
            "colorbar": {
             "outlinewidth": 0,
             "ticks": ""
            },
            "type": "contourcarpet"
           }
          ],
          "heatmap": [
           {
            "colorbar": {
             "outlinewidth": 0,
             "ticks": ""
            },
            "colorscale": [
             [
              0,
              "#0d0887"
             ],
             [
              0.1111111111111111,
              "#46039f"
             ],
             [
              0.2222222222222222,
              "#7201a8"
             ],
             [
              0.3333333333333333,
              "#9c179e"
             ],
             [
              0.4444444444444444,
              "#bd3786"
             ],
             [
              0.5555555555555556,
              "#d8576b"
             ],
             [
              0.6666666666666666,
              "#ed7953"
             ],
             [
              0.7777777777777778,
              "#fb9f3a"
             ],
             [
              0.8888888888888888,
              "#fdca26"
             ],
             [
              1,
              "#f0f921"
             ]
            ],
            "type": "heatmap"
           }
          ],
          "heatmapgl": [
           {
            "colorbar": {
             "outlinewidth": 0,
             "ticks": ""
            },
            "colorscale": [
             [
              0,
              "#0d0887"
             ],
             [
              0.1111111111111111,
              "#46039f"
             ],
             [
              0.2222222222222222,
              "#7201a8"
             ],
             [
              0.3333333333333333,
              "#9c179e"
             ],
             [
              0.4444444444444444,
              "#bd3786"
             ],
             [
              0.5555555555555556,
              "#d8576b"
             ],
             [
              0.6666666666666666,
              "#ed7953"
             ],
             [
              0.7777777777777778,
              "#fb9f3a"
             ],
             [
              0.8888888888888888,
              "#fdca26"
             ],
             [
              1,
              "#f0f921"
             ]
            ],
            "type": "heatmapgl"
           }
          ],
          "histogram": [
           {
            "marker": {
             "colorbar": {
              "outlinewidth": 0,
              "ticks": ""
             }
            },
            "type": "histogram"
           }
          ],
          "histogram2d": [
           {
            "colorbar": {
             "outlinewidth": 0,
             "ticks": ""
            },
            "colorscale": [
             [
              0,
              "#0d0887"
             ],
             [
              0.1111111111111111,
              "#46039f"
             ],
             [
              0.2222222222222222,
              "#7201a8"
             ],
             [
              0.3333333333333333,
              "#9c179e"
             ],
             [
              0.4444444444444444,
              "#bd3786"
             ],
             [
              0.5555555555555556,
              "#d8576b"
             ],
             [
              0.6666666666666666,
              "#ed7953"
             ],
             [
              0.7777777777777778,
              "#fb9f3a"
             ],
             [
              0.8888888888888888,
              "#fdca26"
             ],
             [
              1,
              "#f0f921"
             ]
            ],
            "type": "histogram2d"
           }
          ],
          "histogram2dcontour": [
           {
            "colorbar": {
             "outlinewidth": 0,
             "ticks": ""
            },
            "colorscale": [
             [
              0,
              "#0d0887"
             ],
             [
              0.1111111111111111,
              "#46039f"
             ],
             [
              0.2222222222222222,
              "#7201a8"
             ],
             [
              0.3333333333333333,
              "#9c179e"
             ],
             [
              0.4444444444444444,
              "#bd3786"
             ],
             [
              0.5555555555555556,
              "#d8576b"
             ],
             [
              0.6666666666666666,
              "#ed7953"
             ],
             [
              0.7777777777777778,
              "#fb9f3a"
             ],
             [
              0.8888888888888888,
              "#fdca26"
             ],
             [
              1,
              "#f0f921"
             ]
            ],
            "type": "histogram2dcontour"
           }
          ],
          "mesh3d": [
           {
            "colorbar": {
             "outlinewidth": 0,
             "ticks": ""
            },
            "type": "mesh3d"
           }
          ],
          "parcoords": [
           {
            "line": {
             "colorbar": {
              "outlinewidth": 0,
              "ticks": ""
             }
            },
            "type": "parcoords"
           }
          ],
          "pie": [
           {
            "automargin": true,
            "type": "pie"
           }
          ],
          "scatter": [
           {
            "marker": {
             "colorbar": {
              "outlinewidth": 0,
              "ticks": ""
             }
            },
            "type": "scatter"
           }
          ],
          "scatter3d": [
           {
            "line": {
             "colorbar": {
              "outlinewidth": 0,
              "ticks": ""
             }
            },
            "marker": {
             "colorbar": {
              "outlinewidth": 0,
              "ticks": ""
             }
            },
            "type": "scatter3d"
           }
          ],
          "scattercarpet": [
           {
            "marker": {
             "colorbar": {
              "outlinewidth": 0,
              "ticks": ""
             }
            },
            "type": "scattercarpet"
           }
          ],
          "scattergeo": [
           {
            "marker": {
             "colorbar": {
              "outlinewidth": 0,
              "ticks": ""
             }
            },
            "type": "scattergeo"
           }
          ],
          "scattergl": [
           {
            "marker": {
             "colorbar": {
              "outlinewidth": 0,
              "ticks": ""
             }
            },
            "type": "scattergl"
           }
          ],
          "scattermapbox": [
           {
            "marker": {
             "colorbar": {
              "outlinewidth": 0,
              "ticks": ""
             }
            },
            "type": "scattermapbox"
           }
          ],
          "scatterpolar": [
           {
            "marker": {
             "colorbar": {
              "outlinewidth": 0,
              "ticks": ""
             }
            },
            "type": "scatterpolar"
           }
          ],
          "scatterpolargl": [
           {
            "marker": {
             "colorbar": {
              "outlinewidth": 0,
              "ticks": ""
             }
            },
            "type": "scatterpolargl"
           }
          ],
          "scatterternary": [
           {
            "marker": {
             "colorbar": {
              "outlinewidth": 0,
              "ticks": ""
             }
            },
            "type": "scatterternary"
           }
          ],
          "surface": [
           {
            "colorbar": {
             "outlinewidth": 0,
             "ticks": ""
            },
            "colorscale": [
             [
              0,
              "#0d0887"
             ],
             [
              0.1111111111111111,
              "#46039f"
             ],
             [
              0.2222222222222222,
              "#7201a8"
             ],
             [
              0.3333333333333333,
              "#9c179e"
             ],
             [
              0.4444444444444444,
              "#bd3786"
             ],
             [
              0.5555555555555556,
              "#d8576b"
             ],
             [
              0.6666666666666666,
              "#ed7953"
             ],
             [
              0.7777777777777778,
              "#fb9f3a"
             ],
             [
              0.8888888888888888,
              "#fdca26"
             ],
             [
              1,
              "#f0f921"
             ]
            ],
            "type": "surface"
           }
          ],
          "table": [
           {
            "cells": {
             "fill": {
              "color": "#EBF0F8"
             },
             "line": {
              "color": "white"
             }
            },
            "header": {
             "fill": {
              "color": "#C8D4E3"
             },
             "line": {
              "color": "white"
             }
            },
            "type": "table"
           }
          ]
         },
         "layout": {
          "annotationdefaults": {
           "arrowcolor": "#2a3f5f",
           "arrowhead": 0,
           "arrowwidth": 1
          },
          "coloraxis": {
           "colorbar": {
            "outlinewidth": 0,
            "ticks": ""
           }
          },
          "colorscale": {
           "diverging": [
            [
             0,
             "#8e0152"
            ],
            [
             0.1,
             "#c51b7d"
            ],
            [
             0.2,
             "#de77ae"
            ],
            [
             0.3,
             "#f1b6da"
            ],
            [
             0.4,
             "#fde0ef"
            ],
            [
             0.5,
             "#f7f7f7"
            ],
            [
             0.6,
             "#e6f5d0"
            ],
            [
             0.7,
             "#b8e186"
            ],
            [
             0.8,
             "#7fbc41"
            ],
            [
             0.9,
             "#4d9221"
            ],
            [
             1,
             "#276419"
            ]
           ],
           "sequential": [
            [
             0,
             "#0d0887"
            ],
            [
             0.1111111111111111,
             "#46039f"
            ],
            [
             0.2222222222222222,
             "#7201a8"
            ],
            [
             0.3333333333333333,
             "#9c179e"
            ],
            [
             0.4444444444444444,
             "#bd3786"
            ],
            [
             0.5555555555555556,
             "#d8576b"
            ],
            [
             0.6666666666666666,
             "#ed7953"
            ],
            [
             0.7777777777777778,
             "#fb9f3a"
            ],
            [
             0.8888888888888888,
             "#fdca26"
            ],
            [
             1,
             "#f0f921"
            ]
           ],
           "sequentialminus": [
            [
             0,
             "#0d0887"
            ],
            [
             0.1111111111111111,
             "#46039f"
            ],
            [
             0.2222222222222222,
             "#7201a8"
            ],
            [
             0.3333333333333333,
             "#9c179e"
            ],
            [
             0.4444444444444444,
             "#bd3786"
            ],
            [
             0.5555555555555556,
             "#d8576b"
            ],
            [
             0.6666666666666666,
             "#ed7953"
            ],
            [
             0.7777777777777778,
             "#fb9f3a"
            ],
            [
             0.8888888888888888,
             "#fdca26"
            ],
            [
             1,
             "#f0f921"
            ]
           ]
          },
          "colorway": [
           "#636efa",
           "#EF553B",
           "#00cc96",
           "#ab63fa",
           "#FFA15A",
           "#19d3f3",
           "#FF6692",
           "#B6E880",
           "#FF97FF",
           "#FECB52"
          ],
          "font": {
           "color": "#2a3f5f"
          },
          "geo": {
           "bgcolor": "white",
           "lakecolor": "white",
           "landcolor": "#E5ECF6",
           "showlakes": true,
           "showland": true,
           "subunitcolor": "white"
          },
          "hoverlabel": {
           "align": "left"
          },
          "hovermode": "closest",
          "mapbox": {
           "style": "light"
          },
          "paper_bgcolor": "white",
          "plot_bgcolor": "#E5ECF6",
          "polar": {
           "angularaxis": {
            "gridcolor": "white",
            "linecolor": "white",
            "ticks": ""
           },
           "bgcolor": "#E5ECF6",
           "radialaxis": {
            "gridcolor": "white",
            "linecolor": "white",
            "ticks": ""
           }
          },
          "scene": {
           "xaxis": {
            "backgroundcolor": "#E5ECF6",
            "gridcolor": "white",
            "gridwidth": 2,
            "linecolor": "white",
            "showbackground": true,
            "ticks": "",
            "zerolinecolor": "white"
           },
           "yaxis": {
            "backgroundcolor": "#E5ECF6",
            "gridcolor": "white",
            "gridwidth": 2,
            "linecolor": "white",
            "showbackground": true,
            "ticks": "",
            "zerolinecolor": "white"
           },
           "zaxis": {
            "backgroundcolor": "#E5ECF6",
            "gridcolor": "white",
            "gridwidth": 2,
            "linecolor": "white",
            "showbackground": true,
            "ticks": "",
            "zerolinecolor": "white"
           }
          },
          "shapedefaults": {
           "line": {
            "color": "#2a3f5f"
           }
          },
          "ternary": {
           "aaxis": {
            "gridcolor": "white",
            "linecolor": "white",
            "ticks": ""
           },
           "baxis": {
            "gridcolor": "white",
            "linecolor": "white",
            "ticks": ""
           },
           "bgcolor": "#E5ECF6",
           "caxis": {
            "gridcolor": "white",
            "linecolor": "white",
            "ticks": ""
           }
          },
          "title": {
           "x": 0.05
          },
          "xaxis": {
           "automargin": true,
           "gridcolor": "white",
           "linecolor": "white",
           "ticks": "",
           "title": {
            "standoff": 15
           },
           "zerolinecolor": "white",
           "zerolinewidth": 2
          },
          "yaxis": {
           "automargin": true,
           "gridcolor": "white",
           "linecolor": "white",
           "ticks": "",
           "title": {
            "standoff": 15
           },
           "zerolinecolor": "white",
           "zerolinewidth": 2
          }
         }
        },
        "xaxis": {
         "anchor": "y",
         "domain": [
          0,
          1
         ],
         "title": {
          "text": "x"
         }
        },
        "yaxis": {
         "anchor": "x",
         "domain": [
          0,
          1
         ],
         "title": {
          "text": "y"
         }
        }
       }
      }
     },
     "metadata": {}
    }
   ],
   "source": [
    "px.bar(x=train['Downloads'].unique(),y=train.groupby(['Downloads'])['Rating'].mean())"
   ]
  },
  {
   "cell_type": "code",
   "execution_count": 21,
   "metadata": {},
   "outputs": [
    {
     "output_type": "display_data",
     "data": {
      "application/vnd.plotly.v1+json": {
       "config": {
        "plotlyServerURL": "https://plot.ly"
       },
       "data": [
        {
         "alignmentgroup": "True",
         "hovertemplate": "x=%{x}<br>y=%{y}<extra></extra>",
         "legendgroup": "",
         "marker": {
          "color": "#636efa"
         },
         "name": "",
         "offsetgroup": "",
         "orientation": "v",
         "showlegend": false,
         "textposition": "auto",
         "type": "bar",
         "x": [
          "100,000+",
          "5,000+",
          "10,000+",
          "10,000,000+",
          "50,000+",
          "1,000,000+",
          "5,000,000+",
          "500,000+",
          "1,000+",
          "1,000,000,000+",
          "50,000,000+",
          "100+",
          "100,000,000+",
          "500+",
          "10+",
          "50+",
          "500,000,000+",
          "5,000,000,000+"
         ],
         "xaxis": "x",
         "y": [
          1221,
          2707,
          33,
          91,
          2239,
          1277,
          508,
          3158,
          266,
          763,
          912,
          1,
          84,
          1243,
          247,
          364,
          1360,
          42
         ],
         "yaxis": "y"
        }
       ],
       "layout": {
        "barmode": "relative",
        "legend": {
         "tracegroupgap": 0
        },
        "margin": {
         "t": 60
        },
        "template": {
         "data": {
          "bar": [
           {
            "error_x": {
             "color": "#2a3f5f"
            },
            "error_y": {
             "color": "#2a3f5f"
            },
            "marker": {
             "line": {
              "color": "#E5ECF6",
              "width": 0.5
             }
            },
            "type": "bar"
           }
          ],
          "barpolar": [
           {
            "marker": {
             "line": {
              "color": "#E5ECF6",
              "width": 0.5
             }
            },
            "type": "barpolar"
           }
          ],
          "carpet": [
           {
            "aaxis": {
             "endlinecolor": "#2a3f5f",
             "gridcolor": "white",
             "linecolor": "white",
             "minorgridcolor": "white",
             "startlinecolor": "#2a3f5f"
            },
            "baxis": {
             "endlinecolor": "#2a3f5f",
             "gridcolor": "white",
             "linecolor": "white",
             "minorgridcolor": "white",
             "startlinecolor": "#2a3f5f"
            },
            "type": "carpet"
           }
          ],
          "choropleth": [
           {
            "colorbar": {
             "outlinewidth": 0,
             "ticks": ""
            },
            "type": "choropleth"
           }
          ],
          "contour": [
           {
            "colorbar": {
             "outlinewidth": 0,
             "ticks": ""
            },
            "colorscale": [
             [
              0,
              "#0d0887"
             ],
             [
              0.1111111111111111,
              "#46039f"
             ],
             [
              0.2222222222222222,
              "#7201a8"
             ],
             [
              0.3333333333333333,
              "#9c179e"
             ],
             [
              0.4444444444444444,
              "#bd3786"
             ],
             [
              0.5555555555555556,
              "#d8576b"
             ],
             [
              0.6666666666666666,
              "#ed7953"
             ],
             [
              0.7777777777777778,
              "#fb9f3a"
             ],
             [
              0.8888888888888888,
              "#fdca26"
             ],
             [
              1,
              "#f0f921"
             ]
            ],
            "type": "contour"
           }
          ],
          "contourcarpet": [
           {
            "colorbar": {
             "outlinewidth": 0,
             "ticks": ""
            },
            "type": "contourcarpet"
           }
          ],
          "heatmap": [
           {
            "colorbar": {
             "outlinewidth": 0,
             "ticks": ""
            },
            "colorscale": [
             [
              0,
              "#0d0887"
             ],
             [
              0.1111111111111111,
              "#46039f"
             ],
             [
              0.2222222222222222,
              "#7201a8"
             ],
             [
              0.3333333333333333,
              "#9c179e"
             ],
             [
              0.4444444444444444,
              "#bd3786"
             ],
             [
              0.5555555555555556,
              "#d8576b"
             ],
             [
              0.6666666666666666,
              "#ed7953"
             ],
             [
              0.7777777777777778,
              "#fb9f3a"
             ],
             [
              0.8888888888888888,
              "#fdca26"
             ],
             [
              1,
              "#f0f921"
             ]
            ],
            "type": "heatmap"
           }
          ],
          "heatmapgl": [
           {
            "colorbar": {
             "outlinewidth": 0,
             "ticks": ""
            },
            "colorscale": [
             [
              0,
              "#0d0887"
             ],
             [
              0.1111111111111111,
              "#46039f"
             ],
             [
              0.2222222222222222,
              "#7201a8"
             ],
             [
              0.3333333333333333,
              "#9c179e"
             ],
             [
              0.4444444444444444,
              "#bd3786"
             ],
             [
              0.5555555555555556,
              "#d8576b"
             ],
             [
              0.6666666666666666,
              "#ed7953"
             ],
             [
              0.7777777777777778,
              "#fb9f3a"
             ],
             [
              0.8888888888888888,
              "#fdca26"
             ],
             [
              1,
              "#f0f921"
             ]
            ],
            "type": "heatmapgl"
           }
          ],
          "histogram": [
           {
            "marker": {
             "colorbar": {
              "outlinewidth": 0,
              "ticks": ""
             }
            },
            "type": "histogram"
           }
          ],
          "histogram2d": [
           {
            "colorbar": {
             "outlinewidth": 0,
             "ticks": ""
            },
            "colorscale": [
             [
              0,
              "#0d0887"
             ],
             [
              0.1111111111111111,
              "#46039f"
             ],
             [
              0.2222222222222222,
              "#7201a8"
             ],
             [
              0.3333333333333333,
              "#9c179e"
             ],
             [
              0.4444444444444444,
              "#bd3786"
             ],
             [
              0.5555555555555556,
              "#d8576b"
             ],
             [
              0.6666666666666666,
              "#ed7953"
             ],
             [
              0.7777777777777778,
              "#fb9f3a"
             ],
             [
              0.8888888888888888,
              "#fdca26"
             ],
             [
              1,
              "#f0f921"
             ]
            ],
            "type": "histogram2d"
           }
          ],
          "histogram2dcontour": [
           {
            "colorbar": {
             "outlinewidth": 0,
             "ticks": ""
            },
            "colorscale": [
             [
              0,
              "#0d0887"
             ],
             [
              0.1111111111111111,
              "#46039f"
             ],
             [
              0.2222222222222222,
              "#7201a8"
             ],
             [
              0.3333333333333333,
              "#9c179e"
             ],
             [
              0.4444444444444444,
              "#bd3786"
             ],
             [
              0.5555555555555556,
              "#d8576b"
             ],
             [
              0.6666666666666666,
              "#ed7953"
             ],
             [
              0.7777777777777778,
              "#fb9f3a"
             ],
             [
              0.8888888888888888,
              "#fdca26"
             ],
             [
              1,
              "#f0f921"
             ]
            ],
            "type": "histogram2dcontour"
           }
          ],
          "mesh3d": [
           {
            "colorbar": {
             "outlinewidth": 0,
             "ticks": ""
            },
            "type": "mesh3d"
           }
          ],
          "parcoords": [
           {
            "line": {
             "colorbar": {
              "outlinewidth": 0,
              "ticks": ""
             }
            },
            "type": "parcoords"
           }
          ],
          "pie": [
           {
            "automargin": true,
            "type": "pie"
           }
          ],
          "scatter": [
           {
            "marker": {
             "colorbar": {
              "outlinewidth": 0,
              "ticks": ""
             }
            },
            "type": "scatter"
           }
          ],
          "scatter3d": [
           {
            "line": {
             "colorbar": {
              "outlinewidth": 0,
              "ticks": ""
             }
            },
            "marker": {
             "colorbar": {
              "outlinewidth": 0,
              "ticks": ""
             }
            },
            "type": "scatter3d"
           }
          ],
          "scattercarpet": [
           {
            "marker": {
             "colorbar": {
              "outlinewidth": 0,
              "ticks": ""
             }
            },
            "type": "scattercarpet"
           }
          ],
          "scattergeo": [
           {
            "marker": {
             "colorbar": {
              "outlinewidth": 0,
              "ticks": ""
             }
            },
            "type": "scattergeo"
           }
          ],
          "scattergl": [
           {
            "marker": {
             "colorbar": {
              "outlinewidth": 0,
              "ticks": ""
             }
            },
            "type": "scattergl"
           }
          ],
          "scattermapbox": [
           {
            "marker": {
             "colorbar": {
              "outlinewidth": 0,
              "ticks": ""
             }
            },
            "type": "scattermapbox"
           }
          ],
          "scatterpolar": [
           {
            "marker": {
             "colorbar": {
              "outlinewidth": 0,
              "ticks": ""
             }
            },
            "type": "scatterpolar"
           }
          ],
          "scatterpolargl": [
           {
            "marker": {
             "colorbar": {
              "outlinewidth": 0,
              "ticks": ""
             }
            },
            "type": "scatterpolargl"
           }
          ],
          "scatterternary": [
           {
            "marker": {
             "colorbar": {
              "outlinewidth": 0,
              "ticks": ""
             }
            },
            "type": "scatterternary"
           }
          ],
          "surface": [
           {
            "colorbar": {
             "outlinewidth": 0,
             "ticks": ""
            },
            "colorscale": [
             [
              0,
              "#0d0887"
             ],
             [
              0.1111111111111111,
              "#46039f"
             ],
             [
              0.2222222222222222,
              "#7201a8"
             ],
             [
              0.3333333333333333,
              "#9c179e"
             ],
             [
              0.4444444444444444,
              "#bd3786"
             ],
             [
              0.5555555555555556,
              "#d8576b"
             ],
             [
              0.6666666666666666,
              "#ed7953"
             ],
             [
              0.7777777777777778,
              "#fb9f3a"
             ],
             [
              0.8888888888888888,
              "#fdca26"
             ],
             [
              1,
              "#f0f921"
             ]
            ],
            "type": "surface"
           }
          ],
          "table": [
           {
            "cells": {
             "fill": {
              "color": "#EBF0F8"
             },
             "line": {
              "color": "white"
             }
            },
            "header": {
             "fill": {
              "color": "#C8D4E3"
             },
             "line": {
              "color": "white"
             }
            },
            "type": "table"
           }
          ]
         },
         "layout": {
          "annotationdefaults": {
           "arrowcolor": "#2a3f5f",
           "arrowhead": 0,
           "arrowwidth": 1
          },
          "coloraxis": {
           "colorbar": {
            "outlinewidth": 0,
            "ticks": ""
           }
          },
          "colorscale": {
           "diverging": [
            [
             0,
             "#8e0152"
            ],
            [
             0.1,
             "#c51b7d"
            ],
            [
             0.2,
             "#de77ae"
            ],
            [
             0.3,
             "#f1b6da"
            ],
            [
             0.4,
             "#fde0ef"
            ],
            [
             0.5,
             "#f7f7f7"
            ],
            [
             0.6,
             "#e6f5d0"
            ],
            [
             0.7,
             "#b8e186"
            ],
            [
             0.8,
             "#7fbc41"
            ],
            [
             0.9,
             "#4d9221"
            ],
            [
             1,
             "#276419"
            ]
           ],
           "sequential": [
            [
             0,
             "#0d0887"
            ],
            [
             0.1111111111111111,
             "#46039f"
            ],
            [
             0.2222222222222222,
             "#7201a8"
            ],
            [
             0.3333333333333333,
             "#9c179e"
            ],
            [
             0.4444444444444444,
             "#bd3786"
            ],
            [
             0.5555555555555556,
             "#d8576b"
            ],
            [
             0.6666666666666666,
             "#ed7953"
            ],
            [
             0.7777777777777778,
             "#fb9f3a"
            ],
            [
             0.8888888888888888,
             "#fdca26"
            ],
            [
             1,
             "#f0f921"
            ]
           ],
           "sequentialminus": [
            [
             0,
             "#0d0887"
            ],
            [
             0.1111111111111111,
             "#46039f"
            ],
            [
             0.2222222222222222,
             "#7201a8"
            ],
            [
             0.3333333333333333,
             "#9c179e"
            ],
            [
             0.4444444444444444,
             "#bd3786"
            ],
            [
             0.5555555555555556,
             "#d8576b"
            ],
            [
             0.6666666666666666,
             "#ed7953"
            ],
            [
             0.7777777777777778,
             "#fb9f3a"
            ],
            [
             0.8888888888888888,
             "#fdca26"
            ],
            [
             1,
             "#f0f921"
            ]
           ]
          },
          "colorway": [
           "#636efa",
           "#EF553B",
           "#00cc96",
           "#ab63fa",
           "#FFA15A",
           "#19d3f3",
           "#FF6692",
           "#B6E880",
           "#FF97FF",
           "#FECB52"
          ],
          "font": {
           "color": "#2a3f5f"
          },
          "geo": {
           "bgcolor": "white",
           "lakecolor": "white",
           "landcolor": "#E5ECF6",
           "showlakes": true,
           "showland": true,
           "subunitcolor": "white"
          },
          "hoverlabel": {
           "align": "left"
          },
          "hovermode": "closest",
          "mapbox": {
           "style": "light"
          },
          "paper_bgcolor": "white",
          "plot_bgcolor": "#E5ECF6",
          "polar": {
           "angularaxis": {
            "gridcolor": "white",
            "linecolor": "white",
            "ticks": ""
           },
           "bgcolor": "#E5ECF6",
           "radialaxis": {
            "gridcolor": "white",
            "linecolor": "white",
            "ticks": ""
           }
          },
          "scene": {
           "xaxis": {
            "backgroundcolor": "#E5ECF6",
            "gridcolor": "white",
            "gridwidth": 2,
            "linecolor": "white",
            "showbackground": true,
            "ticks": "",
            "zerolinecolor": "white"
           },
           "yaxis": {
            "backgroundcolor": "#E5ECF6",
            "gridcolor": "white",
            "gridwidth": 2,
            "linecolor": "white",
            "showbackground": true,
            "ticks": "",
            "zerolinecolor": "white"
           },
           "zaxis": {
            "backgroundcolor": "#E5ECF6",
            "gridcolor": "white",
            "gridwidth": 2,
            "linecolor": "white",
            "showbackground": true,
            "ticks": "",
            "zerolinecolor": "white"
           }
          },
          "shapedefaults": {
           "line": {
            "color": "#2a3f5f"
           }
          },
          "ternary": {
           "aaxis": {
            "gridcolor": "white",
            "linecolor": "white",
            "ticks": ""
           },
           "baxis": {
            "gridcolor": "white",
            "linecolor": "white",
            "ticks": ""
           },
           "bgcolor": "#E5ECF6",
           "caxis": {
            "gridcolor": "white",
            "linecolor": "white",
            "ticks": ""
           }
          },
          "title": {
           "x": 0.05
          },
          "xaxis": {
           "automargin": true,
           "gridcolor": "white",
           "linecolor": "white",
           "ticks": "",
           "title": {
            "standoff": 15
           },
           "zerolinecolor": "white",
           "zerolinewidth": 2
          },
          "yaxis": {
           "automargin": true,
           "gridcolor": "white",
           "linecolor": "white",
           "ticks": "",
           "title": {
            "standoff": 15
           },
           "zerolinecolor": "white",
           "zerolinewidth": 2
          }
         }
        },
        "xaxis": {
         "anchor": "y",
         "domain": [
          0,
          1
         ],
         "title": {
          "text": "x"
         }
        },
        "yaxis": {
         "anchor": "x",
         "domain": [
          0,
          1
         ],
         "title": {
          "text": "y"
         }
        }
       }
      }
     },
     "metadata": {}
    }
   ],
   "source": [
    "px.bar(x=train['Downloads'].unique(),y=train.groupby(['Downloads'])['Rating'].count())"
   ]
  },
  {
   "cell_type": "code",
   "execution_count": 87,
   "metadata": {
    "tags": []
   },
   "outputs": [],
   "source": [
    "train['Last_Updated_On']=pd.to_datetime(train['Last_Updated_On'])\n",
    "test['Last_Updated_On']=pd.to_datetime(test['Last_Updated_On'])"
   ]
  },
  {
   "cell_type": "code",
   "execution_count": 25,
   "metadata": {
    "tags": []
   },
   "outputs": [
    {
     "output_type": "execute_result",
     "data": {
      "text/plain": "    Offered_By         Category  Rating  Reviews                Size  \\\n0  ps_id-24654          Finance    4.18     1481  Varies with device   \n1  ps_id-35329  Music And Audio    4.81      302                 10M   \n2  ps_id-11044      Game Casual    4.27      374                 27M   \n3  ps_id-36068         Business    4.03   122058  Varies with device   \n4  ps_id-35831          Medical    4.60      358  Varies with device   \n\n      Price Content_Rating Last_Updated_On     Release_Version  \\\n0         0       Everyone      2020-05-05  Varies with device   \n1         0       Everyone      2020-03-26              3.9.18   \n2         0       Everyone      2020-05-01              1.10.1   \n3         0           Teen      2020-05-02  Varies with device   \n4  297.5742       Everyone      2018-11-29  Varies with device   \n\n  OS_Version_Required    Downloads  \n0  Varies with device     100,000+  \n1          4.1 and up       5,000+  \n2          4.1 and up      10,000+  \n3  Varies with device  10,000,000+  \n4  Varies with device       5,000+  ",
      "text/html": "<div>\n<style scoped>\n    .dataframe tbody tr th:only-of-type {\n        vertical-align: middle;\n    }\n\n    .dataframe tbody tr th {\n        vertical-align: top;\n    }\n\n    .dataframe thead th {\n        text-align: right;\n    }\n</style>\n<table border=\"1\" class=\"dataframe\">\n  <thead>\n    <tr style=\"text-align: right;\">\n      <th></th>\n      <th>Offered_By</th>\n      <th>Category</th>\n      <th>Rating</th>\n      <th>Reviews</th>\n      <th>Size</th>\n      <th>Price</th>\n      <th>Content_Rating</th>\n      <th>Last_Updated_On</th>\n      <th>Release_Version</th>\n      <th>OS_Version_Required</th>\n      <th>Downloads</th>\n    </tr>\n  </thead>\n  <tbody>\n    <tr>\n      <th>0</th>\n      <td>ps_id-24654</td>\n      <td>Finance</td>\n      <td>4.18</td>\n      <td>1481</td>\n      <td>Varies with device</td>\n      <td>0</td>\n      <td>Everyone</td>\n      <td>2020-05-05</td>\n      <td>Varies with device</td>\n      <td>Varies with device</td>\n      <td>100,000+</td>\n    </tr>\n    <tr>\n      <th>1</th>\n      <td>ps_id-35329</td>\n      <td>Music And Audio</td>\n      <td>4.81</td>\n      <td>302</td>\n      <td>10M</td>\n      <td>0</td>\n      <td>Everyone</td>\n      <td>2020-03-26</td>\n      <td>3.9.18</td>\n      <td>4.1 and up</td>\n      <td>5,000+</td>\n    </tr>\n    <tr>\n      <th>2</th>\n      <td>ps_id-11044</td>\n      <td>Game Casual</td>\n      <td>4.27</td>\n      <td>374</td>\n      <td>27M</td>\n      <td>0</td>\n      <td>Everyone</td>\n      <td>2020-05-01</td>\n      <td>1.10.1</td>\n      <td>4.1 and up</td>\n      <td>10,000+</td>\n    </tr>\n    <tr>\n      <th>3</th>\n      <td>ps_id-36068</td>\n      <td>Business</td>\n      <td>4.03</td>\n      <td>122058</td>\n      <td>Varies with device</td>\n      <td>0</td>\n      <td>Teen</td>\n      <td>2020-05-02</td>\n      <td>Varies with device</td>\n      <td>Varies with device</td>\n      <td>10,000,000+</td>\n    </tr>\n    <tr>\n      <th>4</th>\n      <td>ps_id-35831</td>\n      <td>Medical</td>\n      <td>4.60</td>\n      <td>358</td>\n      <td>Varies with device</td>\n      <td>297.5742</td>\n      <td>Everyone</td>\n      <td>2018-11-29</td>\n      <td>Varies with device</td>\n      <td>Varies with device</td>\n      <td>5,000+</td>\n    </tr>\n  </tbody>\n</table>\n</div>"
     },
     "metadata": {},
     "execution_count": 25
    }
   ],
   "source": [
    "train.head()"
   ]
  },
  {
   "cell_type": "code",
   "execution_count": 88,
   "metadata": {},
   "outputs": [],
   "source": [
    "train['Recency']=pd.to_datetime(str(pd.to_datetime(datetime.today()).date()))-train['Last_Updated_On']"
   ]
  },
  {
   "cell_type": "code",
   "execution_count": 89,
   "metadata": {},
   "outputs": [],
   "source": [
    "test['Recency']=pd.to_datetime(str(pd.to_datetime(datetime.today()).date()))-test['Last_Updated_On']"
   ]
  },
  {
   "cell_type": "code",
   "execution_count": 90,
   "metadata": {},
   "outputs": [],
   "source": [
    "train['Recency']=train['Recency'].apply(lambda x:str(x)[:3])\n",
    "test['Recency']=test['Recency'].apply(lambda x:str(x)[:3])"
   ]
  },
  {
   "cell_type": "code",
   "execution_count": 91,
   "metadata": {},
   "outputs": [],
   "source": [
    "train['month']=train['Last_Updated_On'].dt.month\n",
    "test['month']=test['Last_Updated_On'].dt.month"
   ]
  },
  {
   "cell_type": "code",
   "execution_count": 93,
   "metadata": {},
   "outputs": [],
   "source": [
    "train['Size']=train['Size'].apply(lambda x : np.nan if x==k else x[:-1])\n",
    "test['Size']=test['Size'].apply(lambda x : np.nan if x==k else x[:-1])"
   ]
  },
  {
   "cell_type": "code",
   "execution_count": 94,
   "metadata": {},
   "outputs": [],
   "source": [
    "k='Varies with device'\n",
    "train=train.replace([k],np.nan)\n",
    "test=test.replace([k],np.nan)"
   ]
  },
  {
   "cell_type": "code",
   "execution_count": 95,
   "metadata": {},
   "outputs": [],
   "source": [
    "train.drop(['OS_Version_Required','Last_Updated_On','Offered_By'],axis=1,inplace=True)\n",
    "test.drop(['OS_Version_Required','Last_Updated_On','Offered_By'],axis=1,inplace=True)"
   ]
  },
  {
   "cell_type": "code",
   "execution_count": 96,
   "metadata": {},
   "outputs": [
    {
     "output_type": "execute_result",
     "data": {
      "text/plain": "                 Category  Rating  Reviews Size     Price Content_Rating  \\\n0                 Finance    4.18     1481  NaN         0       Everyone   \n1         Music And Audio    4.81      302   10         0       Everyone   \n2             Game Casual    4.27      374   27         0       Everyone   \n3                Business    4.03   122058  NaN         0           Teen   \n4                 Medical    4.60      358  NaN  297.5742       Everyone   \n...                   ...     ...      ...  ...       ...            ...   \n16511  Health And Fitness    4.30    13724  NaN         0       Everyone   \n16512              Beauty    4.73       70  7.9         0       Everyone   \n16513  Health And Fitness    4.60     5420   21         0       Everyone   \n16514        Productivity    4.60  1488289  NaN         0       Everyone   \n16515   Game Role Playing    4.45    21201   16  745.0542           Teen   \n\n      Release_Version     Downloads Recency  month  \n0                 NaN      100,000+     101      5  \n1              3.9.18        5,000+     141      3  \n2              1.10.1       10,000+     105      5  \n3                 NaN   10,000,000+     104      5  \n4                 NaN        5,000+     624     11  \n...               ...           ...     ...    ...  \n16511             NaN    1,000,000+     693      9  \n16512           0.2.5       10,000+     99       5  \n16513          2.48.3      500,000+     401      7  \n16514             NaN  100,000,000+     342      9  \n16515        2.5.17.0      100,000+     329      9  \n\n[16516 rows x 10 columns]",
      "text/html": "<div>\n<style scoped>\n    .dataframe tbody tr th:only-of-type {\n        vertical-align: middle;\n    }\n\n    .dataframe tbody tr th {\n        vertical-align: top;\n    }\n\n    .dataframe thead th {\n        text-align: right;\n    }\n</style>\n<table border=\"1\" class=\"dataframe\">\n  <thead>\n    <tr style=\"text-align: right;\">\n      <th></th>\n      <th>Category</th>\n      <th>Rating</th>\n      <th>Reviews</th>\n      <th>Size</th>\n      <th>Price</th>\n      <th>Content_Rating</th>\n      <th>Release_Version</th>\n      <th>Downloads</th>\n      <th>Recency</th>\n      <th>month</th>\n    </tr>\n  </thead>\n  <tbody>\n    <tr>\n      <th>0</th>\n      <td>Finance</td>\n      <td>4.18</td>\n      <td>1481</td>\n      <td>NaN</td>\n      <td>0</td>\n      <td>Everyone</td>\n      <td>NaN</td>\n      <td>100,000+</td>\n      <td>101</td>\n      <td>5</td>\n    </tr>\n    <tr>\n      <th>1</th>\n      <td>Music And Audio</td>\n      <td>4.81</td>\n      <td>302</td>\n      <td>10</td>\n      <td>0</td>\n      <td>Everyone</td>\n      <td>3.9.18</td>\n      <td>5,000+</td>\n      <td>141</td>\n      <td>3</td>\n    </tr>\n    <tr>\n      <th>2</th>\n      <td>Game Casual</td>\n      <td>4.27</td>\n      <td>374</td>\n      <td>27</td>\n      <td>0</td>\n      <td>Everyone</td>\n      <td>1.10.1</td>\n      <td>10,000+</td>\n      <td>105</td>\n      <td>5</td>\n    </tr>\n    <tr>\n      <th>3</th>\n      <td>Business</td>\n      <td>4.03</td>\n      <td>122058</td>\n      <td>NaN</td>\n      <td>0</td>\n      <td>Teen</td>\n      <td>NaN</td>\n      <td>10,000,000+</td>\n      <td>104</td>\n      <td>5</td>\n    </tr>\n    <tr>\n      <th>4</th>\n      <td>Medical</td>\n      <td>4.60</td>\n      <td>358</td>\n      <td>NaN</td>\n      <td>297.5742</td>\n      <td>Everyone</td>\n      <td>NaN</td>\n      <td>5,000+</td>\n      <td>624</td>\n      <td>11</td>\n    </tr>\n    <tr>\n      <th>...</th>\n      <td>...</td>\n      <td>...</td>\n      <td>...</td>\n      <td>...</td>\n      <td>...</td>\n      <td>...</td>\n      <td>...</td>\n      <td>...</td>\n      <td>...</td>\n      <td>...</td>\n    </tr>\n    <tr>\n      <th>16511</th>\n      <td>Health And Fitness</td>\n      <td>4.30</td>\n      <td>13724</td>\n      <td>NaN</td>\n      <td>0</td>\n      <td>Everyone</td>\n      <td>NaN</td>\n      <td>1,000,000+</td>\n      <td>693</td>\n      <td>9</td>\n    </tr>\n    <tr>\n      <th>16512</th>\n      <td>Beauty</td>\n      <td>4.73</td>\n      <td>70</td>\n      <td>7.9</td>\n      <td>0</td>\n      <td>Everyone</td>\n      <td>0.2.5</td>\n      <td>10,000+</td>\n      <td>99</td>\n      <td>5</td>\n    </tr>\n    <tr>\n      <th>16513</th>\n      <td>Health And Fitness</td>\n      <td>4.60</td>\n      <td>5420</td>\n      <td>21</td>\n      <td>0</td>\n      <td>Everyone</td>\n      <td>2.48.3</td>\n      <td>500,000+</td>\n      <td>401</td>\n      <td>7</td>\n    </tr>\n    <tr>\n      <th>16514</th>\n      <td>Productivity</td>\n      <td>4.60</td>\n      <td>1488289</td>\n      <td>NaN</td>\n      <td>0</td>\n      <td>Everyone</td>\n      <td>NaN</td>\n      <td>100,000,000+</td>\n      <td>342</td>\n      <td>9</td>\n    </tr>\n    <tr>\n      <th>16515</th>\n      <td>Game Role Playing</td>\n      <td>4.45</td>\n      <td>21201</td>\n      <td>16</td>\n      <td>745.0542</td>\n      <td>Teen</td>\n      <td>2.5.17.0</td>\n      <td>100,000+</td>\n      <td>329</td>\n      <td>9</td>\n    </tr>\n  </tbody>\n</table>\n<p>16516 rows × 10 columns</p>\n</div>"
     },
     "metadata": {},
     "execution_count": 96
    }
   ],
   "source": [
    "train"
   ]
  },
  {
   "cell_type": "code",
   "execution_count": 98,
   "metadata": {
    "tags": []
   },
   "outputs": [],
   "source": [
    "train['month_sine']=train['month'].apply(lambda x: np.sin(2*np.pi*x/12))\n",
    "train['month_cos']=train['month'].apply(lambda x: np.cos(2*np.pi*x/12))\n",
    "test['month_sine']=test['month'].apply(lambda x: np.sin(2*np.pi*x/12))\n",
    "test['month_cos']=test['month'].apply(lambda x: np.cos(2*np.pi*x/12))"
   ]
  },
  {
   "cell_type": "code",
   "execution_count": 105,
   "metadata": {},
   "outputs": [],
   "source": [
    "train.drop(['Release_Version'],axis=1,inplace=True)\n",
    "test.drop(['Release_Version'],axis=1,inplace=True)"
   ]
  },
  {
   "cell_type": "code",
   "execution_count": 106,
   "metadata": {},
   "outputs": [
    {
     "output_type": "execute_result",
     "data": {
      "text/plain": "                 Category  Rating  Reviews Size     Price Content_Rating  \\\n0                 Finance    4.18     1481  NaN         0       Everyone   \n1         Music And Audio    4.81      302   10         0       Everyone   \n2             Game Casual    4.27      374   27         0       Everyone   \n3                Business    4.03   122058  NaN         0           Teen   \n4                 Medical    4.60      358  NaN  297.5742       Everyone   \n...                   ...     ...      ...  ...       ...            ...   \n16511  Health And Fitness    4.30    13724  NaN         0       Everyone   \n16512              Beauty    4.73       70  7.9         0       Everyone   \n16513  Health And Fitness    4.60     5420   21         0       Everyone   \n16514        Productivity    4.60  1488289  NaN         0       Everyone   \n16515   Game Role Playing    4.45    21201   16  745.0542           Teen   \n\n          Downloads Recency  month  month_sine     month_cos  \n0          100,000+     101      5         0.5 -8.660254e-01  \n1            5,000+     141      3         1.0  6.123234e-17  \n2           10,000+     105      5         0.5 -8.660254e-01  \n3       10,000,000+     104      5         0.5 -8.660254e-01  \n4            5,000+     624     11        -0.5  8.660254e-01  \n...             ...     ...    ...         ...           ...  \n16511    1,000,000+     693      9        -1.0 -1.836970e-16  \n16512       10,000+     99       5         0.5 -8.660254e-01  \n16513      500,000+     401      7        -0.5 -8.660254e-01  \n16514  100,000,000+     342      9        -1.0 -1.836970e-16  \n16515      100,000+     329      9        -1.0 -1.836970e-16  \n\n[16516 rows x 11 columns]",
      "text/html": "<div>\n<style scoped>\n    .dataframe tbody tr th:only-of-type {\n        vertical-align: middle;\n    }\n\n    .dataframe tbody tr th {\n        vertical-align: top;\n    }\n\n    .dataframe thead th {\n        text-align: right;\n    }\n</style>\n<table border=\"1\" class=\"dataframe\">\n  <thead>\n    <tr style=\"text-align: right;\">\n      <th></th>\n      <th>Category</th>\n      <th>Rating</th>\n      <th>Reviews</th>\n      <th>Size</th>\n      <th>Price</th>\n      <th>Content_Rating</th>\n      <th>Downloads</th>\n      <th>Recency</th>\n      <th>month</th>\n      <th>month_sine</th>\n      <th>month_cos</th>\n    </tr>\n  </thead>\n  <tbody>\n    <tr>\n      <th>0</th>\n      <td>Finance</td>\n      <td>4.18</td>\n      <td>1481</td>\n      <td>NaN</td>\n      <td>0</td>\n      <td>Everyone</td>\n      <td>100,000+</td>\n      <td>101</td>\n      <td>5</td>\n      <td>0.5</td>\n      <td>-8.660254e-01</td>\n    </tr>\n    <tr>\n      <th>1</th>\n      <td>Music And Audio</td>\n      <td>4.81</td>\n      <td>302</td>\n      <td>10</td>\n      <td>0</td>\n      <td>Everyone</td>\n      <td>5,000+</td>\n      <td>141</td>\n      <td>3</td>\n      <td>1.0</td>\n      <td>6.123234e-17</td>\n    </tr>\n    <tr>\n      <th>2</th>\n      <td>Game Casual</td>\n      <td>4.27</td>\n      <td>374</td>\n      <td>27</td>\n      <td>0</td>\n      <td>Everyone</td>\n      <td>10,000+</td>\n      <td>105</td>\n      <td>5</td>\n      <td>0.5</td>\n      <td>-8.660254e-01</td>\n    </tr>\n    <tr>\n      <th>3</th>\n      <td>Business</td>\n      <td>4.03</td>\n      <td>122058</td>\n      <td>NaN</td>\n      <td>0</td>\n      <td>Teen</td>\n      <td>10,000,000+</td>\n      <td>104</td>\n      <td>5</td>\n      <td>0.5</td>\n      <td>-8.660254e-01</td>\n    </tr>\n    <tr>\n      <th>4</th>\n      <td>Medical</td>\n      <td>4.60</td>\n      <td>358</td>\n      <td>NaN</td>\n      <td>297.5742</td>\n      <td>Everyone</td>\n      <td>5,000+</td>\n      <td>624</td>\n      <td>11</td>\n      <td>-0.5</td>\n      <td>8.660254e-01</td>\n    </tr>\n    <tr>\n      <th>...</th>\n      <td>...</td>\n      <td>...</td>\n      <td>...</td>\n      <td>...</td>\n      <td>...</td>\n      <td>...</td>\n      <td>...</td>\n      <td>...</td>\n      <td>...</td>\n      <td>...</td>\n      <td>...</td>\n    </tr>\n    <tr>\n      <th>16511</th>\n      <td>Health And Fitness</td>\n      <td>4.30</td>\n      <td>13724</td>\n      <td>NaN</td>\n      <td>0</td>\n      <td>Everyone</td>\n      <td>1,000,000+</td>\n      <td>693</td>\n      <td>9</td>\n      <td>-1.0</td>\n      <td>-1.836970e-16</td>\n    </tr>\n    <tr>\n      <th>16512</th>\n      <td>Beauty</td>\n      <td>4.73</td>\n      <td>70</td>\n      <td>7.9</td>\n      <td>0</td>\n      <td>Everyone</td>\n      <td>10,000+</td>\n      <td>99</td>\n      <td>5</td>\n      <td>0.5</td>\n      <td>-8.660254e-01</td>\n    </tr>\n    <tr>\n      <th>16513</th>\n      <td>Health And Fitness</td>\n      <td>4.60</td>\n      <td>5420</td>\n      <td>21</td>\n      <td>0</td>\n      <td>Everyone</td>\n      <td>500,000+</td>\n      <td>401</td>\n      <td>7</td>\n      <td>-0.5</td>\n      <td>-8.660254e-01</td>\n    </tr>\n    <tr>\n      <th>16514</th>\n      <td>Productivity</td>\n      <td>4.60</td>\n      <td>1488289</td>\n      <td>NaN</td>\n      <td>0</td>\n      <td>Everyone</td>\n      <td>100,000,000+</td>\n      <td>342</td>\n      <td>9</td>\n      <td>-1.0</td>\n      <td>-1.836970e-16</td>\n    </tr>\n    <tr>\n      <th>16515</th>\n      <td>Game Role Playing</td>\n      <td>4.45</td>\n      <td>21201</td>\n      <td>16</td>\n      <td>745.0542</td>\n      <td>Teen</td>\n      <td>100,000+</td>\n      <td>329</td>\n      <td>9</td>\n      <td>-1.0</td>\n      <td>-1.836970e-16</td>\n    </tr>\n  </tbody>\n</table>\n<p>16516 rows × 11 columns</p>\n</div>"
     },
     "metadata": {},
     "execution_count": 106
    }
   ],
   "source": [
    "train"
   ]
  },
  {
   "cell_type": "code",
   "execution_count": 108,
   "metadata": {
    "tags": []
   },
   "outputs": [],
   "source": [
    "from sklearn.preprocessing import LabelEncoder"
   ]
  },
  {
   "cell_type": "code",
   "execution_count": 110,
   "metadata": {},
   "outputs": [],
   "source": [
    "bin=LabelEncoder()\n",
    "train['Category']=bin.fit_transform(train['Category'])\n",
    "test['Category']=bin.fit_transform(test['Category'])\n",
    "train['Downloads']=bin.fit_transform(train['Downloads'])\n",
    "train['Content_Rating']=bin.fit_transform(train['Content_Rating'])\n",
    "test['Content_Rating']=bin.fit_transform(test['Content_Rating'])"
   ]
  },
  {
   "cell_type": "code",
   "execution_count": 112,
   "metadata": {},
   "outputs": [],
   "source": [
    "train.to_csv('train_mod.csv',index=False)"
   ]
  },
  {
   "cell_type": "code",
   "execution_count": 115,
   "metadata": {},
   "outputs": [],
   "source": [
    "test.to_csv('test_mod.csv',index=False)"
   ]
  },
  {
   "cell_type": "code",
   "execution_count": 3,
   "metadata": {},
   "outputs": [],
   "source": [
    "train1=pd.read_csv('train_mod.csv')\n",
    "test1=pd.read_csv('test_mod.csv')"
   ]
  },
  {
   "cell_type": "code",
   "execution_count": 4,
   "metadata": {},
   "outputs": [
    {
     "output_type": "execute_result",
     "data": {
      "text/plain": "       Category  Rating  Reviews Size     Price  Content_Rating  Downloads  \\\n0            12    4.18     1481  NaN    0.0000               1          7   \n1            38    4.81      302   10    0.0000               1          9   \n2            21    4.27      374   27    0.0000               1          4   \n3             4    4.03   122058  NaN    0.0000               4          5   \n4            37    4.60      358  NaN  297.5742               1          9   \n...         ...     ...      ...  ...       ...             ...        ...   \n16511        32    4.30    13724  NaN    0.0000               1          1   \n16512         2    4.73       70  7.9    0.0000               1          4   \n16513        32    4.60     5420   21    0.0000               1         16   \n16514        43    4.60  1488289  NaN    0.0000               1          8   \n16515        26    4.45    21201   16  745.0542               4          7   \n\n       Recency  month  month_sine     month_cos  \n0          101      5         0.5 -8.660254e-01  \n1          141      3         1.0  6.123234e-17  \n2          105      5         0.5 -8.660254e-01  \n3          104      5         0.5 -8.660254e-01  \n4          624     11        -0.5  8.660254e-01  \n...        ...    ...         ...           ...  \n16511      693      9        -1.0 -1.836970e-16  \n16512       99      5         0.5 -8.660254e-01  \n16513      401      7        -0.5 -8.660254e-01  \n16514      342      9        -1.0 -1.836970e-16  \n16515      329      9        -1.0 -1.836970e-16  \n\n[16516 rows x 11 columns]",
      "text/html": "<div>\n<style scoped>\n    .dataframe tbody tr th:only-of-type {\n        vertical-align: middle;\n    }\n\n    .dataframe tbody tr th {\n        vertical-align: top;\n    }\n\n    .dataframe thead th {\n        text-align: right;\n    }\n</style>\n<table border=\"1\" class=\"dataframe\">\n  <thead>\n    <tr style=\"text-align: right;\">\n      <th></th>\n      <th>Category</th>\n      <th>Rating</th>\n      <th>Reviews</th>\n      <th>Size</th>\n      <th>Price</th>\n      <th>Content_Rating</th>\n      <th>Downloads</th>\n      <th>Recency</th>\n      <th>month</th>\n      <th>month_sine</th>\n      <th>month_cos</th>\n    </tr>\n  </thead>\n  <tbody>\n    <tr>\n      <th>0</th>\n      <td>12</td>\n      <td>4.18</td>\n      <td>1481</td>\n      <td>NaN</td>\n      <td>0.0000</td>\n      <td>1</td>\n      <td>7</td>\n      <td>101</td>\n      <td>5</td>\n      <td>0.5</td>\n      <td>-8.660254e-01</td>\n    </tr>\n    <tr>\n      <th>1</th>\n      <td>38</td>\n      <td>4.81</td>\n      <td>302</td>\n      <td>10</td>\n      <td>0.0000</td>\n      <td>1</td>\n      <td>9</td>\n      <td>141</td>\n      <td>3</td>\n      <td>1.0</td>\n      <td>6.123234e-17</td>\n    </tr>\n    <tr>\n      <th>2</th>\n      <td>21</td>\n      <td>4.27</td>\n      <td>374</td>\n      <td>27</td>\n      <td>0.0000</td>\n      <td>1</td>\n      <td>4</td>\n      <td>105</td>\n      <td>5</td>\n      <td>0.5</td>\n      <td>-8.660254e-01</td>\n    </tr>\n    <tr>\n      <th>3</th>\n      <td>4</td>\n      <td>4.03</td>\n      <td>122058</td>\n      <td>NaN</td>\n      <td>0.0000</td>\n      <td>4</td>\n      <td>5</td>\n      <td>104</td>\n      <td>5</td>\n      <td>0.5</td>\n      <td>-8.660254e-01</td>\n    </tr>\n    <tr>\n      <th>4</th>\n      <td>37</td>\n      <td>4.60</td>\n      <td>358</td>\n      <td>NaN</td>\n      <td>297.5742</td>\n      <td>1</td>\n      <td>9</td>\n      <td>624</td>\n      <td>11</td>\n      <td>-0.5</td>\n      <td>8.660254e-01</td>\n    </tr>\n    <tr>\n      <th>...</th>\n      <td>...</td>\n      <td>...</td>\n      <td>...</td>\n      <td>...</td>\n      <td>...</td>\n      <td>...</td>\n      <td>...</td>\n      <td>...</td>\n      <td>...</td>\n      <td>...</td>\n      <td>...</td>\n    </tr>\n    <tr>\n      <th>16511</th>\n      <td>32</td>\n      <td>4.30</td>\n      <td>13724</td>\n      <td>NaN</td>\n      <td>0.0000</td>\n      <td>1</td>\n      <td>1</td>\n      <td>693</td>\n      <td>9</td>\n      <td>-1.0</td>\n      <td>-1.836970e-16</td>\n    </tr>\n    <tr>\n      <th>16512</th>\n      <td>2</td>\n      <td>4.73</td>\n      <td>70</td>\n      <td>7.9</td>\n      <td>0.0000</td>\n      <td>1</td>\n      <td>4</td>\n      <td>99</td>\n      <td>5</td>\n      <td>0.5</td>\n      <td>-8.660254e-01</td>\n    </tr>\n    <tr>\n      <th>16513</th>\n      <td>32</td>\n      <td>4.60</td>\n      <td>5420</td>\n      <td>21</td>\n      <td>0.0000</td>\n      <td>1</td>\n      <td>16</td>\n      <td>401</td>\n      <td>7</td>\n      <td>-0.5</td>\n      <td>-8.660254e-01</td>\n    </tr>\n    <tr>\n      <th>16514</th>\n      <td>43</td>\n      <td>4.60</td>\n      <td>1488289</td>\n      <td>NaN</td>\n      <td>0.0000</td>\n      <td>1</td>\n      <td>8</td>\n      <td>342</td>\n      <td>9</td>\n      <td>-1.0</td>\n      <td>-1.836970e-16</td>\n    </tr>\n    <tr>\n      <th>16515</th>\n      <td>26</td>\n      <td>4.45</td>\n      <td>21201</td>\n      <td>16</td>\n      <td>745.0542</td>\n      <td>4</td>\n      <td>7</td>\n      <td>329</td>\n      <td>9</td>\n      <td>-1.0</td>\n      <td>-1.836970e-16</td>\n    </tr>\n  </tbody>\n</table>\n<p>16516 rows × 11 columns</p>\n</div>"
     },
     "metadata": {},
     "execution_count": 4
    }
   ],
   "source": [
    "train1"
   ]
  },
  {
   "cell_type": "code",
   "execution_count": 8,
   "metadata": {},
   "outputs": [],
   "source": [
    "train1['Downloads']=train['Downloads'].values"
   ]
  },
  {
   "cell_type": "code",
   "execution_count": null,
   "metadata": {},
   "outputs": [],
   "source": [
    "train1['Downloads']=train1['Downloads'].apply(lambda x:x[:-1])"
   ]
  },
  {
   "cell_type": "code",
   "execution_count": 14,
   "metadata": {},
   "outputs": [
    {
     "output_type": "execute_result",
     "data": {
      "text/plain": "array(['1,000', '1,000,000', '1,000,000,000', '10', '10,000',\n       '10,000,000', '100', '100,000', '100,000,000', '5,000',\n       '5,000,000', '5,000,000,000', '50', '50,000', '50,000,000', '500',\n       '500,000', '500,000,000'], dtype=object)"
     },
     "metadata": {},
     "execution_count": 14
    }
   ],
   "source": [
    "np.sort(train1['Downloads'].unique())"
   ]
  },
  {
   "cell_type": "code",
   "execution_count": 16,
   "metadata": {},
   "outputs": [],
   "source": [
    "map1={'10':0,'50':1,'100':2,'500':3,'1,000':4,'5,000':5,'10,000':6,'50,000':7,'100,000':8,'500,000':9,'1,000,000':10,'5,000,000':11,'10,000,000':12,'50,000,000':13,'100,000,000':14,'500,000,000':15,'1,000,000,000':16,'5,000,000,000':17}"
   ]
  },
  {
   "cell_type": "code",
   "execution_count": 17,
   "metadata": {},
   "outputs": [],
   "source": [
    "train1['Downloads']=train1['Downloads'].map(map)"
   ]
  },
  {
   "cell_type": "code",
   "execution_count": 18,
   "metadata": {},
   "outputs": [
    {
     "output_type": "execute_result",
     "data": {
      "text/plain": "       Category  Rating  Reviews Size     Price  Content_Rating  Downloads  \\\n0            12    4.18     1481  NaN    0.0000               1          8   \n1            38    4.81      302   10    0.0000               1          5   \n2            21    4.27      374   27    0.0000               1          6   \n3             4    4.03   122058  NaN    0.0000               4         12   \n4            37    4.60      358  NaN  297.5742               1          5   \n...         ...     ...      ...  ...       ...             ...        ...   \n16511        32    4.30    13724  NaN    0.0000               1         10   \n16512         2    4.73       70  7.9    0.0000               1          6   \n16513        32    4.60     5420   21    0.0000               1          9   \n16514        43    4.60  1488289  NaN    0.0000               1         14   \n16515        26    4.45    21201   16  745.0542               4          8   \n\n       Recency  month  month_sine     month_cos  \n0          101      5         0.5 -8.660254e-01  \n1          141      3         1.0  6.123234e-17  \n2          105      5         0.5 -8.660254e-01  \n3          104      5         0.5 -8.660254e-01  \n4          624     11        -0.5  8.660254e-01  \n...        ...    ...         ...           ...  \n16511      693      9        -1.0 -1.836970e-16  \n16512       99      5         0.5 -8.660254e-01  \n16513      401      7        -0.5 -8.660254e-01  \n16514      342      9        -1.0 -1.836970e-16  \n16515      329      9        -1.0 -1.836970e-16  \n\n[16516 rows x 11 columns]",
      "text/html": "<div>\n<style scoped>\n    .dataframe tbody tr th:only-of-type {\n        vertical-align: middle;\n    }\n\n    .dataframe tbody tr th {\n        vertical-align: top;\n    }\n\n    .dataframe thead th {\n        text-align: right;\n    }\n</style>\n<table border=\"1\" class=\"dataframe\">\n  <thead>\n    <tr style=\"text-align: right;\">\n      <th></th>\n      <th>Category</th>\n      <th>Rating</th>\n      <th>Reviews</th>\n      <th>Size</th>\n      <th>Price</th>\n      <th>Content_Rating</th>\n      <th>Downloads</th>\n      <th>Recency</th>\n      <th>month</th>\n      <th>month_sine</th>\n      <th>month_cos</th>\n    </tr>\n  </thead>\n  <tbody>\n    <tr>\n      <th>0</th>\n      <td>12</td>\n      <td>4.18</td>\n      <td>1481</td>\n      <td>NaN</td>\n      <td>0.0000</td>\n      <td>1</td>\n      <td>8</td>\n      <td>101</td>\n      <td>5</td>\n      <td>0.5</td>\n      <td>-8.660254e-01</td>\n    </tr>\n    <tr>\n      <th>1</th>\n      <td>38</td>\n      <td>4.81</td>\n      <td>302</td>\n      <td>10</td>\n      <td>0.0000</td>\n      <td>1</td>\n      <td>5</td>\n      <td>141</td>\n      <td>3</td>\n      <td>1.0</td>\n      <td>6.123234e-17</td>\n    </tr>\n    <tr>\n      <th>2</th>\n      <td>21</td>\n      <td>4.27</td>\n      <td>374</td>\n      <td>27</td>\n      <td>0.0000</td>\n      <td>1</td>\n      <td>6</td>\n      <td>105</td>\n      <td>5</td>\n      <td>0.5</td>\n      <td>-8.660254e-01</td>\n    </tr>\n    <tr>\n      <th>3</th>\n      <td>4</td>\n      <td>4.03</td>\n      <td>122058</td>\n      <td>NaN</td>\n      <td>0.0000</td>\n      <td>4</td>\n      <td>12</td>\n      <td>104</td>\n      <td>5</td>\n      <td>0.5</td>\n      <td>-8.660254e-01</td>\n    </tr>\n    <tr>\n      <th>4</th>\n      <td>37</td>\n      <td>4.60</td>\n      <td>358</td>\n      <td>NaN</td>\n      <td>297.5742</td>\n      <td>1</td>\n      <td>5</td>\n      <td>624</td>\n      <td>11</td>\n      <td>-0.5</td>\n      <td>8.660254e-01</td>\n    </tr>\n    <tr>\n      <th>...</th>\n      <td>...</td>\n      <td>...</td>\n      <td>...</td>\n      <td>...</td>\n      <td>...</td>\n      <td>...</td>\n      <td>...</td>\n      <td>...</td>\n      <td>...</td>\n      <td>...</td>\n      <td>...</td>\n    </tr>\n    <tr>\n      <th>16511</th>\n      <td>32</td>\n      <td>4.30</td>\n      <td>13724</td>\n      <td>NaN</td>\n      <td>0.0000</td>\n      <td>1</td>\n      <td>10</td>\n      <td>693</td>\n      <td>9</td>\n      <td>-1.0</td>\n      <td>-1.836970e-16</td>\n    </tr>\n    <tr>\n      <th>16512</th>\n      <td>2</td>\n      <td>4.73</td>\n      <td>70</td>\n      <td>7.9</td>\n      <td>0.0000</td>\n      <td>1</td>\n      <td>6</td>\n      <td>99</td>\n      <td>5</td>\n      <td>0.5</td>\n      <td>-8.660254e-01</td>\n    </tr>\n    <tr>\n      <th>16513</th>\n      <td>32</td>\n      <td>4.60</td>\n      <td>5420</td>\n      <td>21</td>\n      <td>0.0000</td>\n      <td>1</td>\n      <td>9</td>\n      <td>401</td>\n      <td>7</td>\n      <td>-0.5</td>\n      <td>-8.660254e-01</td>\n    </tr>\n    <tr>\n      <th>16514</th>\n      <td>43</td>\n      <td>4.60</td>\n      <td>1488289</td>\n      <td>NaN</td>\n      <td>0.0000</td>\n      <td>1</td>\n      <td>14</td>\n      <td>342</td>\n      <td>9</td>\n      <td>-1.0</td>\n      <td>-1.836970e-16</td>\n    </tr>\n    <tr>\n      <th>16515</th>\n      <td>26</td>\n      <td>4.45</td>\n      <td>21201</td>\n      <td>16</td>\n      <td>745.0542</td>\n      <td>4</td>\n      <td>8</td>\n      <td>329</td>\n      <td>9</td>\n      <td>-1.0</td>\n      <td>-1.836970e-16</td>\n    </tr>\n  </tbody>\n</table>\n<p>16516 rows × 11 columns</p>\n</div>"
     },
     "metadata": {},
     "execution_count": 18
    }
   ],
   "source": [
    "train1"
   ]
  },
  {
   "cell_type": "code",
   "execution_count": 19,
   "metadata": {},
   "outputs": [],
   "source": [
    "from lightgbm import LGBMClassifier"
   ]
  },
  {
   "cell_type": "code",
   "execution_count": 24,
   "metadata": {},
   "outputs": [],
   "source": [
    "X=train1.drop(['Downloads','Size'],axis=1)\n",
    "y=train1['Downloads']"
   ]
  },
  {
   "cell_type": "code",
   "execution_count": 21,
   "metadata": {},
   "outputs": [],
   "source": [
    "from sklearn.model_selection import StratifiedKFold"
   ]
  },
  {
   "cell_type": "code",
   "execution_count": 22,
   "metadata": {},
   "outputs": [],
   "source": [
    "from sklearn.metrics import log_loss"
   ]
  },
  {
   "cell_type": "code",
   "execution_count": 40,
   "metadata": {},
   "outputs": [],
   "source": [
    "fold=StratifiedKFold(n_splits=5)\n",
    "pred=[]\n",
    "models=[]\n",
    "for train_idx,test_idx in fold.split(X,y):\n",
    "    X_train,X_test=X.iloc[train_idx],X.iloc[test_idx]\n",
    "    y_train,y_test=y[train_idx],y[test_idx]\n",
    "    mod=LGBMClassifier()\n",
    "    mod.fit(X_train,y_train)\n",
    "    models.append(mod)"
   ]
  },
  {
   "cell_type": "code",
   "execution_count": 57,
   "metadata": {},
   "outputs": [
    {
     "output_type": "execute_result",
     "data": {
      "text/plain": "         0    1    2    3    4    5    6    7    8    9   10   11   12   13  \\\n0      0.0  0.0  0.0  0.0  0.1  0.0  0.0  0.7  0.0  0.0  0.0  0.0  0.0  0.2   \n1      0.0  0.0  0.0  0.0  0.1  0.0  0.0  0.8  0.0  0.0  0.0  0.0  0.0  0.0   \n2      0.0  0.1  0.0  0.0  0.0  0.8  0.0  0.0  0.0  0.0  0.1  0.0  0.0  0.0   \n3      0.0  0.0  0.0  0.0  0.2  0.0  0.0  0.5  0.0  0.0  0.0  0.0  0.0  0.2   \n4      0.0  0.0  0.0  0.0  0.0  0.0  0.0  0.5  0.0  0.0  0.0  0.0  0.0  0.4   \n...    ...  ...  ...  ...  ...  ...  ...  ...  ...  ...  ...  ...  ...  ...   \n24771  0.2  0.0  0.0  0.0  0.7  0.0  0.0  0.0  0.0  0.1  0.0  0.0  0.0  0.0   \n24772  0.1  0.0  0.0  0.1  0.0  0.0  0.4  0.0  0.0  0.1  0.0  0.0  0.1  0.0   \n24773  0.1  0.0  0.0  0.0  0.3  0.0  0.0  0.1  0.0  0.0  0.0  0.0  0.0  0.5   \n24774  0.0  0.1  0.0  0.0  0.0  0.8  0.0  0.0  0.0  0.0  0.1  0.0  0.0  0.0   \n24775  0.0  0.0  0.0  0.0  0.0  0.0  0.0  0.8  0.0  0.0  0.0  0.0  0.0  0.1   \n\n        14   15   16   17  \n0      0.0  0.0  0.0  0.0  \n1      0.0  0.0  0.1  0.0  \n2      0.0  0.0  0.0  0.0  \n3      0.0  0.0  0.1  0.0  \n4      0.0  0.0  0.1  0.0  \n...    ...  ...  ...  ...  \n24771  0.0  0.0  0.0  0.0  \n24772  0.0  0.2  0.0  0.0  \n24773  0.0  0.0  0.0  0.0  \n24774  0.0  0.0  0.0  0.0  \n24775  0.0  0.0  0.1  0.0  \n\n[24776 rows x 18 columns]",
      "text/html": "<div>\n<style scoped>\n    .dataframe tbody tr th:only-of-type {\n        vertical-align: middle;\n    }\n\n    .dataframe tbody tr th {\n        vertical-align: top;\n    }\n\n    .dataframe thead th {\n        text-align: right;\n    }\n</style>\n<table border=\"1\" class=\"dataframe\">\n  <thead>\n    <tr style=\"text-align: right;\">\n      <th></th>\n      <th>0</th>\n      <th>1</th>\n      <th>2</th>\n      <th>3</th>\n      <th>4</th>\n      <th>5</th>\n      <th>6</th>\n      <th>7</th>\n      <th>8</th>\n      <th>9</th>\n      <th>10</th>\n      <th>11</th>\n      <th>12</th>\n      <th>13</th>\n      <th>14</th>\n      <th>15</th>\n      <th>16</th>\n      <th>17</th>\n    </tr>\n  </thead>\n  <tbody>\n    <tr>\n      <th>0</th>\n      <td>0.0</td>\n      <td>0.0</td>\n      <td>0.0</td>\n      <td>0.0</td>\n      <td>0.1</td>\n      <td>0.0</td>\n      <td>0.0</td>\n      <td>0.7</td>\n      <td>0.0</td>\n      <td>0.0</td>\n      <td>0.0</td>\n      <td>0.0</td>\n      <td>0.0</td>\n      <td>0.2</td>\n      <td>0.0</td>\n      <td>0.0</td>\n      <td>0.0</td>\n      <td>0.0</td>\n    </tr>\n    <tr>\n      <th>1</th>\n      <td>0.0</td>\n      <td>0.0</td>\n      <td>0.0</td>\n      <td>0.0</td>\n      <td>0.1</td>\n      <td>0.0</td>\n      <td>0.0</td>\n      <td>0.8</td>\n      <td>0.0</td>\n      <td>0.0</td>\n      <td>0.0</td>\n      <td>0.0</td>\n      <td>0.0</td>\n      <td>0.0</td>\n      <td>0.0</td>\n      <td>0.0</td>\n      <td>0.1</td>\n      <td>0.0</td>\n    </tr>\n    <tr>\n      <th>2</th>\n      <td>0.0</td>\n      <td>0.1</td>\n      <td>0.0</td>\n      <td>0.0</td>\n      <td>0.0</td>\n      <td>0.8</td>\n      <td>0.0</td>\n      <td>0.0</td>\n      <td>0.0</td>\n      <td>0.0</td>\n      <td>0.1</td>\n      <td>0.0</td>\n      <td>0.0</td>\n      <td>0.0</td>\n      <td>0.0</td>\n      <td>0.0</td>\n      <td>0.0</td>\n      <td>0.0</td>\n    </tr>\n    <tr>\n      <th>3</th>\n      <td>0.0</td>\n      <td>0.0</td>\n      <td>0.0</td>\n      <td>0.0</td>\n      <td>0.2</td>\n      <td>0.0</td>\n      <td>0.0</td>\n      <td>0.5</td>\n      <td>0.0</td>\n      <td>0.0</td>\n      <td>0.0</td>\n      <td>0.0</td>\n      <td>0.0</td>\n      <td>0.2</td>\n      <td>0.0</td>\n      <td>0.0</td>\n      <td>0.1</td>\n      <td>0.0</td>\n    </tr>\n    <tr>\n      <th>4</th>\n      <td>0.0</td>\n      <td>0.0</td>\n      <td>0.0</td>\n      <td>0.0</td>\n      <td>0.0</td>\n      <td>0.0</td>\n      <td>0.0</td>\n      <td>0.5</td>\n      <td>0.0</td>\n      <td>0.0</td>\n      <td>0.0</td>\n      <td>0.0</td>\n      <td>0.0</td>\n      <td>0.4</td>\n      <td>0.0</td>\n      <td>0.0</td>\n      <td>0.1</td>\n      <td>0.0</td>\n    </tr>\n    <tr>\n      <th>...</th>\n      <td>...</td>\n      <td>...</td>\n      <td>...</td>\n      <td>...</td>\n      <td>...</td>\n      <td>...</td>\n      <td>...</td>\n      <td>...</td>\n      <td>...</td>\n      <td>...</td>\n      <td>...</td>\n      <td>...</td>\n      <td>...</td>\n      <td>...</td>\n      <td>...</td>\n      <td>...</td>\n      <td>...</td>\n      <td>...</td>\n    </tr>\n    <tr>\n      <th>24771</th>\n      <td>0.2</td>\n      <td>0.0</td>\n      <td>0.0</td>\n      <td>0.0</td>\n      <td>0.7</td>\n      <td>0.0</td>\n      <td>0.0</td>\n      <td>0.0</td>\n      <td>0.0</td>\n      <td>0.1</td>\n      <td>0.0</td>\n      <td>0.0</td>\n      <td>0.0</td>\n      <td>0.0</td>\n      <td>0.0</td>\n      <td>0.0</td>\n      <td>0.0</td>\n      <td>0.0</td>\n    </tr>\n    <tr>\n      <th>24772</th>\n      <td>0.1</td>\n      <td>0.0</td>\n      <td>0.0</td>\n      <td>0.1</td>\n      <td>0.0</td>\n      <td>0.0</td>\n      <td>0.4</td>\n      <td>0.0</td>\n      <td>0.0</td>\n      <td>0.1</td>\n      <td>0.0</td>\n      <td>0.0</td>\n      <td>0.1</td>\n      <td>0.0</td>\n      <td>0.0</td>\n      <td>0.2</td>\n      <td>0.0</td>\n      <td>0.0</td>\n    </tr>\n    <tr>\n      <th>24773</th>\n      <td>0.1</td>\n      <td>0.0</td>\n      <td>0.0</td>\n      <td>0.0</td>\n      <td>0.3</td>\n      <td>0.0</td>\n      <td>0.0</td>\n      <td>0.1</td>\n      <td>0.0</td>\n      <td>0.0</td>\n      <td>0.0</td>\n      <td>0.0</td>\n      <td>0.0</td>\n      <td>0.5</td>\n      <td>0.0</td>\n      <td>0.0</td>\n      <td>0.0</td>\n      <td>0.0</td>\n    </tr>\n    <tr>\n      <th>24774</th>\n      <td>0.0</td>\n      <td>0.1</td>\n      <td>0.0</td>\n      <td>0.0</td>\n      <td>0.0</td>\n      <td>0.8</td>\n      <td>0.0</td>\n      <td>0.0</td>\n      <td>0.0</td>\n      <td>0.0</td>\n      <td>0.1</td>\n      <td>0.0</td>\n      <td>0.0</td>\n      <td>0.0</td>\n      <td>0.0</td>\n      <td>0.0</td>\n      <td>0.0</td>\n      <td>0.0</td>\n    </tr>\n    <tr>\n      <th>24775</th>\n      <td>0.0</td>\n      <td>0.0</td>\n      <td>0.0</td>\n      <td>0.0</td>\n      <td>0.0</td>\n      <td>0.0</td>\n      <td>0.0</td>\n      <td>0.8</td>\n      <td>0.0</td>\n      <td>0.0</td>\n      <td>0.0</td>\n      <td>0.0</td>\n      <td>0.0</td>\n      <td>0.1</td>\n      <td>0.0</td>\n      <td>0.0</td>\n      <td>0.1</td>\n      <td>0.0</td>\n    </tr>\n  </tbody>\n</table>\n<p>24776 rows × 18 columns</p>\n</div>"
     },
     "metadata": {},
     "execution_count": 57
    }
   ],
   "source": [
    "sample"
   ]
  },
  {
   "cell_type": "code",
   "execution_count": null,
   "metadata": {},
   "outputs": [],
   "source": []
  },
  {
   "cell_type": "code",
   "execution_count": 44,
   "metadata": {},
   "outputs": [],
   "source": [
    "pred=models[0].predict_proba(test1.drop(['Size'],axis=1))"
   ]
  },
  {
   "cell_type": "code",
   "execution_count": 45,
   "metadata": {},
   "outputs": [
    {
     "output_type": "execute_result",
     "data": {
      "text/plain": "array([[2.63586077e-05, 2.41835387e-05, 1.45330663e-04, ...,\n        7.13819185e-05, 1.01655369e-05, 7.67982670e-06],\n       [2.98475741e-05, 2.73846014e-05, 1.64567408e-04, ...,\n        8.12955260e-05, 1.36695875e-05, 2.23552533e-06],\n       [1.79783834e-05, 1.64948368e-05, 9.91255079e-05, ...,\n        2.19143783e-04, 1.00125999e-05, 2.86705272e-06],\n       ...,\n       [1.86962518e-05, 1.71534679e-05, 1.03083543e-04, ...,\n        5.81617638e-05, 6.07374124e-06, 3.27527570e-06],\n       [1.49560867e-11, 1.37219351e-11, 8.24617910e-11, ...,\n        3.08366491e-10, 9.99998857e-01, 5.43723799e-24],\n       [3.45599855e-05, 3.17081524e-05, 1.90549731e-04, ...,\n        9.38832949e-05, 1.29898366e-05, 1.14836845e-05]])"
     },
     "metadata": {},
     "execution_count": 45
    }
   ],
   "source": [
    "pred"
   ]
  },
  {
   "cell_type": "code",
   "execution_count": 46,
   "metadata": {},
   "outputs": [],
   "source": [
    "sub=sample"
   ]
  },
  {
   "cell_type": "code",
   "execution_count": 64,
   "metadata": {},
   "outputs": [
    {
     "output_type": "execute_result",
     "data": {
      "text/plain": "       Category  Rating   Reviews Size  Price  Content_Rating  Downloads  \\\n25           45    4.10  78128208  NaN    0.0               4         16   \n253          43    4.20    322275  NaN    0.0               1         16   \n432          48    4.20   2129707  NaN    0.0               1         16   \n1627         39    3.90    877635   13    0.0               4         16   \n2945         48    4.30   9235155  NaN    0.0               1         16   \n3207         45    4.20   4828372  NaN    0.0               4         16   \n4333         47    4.40   8033493  NaN    0.0               1         16   \n4371         45    4.20   4831125  NaN    0.0               4         16   \n4796         45    4.50  66577446  NaN    0.0               4         16   \n5059         42    4.50  10859051  NaN    0.0               1         16   \n5259         42    4.50  10858556  NaN    0.0               1         16   \n5439          6    4.30   4604483  NaN    0.0               1         16   \n5718          6    4.30   4604324  NaN    0.0               1         16   \n6468         45    4.50  66577313  NaN    0.0               4         16   \n7465         45    4.29  10866006  NaN    0.0               4         16   \n7466          6    4.09  65469531  NaN    0.0               1         16   \n7501          9    4.30   7165362  NaN    0.0               4         16   \n8825         42    4.54  16278468  NaN    0.0               1         16   \n8992          6    4.10  10484169  NaN    0.0               1         16   \n9299          6    4.40  69109672  NaN    0.0               1         16   \n9451         39    3.90    878065   13    0.0               4         16   \n9865         49    3.70    906384  NaN    0.0               4         16   \n10462        11    4.30   7168735  NaN    0.0               4         16   \n10575         6    4.13  10746013  NaN    0.0               1         16   \n11004        47    4.58  10450444   20    0.0               1         16   \n11130        45    4.50  66577313  NaN    0.0               4         16   \n11270        49    4.30  25623548  NaN    0.0               4         16   \n11876        43    4.40   2731211  NaN    0.0               1         16   \n12633        48    4.30   9235373  NaN    0.0               1         16   \n13486        45    4.52  79726403  NaN    0.0               4         16   \n14114        45    4.09  85766433  NaN    0.0               4         16   \n15492         6    4.00   3419464  NaN    0.0               1         16   \n15513         6    4.30   9642995  NaN    0.0               1         16   \n\n       Recency  month  month_sine     month_cos  \n25         342      9   -1.000000 -1.836970e-16  \n253        279     11   -0.500000  8.660254e-01  \n432        339      9   -1.000000 -1.836970e-16  \n1627       344      9   -1.000000 -1.836970e-16  \n2945       345      9   -1.000000 -1.836970e-16  \n3207       350      8   -0.866025 -5.000000e-01  \n4333       342      9   -1.000000 -1.836970e-16  \n4371       350      8   -0.866025 -5.000000e-01  \n4796       345      9   -1.000000 -1.836970e-16  \n5059       339      9   -1.000000 -1.836970e-16  \n5259       339      9   -1.000000 -1.836970e-16  \n5439       343      9   -1.000000 -1.836970e-16  \n5718       343      9   -1.000000 -1.836970e-16  \n6468       345      9   -1.000000 -1.836970e-16  \n7465       105      5    0.500000 -8.660254e-01  \n7466       100      5    0.500000 -8.660254e-01  \n7501       360      8   -0.866025 -5.000000e-01  \n8825       100      5    0.500000 -8.660254e-01  \n8992       342      9   -1.000000 -1.836970e-16  \n9299       342      9   -1.000000 -1.836970e-16  \n9451       344      9   -1.000000 -1.836970e-16  \n9865       339      9   -1.000000 -1.836970e-16  \n10462      360      8   -0.866025 -5.000000e-01  \n10575      105      5    0.500000 -8.660254e-01  \n11004      101      5    0.500000 -8.660254e-01  \n11130      345      9   -1.000000 -1.836970e-16  \n11270      343      9   -1.000000 -1.836970e-16  \n11876      339      9   -1.000000 -1.836970e-16  \n12633      345      9   -1.000000 -1.836970e-16  \n13486      100      5    0.500000 -8.660254e-01  \n14114      100      5    0.500000 -8.660254e-01  \n15492      355      8   -0.866025 -5.000000e-01  \n15513      344      9   -1.000000 -1.836970e-16  ",
      "text/html": "<div>\n<style scoped>\n    .dataframe tbody tr th:only-of-type {\n        vertical-align: middle;\n    }\n\n    .dataframe tbody tr th {\n        vertical-align: top;\n    }\n\n    .dataframe thead th {\n        text-align: right;\n    }\n</style>\n<table border=\"1\" class=\"dataframe\">\n  <thead>\n    <tr style=\"text-align: right;\">\n      <th></th>\n      <th>Category</th>\n      <th>Rating</th>\n      <th>Reviews</th>\n      <th>Size</th>\n      <th>Price</th>\n      <th>Content_Rating</th>\n      <th>Downloads</th>\n      <th>Recency</th>\n      <th>month</th>\n      <th>month_sine</th>\n      <th>month_cos</th>\n    </tr>\n  </thead>\n  <tbody>\n    <tr>\n      <th>25</th>\n      <td>45</td>\n      <td>4.10</td>\n      <td>78128208</td>\n      <td>NaN</td>\n      <td>0.0</td>\n      <td>4</td>\n      <td>16</td>\n      <td>342</td>\n      <td>9</td>\n      <td>-1.000000</td>\n      <td>-1.836970e-16</td>\n    </tr>\n    <tr>\n      <th>253</th>\n      <td>43</td>\n      <td>4.20</td>\n      <td>322275</td>\n      <td>NaN</td>\n      <td>0.0</td>\n      <td>1</td>\n      <td>16</td>\n      <td>279</td>\n      <td>11</td>\n      <td>-0.500000</td>\n      <td>8.660254e-01</td>\n    </tr>\n    <tr>\n      <th>432</th>\n      <td>48</td>\n      <td>4.20</td>\n      <td>2129707</td>\n      <td>NaN</td>\n      <td>0.0</td>\n      <td>1</td>\n      <td>16</td>\n      <td>339</td>\n      <td>9</td>\n      <td>-1.000000</td>\n      <td>-1.836970e-16</td>\n    </tr>\n    <tr>\n      <th>1627</th>\n      <td>39</td>\n      <td>3.90</td>\n      <td>877635</td>\n      <td>13</td>\n      <td>0.0</td>\n      <td>4</td>\n      <td>16</td>\n      <td>344</td>\n      <td>9</td>\n      <td>-1.000000</td>\n      <td>-1.836970e-16</td>\n    </tr>\n    <tr>\n      <th>2945</th>\n      <td>48</td>\n      <td>4.30</td>\n      <td>9235155</td>\n      <td>NaN</td>\n      <td>0.0</td>\n      <td>1</td>\n      <td>16</td>\n      <td>345</td>\n      <td>9</td>\n      <td>-1.000000</td>\n      <td>-1.836970e-16</td>\n    </tr>\n    <tr>\n      <th>3207</th>\n      <td>45</td>\n      <td>4.20</td>\n      <td>4828372</td>\n      <td>NaN</td>\n      <td>0.0</td>\n      <td>4</td>\n      <td>16</td>\n      <td>350</td>\n      <td>8</td>\n      <td>-0.866025</td>\n      <td>-5.000000e-01</td>\n    </tr>\n    <tr>\n      <th>4333</th>\n      <td>47</td>\n      <td>4.40</td>\n      <td>8033493</td>\n      <td>NaN</td>\n      <td>0.0</td>\n      <td>1</td>\n      <td>16</td>\n      <td>342</td>\n      <td>9</td>\n      <td>-1.000000</td>\n      <td>-1.836970e-16</td>\n    </tr>\n    <tr>\n      <th>4371</th>\n      <td>45</td>\n      <td>4.20</td>\n      <td>4831125</td>\n      <td>NaN</td>\n      <td>0.0</td>\n      <td>4</td>\n      <td>16</td>\n      <td>350</td>\n      <td>8</td>\n      <td>-0.866025</td>\n      <td>-5.000000e-01</td>\n    </tr>\n    <tr>\n      <th>4796</th>\n      <td>45</td>\n      <td>4.50</td>\n      <td>66577446</td>\n      <td>NaN</td>\n      <td>0.0</td>\n      <td>4</td>\n      <td>16</td>\n      <td>345</td>\n      <td>9</td>\n      <td>-1.000000</td>\n      <td>-1.836970e-16</td>\n    </tr>\n    <tr>\n      <th>5059</th>\n      <td>42</td>\n      <td>4.50</td>\n      <td>10859051</td>\n      <td>NaN</td>\n      <td>0.0</td>\n      <td>1</td>\n      <td>16</td>\n      <td>339</td>\n      <td>9</td>\n      <td>-1.000000</td>\n      <td>-1.836970e-16</td>\n    </tr>\n    <tr>\n      <th>5259</th>\n      <td>42</td>\n      <td>4.50</td>\n      <td>10858556</td>\n      <td>NaN</td>\n      <td>0.0</td>\n      <td>1</td>\n      <td>16</td>\n      <td>339</td>\n      <td>9</td>\n      <td>-1.000000</td>\n      <td>-1.836970e-16</td>\n    </tr>\n    <tr>\n      <th>5439</th>\n      <td>6</td>\n      <td>4.30</td>\n      <td>4604483</td>\n      <td>NaN</td>\n      <td>0.0</td>\n      <td>1</td>\n      <td>16</td>\n      <td>343</td>\n      <td>9</td>\n      <td>-1.000000</td>\n      <td>-1.836970e-16</td>\n    </tr>\n    <tr>\n      <th>5718</th>\n      <td>6</td>\n      <td>4.30</td>\n      <td>4604324</td>\n      <td>NaN</td>\n      <td>0.0</td>\n      <td>1</td>\n      <td>16</td>\n      <td>343</td>\n      <td>9</td>\n      <td>-1.000000</td>\n      <td>-1.836970e-16</td>\n    </tr>\n    <tr>\n      <th>6468</th>\n      <td>45</td>\n      <td>4.50</td>\n      <td>66577313</td>\n      <td>NaN</td>\n      <td>0.0</td>\n      <td>4</td>\n      <td>16</td>\n      <td>345</td>\n      <td>9</td>\n      <td>-1.000000</td>\n      <td>-1.836970e-16</td>\n    </tr>\n    <tr>\n      <th>7465</th>\n      <td>45</td>\n      <td>4.29</td>\n      <td>10866006</td>\n      <td>NaN</td>\n      <td>0.0</td>\n      <td>4</td>\n      <td>16</td>\n      <td>105</td>\n      <td>5</td>\n      <td>0.500000</td>\n      <td>-8.660254e-01</td>\n    </tr>\n    <tr>\n      <th>7466</th>\n      <td>6</td>\n      <td>4.09</td>\n      <td>65469531</td>\n      <td>NaN</td>\n      <td>0.0</td>\n      <td>1</td>\n      <td>16</td>\n      <td>100</td>\n      <td>5</td>\n      <td>0.500000</td>\n      <td>-8.660254e-01</td>\n    </tr>\n    <tr>\n      <th>7501</th>\n      <td>9</td>\n      <td>4.30</td>\n      <td>7165362</td>\n      <td>NaN</td>\n      <td>0.0</td>\n      <td>4</td>\n      <td>16</td>\n      <td>360</td>\n      <td>8</td>\n      <td>-0.866025</td>\n      <td>-5.000000e-01</td>\n    </tr>\n    <tr>\n      <th>8825</th>\n      <td>42</td>\n      <td>4.54</td>\n      <td>16278468</td>\n      <td>NaN</td>\n      <td>0.0</td>\n      <td>1</td>\n      <td>16</td>\n      <td>100</td>\n      <td>5</td>\n      <td>0.500000</td>\n      <td>-8.660254e-01</td>\n    </tr>\n    <tr>\n      <th>8992</th>\n      <td>6</td>\n      <td>4.10</td>\n      <td>10484169</td>\n      <td>NaN</td>\n      <td>0.0</td>\n      <td>1</td>\n      <td>16</td>\n      <td>342</td>\n      <td>9</td>\n      <td>-1.000000</td>\n      <td>-1.836970e-16</td>\n    </tr>\n    <tr>\n      <th>9299</th>\n      <td>6</td>\n      <td>4.40</td>\n      <td>69109672</td>\n      <td>NaN</td>\n      <td>0.0</td>\n      <td>1</td>\n      <td>16</td>\n      <td>342</td>\n      <td>9</td>\n      <td>-1.000000</td>\n      <td>-1.836970e-16</td>\n    </tr>\n    <tr>\n      <th>9451</th>\n      <td>39</td>\n      <td>3.90</td>\n      <td>878065</td>\n      <td>13</td>\n      <td>0.0</td>\n      <td>4</td>\n      <td>16</td>\n      <td>344</td>\n      <td>9</td>\n      <td>-1.000000</td>\n      <td>-1.836970e-16</td>\n    </tr>\n    <tr>\n      <th>9865</th>\n      <td>49</td>\n      <td>3.70</td>\n      <td>906384</td>\n      <td>NaN</td>\n      <td>0.0</td>\n      <td>4</td>\n      <td>16</td>\n      <td>339</td>\n      <td>9</td>\n      <td>-1.000000</td>\n      <td>-1.836970e-16</td>\n    </tr>\n    <tr>\n      <th>10462</th>\n      <td>11</td>\n      <td>4.30</td>\n      <td>7168735</td>\n      <td>NaN</td>\n      <td>0.0</td>\n      <td>4</td>\n      <td>16</td>\n      <td>360</td>\n      <td>8</td>\n      <td>-0.866025</td>\n      <td>-5.000000e-01</td>\n    </tr>\n    <tr>\n      <th>10575</th>\n      <td>6</td>\n      <td>4.13</td>\n      <td>10746013</td>\n      <td>NaN</td>\n      <td>0.0</td>\n      <td>1</td>\n      <td>16</td>\n      <td>105</td>\n      <td>5</td>\n      <td>0.500000</td>\n      <td>-8.660254e-01</td>\n    </tr>\n    <tr>\n      <th>11004</th>\n      <td>47</td>\n      <td>4.58</td>\n      <td>10450444</td>\n      <td>20</td>\n      <td>0.0</td>\n      <td>1</td>\n      <td>16</td>\n      <td>101</td>\n      <td>5</td>\n      <td>0.500000</td>\n      <td>-8.660254e-01</td>\n    </tr>\n    <tr>\n      <th>11130</th>\n      <td>45</td>\n      <td>4.50</td>\n      <td>66577313</td>\n      <td>NaN</td>\n      <td>0.0</td>\n      <td>4</td>\n      <td>16</td>\n      <td>345</td>\n      <td>9</td>\n      <td>-1.000000</td>\n      <td>-1.836970e-16</td>\n    </tr>\n    <tr>\n      <th>11270</th>\n      <td>49</td>\n      <td>4.30</td>\n      <td>25623548</td>\n      <td>NaN</td>\n      <td>0.0</td>\n      <td>4</td>\n      <td>16</td>\n      <td>343</td>\n      <td>9</td>\n      <td>-1.000000</td>\n      <td>-1.836970e-16</td>\n    </tr>\n    <tr>\n      <th>11876</th>\n      <td>43</td>\n      <td>4.40</td>\n      <td>2731211</td>\n      <td>NaN</td>\n      <td>0.0</td>\n      <td>1</td>\n      <td>16</td>\n      <td>339</td>\n      <td>9</td>\n      <td>-1.000000</td>\n      <td>-1.836970e-16</td>\n    </tr>\n    <tr>\n      <th>12633</th>\n      <td>48</td>\n      <td>4.30</td>\n      <td>9235373</td>\n      <td>NaN</td>\n      <td>0.0</td>\n      <td>1</td>\n      <td>16</td>\n      <td>345</td>\n      <td>9</td>\n      <td>-1.000000</td>\n      <td>-1.836970e-16</td>\n    </tr>\n    <tr>\n      <th>13486</th>\n      <td>45</td>\n      <td>4.52</td>\n      <td>79726403</td>\n      <td>NaN</td>\n      <td>0.0</td>\n      <td>4</td>\n      <td>16</td>\n      <td>100</td>\n      <td>5</td>\n      <td>0.500000</td>\n      <td>-8.660254e-01</td>\n    </tr>\n    <tr>\n      <th>14114</th>\n      <td>45</td>\n      <td>4.09</td>\n      <td>85766433</td>\n      <td>NaN</td>\n      <td>0.0</td>\n      <td>4</td>\n      <td>16</td>\n      <td>100</td>\n      <td>5</td>\n      <td>0.500000</td>\n      <td>-8.660254e-01</td>\n    </tr>\n    <tr>\n      <th>15492</th>\n      <td>6</td>\n      <td>4.00</td>\n      <td>3419464</td>\n      <td>NaN</td>\n      <td>0.0</td>\n      <td>1</td>\n      <td>16</td>\n      <td>355</td>\n      <td>8</td>\n      <td>-0.866025</td>\n      <td>-5.000000e-01</td>\n    </tr>\n    <tr>\n      <th>15513</th>\n      <td>6</td>\n      <td>4.30</td>\n      <td>9642995</td>\n      <td>NaN</td>\n      <td>0.0</td>\n      <td>1</td>\n      <td>16</td>\n      <td>344</td>\n      <td>9</td>\n      <td>-1.000000</td>\n      <td>-1.836970e-16</td>\n    </tr>\n  </tbody>\n</table>\n</div>"
     },
     "metadata": {},
     "execution_count": 64
    }
   ],
   "source": [
    "train1[train1['Downloads']==16]"
   ]
  },
  {
   "cell_type": "code",
   "execution_count": 58,
   "metadata": {},
   "outputs": [
    {
     "output_type": "execute_result",
     "data": {
      "text/plain": "(24776, 17)"
     },
     "metadata": {},
     "execution_count": 58
    }
   ],
   "source": [
    "pred.shape"
   ]
  },
  {
   "cell_type": "code",
   "execution_count": 52,
   "metadata": {},
   "outputs": [
    {
     "output_type": "execute_result",
     "data": {
      "text/plain": "array(['0', '1', '2', '3', '4', '5', '6', '7', '8', '9', '10', '11', '12',\n       '13', '14', '15', '16', '17'], dtype=object)"
     },
     "metadata": {},
     "execution_count": 52
    }
   ],
   "source": [
    "sub.columns.values"
   ]
  },
  {
   "cell_type": "markdown",
   "metadata": {},
   "source": []
  },
  {
   "cell_type": "code",
   "execution_count": 53,
   "metadata": {},
   "outputs": [
    {
     "output_type": "error",
     "ename": "IndexError",
     "evalue": "index 17 is out of bounds for axis 1 with size 17",
     "traceback": [
      "\u001b[1;31m---------------------------------------------------------------------------\u001b[0m",
      "\u001b[1;31mIndexError\u001b[0m                                Traceback (most recent call last)",
      "\u001b[1;32m<ipython-input-53-166131485319>\u001b[0m in \u001b[0;36m<module>\u001b[1;34m\u001b[0m\n\u001b[0;32m      1\u001b[0m \u001b[1;32mfor\u001b[0m \u001b[0mi\u001b[0m \u001b[1;32min\u001b[0m \u001b[0msub\u001b[0m\u001b[1;33m.\u001b[0m\u001b[0mcolumns\u001b[0m\u001b[1;33m.\u001b[0m\u001b[0mvalues\u001b[0m\u001b[1;33m:\u001b[0m\u001b[1;33m\u001b[0m\u001b[1;33m\u001b[0m\u001b[0m\n\u001b[1;32m----> 2\u001b[1;33m     \u001b[0msub\u001b[0m\u001b[1;33m[\u001b[0m\u001b[0mi\u001b[0m\u001b[1;33m]\u001b[0m\u001b[1;33m=\u001b[0m\u001b[0mpred\u001b[0m\u001b[1;33m[\u001b[0m\u001b[1;33m:\u001b[0m\u001b[1;33m,\u001b[0m\u001b[0mint\u001b[0m\u001b[1;33m(\u001b[0m\u001b[0mi\u001b[0m\u001b[1;33m)\u001b[0m\u001b[1;33m]\u001b[0m\u001b[1;33m\u001b[0m\u001b[1;33m\u001b[0m\u001b[0m\n\u001b[0m",
      "\u001b[1;31mIndexError\u001b[0m: index 17 is out of bounds for axis 1 with size 17"
     ]
    }
   ],
   "source": [
    "for i in sub.columns.values:\n",
    "    sub[i]=pred[:,int(i)]"
   ]
  },
  {
   "cell_type": "code",
   "execution_count": 66,
   "metadata": {},
   "outputs": [],
   "source": [
    "sub.to_csv('pred1.csv',index=False)"
   ]
  },
  {
   "cell_type": "code",
   "execution_count": null,
   "metadata": {},
   "outputs": [],
   "source": []
  }
 ]
}