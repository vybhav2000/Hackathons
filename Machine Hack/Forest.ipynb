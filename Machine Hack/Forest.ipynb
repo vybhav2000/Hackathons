{
 "metadata": {
  "language_info": {
   "codemirror_mode": {
    "name": "ipython",
    "version": 3
   },
   "file_extension": ".py",
   "mimetype": "text/x-python",
   "name": "python",
   "nbconvert_exporter": "python",
   "pygments_lexer": "ipython3",
   "version": "3.7.6-final"
  },
  "orig_nbformat": 2,
  "kernelspec": {
   "name": "python_defaultSpec_1596726764401",
   "display_name": "Python 3.7.6 64-bit ('vybha': virtualenv)"
  }
 },
 "nbformat": 4,
 "nbformat_minor": 2,
 "cells": [
  {
   "cell_type": "code",
   "execution_count": 1,
   "metadata": {},
   "outputs": [],
   "source": [
    "import numpy as np\n"
   ]
  },
  {
   "cell_type": "code",
   "execution_count": 6,
   "metadata": {},
   "outputs": [
    {
     "output_type": "execute_result",
     "data": {
      "text/plain": "array([2])"
     },
     "metadata": {},
     "execution_count": 6
    }
   ],
   "source": [
    "np.random.randint(1,3,1)"
   ]
  },
  {
   "cell_type": "code",
   "execution_count": 5,
   "metadata": {},
   "outputs": [
    {
     "output_type": "error",
     "ename": "NameError",
     "evalue": "name 'pd' is not defined",
     "traceback": [
      "\u001b[1;31m---------------------------------------------------------------------------\u001b[0m",
      "\u001b[1;31mNameError\u001b[0m                                 Traceback (most recent call last)",
      "\u001b[1;32m<ipython-input-5-86979574ef63>\u001b[0m in \u001b[0;36m<module>\u001b[1;34m\u001b[0m\n\u001b[1;32m----> 1\u001b[1;33m \u001b[0mtrain\u001b[0m\u001b[1;33m=\u001b[0m\u001b[0mpd\u001b[0m\u001b[1;33m.\u001b[0m\u001b[0mread_csv\u001b[0m\u001b[1;33m(\u001b[0m\u001b[1;34m'train.csv'\u001b[0m\u001b[1;33m)\u001b[0m\u001b[1;33m\u001b[0m\u001b[1;33m\u001b[0m\u001b[0m\n\u001b[0m\u001b[0;32m      2\u001b[0m \u001b[0mtest\u001b[0m\u001b[1;33m=\u001b[0m\u001b[0mpd\u001b[0m\u001b[1;33m.\u001b[0m\u001b[0mread_csv\u001b[0m\u001b[1;33m(\u001b[0m\u001b[1;34m'test.csv'\u001b[0m\u001b[1;33m)\u001b[0m\u001b[1;33m\u001b[0m\u001b[1;33m\u001b[0m\u001b[0m\n",
      "\u001b[1;31mNameError\u001b[0m: name 'pd' is not defined"
     ]
    }
   ],
   "source": [
    "train=pd.read_csv('train.csv')\n",
    "test=pd.read_csv('test.csv')"
   ]
  },
  {
   "cell_type": "code",
   "execution_count": 21,
   "metadata": {},
   "outputs": [
    {
     "output_type": "execute_result",
     "data": {
      "text/plain": "Index(['Elevation(meters)', 'Aspect(degrees)', 'Slope(degrees)',\n       'Horizontal_Distance_To_Hydrology(meters)',\n       'Vertical_Distance_To_Hydrology(meters)',\n       'Horizontal_Distance_To_Roadways(meters)', 'Hillshade_9am',\n       'Hillshade_Noon', 'Hillshade_3pm',\n       'Horizontal_Distance_To_Fire_Points(meters)', 'Wilderness_Area_1',\n       'Wilderness_Area_2', 'Wilderness_Area_3', 'Wilderness_Area_4',\n       'Soil_Type_1', 'Soil_Type_2', 'Soil_Type_3', 'Soil_Type_4',\n       'Soil_Type_5', 'Soil_Type_6', 'Soil_Type_7', 'Soil_Type_8',\n       'Soil_Type_9', 'Soil_Type_10', 'Soil_Type_11', 'Soil_Type_12',\n       'Soil_Type_13', 'Soil_Type_14', 'Soil_Type_15', 'Soil_Type_16',\n       'Soil_Type_17', 'Soil_Type_18', 'Soil_Type_19', 'Soil_Type_20',\n       'Soil_Type_21', 'Soil_Type_22', 'Soil_Type_23', 'Soil_Type_24',\n       'Soil_Type_25', 'Soil_Type_26', 'Soil_Type_27', 'Soil_Type_28',\n       'Soil_Type_29', 'Soil_Type_30', 'Soil_Type_31', 'Soil_Type_32',\n       'Soil_Type_33', 'Soil_Type_34', 'Soil_Type_35', 'Soil_Type_36',\n       'Soil_Type_37', 'Soil_Type_38', 'Soil_Type_39', 'Soil_Type_40',\n       'Cover_Type'],\n      dtype='object')"
     },
     "metadata": {},
     "execution_count": 21
    }
   ],
   "source": [
    "train.columns"
   ]
  },
  {
   "cell_type": "code",
   "execution_count": 16,
   "metadata": {},
   "outputs": [],
   "source": [
    "t=pd.concat([train,test])"
   ]
  },
  {
   "cell_type": "code",
   "execution_count": 17,
   "metadata": {},
   "outputs": [],
   "source": [
    "t=t[['Soil_Type_1', 'Soil_Type_2', 'Soil_Type_3', 'Soil_Type_4',\n",
    "       'Soil_Type_5', 'Soil_Type_6', 'Soil_Type_7', 'Soil_Type_8',\n",
    "       'Soil_Type_9', 'Soil_Type_10', 'Soil_Type_11', 'Soil_Type_12',\n",
    "       'Soil_Type_13', 'Soil_Type_14', 'Soil_Type_15', 'Soil_Type_16',\n",
    "       'Soil_Type_17', 'Soil_Type_18', 'Soil_Type_19', 'Soil_Type_20',\n",
    "       'Soil_Type_21', 'Soil_Type_22', 'Soil_Type_23', 'Soil_Type_24',\n",
    "       'Soil_Type_25', 'Soil_Type_26', 'Soil_Type_27', 'Soil_Type_28',\n",
    "       'Soil_Type_29', 'Soil_Type_30', 'Soil_Type_31', 'Soil_Type_32',\n",
    "       'Soil_Type_33', 'Soil_Type_34', 'Soil_Type_35', 'Soil_Type_36',\n",
    "       'Soil_Type_37', 'Soil_Type_38', 'Soil_Type_39', 'Soil_Type_40']]"
   ]
  },
  {
   "cell_type": "code",
   "execution_count": 18,
   "metadata": {},
   "outputs": [],
   "source": [
    "t1=t.idxmax(axis=1)"
   ]
  },
  {
   "cell_type": "code",
   "execution_count": 12,
   "metadata": {},
   "outputs": [],
   "source": [
    "from sklearn.preprocessing import LabelEncoder"
   ]
  },
  {
   "cell_type": "code",
   "execution_count": 19,
   "metadata": {},
   "outputs": [],
   "source": [
    "en=LabelEncoder()\n",
    "ecoded=en.fit_transform(t1.values)"
   ]
  },
  {
   "cell_type": "code",
   "execution_count": 20,
   "metadata": {},
   "outputs": [],
   "source": [
    "encoded_train=ecoded[:len(train)]\n",
    "encoded_test=ecoded[len(train):]"
   ]
  },
  {
   "cell_type": "code",
   "execution_count": 23,
   "metadata": {},
   "outputs": [],
   "source": [
    "train=train[['Elevation(meters)', 'Aspect(degrees)', 'Slope(degrees)',\n",
    "       'Horizontal_Distance_To_Hydrology(meters)',\n",
    "       'Vertical_Distance_To_Hydrology(meters)',\n",
    "       'Horizontal_Distance_To_Roadways(meters)', 'Hillshade_9am',\n",
    "       'Hillshade_Noon', 'Hillshade_3pm',\n",
    "       'Horizontal_Distance_To_Fire_Points(meters)', 'Wilderness_Area_1',\n",
    "       'Wilderness_Area_2', 'Wilderness_Area_3', 'Wilderness_Area_4','Cover_Type']]\n",
    "test=test[['Elevation(meters)', 'Aspect(degrees)', 'Slope(degrees)',\n",
    "       'Horizontal_Distance_To_Hydrology(meters)',\n",
    "       'Vertical_Distance_To_Hydrology(meters)',\n",
    "       'Horizontal_Distance_To_Roadways(meters)', 'Hillshade_9am',\n",
    "       'Hillshade_Noon', 'Hillshade_3pm',\n",
    "       'Horizontal_Distance_To_Fire_Points(meters)', 'Wilderness_Area_1',\n",
    "       'Wilderness_Area_2', 'Wilderness_Area_3', 'Wilderness_Area_4']]"
   ]
  },
  {
   "cell_type": "code",
   "execution_count": 38,
   "metadata": {},
   "outputs": [
    {
     "output_type": "execute_result",
     "data": {
      "text/plain": "5    14165\n7    10592\n6     1788\n1     1025\n3      868\n2      475\n4      137\nName: Cover_Type, dtype: int64"
     },
     "metadata": {},
     "execution_count": 38
    }
   ],
   "source": [
    "train['Cover_Type'].value_counts()"
   ]
  },
  {
   "cell_type": "code",
   "execution_count": 25,
   "metadata": {},
   "outputs": [],
   "source": [
    "train['Soil_Type']=encoded_train\n",
    "test['Soil_Type']=encoded_test"
   ]
  },
  {
   "cell_type": "code",
   "execution_count": 74,
   "metadata": {},
   "outputs": [
    {
     "output_type": "execute_result",
     "data": {
      "text/plain": "       Elevation(meters)  Aspect(degrees)  Slope(degrees)  \\\n0                   2982              186              14   \n1                   2929              243              15   \n2                   3051              162              12   \n3                   3090              345              17   \n4                   3023                4               9   \n...                  ...              ...             ...   \n29045               2701              149               1   \n29046               2929              129              10   \n29047               3034              294              17   \n29048               2730              122               9   \n29049               3146              247              11   \n\n       Horizontal_Distance_To_Hydrology(meters)  \\\n0                                           323   \n1                                           335   \n2                                          1224   \n3                                           362   \n4                                           234   \n...                                         ...   \n29045                                         0   \n29046                                       150   \n29047                                       212   \n29048                                       360   \n29049                                       339   \n\n       Vertical_Distance_To_Hydrology(meters)  \\\n0                                          66   \n1                                          33   \n2                                         253   \n3                                          92   \n4                                          51   \n...                                       ...   \n29045                                       0   \n29046                                      36   \n29047                                      46   \n29048                                     106   \n29049                                      38   \n\n       Horizontal_Distance_To_Roadways(meters)  Hillshade_9am  Hillshade_Noon  \\\n0                                         5351            222             249   \n1                                         5778            189             251   \n2                                         3182            231             243   \n3                                         2460            184             211   \n4                                         4994            208             222   \n...                                        ...            ...             ...   \n29045                                     2207            221             238   \n29046                                      351            237             234   \n29047                                     2671            172             234   \n29048                                     1560            236             233   \n29049                                      994            198             248   \n\n       Hillshade_3pm  Horizontal_Distance_To_Fire_Points(meters)  \\\n0                158                                        1530   \n1                198                                        6429   \n2                142                                        1167   \n3                164                                        2384   \n4                151                                        3813   \n...              ...                                         ...   \n29045            154                                         607   \n29046            127                                         297   \n29047            202                                        1717   \n29048            128                                         514   \n29049            189                                        1237   \n\n       Wilderness_Area_1  Wilderness_Area_2  Wilderness_Area_3  \\\n0                      1                  0                  0   \n1                      1                  0                  0   \n2                      0                  0                  1   \n3                      0                  0                  1   \n4                      1                  0                  0   \n...                  ...                ...                ...   \n29045                  0                  0                  1   \n29046                  0                  0                  1   \n29047                  0                  0                  1   \n29048                  1                  0                  0   \n29049                  0                  0                  1   \n\n       Wilderness_Area_4  Cover_Type  Soil_Type  \n0                      0           5         23  \n1                      0           7         21  \n2                      0           5         27  \n3                      0           7         16  \n4                      0           7         21  \n...                  ...         ...        ...  \n29045                  0           5          4  \n29046                  0           5         25  \n29047                  0           7         25  \n29048                  0           5         15  \n29049                  0           5         15  \n\n[29050 rows x 16 columns]",
      "text/html": "<div>\n<style scoped>\n    .dataframe tbody tr th:only-of-type {\n        vertical-align: middle;\n    }\n\n    .dataframe tbody tr th {\n        vertical-align: top;\n    }\n\n    .dataframe thead th {\n        text-align: right;\n    }\n</style>\n<table border=\"1\" class=\"dataframe\">\n  <thead>\n    <tr style=\"text-align: right;\">\n      <th></th>\n      <th>Elevation(meters)</th>\n      <th>Aspect(degrees)</th>\n      <th>Slope(degrees)</th>\n      <th>Horizontal_Distance_To_Hydrology(meters)</th>\n      <th>Vertical_Distance_To_Hydrology(meters)</th>\n      <th>Horizontal_Distance_To_Roadways(meters)</th>\n      <th>Hillshade_9am</th>\n      <th>Hillshade_Noon</th>\n      <th>Hillshade_3pm</th>\n      <th>Horizontal_Distance_To_Fire_Points(meters)</th>\n      <th>Wilderness_Area_1</th>\n      <th>Wilderness_Area_2</th>\n      <th>Wilderness_Area_3</th>\n      <th>Wilderness_Area_4</th>\n      <th>Cover_Type</th>\n      <th>Soil_Type</th>\n    </tr>\n  </thead>\n  <tbody>\n    <tr>\n      <th>0</th>\n      <td>2982</td>\n      <td>186</td>\n      <td>14</td>\n      <td>323</td>\n      <td>66</td>\n      <td>5351</td>\n      <td>222</td>\n      <td>249</td>\n      <td>158</td>\n      <td>1530</td>\n      <td>1</td>\n      <td>0</td>\n      <td>0</td>\n      <td>0</td>\n      <td>5</td>\n      <td>23</td>\n    </tr>\n    <tr>\n      <th>1</th>\n      <td>2929</td>\n      <td>243</td>\n      <td>15</td>\n      <td>335</td>\n      <td>33</td>\n      <td>5778</td>\n      <td>189</td>\n      <td>251</td>\n      <td>198</td>\n      <td>6429</td>\n      <td>1</td>\n      <td>0</td>\n      <td>0</td>\n      <td>0</td>\n      <td>7</td>\n      <td>21</td>\n    </tr>\n    <tr>\n      <th>2</th>\n      <td>3051</td>\n      <td>162</td>\n      <td>12</td>\n      <td>1224</td>\n      <td>253</td>\n      <td>3182</td>\n      <td>231</td>\n      <td>243</td>\n      <td>142</td>\n      <td>1167</td>\n      <td>0</td>\n      <td>0</td>\n      <td>1</td>\n      <td>0</td>\n      <td>5</td>\n      <td>27</td>\n    </tr>\n    <tr>\n      <th>3</th>\n      <td>3090</td>\n      <td>345</td>\n      <td>17</td>\n      <td>362</td>\n      <td>92</td>\n      <td>2460</td>\n      <td>184</td>\n      <td>211</td>\n      <td>164</td>\n      <td>2384</td>\n      <td>0</td>\n      <td>0</td>\n      <td>1</td>\n      <td>0</td>\n      <td>7</td>\n      <td>16</td>\n    </tr>\n    <tr>\n      <th>4</th>\n      <td>3023</td>\n      <td>4</td>\n      <td>9</td>\n      <td>234</td>\n      <td>51</td>\n      <td>4994</td>\n      <td>208</td>\n      <td>222</td>\n      <td>151</td>\n      <td>3813</td>\n      <td>1</td>\n      <td>0</td>\n      <td>0</td>\n      <td>0</td>\n      <td>7</td>\n      <td>21</td>\n    </tr>\n    <tr>\n      <th>...</th>\n      <td>...</td>\n      <td>...</td>\n      <td>...</td>\n      <td>...</td>\n      <td>...</td>\n      <td>...</td>\n      <td>...</td>\n      <td>...</td>\n      <td>...</td>\n      <td>...</td>\n      <td>...</td>\n      <td>...</td>\n      <td>...</td>\n      <td>...</td>\n      <td>...</td>\n      <td>...</td>\n    </tr>\n    <tr>\n      <th>29045</th>\n      <td>2701</td>\n      <td>149</td>\n      <td>1</td>\n      <td>0</td>\n      <td>0</td>\n      <td>2207</td>\n      <td>221</td>\n      <td>238</td>\n      <td>154</td>\n      <td>607</td>\n      <td>0</td>\n      <td>0</td>\n      <td>1</td>\n      <td>0</td>\n      <td>5</td>\n      <td>4</td>\n    </tr>\n    <tr>\n      <th>29046</th>\n      <td>2929</td>\n      <td>129</td>\n      <td>10</td>\n      <td>150</td>\n      <td>36</td>\n      <td>351</td>\n      <td>237</td>\n      <td>234</td>\n      <td>127</td>\n      <td>297</td>\n      <td>0</td>\n      <td>0</td>\n      <td>1</td>\n      <td>0</td>\n      <td>5</td>\n      <td>25</td>\n    </tr>\n    <tr>\n      <th>29047</th>\n      <td>3034</td>\n      <td>294</td>\n      <td>17</td>\n      <td>212</td>\n      <td>46</td>\n      <td>2671</td>\n      <td>172</td>\n      <td>234</td>\n      <td>202</td>\n      <td>1717</td>\n      <td>0</td>\n      <td>0</td>\n      <td>1</td>\n      <td>0</td>\n      <td>7</td>\n      <td>25</td>\n    </tr>\n    <tr>\n      <th>29048</th>\n      <td>2730</td>\n      <td>122</td>\n      <td>9</td>\n      <td>360</td>\n      <td>106</td>\n      <td>1560</td>\n      <td>236</td>\n      <td>233</td>\n      <td>128</td>\n      <td>514</td>\n      <td>1</td>\n      <td>0</td>\n      <td>0</td>\n      <td>0</td>\n      <td>5</td>\n      <td>15</td>\n    </tr>\n    <tr>\n      <th>29049</th>\n      <td>3146</td>\n      <td>247</td>\n      <td>11</td>\n      <td>339</td>\n      <td>38</td>\n      <td>994</td>\n      <td>198</td>\n      <td>248</td>\n      <td>189</td>\n      <td>1237</td>\n      <td>0</td>\n      <td>0</td>\n      <td>1</td>\n      <td>0</td>\n      <td>5</td>\n      <td>15</td>\n    </tr>\n  </tbody>\n</table>\n<p>29050 rows × 16 columns</p>\n</div>"
     },
     "metadata": {},
     "execution_count": 74
    }
   ],
   "source": [
    "train"
   ]
  },
  {
   "cell_type": "code",
   "execution_count": 28,
   "metadata": {},
   "outputs": [],
   "source": [
    "from lightgbm import LGBMClassifier\n",
    "from xgboost import XGBClassifier"
   ]
  },
  {
   "cell_type": "code",
   "execution_count": 29,
   "metadata": {},
   "outputs": [],
   "source": [
    "from sklearn.model_selection import train_test_split"
   ]
  },
  {
   "cell_type": "code",
   "execution_count": 57,
   "metadata": {},
   "outputs": [],
   "source": [
    "from imblearn.over_sampling import SMOTE "
   ]
  },
  {
   "cell_type": "code",
   "execution_count": 58,
   "metadata": {},
   "outputs": [],
   "source": [
    "train_dat=train.drop(['Cover_Type'],axis=1)\n",
    "val=train['Cover_Type']"
   ]
  },
  {
   "cell_type": "code",
   "execution_count": 75,
   "metadata": {},
   "outputs": [],
   "source": [
    "sm=SMOTE(random_state=2)\n",
    "train_X,train_y=sm.fit_sample(train_dat,val.ravel())"
   ]
  },
  {
   "cell_type": "code",
   "execution_count": 76,
   "metadata": {},
   "outputs": [],
   "source": [
    "X_train,X_test,y_train,y_test=train_test_split(train_X,train_y,test_size=0.3)"
   ]
  },
  {
   "cell_type": "code",
   "execution_count": 63,
   "metadata": {},
   "outputs": [],
   "source": [
    "from sklearn.model_selection import GridSearchCV"
   ]
  },
  {
   "cell_type": "code",
   "execution_count": 77,
   "metadata": {},
   "outputs": [],
   "source": [
    "lgb=LGBMClassifier(learning_rate= 0.1, max_depth= 4, n_estimators= 256)"
   ]
  },
  {
   "cell_type": "code",
   "execution_count": 78,
   "metadata": {},
   "outputs": [
    {
     "output_type": "execute_result",
     "data": {
      "text/plain": "LGBMClassifier(max_depth=4, n_estimators=256)"
     },
     "metadata": {},
     "execution_count": 78
    }
   ],
   "source": [
    "lgb.fit(X_train,y_train)"
   ]
  },
  {
   "cell_type": "code",
   "execution_count": 85,
   "metadata": {},
   "outputs": [],
   "source": [
    "pred=lgb.predict_proba(test)"
   ]
  },
  {
   "cell_type": "code",
   "execution_count": 86,
   "metadata": {},
   "outputs": [
    {
     "output_type": "execute_result",
     "data": {
      "text/plain": "array([[2.29183304e-05, 3.21874204e-03, 2.56927661e-05, ...,\n        9.52438554e-01, 1.23344292e-04, 4.41618240e-02],\n       [8.74487320e-01, 3.14368149e-05, 2.98103412e-06, ...,\n        9.36766098e-04, 1.82627281e-05, 1.24508978e-01],\n       [6.74209928e-06, 1.86038255e-02, 1.77794924e-03, ...,\n        8.40232236e-01, 1.29465958e-01, 9.91122088e-03],\n       ...,\n       [4.90126740e-05, 6.39664853e-01, 1.35754217e-04, ...,\n        2.49136242e-01, 1.88580597e-04, 1.10811706e-01],\n       [6.99138613e-05, 1.58667288e-04, 1.25415748e-04, ...,\n        5.65780200e-01, 1.61691643e-04, 4.33687701e-01],\n       [9.36274662e-05, 2.28296434e-01, 2.13864034e-03, ...,\n        6.27075567e-01, 8.18042217e-04, 1.41469784e-01]])"
     },
     "metadata": {},
     "execution_count": 86
    }
   ],
   "source": [
    "pred"
   ]
  },
  {
   "cell_type": "code",
   "execution_count": 89,
   "metadata": {},
   "outputs": [],
   "source": [
    "sub=pd.DataFrame({'1':pred[:,0],'2':pred[:,1],'3':pred[:,2],'4':pred[:,3],'5':pred[:,4],'6':pred[:,5],'7':pred[:,6]})"
   ]
  },
  {
   "cell_type": "code",
   "execution_count": 91,
   "metadata": {},
   "outputs": [],
   "source": [
    "sub.to_csv('My_sub1.csv',index=False)"
   ]
  },
  {
   "cell_type": "code",
   "execution_count": 83,
   "metadata": {},
   "outputs": [
    {
     "output_type": "execute_result",
     "data": {
      "text/plain": "array([4, 5, 2, ..., 4, 3, 2], dtype=int64)"
     },
     "metadata": {},
     "execution_count": 83
    }
   ],
   "source": [
    "pred"
   ]
  },
  {
   "cell_type": "code",
   "execution_count": 21,
   "metadata": {},
   "outputs": [
    {
     "output_type": "error",
     "ename": "AttributeError",
     "evalue": "'LGBMClassifier' object has no attribute 'variable_importance_'",
     "traceback": [
      "\u001b[1;31m---------------------------------------------------------------------------\u001b[0m",
      "\u001b[1;31mAttributeError\u001b[0m                            Traceback (most recent call last)",
      "\u001b[1;32m<ipython-input-21-cb8ee01a175f>\u001b[0m in \u001b[0;36m<module>\u001b[1;34m\u001b[0m\n\u001b[1;32m----> 1\u001b[1;33m \u001b[0mlgb\u001b[0m\u001b[1;33m.\u001b[0m\u001b[0mvariable_importance_\u001b[0m\u001b[1;33m\u001b[0m\u001b[1;33m\u001b[0m\u001b[0m\n\u001b[0m",
      "\u001b[1;31mAttributeError\u001b[0m: 'LGBMClassifier' object has no attribute 'variable_importance_'"
     ]
    }
   ],
   "source": [
    "lgb.variab"
   ]
  },
  {
   "cell_type": "code",
   "execution_count": null,
   "metadata": {},
   "outputs": [],
   "source": []
  }
 ]
}