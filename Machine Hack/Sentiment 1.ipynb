{
 "metadata": {
  "language_info": {
   "codemirror_mode": {
    "name": "ipython",
    "version": 3
   },
   "file_extension": ".py",
   "mimetype": "text/x-python",
   "name": "python",
   "nbconvert_exporter": "python",
   "pygments_lexer": "ipython3",
   "version": "3.7.6-final"
  },
  "orig_nbformat": 2,
  "kernelspec": {
   "name": "python_defaultSpec_1599379027250",
   "display_name": "Python 3.7.6 64-bit (conda)"
  }
 },
 "nbformat": 4,
 "nbformat_minor": 2,
 "cells": [
  {
   "cell_type": "code",
   "execution_count": 1,
   "metadata": {},
   "outputs": [],
   "source": [
    "import numpy as np\n",
    "import pandas as pd\n",
    "import plotly.express as px\n",
    "from nltk.corpus import stopwords\n",
    "import re\n",
    "import string"
   ]
  },
  {
   "cell_type": "code",
   "execution_count": 2,
   "metadata": {},
   "outputs": [],
   "source": [
    "train=pd.read_csv('train.csv')\n",
    "test=pd.read_csv('test.csv')\n",
    "sample=pd.read_csv('Sample Submission.csv')"
   ]
  },
  {
   "cell_type": "code",
   "execution_count": 3,
   "metadata": {},
   "outputs": [
    {
     "output_type": "execute_result",
     "data": {
      "text/plain": "   Text_ID                                Product_Description  Product_Type  \\\n0     3057  The Web DesignerÛªs Guide to iOS (and Android...             9   \n1     6254  RT @mention Line for iPad 2 is longer today th...             9   \n2     8212  Crazy that Apple is opening a temporary store ...             9   \n3     4422  The lesson from Google One Pass: In this digit...             9   \n4     5526  RT @mention At the panel: &quot;Your mom has a...             9   \n\n   Sentiment  \n0          2  \n1          2  \n2          2  \n3          2  \n4          2  ",
      "text/html": "<div>\n<style scoped>\n    .dataframe tbody tr th:only-of-type {\n        vertical-align: middle;\n    }\n\n    .dataframe tbody tr th {\n        vertical-align: top;\n    }\n\n    .dataframe thead th {\n        text-align: right;\n    }\n</style>\n<table border=\"1\" class=\"dataframe\">\n  <thead>\n    <tr style=\"text-align: right;\">\n      <th></th>\n      <th>Text_ID</th>\n      <th>Product_Description</th>\n      <th>Product_Type</th>\n      <th>Sentiment</th>\n    </tr>\n  </thead>\n  <tbody>\n    <tr>\n      <th>0</th>\n      <td>3057</td>\n      <td>The Web DesignerÛªs Guide to iOS (and Android...</td>\n      <td>9</td>\n      <td>2</td>\n    </tr>\n    <tr>\n      <th>1</th>\n      <td>6254</td>\n      <td>RT @mention Line for iPad 2 is longer today th...</td>\n      <td>9</td>\n      <td>2</td>\n    </tr>\n    <tr>\n      <th>2</th>\n      <td>8212</td>\n      <td>Crazy that Apple is opening a temporary store ...</td>\n      <td>9</td>\n      <td>2</td>\n    </tr>\n    <tr>\n      <th>3</th>\n      <td>4422</td>\n      <td>The lesson from Google One Pass: In this digit...</td>\n      <td>9</td>\n      <td>2</td>\n    </tr>\n    <tr>\n      <th>4</th>\n      <td>5526</td>\n      <td>RT @mention At the panel: &amp;quot;Your mom has a...</td>\n      <td>9</td>\n      <td>2</td>\n    </tr>\n  </tbody>\n</table>\n</div>"
     },
     "metadata": {},
     "execution_count": 3
    }
   ],
   "source": [
    "train.head()"
   ]
  },
  {
   "cell_type": "code",
   "execution_count": 4,
   "metadata": {},
   "outputs": [
    {
     "output_type": "execute_result",
     "data": {
      "text/plain": "   Text_ID                                Product_Description  Product_Type\n0     5786  RT @mention Going to #SXSW? The new iPhone gui...             7\n1     5363  RT @mention 95% of iPhone and Droid apps have ...             9\n2     6716  RT @mention Thank you to @mention for letting ...             9\n3     4339  #Thanks @mention we're lovin' the @mention app...             7\n4       66  At #sxsw? @mention / @mention wanna buy you a ...             9",
      "text/html": "<div>\n<style scoped>\n    .dataframe tbody tr th:only-of-type {\n        vertical-align: middle;\n    }\n\n    .dataframe tbody tr th {\n        vertical-align: top;\n    }\n\n    .dataframe thead th {\n        text-align: right;\n    }\n</style>\n<table border=\"1\" class=\"dataframe\">\n  <thead>\n    <tr style=\"text-align: right;\">\n      <th></th>\n      <th>Text_ID</th>\n      <th>Product_Description</th>\n      <th>Product_Type</th>\n    </tr>\n  </thead>\n  <tbody>\n    <tr>\n      <th>0</th>\n      <td>5786</td>\n      <td>RT @mention Going to #SXSW? The new iPhone gui...</td>\n      <td>7</td>\n    </tr>\n    <tr>\n      <th>1</th>\n      <td>5363</td>\n      <td>RT @mention 95% of iPhone and Droid apps have ...</td>\n      <td>9</td>\n    </tr>\n    <tr>\n      <th>2</th>\n      <td>6716</td>\n      <td>RT @mention Thank you to @mention for letting ...</td>\n      <td>9</td>\n    </tr>\n    <tr>\n      <th>3</th>\n      <td>4339</td>\n      <td>#Thanks @mention we're lovin' the @mention app...</td>\n      <td>7</td>\n    </tr>\n    <tr>\n      <th>4</th>\n      <td>66</td>\n      <td>At #sxsw? @mention / @mention wanna buy you a ...</td>\n      <td>9</td>\n    </tr>\n  </tbody>\n</table>\n</div>"
     },
     "metadata": {},
     "execution_count": 4
    }
   ],
   "source": [
    "test.head()"
   ]
  },
  {
   "cell_type": "code",
   "execution_count": 5,
   "metadata": {},
   "outputs": [
    {
     "output_type": "execute_result",
     "data": {
      "text/plain": "     0    1    2    3\n0  0.0  0.0  0.0  0.0\n1  0.0  0.0  0.0  0.0\n2  0.0  0.0  0.0  0.0\n3  0.0  0.0  0.0  0.0\n4  0.0  0.0  0.0  0.0",
      "text/html": "<div>\n<style scoped>\n    .dataframe tbody tr th:only-of-type {\n        vertical-align: middle;\n    }\n\n    .dataframe tbody tr th {\n        vertical-align: top;\n    }\n\n    .dataframe thead th {\n        text-align: right;\n    }\n</style>\n<table border=\"1\" class=\"dataframe\">\n  <thead>\n    <tr style=\"text-align: right;\">\n      <th></th>\n      <th>0</th>\n      <th>1</th>\n      <th>2</th>\n      <th>3</th>\n    </tr>\n  </thead>\n  <tbody>\n    <tr>\n      <th>0</th>\n      <td>0.0</td>\n      <td>0.0</td>\n      <td>0.0</td>\n      <td>0.0</td>\n    </tr>\n    <tr>\n      <th>1</th>\n      <td>0.0</td>\n      <td>0.0</td>\n      <td>0.0</td>\n      <td>0.0</td>\n    </tr>\n    <tr>\n      <th>2</th>\n      <td>0.0</td>\n      <td>0.0</td>\n      <td>0.0</td>\n      <td>0.0</td>\n    </tr>\n    <tr>\n      <th>3</th>\n      <td>0.0</td>\n      <td>0.0</td>\n      <td>0.0</td>\n      <td>0.0</td>\n    </tr>\n    <tr>\n      <th>4</th>\n      <td>0.0</td>\n      <td>0.0</td>\n      <td>0.0</td>\n      <td>0.0</td>\n    </tr>\n  </tbody>\n</table>\n</div>"
     },
     "metadata": {},
     "execution_count": 5
    }
   ],
   "source": [
    "sample.head()"
   ]
  },
  {
   "cell_type": "code",
   "execution_count": 7,
   "metadata": {},
   "outputs": [
    {
     "output_type": "display_data",
     "data": {
      "application/vnd.plotly.v1+json": {
       "config": {
        "plotlyServerURL": "https://plot.ly"
       },
       "data": [
        {
         "alignmentgroup": "True",
         "hovertemplate": "x=%{x}<br>y=%{y}<extra></extra>",
         "legendgroup": "",
         "marker": {
          "color": "#636efa"
         },
         "name": "",
         "offsetgroup": "",
         "orientation": "v",
         "showlegend": false,
         "textposition": "auto",
         "type": "bar",
         "x": [
          9,
          6,
          2,
          7,
          3,
          5,
          8,
          1,
          0,
          4
         ],
         "xaxis": "x",
         "y": [
          4070,
          665,
          465,
          327,
          300,
          213,
          194,
          59,
          52,
          19
         ],
         "yaxis": "y"
        }
       ],
       "layout": {
        "barmode": "relative",
        "legend": {
         "tracegroupgap": 0
        },
        "margin": {
         "t": 60
        },
        "template": {
         "data": {
          "bar": [
           {
            "error_x": {
             "color": "#2a3f5f"
            },
            "error_y": {
             "color": "#2a3f5f"
            },
            "marker": {
             "line": {
              "color": "#E5ECF6",
              "width": 0.5
             }
            },
            "type": "bar"
           }
          ],
          "barpolar": [
           {
            "marker": {
             "line": {
              "color": "#E5ECF6",
              "width": 0.5
             }
            },
            "type": "barpolar"
           }
          ],
          "carpet": [
           {
            "aaxis": {
             "endlinecolor": "#2a3f5f",
             "gridcolor": "white",
             "linecolor": "white",
             "minorgridcolor": "white",
             "startlinecolor": "#2a3f5f"
            },
            "baxis": {
             "endlinecolor": "#2a3f5f",
             "gridcolor": "white",
             "linecolor": "white",
             "minorgridcolor": "white",
             "startlinecolor": "#2a3f5f"
            },
            "type": "carpet"
           }
          ],
          "choropleth": [
           {
            "colorbar": {
             "outlinewidth": 0,
             "ticks": ""
            },
            "type": "choropleth"
           }
          ],
          "contour": [
           {
            "colorbar": {
             "outlinewidth": 0,
             "ticks": ""
            },
            "colorscale": [
             [
              0,
              "#0d0887"
             ],
             [
              0.1111111111111111,
              "#46039f"
             ],
             [
              0.2222222222222222,
              "#7201a8"
             ],
             [
              0.3333333333333333,
              "#9c179e"
             ],
             [
              0.4444444444444444,
              "#bd3786"
             ],
             [
              0.5555555555555556,
              "#d8576b"
             ],
             [
              0.6666666666666666,
              "#ed7953"
             ],
             [
              0.7777777777777778,
              "#fb9f3a"
             ],
             [
              0.8888888888888888,
              "#fdca26"
             ],
             [
              1,
              "#f0f921"
             ]
            ],
            "type": "contour"
           }
          ],
          "contourcarpet": [
           {
            "colorbar": {
             "outlinewidth": 0,
             "ticks": ""
            },
            "type": "contourcarpet"
           }
          ],
          "heatmap": [
           {
            "colorbar": {
             "outlinewidth": 0,
             "ticks": ""
            },
            "colorscale": [
             [
              0,
              "#0d0887"
             ],
             [
              0.1111111111111111,
              "#46039f"
             ],
             [
              0.2222222222222222,
              "#7201a8"
             ],
             [
              0.3333333333333333,
              "#9c179e"
             ],
             [
              0.4444444444444444,
              "#bd3786"
             ],
             [
              0.5555555555555556,
              "#d8576b"
             ],
             [
              0.6666666666666666,
              "#ed7953"
             ],
             [
              0.7777777777777778,
              "#fb9f3a"
             ],
             [
              0.8888888888888888,
              "#fdca26"
             ],
             [
              1,
              "#f0f921"
             ]
            ],
            "type": "heatmap"
           }
          ],
          "heatmapgl": [
           {
            "colorbar": {
             "outlinewidth": 0,
             "ticks": ""
            },
            "colorscale": [
             [
              0,
              "#0d0887"
             ],
             [
              0.1111111111111111,
              "#46039f"
             ],
             [
              0.2222222222222222,
              "#7201a8"
             ],
             [
              0.3333333333333333,
              "#9c179e"
             ],
             [
              0.4444444444444444,
              "#bd3786"
             ],
             [
              0.5555555555555556,
              "#d8576b"
             ],
             [
              0.6666666666666666,
              "#ed7953"
             ],
             [
              0.7777777777777778,
              "#fb9f3a"
             ],
             [
              0.8888888888888888,
              "#fdca26"
             ],
             [
              1,
              "#f0f921"
             ]
            ],
            "type": "heatmapgl"
           }
          ],
          "histogram": [
           {
            "marker": {
             "colorbar": {
              "outlinewidth": 0,
              "ticks": ""
             }
            },
            "type": "histogram"
           }
          ],
          "histogram2d": [
           {
            "colorbar": {
             "outlinewidth": 0,
             "ticks": ""
            },
            "colorscale": [
             [
              0,
              "#0d0887"
             ],
             [
              0.1111111111111111,
              "#46039f"
             ],
             [
              0.2222222222222222,
              "#7201a8"
             ],
             [
              0.3333333333333333,
              "#9c179e"
             ],
             [
              0.4444444444444444,
              "#bd3786"
             ],
             [
              0.5555555555555556,
              "#d8576b"
             ],
             [
              0.6666666666666666,
              "#ed7953"
             ],
             [
              0.7777777777777778,
              "#fb9f3a"
             ],
             [
              0.8888888888888888,
              "#fdca26"
             ],
             [
              1,
              "#f0f921"
             ]
            ],
            "type": "histogram2d"
           }
          ],
          "histogram2dcontour": [
           {
            "colorbar": {
             "outlinewidth": 0,
             "ticks": ""
            },
            "colorscale": [
             [
              0,
              "#0d0887"
             ],
             [
              0.1111111111111111,
              "#46039f"
             ],
             [
              0.2222222222222222,
              "#7201a8"
             ],
             [
              0.3333333333333333,
              "#9c179e"
             ],
             [
              0.4444444444444444,
              "#bd3786"
             ],
             [
              0.5555555555555556,
              "#d8576b"
             ],
             [
              0.6666666666666666,
              "#ed7953"
             ],
             [
              0.7777777777777778,
              "#fb9f3a"
             ],
             [
              0.8888888888888888,
              "#fdca26"
             ],
             [
              1,
              "#f0f921"
             ]
            ],
            "type": "histogram2dcontour"
           }
          ],
          "mesh3d": [
           {
            "colorbar": {
             "outlinewidth": 0,
             "ticks": ""
            },
            "type": "mesh3d"
           }
          ],
          "parcoords": [
           {
            "line": {
             "colorbar": {
              "outlinewidth": 0,
              "ticks": ""
             }
            },
            "type": "parcoords"
           }
          ],
          "pie": [
           {
            "automargin": true,
            "type": "pie"
           }
          ],
          "scatter": [
           {
            "marker": {
             "colorbar": {
              "outlinewidth": 0,
              "ticks": ""
             }
            },
            "type": "scatter"
           }
          ],
          "scatter3d": [
           {
            "line": {
             "colorbar": {
              "outlinewidth": 0,
              "ticks": ""
             }
            },
            "marker": {
             "colorbar": {
              "outlinewidth": 0,
              "ticks": ""
             }
            },
            "type": "scatter3d"
           }
          ],
          "scattercarpet": [
           {
            "marker": {
             "colorbar": {
              "outlinewidth": 0,
              "ticks": ""
             }
            },
            "type": "scattercarpet"
           }
          ],
          "scattergeo": [
           {
            "marker": {
             "colorbar": {
              "outlinewidth": 0,
              "ticks": ""
             }
            },
            "type": "scattergeo"
           }
          ],
          "scattergl": [
           {
            "marker": {
             "colorbar": {
              "outlinewidth": 0,
              "ticks": ""
             }
            },
            "type": "scattergl"
           }
          ],
          "scattermapbox": [
           {
            "marker": {
             "colorbar": {
              "outlinewidth": 0,
              "ticks": ""
             }
            },
            "type": "scattermapbox"
           }
          ],
          "scatterpolar": [
           {
            "marker": {
             "colorbar": {
              "outlinewidth": 0,
              "ticks": ""
             }
            },
            "type": "scatterpolar"
           }
          ],
          "scatterpolargl": [
           {
            "marker": {
             "colorbar": {
              "outlinewidth": 0,
              "ticks": ""
             }
            },
            "type": "scatterpolargl"
           }
          ],
          "scatterternary": [
           {
            "marker": {
             "colorbar": {
              "outlinewidth": 0,
              "ticks": ""
             }
            },
            "type": "scatterternary"
           }
          ],
          "surface": [
           {
            "colorbar": {
             "outlinewidth": 0,
             "ticks": ""
            },
            "colorscale": [
             [
              0,
              "#0d0887"
             ],
             [
              0.1111111111111111,
              "#46039f"
             ],
             [
              0.2222222222222222,
              "#7201a8"
             ],
             [
              0.3333333333333333,
              "#9c179e"
             ],
             [
              0.4444444444444444,
              "#bd3786"
             ],
             [
              0.5555555555555556,
              "#d8576b"
             ],
             [
              0.6666666666666666,
              "#ed7953"
             ],
             [
              0.7777777777777778,
              "#fb9f3a"
             ],
             [
              0.8888888888888888,
              "#fdca26"
             ],
             [
              1,
              "#f0f921"
             ]
            ],
            "type": "surface"
           }
          ],
          "table": [
           {
            "cells": {
             "fill": {
              "color": "#EBF0F8"
             },
             "line": {
              "color": "white"
             }
            },
            "header": {
             "fill": {
              "color": "#C8D4E3"
             },
             "line": {
              "color": "white"
             }
            },
            "type": "table"
           }
          ]
         },
         "layout": {
          "annotationdefaults": {
           "arrowcolor": "#2a3f5f",
           "arrowhead": 0,
           "arrowwidth": 1
          },
          "coloraxis": {
           "colorbar": {
            "outlinewidth": 0,
            "ticks": ""
           }
          },
          "colorscale": {
           "diverging": [
            [
             0,
             "#8e0152"
            ],
            [
             0.1,
             "#c51b7d"
            ],
            [
             0.2,
             "#de77ae"
            ],
            [
             0.3,
             "#f1b6da"
            ],
            [
             0.4,
             "#fde0ef"
            ],
            [
             0.5,
             "#f7f7f7"
            ],
            [
             0.6,
             "#e6f5d0"
            ],
            [
             0.7,
             "#b8e186"
            ],
            [
             0.8,
             "#7fbc41"
            ],
            [
             0.9,
             "#4d9221"
            ],
            [
             1,
             "#276419"
            ]
           ],
           "sequential": [
            [
             0,
             "#0d0887"
            ],
            [
             0.1111111111111111,
             "#46039f"
            ],
            [
             0.2222222222222222,
             "#7201a8"
            ],
            [
             0.3333333333333333,
             "#9c179e"
            ],
            [
             0.4444444444444444,
             "#bd3786"
            ],
            [
             0.5555555555555556,
             "#d8576b"
            ],
            [
             0.6666666666666666,
             "#ed7953"
            ],
            [
             0.7777777777777778,
             "#fb9f3a"
            ],
            [
             0.8888888888888888,
             "#fdca26"
            ],
            [
             1,
             "#f0f921"
            ]
           ],
           "sequentialminus": [
            [
             0,
             "#0d0887"
            ],
            [
             0.1111111111111111,
             "#46039f"
            ],
            [
             0.2222222222222222,
             "#7201a8"
            ],
            [
             0.3333333333333333,
             "#9c179e"
            ],
            [
             0.4444444444444444,
             "#bd3786"
            ],
            [
             0.5555555555555556,
             "#d8576b"
            ],
            [
             0.6666666666666666,
             "#ed7953"
            ],
            [
             0.7777777777777778,
             "#fb9f3a"
            ],
            [
             0.8888888888888888,
             "#fdca26"
            ],
            [
             1,
             "#f0f921"
            ]
           ]
          },
          "colorway": [
           "#636efa",
           "#EF553B",
           "#00cc96",
           "#ab63fa",
           "#FFA15A",
           "#19d3f3",
           "#FF6692",
           "#B6E880",
           "#FF97FF",
           "#FECB52"
          ],
          "font": {
           "color": "#2a3f5f"
          },
          "geo": {
           "bgcolor": "white",
           "lakecolor": "white",
           "landcolor": "#E5ECF6",
           "showlakes": true,
           "showland": true,
           "subunitcolor": "white"
          },
          "hoverlabel": {
           "align": "left"
          },
          "hovermode": "closest",
          "mapbox": {
           "style": "light"
          },
          "paper_bgcolor": "white",
          "plot_bgcolor": "#E5ECF6",
          "polar": {
           "angularaxis": {
            "gridcolor": "white",
            "linecolor": "white",
            "ticks": ""
           },
           "bgcolor": "#E5ECF6",
           "radialaxis": {
            "gridcolor": "white",
            "linecolor": "white",
            "ticks": ""
           }
          },
          "scene": {
           "xaxis": {
            "backgroundcolor": "#E5ECF6",
            "gridcolor": "white",
            "gridwidth": 2,
            "linecolor": "white",
            "showbackground": true,
            "ticks": "",
            "zerolinecolor": "white"
           },
           "yaxis": {
            "backgroundcolor": "#E5ECF6",
            "gridcolor": "white",
            "gridwidth": 2,
            "linecolor": "white",
            "showbackground": true,
            "ticks": "",
            "zerolinecolor": "white"
           },
           "zaxis": {
            "backgroundcolor": "#E5ECF6",
            "gridcolor": "white",
            "gridwidth": 2,
            "linecolor": "white",
            "showbackground": true,
            "ticks": "",
            "zerolinecolor": "white"
           }
          },
          "shapedefaults": {
           "line": {
            "color": "#2a3f5f"
           }
          },
          "ternary": {
           "aaxis": {
            "gridcolor": "white",
            "linecolor": "white",
            "ticks": ""
           },
           "baxis": {
            "gridcolor": "white",
            "linecolor": "white",
            "ticks": ""
           },
           "bgcolor": "#E5ECF6",
           "caxis": {
            "gridcolor": "white",
            "linecolor": "white",
            "ticks": ""
           }
          },
          "title": {
           "x": 0.05
          },
          "xaxis": {
           "automargin": true,
           "gridcolor": "white",
           "linecolor": "white",
           "ticks": "",
           "title": {
            "standoff": 15
           },
           "zerolinecolor": "white",
           "zerolinewidth": 2
          },
          "yaxis": {
           "automargin": true,
           "gridcolor": "white",
           "linecolor": "white",
           "ticks": "",
           "title": {
            "standoff": 15
           },
           "zerolinecolor": "white",
           "zerolinewidth": 2
          }
         }
        },
        "xaxis": {
         "anchor": "y",
         "domain": [
          0,
          1
         ],
         "title": {
          "text": "x"
         }
        },
        "yaxis": {
         "anchor": "x",
         "domain": [
          0,
          1
         ],
         "title": {
          "text": "y"
         }
        }
       }
      }
     },
     "metadata": {}
    }
   ],
   "source": [
    "px.bar(x=train['Product_Type'].value_counts().index,y=train['Product_Type'].value_counts())"
   ]
  },
  {
   "cell_type": "code",
   "execution_count": 8,
   "metadata": {},
   "outputs": [
    {
     "output_type": "display_data",
     "data": {
      "application/vnd.plotly.v1+json": {
       "config": {
        "plotlyServerURL": "https://plot.ly"
       },
       "data": [
        {
         "alignmentgroup": "True",
         "hovertemplate": "x=%{x}<br>y=%{y}<extra></extra>",
         "legendgroup": "",
         "marker": {
          "color": "#636efa"
         },
         "name": "",
         "offsetgroup": "",
         "orientation": "v",
         "showlegend": false,
         "textposition": "auto",
         "type": "bar",
         "x": [
          2,
          3,
          1,
          0
         ],
         "xaxis": "x",
         "y": [
          3765,
          2089,
          399,
          111
         ],
         "yaxis": "y"
        }
       ],
       "layout": {
        "barmode": "relative",
        "legend": {
         "tracegroupgap": 0
        },
        "margin": {
         "t": 60
        },
        "template": {
         "data": {
          "bar": [
           {
            "error_x": {
             "color": "#2a3f5f"
            },
            "error_y": {
             "color": "#2a3f5f"
            },
            "marker": {
             "line": {
              "color": "#E5ECF6",
              "width": 0.5
             }
            },
            "type": "bar"
           }
          ],
          "barpolar": [
           {
            "marker": {
             "line": {
              "color": "#E5ECF6",
              "width": 0.5
             }
            },
            "type": "barpolar"
           }
          ],
          "carpet": [
           {
            "aaxis": {
             "endlinecolor": "#2a3f5f",
             "gridcolor": "white",
             "linecolor": "white",
             "minorgridcolor": "white",
             "startlinecolor": "#2a3f5f"
            },
            "baxis": {
             "endlinecolor": "#2a3f5f",
             "gridcolor": "white",
             "linecolor": "white",
             "minorgridcolor": "white",
             "startlinecolor": "#2a3f5f"
            },
            "type": "carpet"
           }
          ],
          "choropleth": [
           {
            "colorbar": {
             "outlinewidth": 0,
             "ticks": ""
            },
            "type": "choropleth"
           }
          ],
          "contour": [
           {
            "colorbar": {
             "outlinewidth": 0,
             "ticks": ""
            },
            "colorscale": [
             [
              0,
              "#0d0887"
             ],
             [
              0.1111111111111111,
              "#46039f"
             ],
             [
              0.2222222222222222,
              "#7201a8"
             ],
             [
              0.3333333333333333,
              "#9c179e"
             ],
             [
              0.4444444444444444,
              "#bd3786"
             ],
             [
              0.5555555555555556,
              "#d8576b"
             ],
             [
              0.6666666666666666,
              "#ed7953"
             ],
             [
              0.7777777777777778,
              "#fb9f3a"
             ],
             [
              0.8888888888888888,
              "#fdca26"
             ],
             [
              1,
              "#f0f921"
             ]
            ],
            "type": "contour"
           }
          ],
          "contourcarpet": [
           {
            "colorbar": {
             "outlinewidth": 0,
             "ticks": ""
            },
            "type": "contourcarpet"
           }
          ],
          "heatmap": [
           {
            "colorbar": {
             "outlinewidth": 0,
             "ticks": ""
            },
            "colorscale": [
             [
              0,
              "#0d0887"
             ],
             [
              0.1111111111111111,
              "#46039f"
             ],
             [
              0.2222222222222222,
              "#7201a8"
             ],
             [
              0.3333333333333333,
              "#9c179e"
             ],
             [
              0.4444444444444444,
              "#bd3786"
             ],
             [
              0.5555555555555556,
              "#d8576b"
             ],
             [
              0.6666666666666666,
              "#ed7953"
             ],
             [
              0.7777777777777778,
              "#fb9f3a"
             ],
             [
              0.8888888888888888,
              "#fdca26"
             ],
             [
              1,
              "#f0f921"
             ]
            ],
            "type": "heatmap"
           }
          ],
          "heatmapgl": [
           {
            "colorbar": {
             "outlinewidth": 0,
             "ticks": ""
            },
            "colorscale": [
             [
              0,
              "#0d0887"
             ],
             [
              0.1111111111111111,
              "#46039f"
             ],
             [
              0.2222222222222222,
              "#7201a8"
             ],
             [
              0.3333333333333333,
              "#9c179e"
             ],
             [
              0.4444444444444444,
              "#bd3786"
             ],
             [
              0.5555555555555556,
              "#d8576b"
             ],
             [
              0.6666666666666666,
              "#ed7953"
             ],
             [
              0.7777777777777778,
              "#fb9f3a"
             ],
             [
              0.8888888888888888,
              "#fdca26"
             ],
             [
              1,
              "#f0f921"
             ]
            ],
            "type": "heatmapgl"
           }
          ],
          "histogram": [
           {
            "marker": {
             "colorbar": {
              "outlinewidth": 0,
              "ticks": ""
             }
            },
            "type": "histogram"
           }
          ],
          "histogram2d": [
           {
            "colorbar": {
             "outlinewidth": 0,
             "ticks": ""
            },
            "colorscale": [
             [
              0,
              "#0d0887"
             ],
             [
              0.1111111111111111,
              "#46039f"
             ],
             [
              0.2222222222222222,
              "#7201a8"
             ],
             [
              0.3333333333333333,
              "#9c179e"
             ],
             [
              0.4444444444444444,
              "#bd3786"
             ],
             [
              0.5555555555555556,
              "#d8576b"
             ],
             [
              0.6666666666666666,
              "#ed7953"
             ],
             [
              0.7777777777777778,
              "#fb9f3a"
             ],
             [
              0.8888888888888888,
              "#fdca26"
             ],
             [
              1,
              "#f0f921"
             ]
            ],
            "type": "histogram2d"
           }
          ],
          "histogram2dcontour": [
           {
            "colorbar": {
             "outlinewidth": 0,
             "ticks": ""
            },
            "colorscale": [
             [
              0,
              "#0d0887"
             ],
             [
              0.1111111111111111,
              "#46039f"
             ],
             [
              0.2222222222222222,
              "#7201a8"
             ],
             [
              0.3333333333333333,
              "#9c179e"
             ],
             [
              0.4444444444444444,
              "#bd3786"
             ],
             [
              0.5555555555555556,
              "#d8576b"
             ],
             [
              0.6666666666666666,
              "#ed7953"
             ],
             [
              0.7777777777777778,
              "#fb9f3a"
             ],
             [
              0.8888888888888888,
              "#fdca26"
             ],
             [
              1,
              "#f0f921"
             ]
            ],
            "type": "histogram2dcontour"
           }
          ],
          "mesh3d": [
           {
            "colorbar": {
             "outlinewidth": 0,
             "ticks": ""
            },
            "type": "mesh3d"
           }
          ],
          "parcoords": [
           {
            "line": {
             "colorbar": {
              "outlinewidth": 0,
              "ticks": ""
             }
            },
            "type": "parcoords"
           }
          ],
          "pie": [
           {
            "automargin": true,
            "type": "pie"
           }
          ],
          "scatter": [
           {
            "marker": {
             "colorbar": {
              "outlinewidth": 0,
              "ticks": ""
             }
            },
            "type": "scatter"
           }
          ],
          "scatter3d": [
           {
            "line": {
             "colorbar": {
              "outlinewidth": 0,
              "ticks": ""
             }
            },
            "marker": {
             "colorbar": {
              "outlinewidth": 0,
              "ticks": ""
             }
            },
            "type": "scatter3d"
           }
          ],
          "scattercarpet": [
           {
            "marker": {
             "colorbar": {
              "outlinewidth": 0,
              "ticks": ""
             }
            },
            "type": "scattercarpet"
           }
          ],
          "scattergeo": [
           {
            "marker": {
             "colorbar": {
              "outlinewidth": 0,
              "ticks": ""
             }
            },
            "type": "scattergeo"
           }
          ],
          "scattergl": [
           {
            "marker": {
             "colorbar": {
              "outlinewidth": 0,
              "ticks": ""
             }
            },
            "type": "scattergl"
           }
          ],
          "scattermapbox": [
           {
            "marker": {
             "colorbar": {
              "outlinewidth": 0,
              "ticks": ""
             }
            },
            "type": "scattermapbox"
           }
          ],
          "scatterpolar": [
           {
            "marker": {
             "colorbar": {
              "outlinewidth": 0,
              "ticks": ""
             }
            },
            "type": "scatterpolar"
           }
          ],
          "scatterpolargl": [
           {
            "marker": {
             "colorbar": {
              "outlinewidth": 0,
              "ticks": ""
             }
            },
            "type": "scatterpolargl"
           }
          ],
          "scatterternary": [
           {
            "marker": {
             "colorbar": {
              "outlinewidth": 0,
              "ticks": ""
             }
            },
            "type": "scatterternary"
           }
          ],
          "surface": [
           {
            "colorbar": {
             "outlinewidth": 0,
             "ticks": ""
            },
            "colorscale": [
             [
              0,
              "#0d0887"
             ],
             [
              0.1111111111111111,
              "#46039f"
             ],
             [
              0.2222222222222222,
              "#7201a8"
             ],
             [
              0.3333333333333333,
              "#9c179e"
             ],
             [
              0.4444444444444444,
              "#bd3786"
             ],
             [
              0.5555555555555556,
              "#d8576b"
             ],
             [
              0.6666666666666666,
              "#ed7953"
             ],
             [
              0.7777777777777778,
              "#fb9f3a"
             ],
             [
              0.8888888888888888,
              "#fdca26"
             ],
             [
              1,
              "#f0f921"
             ]
            ],
            "type": "surface"
           }
          ],
          "table": [
           {
            "cells": {
             "fill": {
              "color": "#EBF0F8"
             },
             "line": {
              "color": "white"
             }
            },
            "header": {
             "fill": {
              "color": "#C8D4E3"
             },
             "line": {
              "color": "white"
             }
            },
            "type": "table"
           }
          ]
         },
         "layout": {
          "annotationdefaults": {
           "arrowcolor": "#2a3f5f",
           "arrowhead": 0,
           "arrowwidth": 1
          },
          "coloraxis": {
           "colorbar": {
            "outlinewidth": 0,
            "ticks": ""
           }
          },
          "colorscale": {
           "diverging": [
            [
             0,
             "#8e0152"
            ],
            [
             0.1,
             "#c51b7d"
            ],
            [
             0.2,
             "#de77ae"
            ],
            [
             0.3,
             "#f1b6da"
            ],
            [
             0.4,
             "#fde0ef"
            ],
            [
             0.5,
             "#f7f7f7"
            ],
            [
             0.6,
             "#e6f5d0"
            ],
            [
             0.7,
             "#b8e186"
            ],
            [
             0.8,
             "#7fbc41"
            ],
            [
             0.9,
             "#4d9221"
            ],
            [
             1,
             "#276419"
            ]
           ],
           "sequential": [
            [
             0,
             "#0d0887"
            ],
            [
             0.1111111111111111,
             "#46039f"
            ],
            [
             0.2222222222222222,
             "#7201a8"
            ],
            [
             0.3333333333333333,
             "#9c179e"
            ],
            [
             0.4444444444444444,
             "#bd3786"
            ],
            [
             0.5555555555555556,
             "#d8576b"
            ],
            [
             0.6666666666666666,
             "#ed7953"
            ],
            [
             0.7777777777777778,
             "#fb9f3a"
            ],
            [
             0.8888888888888888,
             "#fdca26"
            ],
            [
             1,
             "#f0f921"
            ]
           ],
           "sequentialminus": [
            [
             0,
             "#0d0887"
            ],
            [
             0.1111111111111111,
             "#46039f"
            ],
            [
             0.2222222222222222,
             "#7201a8"
            ],
            [
             0.3333333333333333,
             "#9c179e"
            ],
            [
             0.4444444444444444,
             "#bd3786"
            ],
            [
             0.5555555555555556,
             "#d8576b"
            ],
            [
             0.6666666666666666,
             "#ed7953"
            ],
            [
             0.7777777777777778,
             "#fb9f3a"
            ],
            [
             0.8888888888888888,
             "#fdca26"
            ],
            [
             1,
             "#f0f921"
            ]
           ]
          },
          "colorway": [
           "#636efa",
           "#EF553B",
           "#00cc96",
           "#ab63fa",
           "#FFA15A",
           "#19d3f3",
           "#FF6692",
           "#B6E880",
           "#FF97FF",
           "#FECB52"
          ],
          "font": {
           "color": "#2a3f5f"
          },
          "geo": {
           "bgcolor": "white",
           "lakecolor": "white",
           "landcolor": "#E5ECF6",
           "showlakes": true,
           "showland": true,
           "subunitcolor": "white"
          },
          "hoverlabel": {
           "align": "left"
          },
          "hovermode": "closest",
          "mapbox": {
           "style": "light"
          },
          "paper_bgcolor": "white",
          "plot_bgcolor": "#E5ECF6",
          "polar": {
           "angularaxis": {
            "gridcolor": "white",
            "linecolor": "white",
            "ticks": ""
           },
           "bgcolor": "#E5ECF6",
           "radialaxis": {
            "gridcolor": "white",
            "linecolor": "white",
            "ticks": ""
           }
          },
          "scene": {
           "xaxis": {
            "backgroundcolor": "#E5ECF6",
            "gridcolor": "white",
            "gridwidth": 2,
            "linecolor": "white",
            "showbackground": true,
            "ticks": "",
            "zerolinecolor": "white"
           },
           "yaxis": {
            "backgroundcolor": "#E5ECF6",
            "gridcolor": "white",
            "gridwidth": 2,
            "linecolor": "white",
            "showbackground": true,
            "ticks": "",
            "zerolinecolor": "white"
           },
           "zaxis": {
            "backgroundcolor": "#E5ECF6",
            "gridcolor": "white",
            "gridwidth": 2,
            "linecolor": "white",
            "showbackground": true,
            "ticks": "",
            "zerolinecolor": "white"
           }
          },
          "shapedefaults": {
           "line": {
            "color": "#2a3f5f"
           }
          },
          "ternary": {
           "aaxis": {
            "gridcolor": "white",
            "linecolor": "white",
            "ticks": ""
           },
           "baxis": {
            "gridcolor": "white",
            "linecolor": "white",
            "ticks": ""
           },
           "bgcolor": "#E5ECF6",
           "caxis": {
            "gridcolor": "white",
            "linecolor": "white",
            "ticks": ""
           }
          },
          "title": {
           "x": 0.05
          },
          "xaxis": {
           "automargin": true,
           "gridcolor": "white",
           "linecolor": "white",
           "ticks": "",
           "title": {
            "standoff": 15
           },
           "zerolinecolor": "white",
           "zerolinewidth": 2
          },
          "yaxis": {
           "automargin": true,
           "gridcolor": "white",
           "linecolor": "white",
           "ticks": "",
           "title": {
            "standoff": 15
           },
           "zerolinecolor": "white",
           "zerolinewidth": 2
          }
         }
        },
        "xaxis": {
         "anchor": "y",
         "domain": [
          0,
          1
         ],
         "title": {
          "text": "x"
         }
        },
        "yaxis": {
         "anchor": "x",
         "domain": [
          0,
          1
         ],
         "title": {
          "text": "y"
         }
        }
       }
      }
     },
     "metadata": {}
    }
   ],
   "source": [
    "px.bar(x=train['Sentiment'].value_counts().index,y=train['Sentiment'].value_counts())"
   ]
  },
  {
   "cell_type": "code",
   "execution_count": 5,
   "metadata": {},
   "outputs": [],
   "source": [
    "def clean(text):\n",
    "    stop=set(stopwords.words('english'))\n",
    "    s=[]\n",
    "    for w in text.split():\n",
    "        if w.lower() not in stop:\n",
    "            s.append(w)\n",
    "    s=' '.join([word for word in s])\n",
    "    url=re.compile(r'https?://\\S+|www\\.\\S+')\n",
    "    k=url.sub(r'',s)\n",
    "    html=re.compile(r'<.*?>')\n",
    "    k=html.sub(r'',k)\n",
    "    emoji_pattern = re.compile(\"[\"\n",
    "                           u\"\\U0001F600-\\U0001F64F\"  # emoticons\n",
    "                           u\"\\U0001F300-\\U0001F5FF\"  # symbols & pictographs\n",
    "                           u\"\\U0001F680-\\U0001F6FF\"  # transport & map symbols\n",
    "                           u\"\\U0001F1E0-\\U0001F1FF\"  # flags (iOS)\n",
    "                           u\"\\U00002702-\\U000027B0\"\n",
    "                           u\"\\U000024C2-\\U0001F251\"\n",
    "                           \"]+\", flags=re.UNICODE)\n",
    "    k=emoji_pattern.sub(r'',k)\n",
    "    table=str.maketrans('','',string.punctuation)\n",
    "    k=k.translate(table)\n",
    "    return k.lower()"
   ]
  },
  {
   "cell_type": "code",
   "execution_count": 6,
   "metadata": {},
   "outputs": [],
   "source": [
    "train['Product_Description']=train['Product_Description'].apply(clean)\n",
    "test['Product_Description']=test['Product_Description'].apply(clean)"
   ]
  },
  {
   "cell_type": "code",
   "execution_count": 7,
   "metadata": {},
   "outputs": [],
   "source": [
    "train.drop(['Text_ID'],axis=1,inplace=True)\n",
    "test.drop(['Text_ID'],axis=1,inplace=True)"
   ]
  },
  {
   "cell_type": "code",
   "execution_count": 8,
   "metadata": {},
   "outputs": [
    {
     "output_type": "execute_result",
     "data": {
      "text/plain": "                                    Product_Description  Product_Type  \\\n0     web designerûªs guide ios and android apps to...             9   \n1     rt mention line ipad 2 longer today yesterday ...             9   \n2     crazy apple opening temporary store austin tom...             9   \n3     lesson google one pass digital environment use...             9   \n4     rt mention panel quotyour mom ipad designing b...             9   \n...                                                 ...           ...   \n6359  thanks mention hosting event sxsw sxswi iwanta...             9   \n6360  sxsw iphone app awesome ipad app crashes every...             7   \n6361  rt mention rt mention download 20 free tracks ...             9   \n6362  oh texas social media awards you need ask moth...             9   \n6363  google launching quotmajorquot new social netw...             9   \n\n      Sentiment  \n0             2  \n1             2  \n2             2  \n3             2  \n4             2  \n...         ...  \n6359          2  \n6360          1  \n6361          2  \n6362          2  \n6363          2  \n\n[6364 rows x 3 columns]",
      "text/html": "<div>\n<style scoped>\n    .dataframe tbody tr th:only-of-type {\n        vertical-align: middle;\n    }\n\n    .dataframe tbody tr th {\n        vertical-align: top;\n    }\n\n    .dataframe thead th {\n        text-align: right;\n    }\n</style>\n<table border=\"1\" class=\"dataframe\">\n  <thead>\n    <tr style=\"text-align: right;\">\n      <th></th>\n      <th>Product_Description</th>\n      <th>Product_Type</th>\n      <th>Sentiment</th>\n    </tr>\n  </thead>\n  <tbody>\n    <tr>\n      <th>0</th>\n      <td>web designerûªs guide ios and android apps to...</td>\n      <td>9</td>\n      <td>2</td>\n    </tr>\n    <tr>\n      <th>1</th>\n      <td>rt mention line ipad 2 longer today yesterday ...</td>\n      <td>9</td>\n      <td>2</td>\n    </tr>\n    <tr>\n      <th>2</th>\n      <td>crazy apple opening temporary store austin tom...</td>\n      <td>9</td>\n      <td>2</td>\n    </tr>\n    <tr>\n      <th>3</th>\n      <td>lesson google one pass digital environment use...</td>\n      <td>9</td>\n      <td>2</td>\n    </tr>\n    <tr>\n      <th>4</th>\n      <td>rt mention panel quotyour mom ipad designing b...</td>\n      <td>9</td>\n      <td>2</td>\n    </tr>\n    <tr>\n      <th>...</th>\n      <td>...</td>\n      <td>...</td>\n      <td>...</td>\n    </tr>\n    <tr>\n      <th>6359</th>\n      <td>thanks mention hosting event sxsw sxswi iwanta...</td>\n      <td>9</td>\n      <td>2</td>\n    </tr>\n    <tr>\n      <th>6360</th>\n      <td>sxsw iphone app awesome ipad app crashes every...</td>\n      <td>7</td>\n      <td>1</td>\n    </tr>\n    <tr>\n      <th>6361</th>\n      <td>rt mention rt mention download 20 free tracks ...</td>\n      <td>9</td>\n      <td>2</td>\n    </tr>\n    <tr>\n      <th>6362</th>\n      <td>oh texas social media awards you need ask moth...</td>\n      <td>9</td>\n      <td>2</td>\n    </tr>\n    <tr>\n      <th>6363</th>\n      <td>google launching quotmajorquot new social netw...</td>\n      <td>9</td>\n      <td>2</td>\n    </tr>\n  </tbody>\n</table>\n<p>6364 rows × 3 columns</p>\n</div>"
     },
     "metadata": {},
     "execution_count": 8
    }
   ],
   "source": [
    "train"
   ]
  },
  {
   "cell_type": "code",
   "execution_count": 9,
   "metadata": {},
   "outputs": [],
   "source": [
    "from sklearn.feature_extraction.text import TfidfVectorizer\n",
    "from sklearn.svm import LinearSVC"
   ]
  },
  {
   "cell_type": "code",
   "execution_count": 10,
   "metadata": {},
   "outputs": [
    {
     "output_type": "execute_result",
     "data": {
      "text/plain": "                                    Product_Description  Product_Type  \\\n0     web designerûªs guide ios android apps today ...             9   \n1     rt mention line ipad 2 longer today yesterday ...             9   \n2     crazy apple opening temporary store austin tom...             9   \n3     lesson google one pass digital environment use...             9   \n4     rt mention panel quotyour mom ipad designing b...             9   \n...                                                 ...           ...   \n6359  thanks mention hosting event sxsw sxswi iwanta...             9   \n6360  sxsw iphone app awesome ipad app crashes every...             7   \n6361  rt mention rt mention download 20 free tracks ...             9   \n6362  oh texas social media awards need ask mother a...             9   \n6363  google launching quotmajorquot new social netw...             9   \n\n      Sentiment  \n0             2  \n1             2  \n2             2  \n3             2  \n4             2  \n...         ...  \n6359          2  \n6360          1  \n6361          2  \n6362          2  \n6363          2  \n\n[6364 rows x 3 columns]",
      "text/html": "<div>\n<style scoped>\n    .dataframe tbody tr th:only-of-type {\n        vertical-align: middle;\n    }\n\n    .dataframe tbody tr th {\n        vertical-align: top;\n    }\n\n    .dataframe thead th {\n        text-align: right;\n    }\n</style>\n<table border=\"1\" class=\"dataframe\">\n  <thead>\n    <tr style=\"text-align: right;\">\n      <th></th>\n      <th>Product_Description</th>\n      <th>Product_Type</th>\n      <th>Sentiment</th>\n    </tr>\n  </thead>\n  <tbody>\n    <tr>\n      <th>0</th>\n      <td>web designerûªs guide ios android apps today ...</td>\n      <td>9</td>\n      <td>2</td>\n    </tr>\n    <tr>\n      <th>1</th>\n      <td>rt mention line ipad 2 longer today yesterday ...</td>\n      <td>9</td>\n      <td>2</td>\n    </tr>\n    <tr>\n      <th>2</th>\n      <td>crazy apple opening temporary store austin tom...</td>\n      <td>9</td>\n      <td>2</td>\n    </tr>\n    <tr>\n      <th>3</th>\n      <td>lesson google one pass digital environment use...</td>\n      <td>9</td>\n      <td>2</td>\n    </tr>\n    <tr>\n      <th>4</th>\n      <td>rt mention panel quotyour mom ipad designing b...</td>\n      <td>9</td>\n      <td>2</td>\n    </tr>\n    <tr>\n      <th>...</th>\n      <td>...</td>\n      <td>...</td>\n      <td>...</td>\n    </tr>\n    <tr>\n      <th>6359</th>\n      <td>thanks mention hosting event sxsw sxswi iwanta...</td>\n      <td>9</td>\n      <td>2</td>\n    </tr>\n    <tr>\n      <th>6360</th>\n      <td>sxsw iphone app awesome ipad app crashes every...</td>\n      <td>7</td>\n      <td>1</td>\n    </tr>\n    <tr>\n      <th>6361</th>\n      <td>rt mention rt mention download 20 free tracks ...</td>\n      <td>9</td>\n      <td>2</td>\n    </tr>\n    <tr>\n      <th>6362</th>\n      <td>oh texas social media awards need ask mother a...</td>\n      <td>9</td>\n      <td>2</td>\n    </tr>\n    <tr>\n      <th>6363</th>\n      <td>google launching quotmajorquot new social netw...</td>\n      <td>9</td>\n      <td>2</td>\n    </tr>\n  </tbody>\n</table>\n<p>6364 rows × 3 columns</p>\n</div>"
     },
     "metadata": {},
     "execution_count": 10
    }
   ],
   "source": [
    "train"
   ]
  },
  {
   "cell_type": "code",
   "execution_count": 11,
   "metadata": {},
   "outputs": [],
   "source": [
    "X=train.drop(['Sentiment','Product_Type'],axis=1)\n",
    "y=train['Sentiment']"
   ]
  },
  {
   "cell_type": "code",
   "execution_count": 12,
   "metadata": {},
   "outputs": [
    {
     "output_type": "execute_result",
     "data": {
      "text/plain": "                                    Product_Description\n0     web designerûªs guide ios android apps today ...\n1     rt mention line ipad 2 longer today yesterday ...\n2     crazy apple opening temporary store austin tom...\n3     lesson google one pass digital environment use...\n4     rt mention panel quotyour mom ipad designing b...\n...                                                 ...\n6359  thanks mention hosting event sxsw sxswi iwanta...\n6360  sxsw iphone app awesome ipad app crashes every...\n6361  rt mention rt mention download 20 free tracks ...\n6362  oh texas social media awards need ask mother a...\n6363  google launching quotmajorquot new social netw...\n\n[6364 rows x 1 columns]",
      "text/html": "<div>\n<style scoped>\n    .dataframe tbody tr th:only-of-type {\n        vertical-align: middle;\n    }\n\n    .dataframe tbody tr th {\n        vertical-align: top;\n    }\n\n    .dataframe thead th {\n        text-align: right;\n    }\n</style>\n<table border=\"1\" class=\"dataframe\">\n  <thead>\n    <tr style=\"text-align: right;\">\n      <th></th>\n      <th>Product_Description</th>\n    </tr>\n  </thead>\n  <tbody>\n    <tr>\n      <th>0</th>\n      <td>web designerûªs guide ios android apps today ...</td>\n    </tr>\n    <tr>\n      <th>1</th>\n      <td>rt mention line ipad 2 longer today yesterday ...</td>\n    </tr>\n    <tr>\n      <th>2</th>\n      <td>crazy apple opening temporary store austin tom...</td>\n    </tr>\n    <tr>\n      <th>3</th>\n      <td>lesson google one pass digital environment use...</td>\n    </tr>\n    <tr>\n      <th>4</th>\n      <td>rt mention panel quotyour mom ipad designing b...</td>\n    </tr>\n    <tr>\n      <th>...</th>\n      <td>...</td>\n    </tr>\n    <tr>\n      <th>6359</th>\n      <td>thanks mention hosting event sxsw sxswi iwanta...</td>\n    </tr>\n    <tr>\n      <th>6360</th>\n      <td>sxsw iphone app awesome ipad app crashes every...</td>\n    </tr>\n    <tr>\n      <th>6361</th>\n      <td>rt mention rt mention download 20 free tracks ...</td>\n    </tr>\n    <tr>\n      <th>6362</th>\n      <td>oh texas social media awards need ask mother a...</td>\n    </tr>\n    <tr>\n      <th>6363</th>\n      <td>google launching quotmajorquot new social netw...</td>\n    </tr>\n  </tbody>\n</table>\n<p>6364 rows × 1 columns</p>\n</div>"
     },
     "metadata": {},
     "execution_count": 12
    }
   ],
   "source": [
    "X"
   ]
  },
  {
   "cell_type": "code",
   "execution_count": 10,
   "metadata": {},
   "outputs": [],
   "source": [
    "from sklearn.model_selection import GridSearchCV,StratifiedKFold\n",
    "from sklearn.pipeline import make_pipeline\n",
    "from sklearn.preprocessing import OneHotEncoder,LabelEncoder\n",
    "from sklearn.compose import ColumnTransformer\n",
    "from lightgbm import LGBMClassifier\n",
    "from sklearn import metrics\n",
    "from xgboost import XGBClassifier\n",
    "from catboost import CatBoostClassifier"
   ]
  },
  {
   "cell_type": "code",
   "execution_count": 152,
   "metadata": {},
   "outputs": [],
   "source": [
    "fold=StratifiedKFold(n_splits=5)"
   ]
  },
  {
   "cell_type": "code",
   "execution_count": 29,
   "metadata": {},
   "outputs": [],
   "source": [
    "preprocess = ColumnTransformer(\n",
    "    [('description_tfidf', TfidfVectorizer(ngram_range=(1,3)), 'Product_Description')],\n",
    "    remainder='passthrough')"
   ]
  },
  {
   "cell_type": "code",
   "execution_count": 30,
   "metadata": {
    "tags": [
     "outputPrepend"
    ]
   },
   "outputs": [
    {
     "output_type": "stream",
     "name": "stdout",
     "text": " 37s\tremaining: 36m 59s\n93:\tlearn: 0.4517971\ttotal: 16m 48s\tremaining: 36m 50s\n94:\tlearn: 0.4510412\ttotal: 16m 59s\tremaining: 36m 40s\n95:\tlearn: 0.4505870\ttotal: 17m 11s\tremaining: 36m 31s\n96:\tlearn: 0.4499382\ttotal: 17m 22s\tremaining: 36m 21s\n97:\tlearn: 0.4495749\ttotal: 17m 33s\tremaining: 36m 11s\n98:\tlearn: 0.4488764\ttotal: 17m 44s\tremaining: 36m 2s\n99:\tlearn: 0.4484308\ttotal: 17m 56s\tremaining: 35m 52s\n100:\tlearn: 0.4480092\ttotal: 18m 7s\tremaining: 35m 41s\n101:\tlearn: 0.4476013\ttotal: 18m 17s\tremaining: 35m 29s\n102:\tlearn: 0.4471884\ttotal: 18m 28s\tremaining: 35m 19s\n103:\tlearn: 0.4468858\ttotal: 18m 38s\tremaining: 35m 7s\n104:\tlearn: 0.4461816\ttotal: 18m 49s\tremaining: 34m 58s\n105:\tlearn: 0.4457643\ttotal: 19m 3s\tremaining: 34m 53s\n106:\tlearn: 0.4449725\ttotal: 19m 19s\tremaining: 34m 50s\n107:\tlearn: 0.4446856\ttotal: 19m 31s\tremaining: 34m 43s\n108:\tlearn: 0.4443240\ttotal: 19m 43s\tremaining: 34m 34s\n109:\tlearn: 0.4440363\ttotal: 19m 56s\tremaining: 34m 26s\n110:\tlearn: 0.4437427\ttotal: 20m 11s\tremaining: 34m 22s\n111:\tlearn: 0.4435429\ttotal: 20m 25s\tremaining: 34m 16s\n112:\tlearn: 0.4432903\ttotal: 20m 38s\tremaining: 34m 9s\n113:\tlearn: 0.4429071\ttotal: 20m 52s\tremaining: 34m 2s\n114:\tlearn: 0.4426219\ttotal: 21m 5s\tremaining: 33m 56s\n115:\tlearn: 0.4424064\ttotal: 21m 18s\tremaining: 33m 47s\n116:\tlearn: 0.4421853\ttotal: 21m 29s\tremaining: 33m 36s\n117:\tlearn: 0.4416835\ttotal: 21m 41s\tremaining: 33m 27s\n118:\tlearn: 0.4415091\ttotal: 21m 52s\tremaining: 33m 16s\n119:\tlearn: 0.4412223\ttotal: 22m 6s\tremaining: 33m 9s\n120:\tlearn: 0.4410263\ttotal: 22m 17s\tremaining: 32m 58s\n121:\tlearn: 0.4407400\ttotal: 22m 29s\tremaining: 32m 49s\n122:\tlearn: 0.4404875\ttotal: 22m 41s\tremaining: 32m 39s\n123:\tlearn: 0.4402622\ttotal: 22m 55s\tremaining: 32m 32s\n124:\tlearn: 0.4400811\ttotal: 23m 7s\tremaining: 32m 23s\n125:\tlearn: 0.4398460\ttotal: 23m 20s\tremaining: 32m 14s\n126:\tlearn: 0.4396742\ttotal: 23m 34s\tremaining: 32m 7s\n127:\tlearn: 0.4394132\ttotal: 23m 47s\tremaining: 31m 57s\n128:\tlearn: 0.4388501\ttotal: 24m 1s\tremaining: 31m 50s\n129:\tlearn: 0.4386632\ttotal: 24m 12s\tremaining: 31m 38s\n130:\tlearn: 0.4381636\ttotal: 24m 23s\tremaining: 31m 28s\n131:\tlearn: 0.4378924\ttotal: 24m 36s\tremaining: 31m 19s\n132:\tlearn: 0.4375655\ttotal: 24m 47s\tremaining: 31m 7s\n133:\tlearn: 0.4374522\ttotal: 24m 58s\tremaining: 30m 56s\n134:\tlearn: 0.4372420\ttotal: 25m 10s\tremaining: 30m 46s\n135:\tlearn: 0.4370027\ttotal: 25m 22s\tremaining: 30m 36s\n136:\tlearn: 0.4365552\ttotal: 25m 36s\tremaining: 30m 27s\n137:\tlearn: 0.4364645\ttotal: 25m 48s\tremaining: 30m 18s\n138:\tlearn: 0.4362193\ttotal: 26m 2s\tremaining: 30m 10s\n139:\tlearn: 0.4357004\ttotal: 26m 16s\tremaining: 30m 2s\n140:\tlearn: 0.4355123\ttotal: 26m 30s\tremaining: 29m 53s\n141:\tlearn: 0.4353896\ttotal: 26m 42s\tremaining: 29m 43s\n142:\tlearn: 0.4351875\ttotal: 26m 56s\tremaining: 29m 35s\n143:\tlearn: 0.4350151\ttotal: 27m 9s\tremaining: 29m 24s\n144:\tlearn: 0.4348720\ttotal: 27m 21s\tremaining: 29m 15s\n145:\tlearn: 0.4347600\ttotal: 27m 33s\tremaining: 29m 4s\n146:\tlearn: 0.4346335\ttotal: 27m 47s\tremaining: 28m 56s\n147:\tlearn: 0.4344666\ttotal: 28m 1s\tremaining: 28m 47s\n148:\tlearn: 0.4343460\ttotal: 28m 13s\tremaining: 28m 36s\n149:\tlearn: 0.4340388\ttotal: 28m 26s\tremaining: 28m 26s\n150:\tlearn: 0.4339182\ttotal: 28m 37s\tremaining: 28m 14s\n151:\tlearn: 0.4336684\ttotal: 28m 49s\tremaining: 28m 4s\n152:\tlearn: 0.4334178\ttotal: 29m 2s\tremaining: 27m 54s\n153:\tlearn: 0.4331022\ttotal: 29m 16s\tremaining: 27m 45s\n154:\tlearn: 0.4329434\ttotal: 29m 28s\tremaining: 27m 34s\n155:\tlearn: 0.4328229\ttotal: 29m 42s\tremaining: 27m 25s\n156:\tlearn: 0.4325190\ttotal: 29m 57s\tremaining: 27m 17s\n157:\tlearn: 0.4321905\ttotal: 30m 10s\tremaining: 27m 6s\n158:\tlearn: 0.4317091\ttotal: 30m 22s\tremaining: 26m 56s\n159:\tlearn: 0.4316090\ttotal: 30m 35s\tremaining: 26m 46s\n160:\tlearn: 0.4314502\ttotal: 30m 51s\tremaining: 26m 38s\n161:\tlearn: 0.4312584\ttotal: 31m 4s\tremaining: 26m 28s\n162:\tlearn: 0.4311682\ttotal: 31m 16s\tremaining: 26m 17s\n163:\tlearn: 0.4309195\ttotal: 31m 30s\tremaining: 26m 7s\n164:\tlearn: 0.4306431\ttotal: 31m 43s\tremaining: 25m 57s\n165:\tlearn: 0.4304577\ttotal: 31m 56s\tremaining: 25m 47s\n166:\tlearn: 0.4299774\ttotal: 32m 9s\tremaining: 25m 36s\n167:\tlearn: 0.4298321\ttotal: 32m 22s\tremaining: 25m 25s\n168:\tlearn: 0.4293409\ttotal: 32m 33s\tremaining: 25m 14s\n169:\tlearn: 0.4291525\ttotal: 32m 45s\tremaining: 25m 3s\n170:\tlearn: 0.4290195\ttotal: 32m 57s\tremaining: 24m 51s\n171:\tlearn: 0.4288737\ttotal: 33m 9s\tremaining: 24m 40s\n172:\tlearn: 0.4287086\ttotal: 33m 23s\tremaining: 24m 30s\n173:\tlearn: 0.4286146\ttotal: 33m 36s\tremaining: 24m 19s\n174:\tlearn: 0.4285399\ttotal: 33m 46s\tremaining: 24m 7s\n175:\tlearn: 0.4281856\ttotal: 33m 56s\tremaining: 23m 55s\n176:\tlearn: 0.4280544\ttotal: 34m 9s\tremaining: 23m 43s\n177:\tlearn: 0.4279408\ttotal: 34m 19s\tremaining: 23m 31s\n178:\tlearn: 0.4278708\ttotal: 34m 29s\tremaining: 23m 18s\n179:\tlearn: 0.4274964\ttotal: 34m 40s\tremaining: 23m 6s\n180:\tlearn: 0.4273285\ttotal: 34m 54s\tremaining: 22m 57s\n181:\tlearn: 0.4271883\ttotal: 35m 9s\tremaining: 22m 47s\n182:\tlearn: 0.4267969\ttotal: 35m 24s\tremaining: 22m 38s\n183:\tlearn: 0.4265365\ttotal: 35m 37s\tremaining: 22m 27s\n184:\tlearn: 0.4263996\ttotal: 35m 48s\tremaining: 22m 15s\n185:\tlearn: 0.4262637\ttotal: 36m\tremaining: 22m 4s\n186:\tlearn: 0.4261413\ttotal: 36m 14s\tremaining: 21m 54s\n187:\tlearn: 0.4260294\ttotal: 36m 26s\tremaining: 21m 42s\n188:\tlearn: 0.4258925\ttotal: 36m 37s\tremaining: 21m 30s\n189:\tlearn: 0.4257865\ttotal: 36m 51s\tremaining: 21m 20s\n190:\tlearn: 0.4254823\ttotal: 37m 2s\tremaining: 21m 8s\n191:\tlearn: 0.4252792\ttotal: 37m 13s\tremaining: 20m 56s\n192:\tlearn: 0.4251103\ttotal: 37m 24s\tremaining: 20m 44s\n193:\tlearn: 0.4245305\ttotal: 37m 35s\tremaining: 20m 32s\n194:\tlearn: 0.4243623\ttotal: 37m 46s\tremaining: 20m 20s\n195:\tlearn: 0.4242147\ttotal: 37m 56s\tremaining: 20m 8s\n196:\tlearn: 0.4240629\ttotal: 38m 6s\tremaining: 19m 55s\n197:\tlearn: 0.4239630\ttotal: 38m 17s\tremaining: 19m 43s\n198:\tlearn: 0.4237860\ttotal: 38m 28s\tremaining: 19m 31s\n199:\tlearn: 0.4235965\ttotal: 38m 39s\tremaining: 19m 19s\n200:\tlearn: 0.4232534\ttotal: 38m 50s\tremaining: 19m 7s\n201:\tlearn: 0.4231460\ttotal: 39m 1s\tremaining: 18m 55s\n202:\tlearn: 0.4230363\ttotal: 39m 11s\tremaining: 18m 43s\n203:\tlearn: 0.4229459\ttotal: 39m 23s\tremaining: 18m 32s\n204:\tlearn: 0.4228165\ttotal: 39m 34s\tremaining: 18m 20s\n205:\tlearn: 0.4227218\ttotal: 39m 45s\tremaining: 18m 8s\n206:\tlearn: 0.4223821\ttotal: 39m 55s\tremaining: 17m 56s\n207:\tlearn: 0.4222064\ttotal: 40m 5s\tremaining: 17m 44s\n208:\tlearn: 0.4220193\ttotal: 40m 15s\tremaining: 17m 31s\n209:\tlearn: 0.4218866\ttotal: 40m 25s\tremaining: 17m 19s\n210:\tlearn: 0.4217265\ttotal: 40m 37s\tremaining: 17m 7s\n211:\tlearn: 0.4215842\ttotal: 40m 46s\tremaining: 16m 55s\n212:\tlearn: 0.4214760\ttotal: 40m 57s\tremaining: 16m 43s\n213:\tlearn: 0.4212992\ttotal: 41m 7s\tremaining: 16m 31s\n214:\tlearn: 0.4211584\ttotal: 41m 16s\tremaining: 16m 19s\n215:\tlearn: 0.4210001\ttotal: 41m 26s\tremaining: 16m 6s\n216:\tlearn: 0.4208540\ttotal: 41m 35s\tremaining: 15m 54s\n217:\tlearn: 0.4206502\ttotal: 41m 45s\tremaining: 15m 42s\n218:\tlearn: 0.4204667\ttotal: 41m 54s\tremaining: 15m 30s\n219:\tlearn: 0.4203362\ttotal: 42m 3s\tremaining: 15m 17s\n220:\tlearn: 0.4201149\ttotal: 42m 12s\tremaining: 15m 5s\n221:\tlearn: 0.4200067\ttotal: 42m 21s\tremaining: 14m 53s\n222:\tlearn: 0.4198893\ttotal: 42m 30s\tremaining: 14m 40s\n223:\tlearn: 0.4197532\ttotal: 42m 39s\tremaining: 14m 28s\n224:\tlearn: 0.4195445\ttotal: 42m 48s\tremaining: 14m 16s\n225:\tlearn: 0.4193237\ttotal: 42m 58s\tremaining: 14m 4s\n226:\tlearn: 0.4192168\ttotal: 43m 8s\tremaining: 13m 52s\n227:\tlearn: 0.4190425\ttotal: 43m 18s\tremaining: 13m 40s\n228:\tlearn: 0.4188984\ttotal: 43m 29s\tremaining: 13m 28s\n229:\tlearn: 0.4187654\ttotal: 43m 39s\tremaining: 13m 17s\n230:\tlearn: 0.4186149\ttotal: 43m 49s\tremaining: 13m 5s\n231:\tlearn: 0.4182716\ttotal: 43m 59s\tremaining: 12m 53s\n232:\tlearn: 0.4181607\ttotal: 44m 10s\tremaining: 12m 42s\n233:\tlearn: 0.4180512\ttotal: 44m 20s\tremaining: 12m 30s\n234:\tlearn: 0.4179182\ttotal: 44m 30s\tremaining: 12m 18s\n235:\tlearn: 0.4178183\ttotal: 44m 40s\tremaining: 12m 6s\n236:\tlearn: 0.4175587\ttotal: 44m 50s\tremaining: 11m 55s\n237:\tlearn: 0.4173672\ttotal: 45m\tremaining: 11m 43s\n238:\tlearn: 0.4172194\ttotal: 45m 10s\tremaining: 11m 31s\n239:\tlearn: 0.4168094\ttotal: 45m 20s\tremaining: 11m 20s\n240:\tlearn: 0.4167209\ttotal: 45m 29s\tremaining: 11m 8s\n241:\tlearn: 0.4165079\ttotal: 45m 38s\tremaining: 10m 56s\n242:\tlearn: 0.4162575\ttotal: 45m 48s\tremaining: 10m 44s\n243:\tlearn: 0.4158359\ttotal: 45m 58s\tremaining: 10m 33s\n244:\tlearn: 0.4156837\ttotal: 46m 9s\tremaining: 10m 21s\n245:\tlearn: 0.4155576\ttotal: 46m 21s\tremaining: 10m 10s\n246:\tlearn: 0.4153845\ttotal: 46m 34s\tremaining: 9m 59s\n247:\tlearn: 0.4149837\ttotal: 46m 46s\tremaining: 9m 48s\n248:\tlearn: 0.4147158\ttotal: 46m 57s\tremaining: 9m 37s\n249:\tlearn: 0.4145928\ttotal: 47m 9s\tremaining: 9m 25s\n250:\tlearn: 0.4144730\ttotal: 47m 21s\tremaining: 9m 14s\n251:\tlearn: 0.4143431\ttotal: 47m 35s\tremaining: 9m 3s\n252:\tlearn: 0.4142208\ttotal: 47m 47s\tremaining: 8m 52s\n253:\tlearn: 0.4139985\ttotal: 47m 59s\tremaining: 8m 41s\n254:\tlearn: 0.4138322\ttotal: 48m 12s\tremaining: 8m 30s\n255:\tlearn: 0.4137183\ttotal: 48m 26s\tremaining: 8m 19s\n256:\tlearn: 0.4135894\ttotal: 48m 40s\tremaining: 8m 8s\n257:\tlearn: 0.4134796\ttotal: 48m 52s\tremaining: 7m 57s\n258:\tlearn: 0.4133701\ttotal: 49m 4s\tremaining: 7m 46s\n259:\tlearn: 0.4132047\ttotal: 49m 15s\tremaining: 7m 34s\n260:\tlearn: 0.4130587\ttotal: 49m 26s\tremaining: 7m 23s\n261:\tlearn: 0.4128770\ttotal: 49m 36s\tremaining: 7m 11s\n262:\tlearn: 0.4127291\ttotal: 49m 47s\tremaining: 7m\n263:\tlearn: 0.4124774\ttotal: 49m 57s\tremaining: 6m 48s\n264:\tlearn: 0.4123587\ttotal: 50m 7s\tremaining: 6m 37s\n265:\tlearn: 0.4122240\ttotal: 50m 18s\tremaining: 6m 25s\n266:\tlearn: 0.4120941\ttotal: 50m 30s\tremaining: 6m 14s\n267:\tlearn: 0.4118094\ttotal: 50m 41s\tremaining: 6m 3s\n268:\tlearn: 0.4115241\ttotal: 50m 52s\tremaining: 5m 51s\n269:\tlearn: 0.4114086\ttotal: 51m 4s\tremaining: 5m 40s\n270:\tlearn: 0.4113151\ttotal: 51m 15s\tremaining: 5m 29s\n271:\tlearn: 0.4111839\ttotal: 51m 25s\tremaining: 5m 17s\n272:\tlearn: 0.4110181\ttotal: 51m 36s\tremaining: 5m 6s\n273:\tlearn: 0.4109151\ttotal: 51m 46s\tremaining: 4m 54s\n274:\tlearn: 0.4108269\ttotal: 51m 57s\tremaining: 4m 43s\n275:\tlearn: 0.4105939\ttotal: 52m 11s\tremaining: 4m 32s\n276:\tlearn: 0.4104051\ttotal: 52m 21s\tremaining: 4m 20s\n277:\tlearn: 0.4102811\ttotal: 52m 32s\tremaining: 4m 9s\n278:\tlearn: 0.4100864\ttotal: 52m 42s\tremaining: 3m 58s\n279:\tlearn: 0.4099345\ttotal: 52m 52s\tremaining: 3m 46s\n280:\tlearn: 0.4097610\ttotal: 53m 2s\tremaining: 3m 35s\n281:\tlearn: 0.4095079\ttotal: 53m 13s\tremaining: 3m 23s\n282:\tlearn: 0.4094020\ttotal: 53m 23s\tremaining: 3m 12s\n283:\tlearn: 0.4088572\ttotal: 53m 34s\tremaining: 3m 1s\n284:\tlearn: 0.4086164\ttotal: 53m 45s\tremaining: 2m 49s\n285:\tlearn: 0.4084233\ttotal: 53m 54s\tremaining: 2m 38s\n286:\tlearn: 0.4081940\ttotal: 54m 4s\tremaining: 2m 26s\n287:\tlearn: 0.4079606\ttotal: 54m 13s\tremaining: 2m 15s\n288:\tlearn: 0.4078141\ttotal: 54m 22s\tremaining: 2m 4s\n289:\tlearn: 0.4075851\ttotal: 54m 32s\tremaining: 1m 52s\n290:\tlearn: 0.4073568\ttotal: 54m 41s\tremaining: 1m 41s\n291:\tlearn: 0.4072011\ttotal: 54m 51s\tremaining: 1m 30s\n292:\tlearn: 0.4070957\ttotal: 55m 1s\tremaining: 1m 18s\n293:\tlearn: 0.4069377\ttotal: 55m 11s\tremaining: 1m 7s\n294:\tlearn: 0.4067493\ttotal: 55m 21s\tremaining: 56.3s\n295:\tlearn: 0.4065609\ttotal: 55m 31s\tremaining: 45s\n296:\tlearn: 0.4063995\ttotal: 55m 41s\tremaining: 33.8s\n297:\tlearn: 0.4062470\ttotal: 55m 51s\tremaining: 22.5s\n298:\tlearn: 0.4057706\ttotal: 56m 1s\tremaining: 11.2s\n299:\tlearn: 0.4056439\ttotal: 56m 11s\tremaining: 0us\n0:\tlearn: 1.3231432\ttotal: 11.5s\tremaining: 57m 13s\n1:\tlearn: 1.2663290\ttotal: 23.5s\tremaining: 58m 26s\n2:\tlearn: 1.2152378\ttotal: 34.7s\tremaining: 57m 15s\n3:\tlearn: 1.1688203\ttotal: 45.4s\tremaining: 55m 58s\n4:\tlearn: 1.1264045\ttotal: 56.3s\tremaining: 55m 20s\n5:\tlearn: 1.0871498\ttotal: 1m 6s\tremaining: 54m 30s\n6:\tlearn: 1.0511753\ttotal: 1m 17s\tremaining: 54m 6s\n7:\tlearn: 1.0178488\ttotal: 1m 27s\tremaining: 53m 29s\n8:\tlearn: 0.9869370\ttotal: 1m 38s\tremaining: 53m 1s\n9:\tlearn: 0.9597743\ttotal: 1m 49s\tremaining: 52m 45s\n10:\tlearn: 0.9328396\ttotal: 1m 59s\tremaining: 52m 25s\n11:\tlearn: 0.9076617\ttotal: 2m 10s\tremaining: 52m 20s\n12:\tlearn: 0.8841290\ttotal: 2m 22s\tremaining: 52m 17s\n13:\tlearn: 0.8619941\ttotal: 2m 33s\tremaining: 52m 13s\n14:\tlearn: 0.8412747\ttotal: 2m 43s\tremaining: 51m 55s\n15:\tlearn: 0.8217090\ttotal: 2m 55s\tremaining: 51m 57s\n16:\tlearn: 0.8032945\ttotal: 3m 7s\tremaining: 51m 57s\n17:\tlearn: 0.7858866\ttotal: 3m 19s\tremaining: 51m 59s\n18:\tlearn: 0.7694170\ttotal: 3m 29s\tremaining: 51m 33s\n19:\tlearn: 0.7538132\ttotal: 3m 40s\tremaining: 51m 22s\n20:\tlearn: 0.7391034\ttotal: 3m 50s\tremaining: 51m\n21:\tlearn: 0.7251395\ttotal: 4m 2s\tremaining: 51m 1s\n22:\tlearn: 0.7118594\ttotal: 4m 15s\tremaining: 51m 13s\n23:\tlearn: 0.6999565\ttotal: 4m 26s\tremaining: 51m 2s\n24:\tlearn: 0.6880133\ttotal: 4m 37s\tremaining: 50m 52s\n25:\tlearn: 0.6766127\ttotal: 4m 48s\tremaining: 50m 43s\n26:\tlearn: 0.6658964\ttotal: 5m\tremaining: 50m 41s\n27:\tlearn: 0.6556047\ttotal: 5m 15s\tremaining: 51m 3s\n28:\tlearn: 0.6456533\ttotal: 5m 28s\tremaining: 51m 9s\n29:\tlearn: 0.6363422\ttotal: 5m 39s\tremaining: 50m 53s\n30:\tlearn: 0.6272608\ttotal: 5m 50s\tremaining: 50m 45s\n31:\tlearn: 0.6190884\ttotal: 6m 3s\tremaining: 50m 45s\n32:\tlearn: 0.6107701\ttotal: 6m 13s\tremaining: 50m 24s\n33:\tlearn: 0.6028431\ttotal: 6m 28s\tremaining: 50m 38s\n34:\tlearn: 0.5953436\ttotal: 6m 42s\tremaining: 50m 48s\n35:\tlearn: 0.5881687\ttotal: 6m 55s\tremaining: 50m 48s\n36:\tlearn: 0.5815480\ttotal: 7m 9s\tremaining: 50m 51s\n37:\tlearn: 0.5750378\ttotal: 7m 20s\tremaining: 50m 33s\n38:\tlearn: 0.5688570\ttotal: 7m 30s\tremaining: 50m 15s\n39:\tlearn: 0.5627013\ttotal: 7m 46s\tremaining: 50m 35s\n40:\tlearn: 0.5569772\ttotal: 8m 3s\tremaining: 50m 52s\n41:\tlearn: 0.5514316\ttotal: 8m 16s\tremaining: 50m 52s\n42:\tlearn: 0.5460369\ttotal: 8m 28s\tremaining: 50m 40s\n43:\tlearn: 0.5410333\ttotal: 8m 41s\tremaining: 50m 33s\n44:\tlearn: 0.5365711\ttotal: 8m 52s\tremaining: 50m 16s\n45:\tlearn: 0.5323018\ttotal: 9m 5s\tremaining: 50m 9s\n46:\tlearn: 0.5277181\ttotal: 9m 19s\tremaining: 50m 13s\n47:\tlearn: 0.5232029\ttotal: 9m 32s\tremaining: 50m 8s\n48:\tlearn: 0.5191655\ttotal: 9m 47s\tremaining: 50m 8s\n49:\tlearn: 0.5151099\ttotal: 9m 59s\tremaining: 49m 56s\n50:\tlearn: 0.5112597\ttotal: 10m 10s\tremaining: 49m 42s\n51:\tlearn: 0.5076401\ttotal: 10m 25s\tremaining: 49m 40s\n52:\tlearn: 0.5041580\ttotal: 10m 38s\tremaining: 49m 36s\n53:\tlearn: 0.5005970\ttotal: 10m 51s\tremaining: 49m 25s\n54:\tlearn: 0.4973824\ttotal: 11m 1s\tremaining: 49m 8s\n55:\tlearn: 0.4942758\ttotal: 11m 20s\tremaining: 49m 23s\n56:\tlearn: 0.4910703\ttotal: 11m 32s\tremaining: 49m 11s\n57:\tlearn: 0.4881716\ttotal: 11m 47s\tremaining: 49m 10s\n58:\tlearn: 0.4853706\ttotal: 12m 1s\tremaining: 49m 5s\n59:\tlearn: 0.4827643\ttotal: 12m 13s\tremaining: 48m 54s\n60:\tlearn: 0.4799769\ttotal: 12m 26s\tremaining: 48m 46s\n61:\tlearn: 0.4776209\ttotal: 12m 39s\tremaining: 48m 36s\n62:\tlearn: 0.4750758\ttotal: 12m 51s\tremaining: 48m 20s\n63:\tlearn: 0.4725717\ttotal: 13m 1s\tremaining: 48m 2s\n64:\tlearn: 0.4702908\ttotal: 13m 12s\tremaining: 47m 43s\n65:\tlearn: 0.4681759\ttotal: 13m 24s\tremaining: 47m 31s\n66:\tlearn: 0.4658327\ttotal: 13m 35s\tremaining: 47m 14s\n67:\tlearn: 0.4638603\ttotal: 13m 47s\tremaining: 47m 1s\n68:\tlearn: 0.4618842\ttotal: 13m 59s\tremaining: 46m 49s\n69:\tlearn: 0.4597964\ttotal: 14m 10s\tremaining: 46m 33s\n70:\tlearn: 0.4578875\ttotal: 14m 19s\tremaining: 46m 10s\n71:\tlearn: 0.4560440\ttotal: 14m 29s\tremaining: 45m 52s\n72:\tlearn: 0.4543547\ttotal: 14m 38s\tremaining: 45m 32s\n73:\tlearn: 0.4527244\ttotal: 14m 48s\tremaining: 45m 14s\n74:\tlearn: 0.4511193\ttotal: 14m 59s\tremaining: 44m 58s\n75:\tlearn: 0.4495503\ttotal: 15m 11s\tremaining: 44m 47s\n76:\tlearn: 0.4482074\ttotal: 15m 24s\tremaining: 44m 36s\nERROR:root:Internal Python error in the inspect module.\nBelow is the traceback from this internal error.\n\nTraceback (most recent call last):\n  File \"C:\\Users\\vybha\\anaconda3\\lib\\site-packages\\IPython\\core\\interactiveshell.py\", line 3331, in run_code\n    exec(code_obj, self.user_global_ns, self.user_ns)\n  File \"<ipython-input-30-0e737c028b2e>\", line 12, in <module>\n    pipe.fit(X,y)\n  File \"C:\\Users\\vybha\\anaconda3\\lib\\site-packages\\sklearn\\pipeline.py\", line 335, in fit\n    self._final_estimator.fit(Xt, y, **fit_params_last_step)\n  File \"C:\\Users\\vybha\\anaconda3\\lib\\site-packages\\sklearn\\utils\\validation.py\", line 72, in inner_f\n    return f(**kwargs)\n  File \"C:\\Users\\vybha\\anaconda3\\lib\\site-packages\\sklearn\\model_selection\\_search.py\", line 736, in fit\n    self._run_search(evaluate_candidates)\n  File \"C:\\Users\\vybha\\anaconda3\\lib\\site-packages\\sklearn\\model_selection\\_search.py\", line 1188, in _run_search\n    evaluate_candidates(ParameterGrid(self.param_grid))\n  File \"C:\\Users\\vybha\\anaconda3\\lib\\site-packages\\sklearn\\model_selection\\_search.py\", line 715, in evaluate_candidates\n    cv.split(X, y, groups)))\n  File \"C:\\Users\\vybha\\anaconda3\\lib\\site-packages\\joblib\\parallel.py\", line 1007, in __call__\n    while self.dispatch_one_batch(iterator):\n  File \"C:\\Users\\vybha\\anaconda3\\lib\\site-packages\\joblib\\parallel.py\", line 835, in dispatch_one_batch\n    self._dispatch(tasks)\n  File \"C:\\Users\\vybha\\anaconda3\\lib\\site-packages\\joblib\\parallel.py\", line 754, in _dispatch\n    job = self._backend.apply_async(batch, callback=cb)\n  File \"C:\\Users\\vybha\\anaconda3\\lib\\site-packages\\joblib\\_parallel_backends.py\", line 209, in apply_async\n    result = ImmediateResult(func)\n  File \"C:\\Users\\vybha\\anaconda3\\lib\\site-packages\\joblib\\_parallel_backends.py\", line 590, in __init__\n    self.results = batch()\n  File \"C:\\Users\\vybha\\anaconda3\\lib\\site-packages\\joblib\\parallel.py\", line 256, in __call__\n    for func, args, kwargs in self.items]\n  File \"C:\\Users\\vybha\\anaconda3\\lib\\site-packages\\joblib\\parallel.py\", line 256, in <listcomp>\n    for func, args, kwargs in self.items]\n  File \"C:\\Users\\vybha\\anaconda3\\lib\\site-packages\\sklearn\\model_selection\\_validation.py\", line 531, in _fit_and_score\n    estimator.fit(X_train, y_train, **fit_params)\n  File \"C:\\Users\\vybha\\anaconda3\\lib\\site-packages\\catboost\\core.py\", line 4115, in fit\n    silent, early_stopping_rounds, save_snapshot, snapshot_file, snapshot_interval, init_model)\n  File \"C:\\Users\\vybha\\anaconda3\\lib\\site-packages\\catboost\\core.py\", line 1743, in _fit\n    train_params[\"init_model\"]\n  File \"C:\\Users\\vybha\\anaconda3\\lib\\site-packages\\catboost\\core.py\", line 1230, in _train\n    self._object._train(train_pool, test_pool, params, allow_clear_pool, init_model._object if init_model else None)\n  File \"_catboost.pyx\", line 4345, in _catboost._CatBoost._train\n  File \"_catboost.pyx\", line 4391, in _catboost._CatBoost._train\nKeyboardInterrupt\n\nDuring handling of the above exception, another exception occurred:\n\nTraceback (most recent call last):\n  File \"C:\\Users\\vybha\\anaconda3\\lib\\site-packages\\IPython\\core\\interactiveshell.py\", line 2044, in showtraceback\n    stb = value._render_traceback_()\nAttributeError: 'KeyboardInterrupt' object has no attribute '_render_traceback_'\n\nDuring handling of the above exception, another exception occurred:\n\nTraceback (most recent call last):\n  File \"C:\\Users\\vybha\\anaconda3\\lib\\site-packages\\IPython\\core\\ultratb.py\", line 1151, in get_records\n    return _fixed_getinnerframes(etb, number_of_lines_of_context, tb_offset)\n  File \"C:\\Users\\vybha\\anaconda3\\lib\\site-packages\\IPython\\core\\ultratb.py\", line 319, in wrapped\n    return f(*args, **kwargs)\n  File \"C:\\Users\\vybha\\anaconda3\\lib\\site-packages\\IPython\\core\\ultratb.py\", line 353, in _fixed_getinnerframes\n    records = fix_frame_records_filenames(inspect.getinnerframes(etb, context))\n  File \"C:\\Users\\vybha\\anaconda3\\lib\\inspect.py\", line 1502, in getinnerframes\n    frameinfo = (tb.tb_frame,) + getframeinfo(tb, context)\n  File \"C:\\Users\\vybha\\anaconda3\\lib\\inspect.py\", line 1460, in getframeinfo\n    filename = getsourcefile(frame) or getfile(frame)\n  File \"C:\\Users\\vybha\\anaconda3\\lib\\inspect.py\", line 696, in getsourcefile\n    if getattr(getmodule(object, filename), '__loader__', None) is not None:\n  File \"C:\\Users\\vybha\\anaconda3\\lib\\inspect.py\", line 737, in getmodule\n    continue\nKeyboardInterrupt\n"
    },
    {
     "output_type": "error",
     "ename": "KeyboardInterrupt",
     "evalue": "",
     "traceback": [
      "\u001b[1;31m---------------------------------------------------------------------------\u001b[0m"
     ]
    }
   ],
   "source": [
    "X=train[['Product_Description','Product_Type']]\n",
    "y=train['Sentiment']\n",
    "model = CatBoostClassifier(loss_function='Logloss')\n",
    "\n",
    "params = {'depth': [4, 7, 10],\n",
    "          'learning_rate' : [0.03, 0.1, 0.15],\n",
    "         'l2_leaf_reg': [1,4,9],\n",
    "         'iterations': [300]}\n",
    "cb = CatBoostClassifier()\n",
    "cb_model = GridSearchCV(cb, params, scoring=\"neg_log_loss\", cv = 3)\n",
    "pipe=make_pipeline(preprocess,cb_model)\n",
    "pipe.fit(X,y)\n",
    "\n",
    "\n"
   ]
  },
  {
   "cell_type": "code",
   "execution_count": 15,
   "metadata": {},
   "outputs": [
    {
     "output_type": "error",
     "ename": "AttributeError",
     "evalue": "'GridSearchCV' object has no attribute 'best_params_'",
     "traceback": [
      "\u001b[1;31m---------------------------------------------------------------------------\u001b[0m",
      "\u001b[1;31mAttributeError\u001b[0m                            Traceback (most recent call last)",
      "\u001b[1;32m<ipython-input-15-28c2e4d7952c>\u001b[0m in \u001b[0;36m<module>\u001b[1;34m\u001b[0m\n\u001b[1;32m----> 1\u001b[1;33m \u001b[0mgrid\u001b[0m\u001b[1;33m.\u001b[0m\u001b[0mbest_params_\u001b[0m\u001b[1;33m\u001b[0m\u001b[1;33m\u001b[0m\u001b[0m\n\u001b[0m",
      "\u001b[1;31mAttributeError\u001b[0m: 'GridSearchCV' object has no attribute 'best_params_'"
     ]
    }
   ],
   "source": [
    "grid.best_params_"
   ]
  },
  {
   "cell_type": "code",
   "execution_count": 31,
   "metadata": {},
   "outputs": [
    {
     "output_type": "error",
     "ename": "AttributeError",
     "evalue": "'GridSearchCV' object has no attribute 'best_estimator_'",
     "traceback": [
      "\u001b[1;31m---------------------------------------------------------------------------\u001b[0m",
      "\u001b[1;31mAttributeError\u001b[0m                            Traceback (most recent call last)",
      "\u001b[1;32m<ipython-input-31-ef5a27350ff1>\u001b[0m in \u001b[0;36m<module>\u001b[1;34m\u001b[0m\n\u001b[1;32m----> 1\u001b[1;33m \u001b[0mpred\u001b[0m\u001b[1;33m=\u001b[0m\u001b[0mpipe\u001b[0m\u001b[1;33m.\u001b[0m\u001b[0mpredict_proba\u001b[0m\u001b[1;33m(\u001b[0m\u001b[0mtest\u001b[0m\u001b[1;33m[\u001b[0m\u001b[1;33m[\u001b[0m\u001b[1;34m'Product_Description'\u001b[0m\u001b[1;33m,\u001b[0m\u001b[1;34m'Product_Type'\u001b[0m\u001b[1;33m]\u001b[0m\u001b[1;33m]\u001b[0m\u001b[1;33m)\u001b[0m\u001b[1;33m\u001b[0m\u001b[1;33m\u001b[0m\u001b[0m\n\u001b[0m",
      "\u001b[1;32m~\\anaconda3\\lib\\site-packages\\sklearn\\utils\\metaestimators.py\u001b[0m in \u001b[0;36m<lambda>\u001b[1;34m(*args, **kwargs)\u001b[0m\n\u001b[0;32m    117\u001b[0m \u001b[1;33m\u001b[0m\u001b[0m\n\u001b[0;32m    118\u001b[0m         \u001b[1;31m# lambda, but not partial, allows help() to work with update_wrapper\u001b[0m\u001b[1;33m\u001b[0m\u001b[1;33m\u001b[0m\u001b[1;33m\u001b[0m\u001b[0m\n\u001b[1;32m--> 119\u001b[1;33m         \u001b[0mout\u001b[0m \u001b[1;33m=\u001b[0m \u001b[1;32mlambda\u001b[0m \u001b[1;33m*\u001b[0m\u001b[0margs\u001b[0m\u001b[1;33m,\u001b[0m \u001b[1;33m**\u001b[0m\u001b[0mkwargs\u001b[0m\u001b[1;33m:\u001b[0m \u001b[0mself\u001b[0m\u001b[1;33m.\u001b[0m\u001b[0mfn\u001b[0m\u001b[1;33m(\u001b[0m\u001b[0mobj\u001b[0m\u001b[1;33m,\u001b[0m \u001b[1;33m*\u001b[0m\u001b[0margs\u001b[0m\u001b[1;33m,\u001b[0m \u001b[1;33m**\u001b[0m\u001b[0mkwargs\u001b[0m\u001b[1;33m)\u001b[0m\u001b[1;33m\u001b[0m\u001b[1;33m\u001b[0m\u001b[0m\n\u001b[0m\u001b[0;32m    120\u001b[0m         \u001b[1;31m# update the docstring of the returned function\u001b[0m\u001b[1;33m\u001b[0m\u001b[1;33m\u001b[0m\u001b[1;33m\u001b[0m\u001b[0m\n\u001b[0;32m    121\u001b[0m         \u001b[0mupdate_wrapper\u001b[0m\u001b[1;33m(\u001b[0m\u001b[0mout\u001b[0m\u001b[1;33m,\u001b[0m \u001b[0mself\u001b[0m\u001b[1;33m.\u001b[0m\u001b[0mfn\u001b[0m\u001b[1;33m)\u001b[0m\u001b[1;33m\u001b[0m\u001b[1;33m\u001b[0m\u001b[0m\n",
      "\u001b[1;32m~\\anaconda3\\lib\\site-packages\\sklearn\\pipeline.py\u001b[0m in \u001b[0;36mpredict_proba\u001b[1;34m(self, X)\u001b[0m\n\u001b[0;32m    462\u001b[0m         \u001b[1;32mfor\u001b[0m \u001b[0m_\u001b[0m\u001b[1;33m,\u001b[0m \u001b[0mname\u001b[0m\u001b[1;33m,\u001b[0m \u001b[0mtransform\u001b[0m \u001b[1;32min\u001b[0m \u001b[0mself\u001b[0m\u001b[1;33m.\u001b[0m\u001b[0m_iter\u001b[0m\u001b[1;33m(\u001b[0m\u001b[0mwith_final\u001b[0m\u001b[1;33m=\u001b[0m\u001b[1;32mFalse\u001b[0m\u001b[1;33m)\u001b[0m\u001b[1;33m:\u001b[0m\u001b[1;33m\u001b[0m\u001b[1;33m\u001b[0m\u001b[0m\n\u001b[0;32m    463\u001b[0m             \u001b[0mXt\u001b[0m \u001b[1;33m=\u001b[0m \u001b[0mtransform\u001b[0m\u001b[1;33m.\u001b[0m\u001b[0mtransform\u001b[0m\u001b[1;33m(\u001b[0m\u001b[0mXt\u001b[0m\u001b[1;33m)\u001b[0m\u001b[1;33m\u001b[0m\u001b[1;33m\u001b[0m\u001b[0m\n\u001b[1;32m--> 464\u001b[1;33m         \u001b[1;32mreturn\u001b[0m \u001b[0mself\u001b[0m\u001b[1;33m.\u001b[0m\u001b[0msteps\u001b[0m\u001b[1;33m[\u001b[0m\u001b[1;33m-\u001b[0m\u001b[1;36m1\u001b[0m\u001b[1;33m]\u001b[0m\u001b[1;33m[\u001b[0m\u001b[1;33m-\u001b[0m\u001b[1;36m1\u001b[0m\u001b[1;33m]\u001b[0m\u001b[1;33m.\u001b[0m\u001b[0mpredict_proba\u001b[0m\u001b[1;33m(\u001b[0m\u001b[0mXt\u001b[0m\u001b[1;33m)\u001b[0m\u001b[1;33m\u001b[0m\u001b[1;33m\u001b[0m\u001b[0m\n\u001b[0m\u001b[0;32m    465\u001b[0m \u001b[1;33m\u001b[0m\u001b[0m\n\u001b[0;32m    466\u001b[0m     \u001b[1;33m@\u001b[0m\u001b[0mif_delegate_has_method\u001b[0m\u001b[1;33m(\u001b[0m\u001b[0mdelegate\u001b[0m\u001b[1;33m=\u001b[0m\u001b[1;34m'_final_estimator'\u001b[0m\u001b[1;33m)\u001b[0m\u001b[1;33m\u001b[0m\u001b[1;33m\u001b[0m\u001b[0m\n",
      "\u001b[1;32m~\\anaconda3\\lib\\site-packages\\sklearn\\utils\\metaestimators.py\u001b[0m in \u001b[0;36m<lambda>\u001b[1;34m(*args, **kwargs)\u001b[0m\n\u001b[0;32m    117\u001b[0m \u001b[1;33m\u001b[0m\u001b[0m\n\u001b[0;32m    118\u001b[0m         \u001b[1;31m# lambda, but not partial, allows help() to work with update_wrapper\u001b[0m\u001b[1;33m\u001b[0m\u001b[1;33m\u001b[0m\u001b[1;33m\u001b[0m\u001b[0m\n\u001b[1;32m--> 119\u001b[1;33m         \u001b[0mout\u001b[0m \u001b[1;33m=\u001b[0m \u001b[1;32mlambda\u001b[0m \u001b[1;33m*\u001b[0m\u001b[0margs\u001b[0m\u001b[1;33m,\u001b[0m \u001b[1;33m**\u001b[0m\u001b[0mkwargs\u001b[0m\u001b[1;33m:\u001b[0m \u001b[0mself\u001b[0m\u001b[1;33m.\u001b[0m\u001b[0mfn\u001b[0m\u001b[1;33m(\u001b[0m\u001b[0mobj\u001b[0m\u001b[1;33m,\u001b[0m \u001b[1;33m*\u001b[0m\u001b[0margs\u001b[0m\u001b[1;33m,\u001b[0m \u001b[1;33m**\u001b[0m\u001b[0mkwargs\u001b[0m\u001b[1;33m)\u001b[0m\u001b[1;33m\u001b[0m\u001b[1;33m\u001b[0m\u001b[0m\n\u001b[0m\u001b[0;32m    120\u001b[0m         \u001b[1;31m# update the docstring of the returned function\u001b[0m\u001b[1;33m\u001b[0m\u001b[1;33m\u001b[0m\u001b[1;33m\u001b[0m\u001b[0m\n\u001b[0;32m    121\u001b[0m         \u001b[0mupdate_wrapper\u001b[0m\u001b[1;33m(\u001b[0m\u001b[0mout\u001b[0m\u001b[1;33m,\u001b[0m \u001b[0mself\u001b[0m\u001b[1;33m.\u001b[0m\u001b[0mfn\u001b[0m\u001b[1;33m)\u001b[0m\u001b[1;33m\u001b[0m\u001b[1;33m\u001b[0m\u001b[0m\n",
      "\u001b[1;32m~\\anaconda3\\lib\\site-packages\\sklearn\\model_selection\\_search.py\u001b[0m in \u001b[0;36mpredict_proba\u001b[1;34m(self, X)\u001b[0m\n\u001b[0;32m    502\u001b[0m         \"\"\"\n\u001b[0;32m    503\u001b[0m         \u001b[0mself\u001b[0m\u001b[1;33m.\u001b[0m\u001b[0m_check_is_fitted\u001b[0m\u001b[1;33m(\u001b[0m\u001b[1;34m'predict_proba'\u001b[0m\u001b[1;33m)\u001b[0m\u001b[1;33m\u001b[0m\u001b[1;33m\u001b[0m\u001b[0m\n\u001b[1;32m--> 504\u001b[1;33m         \u001b[1;32mreturn\u001b[0m \u001b[0mself\u001b[0m\u001b[1;33m.\u001b[0m\u001b[0mbest_estimator_\u001b[0m\u001b[1;33m.\u001b[0m\u001b[0mpredict_proba\u001b[0m\u001b[1;33m(\u001b[0m\u001b[0mX\u001b[0m\u001b[1;33m)\u001b[0m\u001b[1;33m\u001b[0m\u001b[1;33m\u001b[0m\u001b[0m\n\u001b[0m\u001b[0;32m    505\u001b[0m \u001b[1;33m\u001b[0m\u001b[0m\n\u001b[0;32m    506\u001b[0m     \u001b[1;33m@\u001b[0m\u001b[0mif_delegate_has_method\u001b[0m\u001b[1;33m(\u001b[0m\u001b[0mdelegate\u001b[0m\u001b[1;33m=\u001b[0m\u001b[1;33m(\u001b[0m\u001b[1;34m'best_estimator_'\u001b[0m\u001b[1;33m,\u001b[0m \u001b[1;34m'estimator'\u001b[0m\u001b[1;33m)\u001b[0m\u001b[1;33m)\u001b[0m\u001b[1;33m\u001b[0m\u001b[1;33m\u001b[0m\u001b[0m\n",
      "\u001b[1;31mAttributeError\u001b[0m: 'GridSearchCV' object has no attribute 'best_estimator_'"
     ]
    }
   ],
   "source": [
    "pred=pipe.predict_proba(test[['Product_Description','Product_Type']])"
   ]
  },
  {
   "cell_type": "code",
   "execution_count": 25,
   "metadata": {},
   "outputs": [
    {
     "output_type": "execute_result",
     "data": {
      "text/plain": "array([[0.00454784, 0.13137745, 0.0300057 , 0.834069  ],\n       [0.02603361, 0.02478693, 0.9146843 , 0.03449517],\n       [0.02072421, 0.00904525, 0.91853106, 0.05169948],\n       ...,\n       [0.00536756, 0.12601714, 0.03633871, 0.83227659],\n       [0.02311405, 0.01172248, 0.91010323, 0.05506025],\n       [0.0087685 , 0.17319578, 0.02831869, 0.78971702]])"
     },
     "metadata": {},
     "execution_count": 25
    }
   ],
   "source": [
    "pred"
   ]
  },
  {
   "cell_type": "code",
   "execution_count": 26,
   "metadata": {},
   "outputs": [],
   "source": [
    "cols=sample.columns\n",
    "sample[cols]=pred"
   ]
  },
  {
   "cell_type": "code",
   "execution_count": 27,
   "metadata": {},
   "outputs": [
    {
     "output_type": "execute_result",
     "data": {
      "text/plain": "             0         1         2         3\n0     0.004548  0.131377  0.030006  0.834069\n1     0.026034  0.024787  0.914684  0.034495\n2     0.020724  0.009045  0.918531  0.051699\n3     0.005190  0.113118  0.041307  0.840384\n4     0.016095  0.007589  0.928392  0.047924\n...        ...       ...       ...       ...\n2723  0.023333  0.011318  0.907677  0.057672\n2724  0.017272  0.006909  0.924333  0.051486\n2725  0.005368  0.126017  0.036339  0.832277\n2726  0.023114  0.011722  0.910103  0.055060\n2727  0.008769  0.173196  0.028319  0.789717\n\n[2728 rows x 4 columns]",
      "text/html": "<div>\n<style scoped>\n    .dataframe tbody tr th:only-of-type {\n        vertical-align: middle;\n    }\n\n    .dataframe tbody tr th {\n        vertical-align: top;\n    }\n\n    .dataframe thead th {\n        text-align: right;\n    }\n</style>\n<table border=\"1\" class=\"dataframe\">\n  <thead>\n    <tr style=\"text-align: right;\">\n      <th></th>\n      <th>0</th>\n      <th>1</th>\n      <th>2</th>\n      <th>3</th>\n    </tr>\n  </thead>\n  <tbody>\n    <tr>\n      <th>0</th>\n      <td>0.004548</td>\n      <td>0.131377</td>\n      <td>0.030006</td>\n      <td>0.834069</td>\n    </tr>\n    <tr>\n      <th>1</th>\n      <td>0.026034</td>\n      <td>0.024787</td>\n      <td>0.914684</td>\n      <td>0.034495</td>\n    </tr>\n    <tr>\n      <th>2</th>\n      <td>0.020724</td>\n      <td>0.009045</td>\n      <td>0.918531</td>\n      <td>0.051699</td>\n    </tr>\n    <tr>\n      <th>3</th>\n      <td>0.005190</td>\n      <td>0.113118</td>\n      <td>0.041307</td>\n      <td>0.840384</td>\n    </tr>\n    <tr>\n      <th>4</th>\n      <td>0.016095</td>\n      <td>0.007589</td>\n      <td>0.928392</td>\n      <td>0.047924</td>\n    </tr>\n    <tr>\n      <th>...</th>\n      <td>...</td>\n      <td>...</td>\n      <td>...</td>\n      <td>...</td>\n    </tr>\n    <tr>\n      <th>2723</th>\n      <td>0.023333</td>\n      <td>0.011318</td>\n      <td>0.907677</td>\n      <td>0.057672</td>\n    </tr>\n    <tr>\n      <th>2724</th>\n      <td>0.017272</td>\n      <td>0.006909</td>\n      <td>0.924333</td>\n      <td>0.051486</td>\n    </tr>\n    <tr>\n      <th>2725</th>\n      <td>0.005368</td>\n      <td>0.126017</td>\n      <td>0.036339</td>\n      <td>0.832277</td>\n    </tr>\n    <tr>\n      <th>2726</th>\n      <td>0.023114</td>\n      <td>0.011722</td>\n      <td>0.910103</td>\n      <td>0.055060</td>\n    </tr>\n    <tr>\n      <th>2727</th>\n      <td>0.008769</td>\n      <td>0.173196</td>\n      <td>0.028319</td>\n      <td>0.789717</td>\n    </tr>\n  </tbody>\n</table>\n<p>2728 rows × 4 columns</p>\n</div>"
     },
     "metadata": {},
     "execution_count": 27
    }
   ],
   "source": [
    "sample"
   ]
  },
  {
   "cell_type": "code",
   "execution_count": 28,
   "metadata": {},
   "outputs": [],
   "source": [
    "sample.to_csv('pred11.csv',index=False)"
   ]
  },
  {
   "cell_type": "code",
   "execution_count": null,
   "metadata": {},
   "outputs": [],
   "source": []
  }
 ]
}