{
 "metadata": {
  "language_info": {
   "codemirror_mode": {
    "name": "ipython",
    "version": 3
   },
   "file_extension": ".py",
   "mimetype": "text/x-python",
   "name": "python",
   "nbconvert_exporter": "python",
   "pygments_lexer": "ipython3",
   "version": "3.8.3-final"
  },
  "orig_nbformat": 2,
  "kernelspec": {
   "name": "python_defaultSpec_1596347006728",
   "display_name": "Python 3.8.3 64-bit"
  }
 },
 "nbformat": 4,
 "nbformat_minor": 2,
 "cells": [
  {
   "cell_type": "code",
   "execution_count": 1,
   "metadata": {},
   "outputs": [],
   "source": [
    "import numpy as np\n",
    "import pandas as pd\n",
    "import matplotlib.pyplot as plt\n",
    "import seaborn as sns\n",
    "import plotly.express as px\n",
    "import warnings\n",
    "warnings.filterwarnings('ignore')\n",
    "plt.rcParams['figure.figsize']=12,7"
   ]
  },
  {
   "cell_type": "code",
   "execution_count": 2,
   "metadata": {},
   "outputs": [],
   "source": [
    "train=pd.read_csv('train.csv')\n",
    "test=pd.read_csv('test.csv')"
   ]
  },
  {
   "cell_type": "code",
   "execution_count": 3,
   "metadata": {},
   "outputs": [],
   "source": [
    "mapping = {'A': 1, 'B': 2, 'C': 3, 'D': 4}\n",
    "rev_mapping = {1: 'A', 2: 'B', 3: 'C', 4: 'D'}"
   ]
  },
  {
   "cell_type": "code",
   "execution_count": 4,
   "metadata": {},
   "outputs": [],
   "source": [
    "from sklearn.preprocessing import OrdinalEncoder,LabelEncoder\n",
    "from sklearn.model_selection import train_test_split"
   ]
  },
  {
   "cell_type": "code",
   "execution_count": 32,
   "metadata": {},
   "outputs": [],
   "source": [
    "\n",
    "train_copy  = train.dropna().copy()\n",
    "test_copy = test.copy()\n",
    "train_copy['tr'] = 1\n",
    "test_copy['tr'] = 0\n",
    "\n",
    "appended = pd.concat([train_copy, test_copy], axis = 0)\n",
    "\n",
    "cat_cols = ['Gender', 'Ever_Married', 'Graduated', 'Profession', 'Spending_Score', 'Var_1']\n",
    "label_enc = {}\n",
    "for col in cat_cols:\n",
    "    appended[col] = appended[col].astype(str)\n",
    "    enc = LabelEncoder().fit(appended[col])\n",
    "    appended[col] = enc.transform(appended[col])\n",
    "    label_enc[col] = enc\n",
    "def id_features(data):\n",
    "    df = data.copy()\n",
    "    df['week'] = df['ID']%7\n",
    "    df['month'] = df['ID']%30\n",
    "    df['year'] = df['ID']%365\n",
    "    df['quarter'] = df['ID']%90\n",
    "\n",
    "\n",
    "    return df\n",
    "appended = id_features(appended)\n",
    "appended = pd.get_dummies(appended, columns = cat_cols)\n",
    "train_copy = appended.loc[appended['tr'] == 1]\n",
    "test_copy = appended.loc[appended['tr'] == 0]\n",
    "Xcols = appended.drop(['Segmentation', 'tr'], axis = 1).columns   \n",
    "train_copy = appended.loc[appended['tr'] == 1]\n",
    "test_copy = appended.loc[appended['tr'] == 0]\n",
    "Xcols = appended.drop(['Segmentation', 'tr'], axis = 1).columns\n",
    "ycol = 'Segmentation'\n",
    "\n",
    "X = train_copy[Xcols]\n",
    "y = train_copy[ycol]\n",
    "\n",
    "Xtest = test_copy[Xcols]"
   ]
  },
  {
   "cell_type": "code",
   "execution_count": 33,
   "metadata": {},
   "outputs": [
    {
     "output_type": "execute_result",
     "data": {
      "text/plain": "          ID  Age  Work_Experience  Family_Size  week  month  year  quarter  \\\n0     458989   36              0.0          1.0     6     19   184       79   \n1     458994   37              8.0          4.0     4     24   189       84   \n2     458996   69              0.0          1.0     6     26   191       86   \n3     459000   59             11.0          2.0     3      0   195        0   \n4     459001   19              NaN          4.0     4      1   196        1   \n...      ...  ...              ...          ...   ...    ...   ...      ...   \n2622  467954   29              9.0          4.0     4     14    24       44   \n2623  467958   35              1.0          1.0     1     18    28       48   \n2624  467960   53              NaN          2.0     3     20    30       50   \n2625  467961   47              1.0          5.0     4     21    31       51   \n2626  467968   43              9.0          3.0     4     28    38       58   \n\n      Gender_0  Gender_1  ...  Spending_Score_1  Spending_Score_2  Var_1_0  \\\n0            1         0  ...                 0                 1        0   \n1            0         1  ...                 0                 0        0   \n2            1         0  ...                 0                 1        0   \n3            0         1  ...                 1                 0        0   \n4            1         0  ...                 0                 1        0   \n...        ...       ...  ...               ...               ...      ...   \n2622         0         1  ...                 0                 1        0   \n2623         1         0  ...                 0                 1        0   \n2624         1         0  ...                 0                 1        0   \n2625         0         1  ...                 1                 0        0   \n2626         1         0  ...                 0                 1        0   \n\n      Var_1_1  Var_1_2  Var_1_3  Var_1_4  Var_1_5  Var_1_6  Var_1_7  \n0           0        0        0        0        1        0        0  \n1           0        0        0        0        1        0        0  \n2           0        0        0        0        1        0        0  \n3           0        0        0        0        1        0        0  \n4           0        0        0        0        1        0        0  \n...       ...      ...      ...      ...      ...      ...      ...  \n2622        0        0        0        0        1        0        0  \n2623        0        0        0        0        1        0        0  \n2624        0        0        0        0        1        0        0  \n2625        0        0        1        0        0        0        0  \n2626        0        0        0        0        0        1        0  \n\n[2627 rows x 37 columns]",
      "text/html": "<div>\n<style scoped>\n    .dataframe tbody tr th:only-of-type {\n        vertical-align: middle;\n    }\n\n    .dataframe tbody tr th {\n        vertical-align: top;\n    }\n\n    .dataframe thead th {\n        text-align: right;\n    }\n</style>\n<table border=\"1\" class=\"dataframe\">\n  <thead>\n    <tr style=\"text-align: right;\">\n      <th></th>\n      <th>ID</th>\n      <th>Age</th>\n      <th>Work_Experience</th>\n      <th>Family_Size</th>\n      <th>week</th>\n      <th>month</th>\n      <th>year</th>\n      <th>quarter</th>\n      <th>Gender_0</th>\n      <th>Gender_1</th>\n      <th>...</th>\n      <th>Spending_Score_1</th>\n      <th>Spending_Score_2</th>\n      <th>Var_1_0</th>\n      <th>Var_1_1</th>\n      <th>Var_1_2</th>\n      <th>Var_1_3</th>\n      <th>Var_1_4</th>\n      <th>Var_1_5</th>\n      <th>Var_1_6</th>\n      <th>Var_1_7</th>\n    </tr>\n  </thead>\n  <tbody>\n    <tr>\n      <th>0</th>\n      <td>458989</td>\n      <td>36</td>\n      <td>0.0</td>\n      <td>1.0</td>\n      <td>6</td>\n      <td>19</td>\n      <td>184</td>\n      <td>79</td>\n      <td>1</td>\n      <td>0</td>\n      <td>...</td>\n      <td>0</td>\n      <td>1</td>\n      <td>0</td>\n      <td>0</td>\n      <td>0</td>\n      <td>0</td>\n      <td>0</td>\n      <td>1</td>\n      <td>0</td>\n      <td>0</td>\n    </tr>\n    <tr>\n      <th>1</th>\n      <td>458994</td>\n      <td>37</td>\n      <td>8.0</td>\n      <td>4.0</td>\n      <td>4</td>\n      <td>24</td>\n      <td>189</td>\n      <td>84</td>\n      <td>0</td>\n      <td>1</td>\n      <td>...</td>\n      <td>0</td>\n      <td>0</td>\n      <td>0</td>\n      <td>0</td>\n      <td>0</td>\n      <td>0</td>\n      <td>0</td>\n      <td>1</td>\n      <td>0</td>\n      <td>0</td>\n    </tr>\n    <tr>\n      <th>2</th>\n      <td>458996</td>\n      <td>69</td>\n      <td>0.0</td>\n      <td>1.0</td>\n      <td>6</td>\n      <td>26</td>\n      <td>191</td>\n      <td>86</td>\n      <td>1</td>\n      <td>0</td>\n      <td>...</td>\n      <td>0</td>\n      <td>1</td>\n      <td>0</td>\n      <td>0</td>\n      <td>0</td>\n      <td>0</td>\n      <td>0</td>\n      <td>1</td>\n      <td>0</td>\n      <td>0</td>\n    </tr>\n    <tr>\n      <th>3</th>\n      <td>459000</td>\n      <td>59</td>\n      <td>11.0</td>\n      <td>2.0</td>\n      <td>3</td>\n      <td>0</td>\n      <td>195</td>\n      <td>0</td>\n      <td>0</td>\n      <td>1</td>\n      <td>...</td>\n      <td>1</td>\n      <td>0</td>\n      <td>0</td>\n      <td>0</td>\n      <td>0</td>\n      <td>0</td>\n      <td>0</td>\n      <td>1</td>\n      <td>0</td>\n      <td>0</td>\n    </tr>\n    <tr>\n      <th>4</th>\n      <td>459001</td>\n      <td>19</td>\n      <td>NaN</td>\n      <td>4.0</td>\n      <td>4</td>\n      <td>1</td>\n      <td>196</td>\n      <td>1</td>\n      <td>1</td>\n      <td>0</td>\n      <td>...</td>\n      <td>0</td>\n      <td>1</td>\n      <td>0</td>\n      <td>0</td>\n      <td>0</td>\n      <td>0</td>\n      <td>0</td>\n      <td>1</td>\n      <td>0</td>\n      <td>0</td>\n    </tr>\n    <tr>\n      <th>...</th>\n      <td>...</td>\n      <td>...</td>\n      <td>...</td>\n      <td>...</td>\n      <td>...</td>\n      <td>...</td>\n      <td>...</td>\n      <td>...</td>\n      <td>...</td>\n      <td>...</td>\n      <td>...</td>\n      <td>...</td>\n      <td>...</td>\n      <td>...</td>\n      <td>...</td>\n      <td>...</td>\n      <td>...</td>\n      <td>...</td>\n      <td>...</td>\n      <td>...</td>\n      <td>...</td>\n    </tr>\n    <tr>\n      <th>2622</th>\n      <td>467954</td>\n      <td>29</td>\n      <td>9.0</td>\n      <td>4.0</td>\n      <td>4</td>\n      <td>14</td>\n      <td>24</td>\n      <td>44</td>\n      <td>0</td>\n      <td>1</td>\n      <td>...</td>\n      <td>0</td>\n      <td>1</td>\n      <td>0</td>\n      <td>0</td>\n      <td>0</td>\n      <td>0</td>\n      <td>0</td>\n      <td>1</td>\n      <td>0</td>\n      <td>0</td>\n    </tr>\n    <tr>\n      <th>2623</th>\n      <td>467958</td>\n      <td>35</td>\n      <td>1.0</td>\n      <td>1.0</td>\n      <td>1</td>\n      <td>18</td>\n      <td>28</td>\n      <td>48</td>\n      <td>1</td>\n      <td>0</td>\n      <td>...</td>\n      <td>0</td>\n      <td>1</td>\n      <td>0</td>\n      <td>0</td>\n      <td>0</td>\n      <td>0</td>\n      <td>0</td>\n      <td>1</td>\n      <td>0</td>\n      <td>0</td>\n    </tr>\n    <tr>\n      <th>2624</th>\n      <td>467960</td>\n      <td>53</td>\n      <td>NaN</td>\n      <td>2.0</td>\n      <td>3</td>\n      <td>20</td>\n      <td>30</td>\n      <td>50</td>\n      <td>1</td>\n      <td>0</td>\n      <td>...</td>\n      <td>0</td>\n      <td>1</td>\n      <td>0</td>\n      <td>0</td>\n      <td>0</td>\n      <td>0</td>\n      <td>0</td>\n      <td>1</td>\n      <td>0</td>\n      <td>0</td>\n    </tr>\n    <tr>\n      <th>2625</th>\n      <td>467961</td>\n      <td>47</td>\n      <td>1.0</td>\n      <td>5.0</td>\n      <td>4</td>\n      <td>21</td>\n      <td>31</td>\n      <td>51</td>\n      <td>0</td>\n      <td>1</td>\n      <td>...</td>\n      <td>1</td>\n      <td>0</td>\n      <td>0</td>\n      <td>0</td>\n      <td>0</td>\n      <td>1</td>\n      <td>0</td>\n      <td>0</td>\n      <td>0</td>\n      <td>0</td>\n    </tr>\n    <tr>\n      <th>2626</th>\n      <td>467968</td>\n      <td>43</td>\n      <td>9.0</td>\n      <td>3.0</td>\n      <td>4</td>\n      <td>28</td>\n      <td>38</td>\n      <td>58</td>\n      <td>1</td>\n      <td>0</td>\n      <td>...</td>\n      <td>0</td>\n      <td>1</td>\n      <td>0</td>\n      <td>0</td>\n      <td>0</td>\n      <td>0</td>\n      <td>0</td>\n      <td>0</td>\n      <td>1</td>\n      <td>0</td>\n    </tr>\n  </tbody>\n</table>\n<p>2627 rows × 37 columns</p>\n</div>"
     },
     "metadata": {},
     "execution_count": 33
    }
   ],
   "source": [
    "Xtest"
   ]
  },
  {
   "cell_type": "code",
   "execution_count": 34,
   "metadata": {
    "tags": []
   },
   "outputs": [
    {
     "output_type": "execute_result",
     "data": {
      "text/plain": "ID                  0\nAge                 0\nWork_Experience     0\nFamily_Size         0\nweek                0\nmonth               0\nyear                0\nquarter             0\nGender_0            0\nGender_1            0\nEver_Married_0      0\nEver_Married_1      0\nEver_Married_2      0\nGraduated_0         0\nGraduated_1         0\nGraduated_2         0\nProfession_0        0\nProfession_1        0\nProfession_2        0\nProfession_3        0\nProfession_4        0\nProfession_5        0\nProfession_6        0\nProfession_7        0\nProfession_8        0\nProfession_9        0\nSpending_Score_0    0\nSpending_Score_1    0\nSpending_Score_2    0\nVar_1_0             0\nVar_1_1             0\nVar_1_2             0\nVar_1_3             0\nVar_1_4             0\nVar_1_5             0\nVar_1_6             0\nVar_1_7             0\ndtype: int64"
     },
     "metadata": {},
     "execution_count": 34
    }
   ],
   "source": [
    "X.isnull().sum()"
   ]
  },
  {
   "cell_type": "code",
   "execution_count": 35,
   "metadata": {},
   "outputs": [],
   "source": [
    "from lightgbm import LGBMClassifier\n",
    "from catboost import CatBoostClassifier"
   ]
  },
  {
   "cell_type": "code",
   "execution_count": 36,
   "metadata": {},
   "outputs": [],
   "source": [
    "from sklearn.impute import KNNImputer\n",
    "from sklearn.pipeline import make_pipeline\n",
    "from sklearn.ensemble import RandomForestClassifier"
   ]
  },
  {
   "cell_type": "code",
   "execution_count": 37,
   "metadata": {},
   "outputs": [],
   "source": [
    "pipe = LGBMClassifier(n_estimators=300, max_features = .85, max_depth = 15, learning_rate = 1.1).fit(X, y)"
   ]
  },
  {
   "cell_type": "code",
   "execution_count": 48,
   "metadata": {},
   "outputs": [],
   "source": [
    "pipe= make_pipeline(KNNImputer(n_neighbors = 10), LGBMClassifier(n_estimators=300, max_features = .85, max_depth = 15, learning_rate = 1.1)).fit(X, y)"
   ]
  },
  {
   "cell_type": "code",
   "execution_count": 49,
   "metadata": {},
   "outputs": [],
   "source": [
    "preds=pipe.predict(Xtest)"
   ]
  },
  {
   "cell_type": "code",
   "execution_count": 50,
   "metadata": {},
   "outputs": [
    {
     "output_type": "execute_result",
     "data": {
      "text/plain": "array(['B', 'C', 'D', ..., 'A', 'B', 'D'], dtype=object)"
     },
     "metadata": {},
     "execution_count": 50
    }
   ],
   "source": [
    "preds"
   ]
  },
  {
   "cell_type": "code",
   "execution_count": 13,
   "metadata": {},
   "outputs": [],
   "source": [
    "sub=pd.DataFrame({'ID':test['ID']})"
   ]
  },
  {
   "cell_type": "code",
   "execution_count": 51,
   "metadata": {},
   "outputs": [],
   "source": [
    "sub['Segmentation']=preds"
   ]
  },
  {
   "cell_type": "code",
   "execution_count": 41,
   "metadata": {},
   "outputs": [
    {
     "output_type": "execute_result",
     "data": {
      "text/plain": "          ID Segmentation\n0     458989            B\n1     458994            C\n2     458996            D\n3     459000            C\n4     459001            D\n...      ...          ...\n2622  467954            D\n2623  467958            A\n2624  467960            A\n2625  467961            B\n2626  467968            D\n\n[2627 rows x 2 columns]",
      "text/html": "<div>\n<style scoped>\n    .dataframe tbody tr th:only-of-type {\n        vertical-align: middle;\n    }\n\n    .dataframe tbody tr th {\n        vertical-align: top;\n    }\n\n    .dataframe thead th {\n        text-align: right;\n    }\n</style>\n<table border=\"1\" class=\"dataframe\">\n  <thead>\n    <tr style=\"text-align: right;\">\n      <th></th>\n      <th>ID</th>\n      <th>Segmentation</th>\n    </tr>\n  </thead>\n  <tbody>\n    <tr>\n      <th>0</th>\n      <td>458989</td>\n      <td>B</td>\n    </tr>\n    <tr>\n      <th>1</th>\n      <td>458994</td>\n      <td>C</td>\n    </tr>\n    <tr>\n      <th>2</th>\n      <td>458996</td>\n      <td>D</td>\n    </tr>\n    <tr>\n      <th>3</th>\n      <td>459000</td>\n      <td>C</td>\n    </tr>\n    <tr>\n      <th>4</th>\n      <td>459001</td>\n      <td>D</td>\n    </tr>\n    <tr>\n      <th>...</th>\n      <td>...</td>\n      <td>...</td>\n    </tr>\n    <tr>\n      <th>2622</th>\n      <td>467954</td>\n      <td>D</td>\n    </tr>\n    <tr>\n      <th>2623</th>\n      <td>467958</td>\n      <td>A</td>\n    </tr>\n    <tr>\n      <th>2624</th>\n      <td>467960</td>\n      <td>A</td>\n    </tr>\n    <tr>\n      <th>2625</th>\n      <td>467961</td>\n      <td>B</td>\n    </tr>\n    <tr>\n      <th>2626</th>\n      <td>467968</td>\n      <td>D</td>\n    </tr>\n  </tbody>\n</table>\n<p>2627 rows × 2 columns</p>\n</div>"
     },
     "metadata": {},
     "execution_count": 41
    }
   ],
   "source": [
    "sub"
   ]
  },
  {
   "cell_type": "code",
   "execution_count": 52,
   "metadata": {},
   "outputs": [],
   "source": [
    "sub.to_csv('Mysub13.csv',index=False)"
   ]
  },
  {
   "cell_type": "code",
   "execution_count": null,
   "metadata": {},
   "outputs": [],
   "source": []
  }
 ]
}