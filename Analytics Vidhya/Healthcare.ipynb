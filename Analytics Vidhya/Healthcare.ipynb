{
 "metadata": {
  "language_info": {
   "codemirror_mode": {
    "name": "ipython",
    "version": 3
   },
   "file_extension": ".py",
   "mimetype": "text/x-python",
   "name": "python",
   "nbconvert_exporter": "python",
   "pygments_lexer": "ipython3",
   "version": 3
  },
  "orig_nbformat": 2,
  "kernelspec": {
   "name": "python_defaultSpec_1595164466092",
   "display_name": "Python 3.8.3 64-bit"
  }
 },
 "nbformat": 4,
 "nbformat_minor": 2,
 "cells": [
  {
   "cell_type": "code",
   "execution_count": 1,
   "metadata": {},
   "outputs": [],
   "source": [
    "import numpy as np\n",
    "import pandas as pd\n",
    "import matplotlib.pyplot as plt"
   ]
  },
  {
   "cell_type": "code",
   "execution_count": 2,
   "metadata": {},
   "outputs": [],
   "source": [
    "train=pd.read_csv('train.csv')\n",
    "test=pd.read_csv('test.csv')"
   ]
  },
  {
   "cell_type": "code",
   "execution_count": 3,
   "metadata": {},
   "outputs": [
    {
     "output_type": "execute_result",
     "data": {
      "text/plain": "   Patient_ID  Health_Camp_ID Registration_Date  Var1  Var2  Var3  Var4  Var5\n0      489652            6578         10-Sep-05     4     0     0     0     2\n1      507246            6578         18-Aug-05    45     5     0     0     7\n2      523729            6534         29-Apr-06     0     0     0     0     0\n3      524931            6535         07-Feb-04     0     0     0     0     0\n4      521364            6529         28-Feb-06    15     1     0     0     7",
      "text/html": "<div>\n<style scoped>\n    .dataframe tbody tr th:only-of-type {\n        vertical-align: middle;\n    }\n\n    .dataframe tbody tr th {\n        vertical-align: top;\n    }\n\n    .dataframe thead th {\n        text-align: right;\n    }\n</style>\n<table border=\"1\" class=\"dataframe\">\n  <thead>\n    <tr style=\"text-align: right;\">\n      <th></th>\n      <th>Patient_ID</th>\n      <th>Health_Camp_ID</th>\n      <th>Registration_Date</th>\n      <th>Var1</th>\n      <th>Var2</th>\n      <th>Var3</th>\n      <th>Var4</th>\n      <th>Var5</th>\n    </tr>\n  </thead>\n  <tbody>\n    <tr>\n      <th>0</th>\n      <td>489652</td>\n      <td>6578</td>\n      <td>10-Sep-05</td>\n      <td>4</td>\n      <td>0</td>\n      <td>0</td>\n      <td>0</td>\n      <td>2</td>\n    </tr>\n    <tr>\n      <th>1</th>\n      <td>507246</td>\n      <td>6578</td>\n      <td>18-Aug-05</td>\n      <td>45</td>\n      <td>5</td>\n      <td>0</td>\n      <td>0</td>\n      <td>7</td>\n    </tr>\n    <tr>\n      <th>2</th>\n      <td>523729</td>\n      <td>6534</td>\n      <td>29-Apr-06</td>\n      <td>0</td>\n      <td>0</td>\n      <td>0</td>\n      <td>0</td>\n      <td>0</td>\n    </tr>\n    <tr>\n      <th>3</th>\n      <td>524931</td>\n      <td>6535</td>\n      <td>07-Feb-04</td>\n      <td>0</td>\n      <td>0</td>\n      <td>0</td>\n      <td>0</td>\n      <td>0</td>\n    </tr>\n    <tr>\n      <th>4</th>\n      <td>521364</td>\n      <td>6529</td>\n      <td>28-Feb-06</td>\n      <td>15</td>\n      <td>1</td>\n      <td>0</td>\n      <td>0</td>\n      <td>7</td>\n    </tr>\n  </tbody>\n</table>\n</div>"
     },
     "metadata": {},
     "execution_count": 3
    }
   ],
   "source": [
    "train.head()"
   ]
  },
  {
   "cell_type": "code",
   "execution_count": 4,
   "metadata": {},
   "outputs": [
    {
     "output_type": "execute_result",
     "data": {
      "text/plain": "   Patient_ID  Health_Camp_ID Registration_Date  Var1  Var2  Var3  Var4  Var5\n0      505701            6548         21-May-06     1     0     0     0     2\n1      500633            6584         02-Jun-06     0     0     0     0     0\n2      506945            6582         10-Aug-06     0     0     0     0     0\n3      497447            6551         27-Aug-06     0     0     0     0     0\n4      496446            6533         19-Sep-06     0     0     0     0     0",
      "text/html": "<div>\n<style scoped>\n    .dataframe tbody tr th:only-of-type {\n        vertical-align: middle;\n    }\n\n    .dataframe tbody tr th {\n        vertical-align: top;\n    }\n\n    .dataframe thead th {\n        text-align: right;\n    }\n</style>\n<table border=\"1\" class=\"dataframe\">\n  <thead>\n    <tr style=\"text-align: right;\">\n      <th></th>\n      <th>Patient_ID</th>\n      <th>Health_Camp_ID</th>\n      <th>Registration_Date</th>\n      <th>Var1</th>\n      <th>Var2</th>\n      <th>Var3</th>\n      <th>Var4</th>\n      <th>Var5</th>\n    </tr>\n  </thead>\n  <tbody>\n    <tr>\n      <th>0</th>\n      <td>505701</td>\n      <td>6548</td>\n      <td>21-May-06</td>\n      <td>1</td>\n      <td>0</td>\n      <td>0</td>\n      <td>0</td>\n      <td>2</td>\n    </tr>\n    <tr>\n      <th>1</th>\n      <td>500633</td>\n      <td>6584</td>\n      <td>02-Jun-06</td>\n      <td>0</td>\n      <td>0</td>\n      <td>0</td>\n      <td>0</td>\n      <td>0</td>\n    </tr>\n    <tr>\n      <th>2</th>\n      <td>506945</td>\n      <td>6582</td>\n      <td>10-Aug-06</td>\n      <td>0</td>\n      <td>0</td>\n      <td>0</td>\n      <td>0</td>\n      <td>0</td>\n    </tr>\n    <tr>\n      <th>3</th>\n      <td>497447</td>\n      <td>6551</td>\n      <td>27-Aug-06</td>\n      <td>0</td>\n      <td>0</td>\n      <td>0</td>\n      <td>0</td>\n      <td>0</td>\n    </tr>\n    <tr>\n      <th>4</th>\n      <td>496446</td>\n      <td>6533</td>\n      <td>19-Sep-06</td>\n      <td>0</td>\n      <td>0</td>\n      <td>0</td>\n      <td>0</td>\n      <td>0</td>\n    </tr>\n  </tbody>\n</table>\n</div>"
     },
     "metadata": {},
     "execution_count": 4
    }
   ],
   "source": [
    "test.head()"
   ]
  },
  {
   "cell_type": "code",
   "execution_count": 36,
   "metadata": {},
   "outputs": [],
   "source": [
    "camp1=pd.read_csv('First_Health_Camp_Attended.csv')\n",
    "camp2=pd.read_csv('Second_Health_Camp_Attended.csv')\n",
    "camp3=pd.read_csv('Third_Health_Camp_Attended.csv')"
   ]
  },
  {
   "cell_type": "code",
   "execution_count": null,
   "metadata": {},
   "outputs": [],
   "source": []
  },
  {
   "cell_type": "code",
   "execution_count": 6,
   "metadata": {},
   "outputs": [
    {
     "output_type": "execute_result",
     "data": {
      "text/plain": "       Patient_ID  Health_Camp_ID Registration_Date  Var1  Var2  Var3  Var4  \\\n0          505701            6548         21-May-06     1     0     0     0   \n1          500633            6584         02-Jun-06     0     0     0     0   \n2          506945            6582         10-Aug-06     0     0     0     0   \n3          497447            6551         27-Aug-06     0     0     0     0   \n4          496446            6533         19-Sep-06     0     0     0     0   \n...           ...             ...               ...   ...   ...   ...   ...   \n35244      507261            6525         13-Apr-06    12     2     0     0   \n35245      513607            6551         03-Nov-06     0     0     0     0   \n35246      498160            6584         17-Jun-06     0     0     0     0   \n35247      502444            6567         13-Jan-07     0     0     0     0   \n35248      523811            6584         16-Jun-06     4     3     0     2   \n\n       Var5  \n0         2  \n1         0  \n2         0  \n3         0  \n4         0  \n...     ...  \n35244     6  \n35245     0  \n35246     0  \n35247     0  \n35248     4  \n\n[35249 rows x 8 columns]",
      "text/html": "<div>\n<style scoped>\n    .dataframe tbody tr th:only-of-type {\n        vertical-align: middle;\n    }\n\n    .dataframe tbody tr th {\n        vertical-align: top;\n    }\n\n    .dataframe thead th {\n        text-align: right;\n    }\n</style>\n<table border=\"1\" class=\"dataframe\">\n  <thead>\n    <tr style=\"text-align: right;\">\n      <th></th>\n      <th>Patient_ID</th>\n      <th>Health_Camp_ID</th>\n      <th>Registration_Date</th>\n      <th>Var1</th>\n      <th>Var2</th>\n      <th>Var3</th>\n      <th>Var4</th>\n      <th>Var5</th>\n    </tr>\n  </thead>\n  <tbody>\n    <tr>\n      <th>0</th>\n      <td>505701</td>\n      <td>6548</td>\n      <td>21-May-06</td>\n      <td>1</td>\n      <td>0</td>\n      <td>0</td>\n      <td>0</td>\n      <td>2</td>\n    </tr>\n    <tr>\n      <th>1</th>\n      <td>500633</td>\n      <td>6584</td>\n      <td>02-Jun-06</td>\n      <td>0</td>\n      <td>0</td>\n      <td>0</td>\n      <td>0</td>\n      <td>0</td>\n    </tr>\n    <tr>\n      <th>2</th>\n      <td>506945</td>\n      <td>6582</td>\n      <td>10-Aug-06</td>\n      <td>0</td>\n      <td>0</td>\n      <td>0</td>\n      <td>0</td>\n      <td>0</td>\n    </tr>\n    <tr>\n      <th>3</th>\n      <td>497447</td>\n      <td>6551</td>\n      <td>27-Aug-06</td>\n      <td>0</td>\n      <td>0</td>\n      <td>0</td>\n      <td>0</td>\n      <td>0</td>\n    </tr>\n    <tr>\n      <th>4</th>\n      <td>496446</td>\n      <td>6533</td>\n      <td>19-Sep-06</td>\n      <td>0</td>\n      <td>0</td>\n      <td>0</td>\n      <td>0</td>\n      <td>0</td>\n    </tr>\n    <tr>\n      <th>...</th>\n      <td>...</td>\n      <td>...</td>\n      <td>...</td>\n      <td>...</td>\n      <td>...</td>\n      <td>...</td>\n      <td>...</td>\n      <td>...</td>\n    </tr>\n    <tr>\n      <th>35244</th>\n      <td>507261</td>\n      <td>6525</td>\n      <td>13-Apr-06</td>\n      <td>12</td>\n      <td>2</td>\n      <td>0</td>\n      <td>0</td>\n      <td>6</td>\n    </tr>\n    <tr>\n      <th>35245</th>\n      <td>513607</td>\n      <td>6551</td>\n      <td>03-Nov-06</td>\n      <td>0</td>\n      <td>0</td>\n      <td>0</td>\n      <td>0</td>\n      <td>0</td>\n    </tr>\n    <tr>\n      <th>35246</th>\n      <td>498160</td>\n      <td>6584</td>\n      <td>17-Jun-06</td>\n      <td>0</td>\n      <td>0</td>\n      <td>0</td>\n      <td>0</td>\n      <td>0</td>\n    </tr>\n    <tr>\n      <th>35247</th>\n      <td>502444</td>\n      <td>6567</td>\n      <td>13-Jan-07</td>\n      <td>0</td>\n      <td>0</td>\n      <td>0</td>\n      <td>0</td>\n      <td>0</td>\n    </tr>\n    <tr>\n      <th>35248</th>\n      <td>523811</td>\n      <td>6584</td>\n      <td>16-Jun-06</td>\n      <td>4</td>\n      <td>3</td>\n      <td>0</td>\n      <td>2</td>\n      <td>4</td>\n    </tr>\n  </tbody>\n</table>\n<p>35249 rows × 8 columns</p>\n</div>"
     },
     "metadata": {},
     "execution_count": 6
    }
   ],
   "source": [
    "test"
   ]
  },
  {
   "cell_type": "code",
   "execution_count": 7,
   "metadata": {},
   "outputs": [
    {
     "output_type": "execute_result",
     "data": {
      "text/plain": "   Patient_ID  Health_Camp_ID  Number_of_stall_visited  \\\n0      517875            6527                        3   \n1      504692            6578                        1   \n2      504692            6527                        3   \n3      493167            6527                        4   \n4      510954            6528                        2   \n\n   Last_Stall_Visited_Number  \n0                          1  \n1                          1  \n2                          1  \n3                          4  \n4                          2  ",
      "text/html": "<div>\n<style scoped>\n    .dataframe tbody tr th:only-of-type {\n        vertical-align: middle;\n    }\n\n    .dataframe tbody tr th {\n        vertical-align: top;\n    }\n\n    .dataframe thead th {\n        text-align: right;\n    }\n</style>\n<table border=\"1\" class=\"dataframe\">\n  <thead>\n    <tr style=\"text-align: right;\">\n      <th></th>\n      <th>Patient_ID</th>\n      <th>Health_Camp_ID</th>\n      <th>Number_of_stall_visited</th>\n      <th>Last_Stall_Visited_Number</th>\n    </tr>\n  </thead>\n  <tbody>\n    <tr>\n      <th>0</th>\n      <td>517875</td>\n      <td>6527</td>\n      <td>3</td>\n      <td>1</td>\n    </tr>\n    <tr>\n      <th>1</th>\n      <td>504692</td>\n      <td>6578</td>\n      <td>1</td>\n      <td>1</td>\n    </tr>\n    <tr>\n      <th>2</th>\n      <td>504692</td>\n      <td>6527</td>\n      <td>3</td>\n      <td>1</td>\n    </tr>\n    <tr>\n      <th>3</th>\n      <td>493167</td>\n      <td>6527</td>\n      <td>4</td>\n      <td>4</td>\n    </tr>\n    <tr>\n      <th>4</th>\n      <td>510954</td>\n      <td>6528</td>\n      <td>2</td>\n      <td>2</td>\n    </tr>\n  </tbody>\n</table>\n</div>"
     },
     "metadata": {},
     "execution_count": 7
    }
   ],
   "source": [
    "camp3.head()"
   ]
  },
  {
   "cell_type": "code",
   "execution_count": 6,
   "metadata": {},
   "outputs": [],
   "source": [
    "patient=pd.read_csv('Patient_Profile.csv')"
   ]
  },
  {
   "cell_type": "code",
   "execution_count": 10,
   "metadata": {},
   "outputs": [
    {
     "output_type": "execute_result",
     "data": {
      "text/plain": "Index(['Patient_ID', 'Online_Follower', 'LinkedIn_Shared', 'Twitter_Shared',\n       'Facebook_Shared', 'Income', 'Education_Score', 'Age',\n       'First_Interaction', 'City_Type', 'Employer_Category'],\n      dtype='object')"
     },
     "metadata": {},
     "execution_count": 10
    }
   ],
   "source": [
    "patient.columns"
   ]
  },
  {
   "cell_type": "code",
   "execution_count": 11,
   "metadata": {},
   "outputs": [],
   "source": [
    "pat=patient[['Patient_ID', 'Online_Follower', 'LinkedIn_Shared', 'Twitter_Shared',\n",
    "       'Facebook_Shared', 'Income', 'Education_Score','City_Type', 'Employer_Category']]"
   ]
  },
  {
   "cell_type": "code",
   "execution_count": 37,
   "metadata": {},
   "outputs": [],
   "source": [
    "camp3['fav']=camp3['Number_of_stall_visited'].apply(lambda x:0 if x<1 else 1)"
   ]
  },
  {
   "cell_type": "code",
   "execution_count": 38,
   "metadata": {},
   "outputs": [],
   "source": [
    "camp1['fav']=camp1['Health_Score'].apply(lambda x:1 if x>0 else 0)"
   ]
  },
  {
   "cell_type": "code",
   "execution_count": 39,
   "metadata": {},
   "outputs": [],
   "source": [
    "camp2['fav']=camp2['Health Score'].apply(lambda x:1 if x>0 else 0)"
   ]
  },
  {
   "cell_type": "code",
   "execution_count": 40,
   "metadata": {},
   "outputs": [],
   "source": [
    "camp1=camp1[['Patient_ID','Health_Camp_ID','fav']]\n",
    "camp2=camp2[['Patient_ID','Health_Camp_ID','fav']]\n",
    "camp3=camp3[['Patient_ID','Health_Camp_ID','fav']]"
   ]
  },
  {
   "cell_type": "code",
   "execution_count": 41,
   "metadata": {},
   "outputs": [
    {
     "output_type": "execute_result",
     "data": {
      "text/plain": "      Patient_ID  Health_Camp_ID  fav\n0         506181            6560    1\n1         494977            6560    1\n2         518680            6560    1\n3         509916            6560    1\n4         488006            6560    1\n...          ...             ...  ...\n6213      502728            6575    1\n6214      511088            6575    1\n6215      507608            6575    1\n6216      488046            6575    1\n6217      508766            6575    1\n\n[6218 rows x 3 columns]",
      "text/html": "<div>\n<style scoped>\n    .dataframe tbody tr th:only-of-type {\n        vertical-align: middle;\n    }\n\n    .dataframe tbody tr th {\n        vertical-align: top;\n    }\n\n    .dataframe thead th {\n        text-align: right;\n    }\n</style>\n<table border=\"1\" class=\"dataframe\">\n  <thead>\n    <tr style=\"text-align: right;\">\n      <th></th>\n      <th>Patient_ID</th>\n      <th>Health_Camp_ID</th>\n      <th>fav</th>\n    </tr>\n  </thead>\n  <tbody>\n    <tr>\n      <th>0</th>\n      <td>506181</td>\n      <td>6560</td>\n      <td>1</td>\n    </tr>\n    <tr>\n      <th>1</th>\n      <td>494977</td>\n      <td>6560</td>\n      <td>1</td>\n    </tr>\n    <tr>\n      <th>2</th>\n      <td>518680</td>\n      <td>6560</td>\n      <td>1</td>\n    </tr>\n    <tr>\n      <th>3</th>\n      <td>509916</td>\n      <td>6560</td>\n      <td>1</td>\n    </tr>\n    <tr>\n      <th>4</th>\n      <td>488006</td>\n      <td>6560</td>\n      <td>1</td>\n    </tr>\n    <tr>\n      <th>...</th>\n      <td>...</td>\n      <td>...</td>\n      <td>...</td>\n    </tr>\n    <tr>\n      <th>6213</th>\n      <td>502728</td>\n      <td>6575</td>\n      <td>1</td>\n    </tr>\n    <tr>\n      <th>6214</th>\n      <td>511088</td>\n      <td>6575</td>\n      <td>1</td>\n    </tr>\n    <tr>\n      <th>6215</th>\n      <td>507608</td>\n      <td>6575</td>\n      <td>1</td>\n    </tr>\n    <tr>\n      <th>6216</th>\n      <td>488046</td>\n      <td>6575</td>\n      <td>1</td>\n    </tr>\n    <tr>\n      <th>6217</th>\n      <td>508766</td>\n      <td>6575</td>\n      <td>1</td>\n    </tr>\n  </tbody>\n</table>\n<p>6218 rows × 3 columns</p>\n</div>"
     },
     "metadata": {},
     "execution_count": 41
    }
   ],
   "source": [
    "camp1"
   ]
  },
  {
   "cell_type": "code",
   "execution_count": 42,
   "metadata": {},
   "outputs": [],
   "source": [
    "camp=pd.concat([camp1,camp2])"
   ]
  },
  {
   "cell_type": "code",
   "execution_count": 43,
   "metadata": {},
   "outputs": [
    {
     "output_type": "execute_result",
     "data": {
      "text/plain": "      Patient_ID  Health_Camp_ID  fav\n0         506181            6560    1\n1         494977            6560    1\n2         518680            6560    1\n3         509916            6560    1\n4         488006            6560    1\n...          ...             ...  ...\n7814      490853            6529    1\n7815      499836            6529    1\n7816      511286            6529    1\n7817      522935            6529    1\n7818      489487            6529    1\n\n[14037 rows x 3 columns]",
      "text/html": "<div>\n<style scoped>\n    .dataframe tbody tr th:only-of-type {\n        vertical-align: middle;\n    }\n\n    .dataframe tbody tr th {\n        vertical-align: top;\n    }\n\n    .dataframe thead th {\n        text-align: right;\n    }\n</style>\n<table border=\"1\" class=\"dataframe\">\n  <thead>\n    <tr style=\"text-align: right;\">\n      <th></th>\n      <th>Patient_ID</th>\n      <th>Health_Camp_ID</th>\n      <th>fav</th>\n    </tr>\n  </thead>\n  <tbody>\n    <tr>\n      <th>0</th>\n      <td>506181</td>\n      <td>6560</td>\n      <td>1</td>\n    </tr>\n    <tr>\n      <th>1</th>\n      <td>494977</td>\n      <td>6560</td>\n      <td>1</td>\n    </tr>\n    <tr>\n      <th>2</th>\n      <td>518680</td>\n      <td>6560</td>\n      <td>1</td>\n    </tr>\n    <tr>\n      <th>3</th>\n      <td>509916</td>\n      <td>6560</td>\n      <td>1</td>\n    </tr>\n    <tr>\n      <th>4</th>\n      <td>488006</td>\n      <td>6560</td>\n      <td>1</td>\n    </tr>\n    <tr>\n      <th>...</th>\n      <td>...</td>\n      <td>...</td>\n      <td>...</td>\n    </tr>\n    <tr>\n      <th>7814</th>\n      <td>490853</td>\n      <td>6529</td>\n      <td>1</td>\n    </tr>\n    <tr>\n      <th>7815</th>\n      <td>499836</td>\n      <td>6529</td>\n      <td>1</td>\n    </tr>\n    <tr>\n      <th>7816</th>\n      <td>511286</td>\n      <td>6529</td>\n      <td>1</td>\n    </tr>\n    <tr>\n      <th>7817</th>\n      <td>522935</td>\n      <td>6529</td>\n      <td>1</td>\n    </tr>\n    <tr>\n      <th>7818</th>\n      <td>489487</td>\n      <td>6529</td>\n      <td>1</td>\n    </tr>\n  </tbody>\n</table>\n<p>14037 rows × 3 columns</p>\n</div>"
     },
     "metadata": {},
     "execution_count": 43
    }
   ],
   "source": [
    "camp"
   ]
  },
  {
   "cell_type": "code",
   "execution_count": 44,
   "metadata": {},
   "outputs": [],
   "source": [
    "camp=pd.concat([camp,camp3])"
   ]
  },
  {
   "cell_type": "code",
   "execution_count": 45,
   "metadata": {},
   "outputs": [],
   "source": [
    "camp=camp.reset_index()"
   ]
  },
  {
   "cell_type": "code",
   "execution_count": 46,
   "metadata": {},
   "outputs": [],
   "source": [
    "camp.drop(['index'],axis=1,inplace=True)"
   ]
  },
  {
   "cell_type": "code",
   "execution_count": 52,
   "metadata": {},
   "outputs": [
    {
     "output_type": "execute_result",
     "data": {
      "text/plain": "0    74134\n1      717\n2      323\n3       91\n4       13\nName: Var4, dtype: int64"
     },
     "metadata": {},
     "execution_count": 52
    }
   ],
   "source": [
    "train['Var4'].value_counts()"
   ]
  },
  {
   "cell_type": "code",
   "execution_count": 49,
   "metadata": {},
   "outputs": [],
   "source": [
    "import seaborn as sns"
   ]
  },
  {
   "cell_type": "code",
   "execution_count": 53,
   "metadata": {},
   "outputs": [
    {
     "output_type": "execute_result",
     "data": {
      "text/plain": "<matplotlib.axes._subplots.AxesSubplot at 0x20ca21e6bb0>"
     },
     "metadata": {},
     "execution_count": 53
    },
    {
     "output_type": "display_data",
     "data": {
      "text/plain": "<Figure size 432x288 with 2 Axes>",
      "image/svg+xml": "<?xml version=\"1.0\" encoding=\"utf-8\" standalone=\"no\"?>\r\n<!DOCTYPE svg PUBLIC \"-//W3C//DTD SVG 1.1//EN\"\r\n  \"http://www.w3.org/Graphics/SVG/1.1/DTD/svg11.dtd\">\r\n<!-- Created with matplotlib (https://matplotlib.org/) -->\r\n<svg height=\"252.317344pt\" version=\"1.1\" viewBox=\"0 0 349.43325 252.317344\" width=\"349.43325pt\" xmlns=\"http://www.w3.org/2000/svg\" xmlns:xlink=\"http://www.w3.org/1999/xlink\">\r\n <defs>\r\n  <style type=\"text/css\">\r\n*{stroke-linecap:butt;stroke-linejoin:round;}\r\n  </style>\r\n </defs>\r\n <g id=\"figure_1\">\r\n  <g id=\"patch_1\">\r\n   <path d=\"M -0 252.317344 \r\nL 349.43325 252.317344 \r\nL 349.43325 0 \r\nL -0 0 \r\nz\r\n\" style=\"fill:none;\"/>\r\n  </g>\r\n  <g id=\"axes_1\">\r\n   <g id=\"patch_2\">\r\n    <path d=\"M 23.878125 228.439219 \r\nL 291.718125 228.439219 \r\nL 291.718125 10.999219 \r\nL 23.878125 10.999219 \r\nz\r\n\" style=\"fill:#ffffff;\"/>\r\n   </g>\r\n   <g id=\"QuadMesh_1\">\r\n    <path clip-path=\"url(#pda3cf6cb37)\" d=\"M 23.878125 10.999219 \r\nL 90.838125 10.999219 \r\nL 90.838125 65.359219 \r\nL 23.878125 65.359219 \r\nL 23.878125 10.999219 \r\n\" style=\"fill:#faebdd;\"/>\r\n    <path clip-path=\"url(#pda3cf6cb37)\" d=\"M 90.838125 10.999219 \r\nL 157.798125 10.999219 \r\nL 157.798125 65.359219 \r\nL 90.838125 65.359219 \r\nL 90.838125 10.999219 \r\n\" style=\"fill:#f47f58;\"/>\r\n    <path clip-path=\"url(#pda3cf6cb37)\" d=\"M 157.798125 10.999219 \r\nL 224.758125 10.999219 \r\nL 224.758125 65.359219 \r\nL 157.798125 65.359219 \r\nL 157.798125 10.999219 \r\n\" style=\"fill:#03051a;\"/>\r\n    <path clip-path=\"url(#pda3cf6cb37)\" d=\"M 224.758125 10.999219 \r\nL 291.718125 10.999219 \r\nL 291.718125 65.359219 \r\nL 224.758125 65.359219 \r\nL 224.758125 10.999219 \r\n\" style=\"fill:#ec4c3e;\"/>\r\n    <path clip-path=\"url(#pda3cf6cb37)\" d=\"M 23.878125 65.359219 \r\nL 90.838125 65.359219 \r\nL 90.838125 119.719219 \r\nL 23.878125 119.719219 \r\nL 23.878125 65.359219 \r\n\" style=\"fill:#f47f58;\"/>\r\n    <path clip-path=\"url(#pda3cf6cb37)\" d=\"M 90.838125 65.359219 \r\nL 157.798125 65.359219 \r\nL 157.798125 119.719219 \r\nL 90.838125 119.719219 \r\nL 90.838125 65.359219 \r\n\" style=\"fill:#faebdd;\"/>\r\n    <path clip-path=\"url(#pda3cf6cb37)\" d=\"M 157.798125 65.359219 \r\nL 224.758125 65.359219 \r\nL 224.758125 119.719219 \r\nL 157.798125 119.719219 \r\nL 157.798125 65.359219 \r\n\" style=\"fill:#c51852;\"/>\r\n    <path clip-path=\"url(#pda3cf6cb37)\" d=\"M 224.758125 65.359219 \r\nL 291.718125 65.359219 \r\nL 291.718125 119.719219 \r\nL 224.758125 119.719219 \r\nL 224.758125 65.359219 \r\n\" style=\"fill:#d62449;\"/>\r\n    <path clip-path=\"url(#pda3cf6cb37)\" d=\"M 23.878125 119.719219 \r\nL 90.838125 119.719219 \r\nL 90.838125 174.079219 \r\nL 23.878125 174.079219 \r\nL 23.878125 119.719219 \r\n\" style=\"fill:#03051a;\"/>\r\n    <path clip-path=\"url(#pda3cf6cb37)\" d=\"M 90.838125 119.719219 \r\nL 157.798125 119.719219 \r\nL 157.798125 174.079219 \r\nL 90.838125 174.079219 \r\nL 90.838125 119.719219 \r\n\" style=\"fill:#c51852;\"/>\r\n    <path clip-path=\"url(#pda3cf6cb37)\" d=\"M 157.798125 119.719219 \r\nL 224.758125 119.719219 \r\nL 224.758125 174.079219 \r\nL 157.798125 174.079219 \r\nL 157.798125 119.719219 \r\n\" style=\"fill:#faebdd;\"/>\r\n    <path clip-path=\"url(#pda3cf6cb37)\" d=\"M 224.758125 119.719219 \r\nL 291.718125 119.719219 \r\nL 291.718125 174.079219 \r\nL 224.758125 174.079219 \r\nL 224.758125 119.719219 \r\n\" style=\"fill:#110c24;\"/>\r\n    <path clip-path=\"url(#pda3cf6cb37)\" d=\"M 23.878125 174.079219 \r\nL 90.838125 174.079219 \r\nL 90.838125 228.439219 \r\nL 23.878125 228.439219 \r\nL 23.878125 174.079219 \r\n\" style=\"fill:#ec4c3e;\"/>\r\n    <path clip-path=\"url(#pda3cf6cb37)\" d=\"M 90.838125 174.079219 \r\nL 157.798125 174.079219 \r\nL 157.798125 228.439219 \r\nL 90.838125 228.439219 \r\nL 90.838125 174.079219 \r\n\" style=\"fill:#d62449;\"/>\r\n    <path clip-path=\"url(#pda3cf6cb37)\" d=\"M 157.798125 174.079219 \r\nL 224.758125 174.079219 \r\nL 224.758125 228.439219 \r\nL 157.798125 228.439219 \r\nL 157.798125 174.079219 \r\n\" style=\"fill:#110c24;\"/>\r\n    <path clip-path=\"url(#pda3cf6cb37)\" d=\"M 224.758125 174.079219 \r\nL 291.718125 174.079219 \r\nL 291.718125 228.439219 \r\nL 224.758125 228.439219 \r\nL 224.758125 174.079219 \r\n\" style=\"fill:#faebdd;\"/>\r\n   </g>\r\n   <g id=\"matplotlib.axis_1\">\r\n    <g id=\"xtick_1\">\r\n     <g id=\"line2d_1\">\r\n      <defs>\r\n       <path d=\"M 0 0 \r\nL 0 3.5 \r\n\" id=\"ma1530f661e\" style=\"stroke:#000000;stroke-width:0.8;\"/>\r\n      </defs>\r\n      <g>\r\n       <use style=\"stroke:#000000;stroke-width:0.8;\" x=\"57.358125\" xlink:href=\"#ma1530f661e\" y=\"228.439219\"/>\r\n      </g>\r\n     </g>\r\n     <g id=\"text_1\">\r\n      <!-- Var1 -->\r\n      <defs>\r\n       <path d=\"M 28.609375 0 \r\nL 0.78125 72.90625 \r\nL 11.078125 72.90625 \r\nL 34.1875 11.53125 \r\nL 57.328125 72.90625 \r\nL 67.578125 72.90625 \r\nL 39.796875 0 \r\nz\r\n\" id=\"DejaVuSans-86\"/>\r\n       <path d=\"M 34.28125 27.484375 \r\nQ 23.390625 27.484375 19.1875 25 \r\nQ 14.984375 22.515625 14.984375 16.5 \r\nQ 14.984375 11.71875 18.140625 8.90625 \r\nQ 21.296875 6.109375 26.703125 6.109375 \r\nQ 34.1875 6.109375 38.703125 11.40625 \r\nQ 43.21875 16.703125 43.21875 25.484375 \r\nL 43.21875 27.484375 \r\nz\r\nM 52.203125 31.203125 \r\nL 52.203125 0 \r\nL 43.21875 0 \r\nL 43.21875 8.296875 \r\nQ 40.140625 3.328125 35.546875 0.953125 \r\nQ 30.953125 -1.421875 24.3125 -1.421875 \r\nQ 15.921875 -1.421875 10.953125 3.296875 \r\nQ 6 8.015625 6 15.921875 \r\nQ 6 25.140625 12.171875 29.828125 \r\nQ 18.359375 34.515625 30.609375 34.515625 \r\nL 43.21875 34.515625 \r\nL 43.21875 35.40625 \r\nQ 43.21875 41.609375 39.140625 45 \r\nQ 35.0625 48.390625 27.6875 48.390625 \r\nQ 23 48.390625 18.546875 47.265625 \r\nQ 14.109375 46.140625 10.015625 43.890625 \r\nL 10.015625 52.203125 \r\nQ 14.9375 54.109375 19.578125 55.046875 \r\nQ 24.21875 56 28.609375 56 \r\nQ 40.484375 56 46.34375 49.84375 \r\nQ 52.203125 43.703125 52.203125 31.203125 \r\nz\r\n\" id=\"DejaVuSans-97\"/>\r\n       <path d=\"M 41.109375 46.296875 \r\nQ 39.59375 47.171875 37.8125 47.578125 \r\nQ 36.03125 48 33.890625 48 \r\nQ 26.265625 48 22.1875 43.046875 \r\nQ 18.109375 38.09375 18.109375 28.8125 \r\nL 18.109375 0 \r\nL 9.078125 0 \r\nL 9.078125 54.6875 \r\nL 18.109375 54.6875 \r\nL 18.109375 46.1875 \r\nQ 20.953125 51.171875 25.484375 53.578125 \r\nQ 30.03125 56 36.53125 56 \r\nQ 37.453125 56 38.578125 55.875 \r\nQ 39.703125 55.765625 41.0625 55.515625 \r\nz\r\n\" id=\"DejaVuSans-114\"/>\r\n       <path d=\"M 12.40625 8.296875 \r\nL 28.515625 8.296875 \r\nL 28.515625 63.921875 \r\nL 10.984375 60.40625 \r\nL 10.984375 69.390625 \r\nL 28.421875 72.90625 \r\nL 38.28125 72.90625 \r\nL 38.28125 8.296875 \r\nL 54.390625 8.296875 \r\nL 54.390625 0 \r\nL 12.40625 0 \r\nz\r\n\" id=\"DejaVuSans-49\"/>\r\n      </defs>\r\n      <g transform=\"translate(46.024531 243.037656)scale(0.1 -0.1)\">\r\n       <use xlink:href=\"#DejaVuSans-86\"/>\r\n       <use x=\"60.658203\" xlink:href=\"#DejaVuSans-97\"/>\r\n       <use x=\"121.9375\" xlink:href=\"#DejaVuSans-114\"/>\r\n       <use x=\"163.050781\" xlink:href=\"#DejaVuSans-49\"/>\r\n      </g>\r\n     </g>\r\n    </g>\r\n    <g id=\"xtick_2\">\r\n     <g id=\"line2d_2\">\r\n      <g>\r\n       <use style=\"stroke:#000000;stroke-width:0.8;\" x=\"124.318125\" xlink:href=\"#ma1530f661e\" y=\"228.439219\"/>\r\n      </g>\r\n     </g>\r\n     <g id=\"text_2\">\r\n      <!-- Var2 -->\r\n      <defs>\r\n       <path d=\"M 19.1875 8.296875 \r\nL 53.609375 8.296875 \r\nL 53.609375 0 \r\nL 7.328125 0 \r\nL 7.328125 8.296875 \r\nQ 12.9375 14.109375 22.625 23.890625 \r\nQ 32.328125 33.6875 34.8125 36.53125 \r\nQ 39.546875 41.84375 41.421875 45.53125 \r\nQ 43.3125 49.21875 43.3125 52.78125 \r\nQ 43.3125 58.59375 39.234375 62.25 \r\nQ 35.15625 65.921875 28.609375 65.921875 \r\nQ 23.96875 65.921875 18.8125 64.3125 \r\nQ 13.671875 62.703125 7.8125 59.421875 \r\nL 7.8125 69.390625 \r\nQ 13.765625 71.78125 18.9375 73 \r\nQ 24.125 74.21875 28.421875 74.21875 \r\nQ 39.75 74.21875 46.484375 68.546875 \r\nQ 53.21875 62.890625 53.21875 53.421875 \r\nQ 53.21875 48.921875 51.53125 44.890625 \r\nQ 49.859375 40.875 45.40625 35.40625 \r\nQ 44.1875 33.984375 37.640625 27.21875 \r\nQ 31.109375 20.453125 19.1875 8.296875 \r\nz\r\n\" id=\"DejaVuSans-50\"/>\r\n      </defs>\r\n      <g transform=\"translate(112.984531 243.037656)scale(0.1 -0.1)\">\r\n       <use xlink:href=\"#DejaVuSans-86\"/>\r\n       <use x=\"60.658203\" xlink:href=\"#DejaVuSans-97\"/>\r\n       <use x=\"121.9375\" xlink:href=\"#DejaVuSans-114\"/>\r\n       <use x=\"163.050781\" xlink:href=\"#DejaVuSans-50\"/>\r\n      </g>\r\n     </g>\r\n    </g>\r\n    <g id=\"xtick_3\">\r\n     <g id=\"line2d_3\">\r\n      <g>\r\n       <use style=\"stroke:#000000;stroke-width:0.8;\" x=\"191.278125\" xlink:href=\"#ma1530f661e\" y=\"228.439219\"/>\r\n      </g>\r\n     </g>\r\n     <g id=\"text_3\">\r\n      <!-- Var3 -->\r\n      <defs>\r\n       <path d=\"M 40.578125 39.3125 \r\nQ 47.65625 37.796875 51.625 33 \r\nQ 55.609375 28.21875 55.609375 21.1875 \r\nQ 55.609375 10.40625 48.1875 4.484375 \r\nQ 40.765625 -1.421875 27.09375 -1.421875 \r\nQ 22.515625 -1.421875 17.65625 -0.515625 \r\nQ 12.796875 0.390625 7.625 2.203125 \r\nL 7.625 11.71875 \r\nQ 11.71875 9.328125 16.59375 8.109375 \r\nQ 21.484375 6.890625 26.8125 6.890625 \r\nQ 36.078125 6.890625 40.9375 10.546875 \r\nQ 45.796875 14.203125 45.796875 21.1875 \r\nQ 45.796875 27.640625 41.28125 31.265625 \r\nQ 36.765625 34.90625 28.71875 34.90625 \r\nL 20.21875 34.90625 \r\nL 20.21875 43.015625 \r\nL 29.109375 43.015625 \r\nQ 36.375 43.015625 40.234375 45.921875 \r\nQ 44.09375 48.828125 44.09375 54.296875 \r\nQ 44.09375 59.90625 40.109375 62.90625 \r\nQ 36.140625 65.921875 28.71875 65.921875 \r\nQ 24.65625 65.921875 20.015625 65.03125 \r\nQ 15.375 64.15625 9.8125 62.3125 \r\nL 9.8125 71.09375 \r\nQ 15.4375 72.65625 20.34375 73.4375 \r\nQ 25.25 74.21875 29.59375 74.21875 \r\nQ 40.828125 74.21875 47.359375 69.109375 \r\nQ 53.90625 64.015625 53.90625 55.328125 \r\nQ 53.90625 49.265625 50.4375 45.09375 \r\nQ 46.96875 40.921875 40.578125 39.3125 \r\nz\r\n\" id=\"DejaVuSans-51\"/>\r\n      </defs>\r\n      <g transform=\"translate(179.944531 243.037656)scale(0.1 -0.1)\">\r\n       <use xlink:href=\"#DejaVuSans-86\"/>\r\n       <use x=\"60.658203\" xlink:href=\"#DejaVuSans-97\"/>\r\n       <use x=\"121.9375\" xlink:href=\"#DejaVuSans-114\"/>\r\n       <use x=\"163.050781\" xlink:href=\"#DejaVuSans-51\"/>\r\n      </g>\r\n     </g>\r\n    </g>\r\n    <g id=\"xtick_4\">\r\n     <g id=\"line2d_4\">\r\n      <g>\r\n       <use style=\"stroke:#000000;stroke-width:0.8;\" x=\"258.238125\" xlink:href=\"#ma1530f661e\" y=\"228.439219\"/>\r\n      </g>\r\n     </g>\r\n     <g id=\"text_4\">\r\n      <!-- Var5 -->\r\n      <defs>\r\n       <path d=\"M 10.796875 72.90625 \r\nL 49.515625 72.90625 \r\nL 49.515625 64.59375 \r\nL 19.828125 64.59375 \r\nL 19.828125 46.734375 \r\nQ 21.96875 47.46875 24.109375 47.828125 \r\nQ 26.265625 48.1875 28.421875 48.1875 \r\nQ 40.625 48.1875 47.75 41.5 \r\nQ 54.890625 34.8125 54.890625 23.390625 \r\nQ 54.890625 11.625 47.5625 5.09375 \r\nQ 40.234375 -1.421875 26.90625 -1.421875 \r\nQ 22.3125 -1.421875 17.546875 -0.640625 \r\nQ 12.796875 0.140625 7.71875 1.703125 \r\nL 7.71875 11.625 \r\nQ 12.109375 9.234375 16.796875 8.0625 \r\nQ 21.484375 6.890625 26.703125 6.890625 \r\nQ 35.15625 6.890625 40.078125 11.328125 \r\nQ 45.015625 15.765625 45.015625 23.390625 \r\nQ 45.015625 31 40.078125 35.4375 \r\nQ 35.15625 39.890625 26.703125 39.890625 \r\nQ 22.75 39.890625 18.8125 39.015625 \r\nQ 14.890625 38.140625 10.796875 36.28125 \r\nz\r\n\" id=\"DejaVuSans-53\"/>\r\n      </defs>\r\n      <g transform=\"translate(246.904531 243.037656)scale(0.1 -0.1)\">\r\n       <use xlink:href=\"#DejaVuSans-86\"/>\r\n       <use x=\"60.658203\" xlink:href=\"#DejaVuSans-97\"/>\r\n       <use x=\"121.9375\" xlink:href=\"#DejaVuSans-114\"/>\r\n       <use x=\"163.050781\" xlink:href=\"#DejaVuSans-53\"/>\r\n      </g>\r\n     </g>\r\n    </g>\r\n   </g>\r\n   <g id=\"matplotlib.axis_2\">\r\n    <g id=\"ytick_1\">\r\n     <g id=\"line2d_5\">\r\n      <defs>\r\n       <path d=\"M 0 0 \r\nL -3.5 0 \r\n\" id=\"mff3d9079d4\" style=\"stroke:#000000;stroke-width:0.8;\"/>\r\n      </defs>\r\n      <g>\r\n       <use style=\"stroke:#000000;stroke-width:0.8;\" x=\"23.878125\" xlink:href=\"#mff3d9079d4\" y=\"38.179219\"/>\r\n      </g>\r\n     </g>\r\n     <g id=\"text_5\">\r\n      <!-- Var1 -->\r\n      <g transform=\"translate(14.798437 57.047187)rotate(-90)scale(0.1 -0.1)\">\r\n       <use xlink:href=\"#DejaVuSans-86\"/>\r\n       <use x=\"60.658203\" xlink:href=\"#DejaVuSans-97\"/>\r\n       <use x=\"121.9375\" xlink:href=\"#DejaVuSans-114\"/>\r\n       <use x=\"163.050781\" xlink:href=\"#DejaVuSans-49\"/>\r\n      </g>\r\n     </g>\r\n    </g>\r\n    <g id=\"ytick_2\">\r\n     <g id=\"line2d_6\">\r\n      <g>\r\n       <use style=\"stroke:#000000;stroke-width:0.8;\" x=\"23.878125\" xlink:href=\"#mff3d9079d4\" y=\"92.539219\"/>\r\n      </g>\r\n     </g>\r\n     <g id=\"text_6\">\r\n      <!-- Var2 -->\r\n      <g transform=\"translate(14.798437 111.407187)rotate(-90)scale(0.1 -0.1)\">\r\n       <use xlink:href=\"#DejaVuSans-86\"/>\r\n       <use x=\"60.658203\" xlink:href=\"#DejaVuSans-97\"/>\r\n       <use x=\"121.9375\" xlink:href=\"#DejaVuSans-114\"/>\r\n       <use x=\"163.050781\" xlink:href=\"#DejaVuSans-50\"/>\r\n      </g>\r\n     </g>\r\n    </g>\r\n    <g id=\"ytick_3\">\r\n     <g id=\"line2d_7\">\r\n      <g>\r\n       <use style=\"stroke:#000000;stroke-width:0.8;\" x=\"23.878125\" xlink:href=\"#mff3d9079d4\" y=\"146.899219\"/>\r\n      </g>\r\n     </g>\r\n     <g id=\"text_7\">\r\n      <!-- Var3 -->\r\n      <g transform=\"translate(14.798437 165.767187)rotate(-90)scale(0.1 -0.1)\">\r\n       <use xlink:href=\"#DejaVuSans-86\"/>\r\n       <use x=\"60.658203\" xlink:href=\"#DejaVuSans-97\"/>\r\n       <use x=\"121.9375\" xlink:href=\"#DejaVuSans-114\"/>\r\n       <use x=\"163.050781\" xlink:href=\"#DejaVuSans-51\"/>\r\n      </g>\r\n     </g>\r\n    </g>\r\n    <g id=\"ytick_4\">\r\n     <g id=\"line2d_8\">\r\n      <g>\r\n       <use style=\"stroke:#000000;stroke-width:0.8;\" x=\"23.878125\" xlink:href=\"#mff3d9079d4\" y=\"201.259219\"/>\r\n      </g>\r\n     </g>\r\n     <g id=\"text_8\">\r\n      <!-- Var5 -->\r\n      <g transform=\"translate(14.798437 220.127187)rotate(-90)scale(0.1 -0.1)\">\r\n       <use xlink:href=\"#DejaVuSans-86\"/>\r\n       <use x=\"60.658203\" xlink:href=\"#DejaVuSans-97\"/>\r\n       <use x=\"121.9375\" xlink:href=\"#DejaVuSans-114\"/>\r\n       <use x=\"163.050781\" xlink:href=\"#DejaVuSans-53\"/>\r\n      </g>\r\n     </g>\r\n    </g>\r\n   </g>\r\n  </g>\r\n  <g id=\"axes_2\">\r\n   <g id=\"patch_3\">\r\n    <path clip-path=\"url(#p913164b56a)\" d=\"M 308.458125 228.439219 \r\nL 308.458125 227.589844 \r\nL 308.458125 11.848594 \r\nL 308.458125 10.999219 \r\nL 319.330125 10.999219 \r\nL 319.330125 11.848594 \r\nL 319.330125 227.589844 \r\nL 319.330125 228.439219 \r\nz\r\n\" style=\"fill:#ffffff;stroke:#ffffff;stroke-linejoin:miter;stroke-width:0.01;\"/>\r\n   </g>\r\n   <image height=\"217\" id=\"image0a562b4ec8\" transform=\"scale(1 -1)translate(0 -217)\" width=\"11\" x=\"308\" xlink:href=\"data:image/png;base64,\r\niVBORw0KGgoAAAANSUhEUgAAAAsAAADZCAYAAAD2WsoCAAAABHNCSVQICAgIfAhkiAAAAV9JREFUaIHVmtsNAzEIwHjdEt1/zl5XwB+WaL4RMoakuag5z+eN5ZrM3MbS4ADBXSVlLq3AIhgoM7LhYRzx3OnZODF1qECxKTcym+3WbGgYE2g29sucDa3dEGO/zJOfBI82SMyG125vW61D6fB76qANgCGq05iRjSPMCIPtbpKZFbj+PPhbGySY2PAw5gYGazdhHoRxxIaGMe8+tbgH6wYGspFhMcMCAUYzZhIMRIvqEpwF0yS4SDDCgJnXsTFdXymzWCA47BhzNbABmQEGUifaGG02ELOmrsBVhmGENxteMLj3kMceqo5lBjdzlhncCyYIhsfMMMDPJsxMnixQZhhM3us0G0GeDT0bSWxEt4SBmuJ5ztEKFNtNMqM9CD55VRukgx4GssHOOtRBSx3c3RqGVyDK3Gj4bzCzdqN51jZs3pg60QYp8MbwZz9SZnP4iWfSbvQviysFsnZrZ51V4A9keCojHT7iJgAAAABJRU5ErkJggg==\" y=\"-11\"/>\r\n   <g id=\"matplotlib.axis_3\"/>\r\n   <g id=\"matplotlib.axis_4\">\r\n    <g id=\"ytick_5\">\r\n     <g id=\"line2d_9\">\r\n      <defs>\r\n       <path d=\"M 0 0 \r\nL 3.5 0 \r\n\" id=\"md1c8daeca1\" style=\"stroke:#000000;stroke-width:0.8;\"/>\r\n      </defs>\r\n      <g>\r\n       <use style=\"stroke:#000000;stroke-width:0.8;\" x=\"319.330125\" xlink:href=\"#md1c8daeca1\" y=\"208.283513\"/>\r\n      </g>\r\n     </g>\r\n     <g id=\"text_9\">\r\n      <!-- 0.4 -->\r\n      <defs>\r\n       <path d=\"M 31.78125 66.40625 \r\nQ 24.171875 66.40625 20.328125 58.90625 \r\nQ 16.5 51.421875 16.5 36.375 \r\nQ 16.5 21.390625 20.328125 13.890625 \r\nQ 24.171875 6.390625 31.78125 6.390625 \r\nQ 39.453125 6.390625 43.28125 13.890625 \r\nQ 47.125 21.390625 47.125 36.375 \r\nQ 47.125 51.421875 43.28125 58.90625 \r\nQ 39.453125 66.40625 31.78125 66.40625 \r\nz\r\nM 31.78125 74.21875 \r\nQ 44.046875 74.21875 50.515625 64.515625 \r\nQ 56.984375 54.828125 56.984375 36.375 \r\nQ 56.984375 17.96875 50.515625 8.265625 \r\nQ 44.046875 -1.421875 31.78125 -1.421875 \r\nQ 19.53125 -1.421875 13.0625 8.265625 \r\nQ 6.59375 17.96875 6.59375 36.375 \r\nQ 6.59375 54.828125 13.0625 64.515625 \r\nQ 19.53125 74.21875 31.78125 74.21875 \r\nz\r\n\" id=\"DejaVuSans-48\"/>\r\n       <path d=\"M 10.6875 12.40625 \r\nL 21 12.40625 \r\nL 21 0 \r\nL 10.6875 0 \r\nz\r\n\" id=\"DejaVuSans-46\"/>\r\n       <path d=\"M 37.796875 64.3125 \r\nL 12.890625 25.390625 \r\nL 37.796875 25.390625 \r\nz\r\nM 35.203125 72.90625 \r\nL 47.609375 72.90625 \r\nL 47.609375 25.390625 \r\nL 58.015625 25.390625 \r\nL 58.015625 17.1875 \r\nL 47.609375 17.1875 \r\nL 47.609375 0 \r\nL 37.796875 0 \r\nL 37.796875 17.1875 \r\nL 4.890625 17.1875 \r\nL 4.890625 26.703125 \r\nz\r\n\" id=\"DejaVuSans-52\"/>\r\n      </defs>\r\n      <g transform=\"translate(326.330125 212.082732)scale(0.1 -0.1)\">\r\n       <use xlink:href=\"#DejaVuSans-48\"/>\r\n       <use x=\"63.623047\" xlink:href=\"#DejaVuSans-46\"/>\r\n       <use x=\"95.410156\" xlink:href=\"#DejaVuSans-52\"/>\r\n      </g>\r\n     </g>\r\n    </g>\r\n    <g id=\"ytick_6\">\r\n     <g id=\"line2d_10\">\r\n      <g>\r\n       <use style=\"stroke:#000000;stroke-width:0.8;\" x=\"319.330125\" xlink:href=\"#md1c8daeca1\" y=\"175.402797\"/>\r\n      </g>\r\n     </g>\r\n     <g id=\"text_10\">\r\n      <!-- 0.5 -->\r\n      <g transform=\"translate(326.330125 179.202016)scale(0.1 -0.1)\">\r\n       <use xlink:href=\"#DejaVuSans-48\"/>\r\n       <use x=\"63.623047\" xlink:href=\"#DejaVuSans-46\"/>\r\n       <use x=\"95.410156\" xlink:href=\"#DejaVuSans-53\"/>\r\n      </g>\r\n     </g>\r\n    </g>\r\n    <g id=\"ytick_7\">\r\n     <g id=\"line2d_11\">\r\n      <g>\r\n       <use style=\"stroke:#000000;stroke-width:0.8;\" x=\"319.330125\" xlink:href=\"#md1c8daeca1\" y=\"142.522082\"/>\r\n      </g>\r\n     </g>\r\n     <g id=\"text_11\">\r\n      <!-- 0.6 -->\r\n      <defs>\r\n       <path d=\"M 33.015625 40.375 \r\nQ 26.375 40.375 22.484375 35.828125 \r\nQ 18.609375 31.296875 18.609375 23.390625 \r\nQ 18.609375 15.53125 22.484375 10.953125 \r\nQ 26.375 6.390625 33.015625 6.390625 \r\nQ 39.65625 6.390625 43.53125 10.953125 \r\nQ 47.40625 15.53125 47.40625 23.390625 \r\nQ 47.40625 31.296875 43.53125 35.828125 \r\nQ 39.65625 40.375 33.015625 40.375 \r\nz\r\nM 52.59375 71.296875 \r\nL 52.59375 62.3125 \r\nQ 48.875 64.0625 45.09375 64.984375 \r\nQ 41.3125 65.921875 37.59375 65.921875 \r\nQ 27.828125 65.921875 22.671875 59.328125 \r\nQ 17.53125 52.734375 16.796875 39.40625 \r\nQ 19.671875 43.65625 24.015625 45.921875 \r\nQ 28.375 48.1875 33.59375 48.1875 \r\nQ 44.578125 48.1875 50.953125 41.515625 \r\nQ 57.328125 34.859375 57.328125 23.390625 \r\nQ 57.328125 12.15625 50.6875 5.359375 \r\nQ 44.046875 -1.421875 33.015625 -1.421875 \r\nQ 20.359375 -1.421875 13.671875 8.265625 \r\nQ 6.984375 17.96875 6.984375 36.375 \r\nQ 6.984375 53.65625 15.1875 63.9375 \r\nQ 23.390625 74.21875 37.203125 74.21875 \r\nQ 40.921875 74.21875 44.703125 73.484375 \r\nQ 48.484375 72.75 52.59375 71.296875 \r\nz\r\n\" id=\"DejaVuSans-54\"/>\r\n      </defs>\r\n      <g transform=\"translate(326.330125 146.3213)scale(0.1 -0.1)\">\r\n       <use xlink:href=\"#DejaVuSans-48\"/>\r\n       <use x=\"63.623047\" xlink:href=\"#DejaVuSans-46\"/>\r\n       <use x=\"95.410156\" xlink:href=\"#DejaVuSans-54\"/>\r\n      </g>\r\n     </g>\r\n    </g>\r\n    <g id=\"ytick_8\">\r\n     <g id=\"line2d_12\">\r\n      <g>\r\n       <use style=\"stroke:#000000;stroke-width:0.8;\" x=\"319.330125\" xlink:href=\"#md1c8daeca1\" y=\"109.641366\"/>\r\n      </g>\r\n     </g>\r\n     <g id=\"text_12\">\r\n      <!-- 0.7 -->\r\n      <defs>\r\n       <path d=\"M 8.203125 72.90625 \r\nL 55.078125 72.90625 \r\nL 55.078125 68.703125 \r\nL 28.609375 0 \r\nL 18.3125 0 \r\nL 43.21875 64.59375 \r\nL 8.203125 64.59375 \r\nz\r\n\" id=\"DejaVuSans-55\"/>\r\n      </defs>\r\n      <g transform=\"translate(326.330125 113.440585)scale(0.1 -0.1)\">\r\n       <use xlink:href=\"#DejaVuSans-48\"/>\r\n       <use x=\"63.623047\" xlink:href=\"#DejaVuSans-46\"/>\r\n       <use x=\"95.410156\" xlink:href=\"#DejaVuSans-55\"/>\r\n      </g>\r\n     </g>\r\n    </g>\r\n    <g id=\"ytick_9\">\r\n     <g id=\"line2d_13\">\r\n      <g>\r\n       <use style=\"stroke:#000000;stroke-width:0.8;\" x=\"319.330125\" xlink:href=\"#md1c8daeca1\" y=\"76.76065\"/>\r\n      </g>\r\n     </g>\r\n     <g id=\"text_13\">\r\n      <!-- 0.8 -->\r\n      <defs>\r\n       <path d=\"M 31.78125 34.625 \r\nQ 24.75 34.625 20.71875 30.859375 \r\nQ 16.703125 27.09375 16.703125 20.515625 \r\nQ 16.703125 13.921875 20.71875 10.15625 \r\nQ 24.75 6.390625 31.78125 6.390625 \r\nQ 38.8125 6.390625 42.859375 10.171875 \r\nQ 46.921875 13.96875 46.921875 20.515625 \r\nQ 46.921875 27.09375 42.890625 30.859375 \r\nQ 38.875 34.625 31.78125 34.625 \r\nz\r\nM 21.921875 38.8125 \r\nQ 15.578125 40.375 12.03125 44.71875 \r\nQ 8.5 49.078125 8.5 55.328125 \r\nQ 8.5 64.0625 14.71875 69.140625 \r\nQ 20.953125 74.21875 31.78125 74.21875 \r\nQ 42.671875 74.21875 48.875 69.140625 \r\nQ 55.078125 64.0625 55.078125 55.328125 \r\nQ 55.078125 49.078125 51.53125 44.71875 \r\nQ 48 40.375 41.703125 38.8125 \r\nQ 48.828125 37.15625 52.796875 32.3125 \r\nQ 56.78125 27.484375 56.78125 20.515625 \r\nQ 56.78125 9.90625 50.3125 4.234375 \r\nQ 43.84375 -1.421875 31.78125 -1.421875 \r\nQ 19.734375 -1.421875 13.25 4.234375 \r\nQ 6.78125 9.90625 6.78125 20.515625 \r\nQ 6.78125 27.484375 10.78125 32.3125 \r\nQ 14.796875 37.15625 21.921875 38.8125 \r\nz\r\nM 18.3125 54.390625 \r\nQ 18.3125 48.734375 21.84375 45.5625 \r\nQ 25.390625 42.390625 31.78125 42.390625 \r\nQ 38.140625 42.390625 41.71875 45.5625 \r\nQ 45.3125 48.734375 45.3125 54.390625 \r\nQ 45.3125 60.0625 41.71875 63.234375 \r\nQ 38.140625 66.40625 31.78125 66.40625 \r\nQ 25.390625 66.40625 21.84375 63.234375 \r\nQ 18.3125 60.0625 18.3125 54.390625 \r\nz\r\n\" id=\"DejaVuSans-56\"/>\r\n      </defs>\r\n      <g transform=\"translate(326.330125 80.559869)scale(0.1 -0.1)\">\r\n       <use xlink:href=\"#DejaVuSans-48\"/>\r\n       <use x=\"63.623047\" xlink:href=\"#DejaVuSans-46\"/>\r\n       <use x=\"95.410156\" xlink:href=\"#DejaVuSans-56\"/>\r\n      </g>\r\n     </g>\r\n    </g>\r\n    <g id=\"ytick_10\">\r\n     <g id=\"line2d_14\">\r\n      <g>\r\n       <use style=\"stroke:#000000;stroke-width:0.8;\" x=\"319.330125\" xlink:href=\"#md1c8daeca1\" y=\"43.879934\"/>\r\n      </g>\r\n     </g>\r\n     <g id=\"text_14\">\r\n      <!-- 0.9 -->\r\n      <defs>\r\n       <path d=\"M 10.984375 1.515625 \r\nL 10.984375 10.5 \r\nQ 14.703125 8.734375 18.5 7.8125 \r\nQ 22.3125 6.890625 25.984375 6.890625 \r\nQ 35.75 6.890625 40.890625 13.453125 \r\nQ 46.046875 20.015625 46.78125 33.40625 \r\nQ 43.953125 29.203125 39.59375 26.953125 \r\nQ 35.25 24.703125 29.984375 24.703125 \r\nQ 19.046875 24.703125 12.671875 31.3125 \r\nQ 6.296875 37.9375 6.296875 49.421875 \r\nQ 6.296875 60.640625 12.9375 67.421875 \r\nQ 19.578125 74.21875 30.609375 74.21875 \r\nQ 43.265625 74.21875 49.921875 64.515625 \r\nQ 56.59375 54.828125 56.59375 36.375 \r\nQ 56.59375 19.140625 48.40625 8.859375 \r\nQ 40.234375 -1.421875 26.421875 -1.421875 \r\nQ 22.703125 -1.421875 18.890625 -0.6875 \r\nQ 15.09375 0.046875 10.984375 1.515625 \r\nz\r\nM 30.609375 32.421875 \r\nQ 37.25 32.421875 41.125 36.953125 \r\nQ 45.015625 41.5 45.015625 49.421875 \r\nQ 45.015625 57.28125 41.125 61.84375 \r\nQ 37.25 66.40625 30.609375 66.40625 \r\nQ 23.96875 66.40625 20.09375 61.84375 \r\nQ 16.21875 57.28125 16.21875 49.421875 \r\nQ 16.21875 41.5 20.09375 36.953125 \r\nQ 23.96875 32.421875 30.609375 32.421875 \r\nz\r\n\" id=\"DejaVuSans-57\"/>\r\n      </defs>\r\n      <g transform=\"translate(326.330125 47.679153)scale(0.1 -0.1)\">\r\n       <use xlink:href=\"#DejaVuSans-48\"/>\r\n       <use x=\"63.623047\" xlink:href=\"#DejaVuSans-46\"/>\r\n       <use x=\"95.410156\" xlink:href=\"#DejaVuSans-57\"/>\r\n      </g>\r\n     </g>\r\n    </g>\r\n    <g id=\"ytick_11\">\r\n     <g id=\"line2d_15\">\r\n      <g>\r\n       <use style=\"stroke:#000000;stroke-width:0.8;\" x=\"319.330125\" xlink:href=\"#md1c8daeca1\" y=\"10.999219\"/>\r\n      </g>\r\n     </g>\r\n     <g id=\"text_15\">\r\n      <!-- 1.0 -->\r\n      <g transform=\"translate(326.330125 14.798437)scale(0.1 -0.1)\">\r\n       <use xlink:href=\"#DejaVuSans-49\"/>\r\n       <use x=\"63.623047\" xlink:href=\"#DejaVuSans-46\"/>\r\n       <use x=\"95.410156\" xlink:href=\"#DejaVuSans-48\"/>\r\n      </g>\r\n     </g>\r\n    </g>\r\n   </g>\r\n   <g id=\"patch_4\">\r\n    <path d=\"M 308.458125 228.439219 \r\nL 308.458125 227.589844 \r\nL 308.458125 11.848594 \r\nL 308.458125 10.999219 \r\nL 319.330125 10.999219 \r\nL 319.330125 11.848594 \r\nL 319.330125 227.589844 \r\nL 319.330125 228.439219 \r\nz\r\n\" style=\"fill:none;\"/>\r\n   </g>\r\n  </g>\r\n </g>\r\n <defs>\r\n  <clipPath id=\"pda3cf6cb37\">\r\n   <rect height=\"217.44\" width=\"267.84\" x=\"23.878125\" y=\"10.999219\"/>\r\n  </clipPath>\r\n  <clipPath id=\"p913164b56a\">\r\n   <rect height=\"217.44\" width=\"10.872\" x=\"308.458125\" y=\"10.999219\"/>\r\n  </clipPath>\r\n </defs>\r\n</svg>\r\n",
      "image/png": "[encoded data removed]"
     },
     "metadata": {
      "needs_background": "light"
     }
    }
   ],
   "source": [
    "sns.heatmap(train[['Var1','Var2','Var3','Var5']].corr())"
   ]
  },
  {
   "cell_type": "code",
   "execution_count": 54,
   "metadata": {},
   "outputs": [],
   "source": [
    "train1=pd.merge(train,camp,how='left',on='Patient_ID Health_Camp_ID'.split())"
   ]
  },
  {
   "cell_type": "code",
   "execution_count": 55,
   "metadata": {},
   "outputs": [
    {
     "output_type": "execute_result",
     "data": {
      "text/plain": "       Patient_ID  Health_Camp_ID Registration_Date  Var1  Var2  Var3  Var4  \\\n0          489652            6578         10-Sep-05     4     0     0     0   \n1          507246            6578         18-Aug-05    45     5     0     0   \n2          523729            6534         29-Apr-06     0     0     0     0   \n3          524931            6535         07-Feb-04     0     0     0     0   \n4          521364            6529         28-Feb-06    15     1     0     0   \n...           ...             ...               ...   ...   ...   ...   ...   \n75273      500969            6539         03-Jan-05     0     0     0     0   \n75274      511952            6528         13-Feb-06     0     0     0     0   \n75275      521236            6554         24-May-05     0     0     0     0   \n75276      518817            6580         22-Dec-04     0     0     0     0   \n75277      511284            6555         08-Aug-05     0     0     0     0   \n\n       Var5  fav  \n0         2  1.0  \n1         7  NaN  \n2         0  1.0  \n3         0  NaN  \n4         7  1.0  \n...     ...  ...  \n75273     0  NaN  \n75274     0  1.0  \n75275     0  1.0  \n75276     0  NaN  \n75277     0  NaN  \n\n[75278 rows x 9 columns]",
      "text/html": "<div>\n<style scoped>\n    .dataframe tbody tr th:only-of-type {\n        vertical-align: middle;\n    }\n\n    .dataframe tbody tr th {\n        vertical-align: top;\n    }\n\n    .dataframe thead th {\n        text-align: right;\n    }\n</style>\n<table border=\"1\" class=\"dataframe\">\n  <thead>\n    <tr style=\"text-align: right;\">\n      <th></th>\n      <th>Patient_ID</th>\n      <th>Health_Camp_ID</th>\n      <th>Registration_Date</th>\n      <th>Var1</th>\n      <th>Var2</th>\n      <th>Var3</th>\n      <th>Var4</th>\n      <th>Var5</th>\n      <th>fav</th>\n    </tr>\n  </thead>\n  <tbody>\n    <tr>\n      <th>0</th>\n      <td>489652</td>\n      <td>6578</td>\n      <td>10-Sep-05</td>\n      <td>4</td>\n      <td>0</td>\n      <td>0</td>\n      <td>0</td>\n      <td>2</td>\n      <td>1.0</td>\n    </tr>\n    <tr>\n      <th>1</th>\n      <td>507246</td>\n      <td>6578</td>\n      <td>18-Aug-05</td>\n      <td>45</td>\n      <td>5</td>\n      <td>0</td>\n      <td>0</td>\n      <td>7</td>\n      <td>NaN</td>\n    </tr>\n    <tr>\n      <th>2</th>\n      <td>523729</td>\n      <td>6534</td>\n      <td>29-Apr-06</td>\n      <td>0</td>\n      <td>0</td>\n      <td>0</td>\n      <td>0</td>\n      <td>0</td>\n      <td>1.0</td>\n    </tr>\n    <tr>\n      <th>3</th>\n      <td>524931</td>\n      <td>6535</td>\n      <td>07-Feb-04</td>\n      <td>0</td>\n      <td>0</td>\n      <td>0</td>\n      <td>0</td>\n      <td>0</td>\n      <td>NaN</td>\n    </tr>\n    <tr>\n      <th>4</th>\n      <td>521364</td>\n      <td>6529</td>\n      <td>28-Feb-06</td>\n      <td>15</td>\n      <td>1</td>\n      <td>0</td>\n      <td>0</td>\n      <td>7</td>\n      <td>1.0</td>\n    </tr>\n    <tr>\n      <th>...</th>\n      <td>...</td>\n      <td>...</td>\n      <td>...</td>\n      <td>...</td>\n      <td>...</td>\n      <td>...</td>\n      <td>...</td>\n      <td>...</td>\n      <td>...</td>\n    </tr>\n    <tr>\n      <th>75273</th>\n      <td>500969</td>\n      <td>6539</td>\n      <td>03-Jan-05</td>\n      <td>0</td>\n      <td>0</td>\n      <td>0</td>\n      <td>0</td>\n      <td>0</td>\n      <td>NaN</td>\n    </tr>\n    <tr>\n      <th>75274</th>\n      <td>511952</td>\n      <td>6528</td>\n      <td>13-Feb-06</td>\n      <td>0</td>\n      <td>0</td>\n      <td>0</td>\n      <td>0</td>\n      <td>0</td>\n      <td>1.0</td>\n    </tr>\n    <tr>\n      <th>75275</th>\n      <td>521236</td>\n      <td>6554</td>\n      <td>24-May-05</td>\n      <td>0</td>\n      <td>0</td>\n      <td>0</td>\n      <td>0</td>\n      <td>0</td>\n      <td>1.0</td>\n    </tr>\n    <tr>\n      <th>75276</th>\n      <td>518817</td>\n      <td>6580</td>\n      <td>22-Dec-04</td>\n      <td>0</td>\n      <td>0</td>\n      <td>0</td>\n      <td>0</td>\n      <td>0</td>\n      <td>NaN</td>\n    </tr>\n    <tr>\n      <th>75277</th>\n      <td>511284</td>\n      <td>6555</td>\n      <td>08-Aug-05</td>\n      <td>0</td>\n      <td>0</td>\n      <td>0</td>\n      <td>0</td>\n      <td>0</td>\n      <td>NaN</td>\n    </tr>\n  </tbody>\n</table>\n<p>75278 rows × 9 columns</p>\n</div>"
     },
     "metadata": {},
     "execution_count": 55
    }
   ],
   "source": [
    "train1"
   ]
  },
  {
   "cell_type": "code",
   "execution_count": 58,
   "metadata": {},
   "outputs": [],
   "source": [
    "from lightgbm import LGBMClassifier"
   ]
  },
  {
   "cell_type": "code",
   "execution_count": 56,
   "metadata": {},
   "outputs": [],
   "source": [
    "train1['fav']=train1['fav'].fillna(0)"
   ]
  },
  {
   "cell_type": "code",
   "execution_count": 57,
   "metadata": {},
   "outputs": [],
   "source": [
    "from sklearn.model_selection import GridSearchCV"
   ]
  },
  {
   "cell_type": "code",
   "execution_count": 59,
   "metadata": {},
   "outputs": [],
   "source": [
    "lgb1=LGBMClassifier()\n",
    "lgb2=LGBMClassifier()\n",
    "lgb3=LGBMClassifier()"
   ]
  },
  {
   "cell_type": "code",
   "execution_count": 72,
   "metadata": {},
   "outputs": [],
   "source": [
    "t1=pd.DataFrame(columns=train.columns)\n",
    "t2=pd.DataFrame(columns=train.columns)\n",
    "t3=pd.DataFrame(columns=train.columns)"
   ]
  },
  {
   "cell_type": "code",
   "execution_count": 79,
   "metadata": {},
   "outputs": [],
   "source": [
    "for i in range(len(train)):\n",
    "    d=train1.iloc[i]\n",
    "    if d['Health_Camp_ID'] in camp1['Health_Camp_ID'].values:\n",
    "        t1=t1.append(d)\n",
    "    elif d['Health_Camp_ID'] in camp2['Health_Camp_ID'].values:\n",
    "        t2=t2.append(d)\n",
    "    else:\n",
    "        t3=t3.append(d)"
   ]
  },
  {
   "cell_type": "code",
   "execution_count": 81,
   "metadata": {},
   "outputs": [],
   "source": [
    "t1=t1.reset_index()\n",
    "t2=t2.reset_index()\n",
    "t3=t3.reset_index()"
   ]
  },
  {
   "cell_type": "code",
   "execution_count": 85,
   "metadata": {},
   "outputs": [
    {
     "output_type": "execute_result",
     "data": {
      "text/plain": "       Patient_ID  Health_Camp_ID Registration_Date  Var1  Var2  Var3  Var4  \\\n0          489652            6578         10-Sep-05     4     0     0     0   \n1          507246            6578         18-Aug-05    45     5     0     0   \n2          523729            6534         29-Apr-06     0     0     0     0   \n3          524931            6535         07-Feb-04     0     0     0     0   \n4          521364            6529         28-Feb-06    15     1     0     0   \n...           ...             ...               ...   ...   ...   ...   ...   \n75273      500969            6539         03-Jan-05     0     0     0     0   \n75274      511952            6528         13-Feb-06     0     0     0     0   \n75275      521236            6554         24-May-05     0     0     0     0   \n75276      518817            6580         22-Dec-04     0     0     0     0   \n75277      511284            6555         08-Aug-05     0     0     0     0   \n\n       Var5  \n0         2  \n1         7  \n2         0  \n3         0  \n4         7  \n...     ...  \n75273     0  \n75274     0  \n75275     0  \n75276     0  \n75277     0  \n\n[75278 rows x 8 columns]",
      "text/html": "<div>\n<style scoped>\n    .dataframe tbody tr th:only-of-type {\n        vertical-align: middle;\n    }\n\n    .dataframe tbody tr th {\n        vertical-align: top;\n    }\n\n    .dataframe thead th {\n        text-align: right;\n    }\n</style>\n<table border=\"1\" class=\"dataframe\">\n  <thead>\n    <tr style=\"text-align: right;\">\n      <th></th>\n      <th>Patient_ID</th>\n      <th>Health_Camp_ID</th>\n      <th>Registration_Date</th>\n      <th>Var1</th>\n      <th>Var2</th>\n      <th>Var3</th>\n      <th>Var4</th>\n      <th>Var5</th>\n    </tr>\n  </thead>\n  <tbody>\n    <tr>\n      <th>0</th>\n      <td>489652</td>\n      <td>6578</td>\n      <td>10-Sep-05</td>\n      <td>4</td>\n      <td>0</td>\n      <td>0</td>\n      <td>0</td>\n      <td>2</td>\n    </tr>\n    <tr>\n      <th>1</th>\n      <td>507246</td>\n      <td>6578</td>\n      <td>18-Aug-05</td>\n      <td>45</td>\n      <td>5</td>\n      <td>0</td>\n      <td>0</td>\n      <td>7</td>\n    </tr>\n    <tr>\n      <th>2</th>\n      <td>523729</td>\n      <td>6534</td>\n      <td>29-Apr-06</td>\n      <td>0</td>\n      <td>0</td>\n      <td>0</td>\n      <td>0</td>\n      <td>0</td>\n    </tr>\n    <tr>\n      <th>3</th>\n      <td>524931</td>\n      <td>6535</td>\n      <td>07-Feb-04</td>\n      <td>0</td>\n      <td>0</td>\n      <td>0</td>\n      <td>0</td>\n      <td>0</td>\n    </tr>\n    <tr>\n      <th>4</th>\n      <td>521364</td>\n      <td>6529</td>\n      <td>28-Feb-06</td>\n      <td>15</td>\n      <td>1</td>\n      <td>0</td>\n      <td>0</td>\n      <td>7</td>\n    </tr>\n    <tr>\n      <th>...</th>\n      <td>...</td>\n      <td>...</td>\n      <td>...</td>\n      <td>...</td>\n      <td>...</td>\n      <td>...</td>\n      <td>...</td>\n      <td>...</td>\n    </tr>\n    <tr>\n      <th>75273</th>\n      <td>500969</td>\n      <td>6539</td>\n      <td>03-Jan-05</td>\n      <td>0</td>\n      <td>0</td>\n      <td>0</td>\n      <td>0</td>\n      <td>0</td>\n    </tr>\n    <tr>\n      <th>75274</th>\n      <td>511952</td>\n      <td>6528</td>\n      <td>13-Feb-06</td>\n      <td>0</td>\n      <td>0</td>\n      <td>0</td>\n      <td>0</td>\n      <td>0</td>\n    </tr>\n    <tr>\n      <th>75275</th>\n      <td>521236</td>\n      <td>6554</td>\n      <td>24-May-05</td>\n      <td>0</td>\n      <td>0</td>\n      <td>0</td>\n      <td>0</td>\n      <td>0</td>\n    </tr>\n    <tr>\n      <th>75276</th>\n      <td>518817</td>\n      <td>6580</td>\n      <td>22-Dec-04</td>\n      <td>0</td>\n      <td>0</td>\n      <td>0</td>\n      <td>0</td>\n      <td>0</td>\n    </tr>\n    <tr>\n      <th>75277</th>\n      <td>511284</td>\n      <td>6555</td>\n      <td>08-Aug-05</td>\n      <td>0</td>\n      <td>0</td>\n      <td>0</td>\n      <td>0</td>\n      <td>0</td>\n    </tr>\n  </tbody>\n</table>\n<p>75278 rows × 8 columns</p>\n</div>"
     },
     "metadata": {},
     "execution_count": 85
    }
   ],
   "source": [
    "train"
   ]
  },
  {
   "cell_type": "code",
   "execution_count": 78,
   "metadata": {},
   "outputs": [
    {
     "output_type": "error",
     "ename": "KeyError",
     "evalue": "\"['fav'] not found in axis\"",
     "traceback": [
      "\u001b[1;31m---------------------------------------------------------------------------\u001b[0m",
      "\u001b[1;31mKeyError\u001b[0m                                  Traceback (most recent call last)",
      "\u001b[1;32m<ipython-input-78-0ac28abc694c>\u001b[0m in \u001b[0;36m<module>\u001b[1;34m\u001b[0m\n\u001b[1;32m----> 1\u001b[1;33m \u001b[0mlgb1\u001b[0m\u001b[1;33m.\u001b[0m\u001b[0mfit\u001b[0m\u001b[1;33m(\u001b[0m\u001b[0mt1\u001b[0m\u001b[1;33m.\u001b[0m\u001b[0mdrop\u001b[0m\u001b[1;33m(\u001b[0m\u001b[1;33m[\u001b[0m\u001b[1;34m'fav'\u001b[0m\u001b[1;33m,\u001b[0m\u001b[1;34m'Registration_Date'\u001b[0m\u001b[1;33m,\u001b[0m\u001b[1;34m'Patient_ID'\u001b[0m\u001b[1;33m,\u001b[0m\u001b[1;34m'Health_Camp_ID'\u001b[0m\u001b[1;33m,\u001b[0m\u001b[1;34m'index'\u001b[0m\u001b[1;33m]\u001b[0m\u001b[1;33m,\u001b[0m\u001b[0maxis\u001b[0m\u001b[1;33m=\u001b[0m\u001b[1;36m1\u001b[0m\u001b[1;33m)\u001b[0m\u001b[1;33m,\u001b[0m\u001b[0mt1\u001b[0m\u001b[1;33m[\u001b[0m\u001b[1;34m'fav'\u001b[0m\u001b[1;33m]\u001b[0m\u001b[1;33m)\u001b[0m\u001b[1;33m\u001b[0m\u001b[1;33m\u001b[0m\u001b[0m\n\u001b[0m\u001b[0;32m      2\u001b[0m \u001b[0mlgb2\u001b[0m\u001b[1;33m.\u001b[0m\u001b[0mfit\u001b[0m\u001b[1;33m(\u001b[0m\u001b[0mt1\u001b[0m\u001b[1;33m.\u001b[0m\u001b[0mdrop\u001b[0m\u001b[1;33m(\u001b[0m\u001b[1;33m[\u001b[0m\u001b[1;34m'fav'\u001b[0m\u001b[1;33m,\u001b[0m\u001b[1;34m'Registration_Date'\u001b[0m\u001b[1;33m,\u001b[0m\u001b[1;34m'Patient_ID'\u001b[0m\u001b[1;33m,\u001b[0m\u001b[1;34m'Health_Camp_ID'\u001b[0m\u001b[1;33m,\u001b[0m\u001b[1;34m'index'\u001b[0m\u001b[1;33m]\u001b[0m\u001b[1;33m,\u001b[0m\u001b[0maxis\u001b[0m\u001b[1;33m=\u001b[0m\u001b[1;36m1\u001b[0m\u001b[1;33m)\u001b[0m\u001b[1;33m,\u001b[0m\u001b[0mt2\u001b[0m\u001b[1;33m[\u001b[0m\u001b[1;34m'fav'\u001b[0m\u001b[1;33m]\u001b[0m\u001b[1;33m)\u001b[0m\u001b[1;33m\u001b[0m\u001b[1;33m\u001b[0m\u001b[0m\n\u001b[0;32m      3\u001b[0m \u001b[0mlgb3\u001b[0m\u001b[1;33m.\u001b[0m\u001b[0mfit\u001b[0m\u001b[1;33m(\u001b[0m\u001b[0mt1\u001b[0m\u001b[1;33m.\u001b[0m\u001b[0mdrop\u001b[0m\u001b[1;33m(\u001b[0m\u001b[1;33m[\u001b[0m\u001b[1;34m'fav'\u001b[0m\u001b[1;33m,\u001b[0m\u001b[1;34m'Registration_Date'\u001b[0m\u001b[1;33m,\u001b[0m\u001b[1;34m'Patient_ID'\u001b[0m\u001b[1;33m,\u001b[0m\u001b[1;34m'Health_Camp_ID'\u001b[0m\u001b[1;33m,\u001b[0m\u001b[1;34m'index'\u001b[0m\u001b[1;33m]\u001b[0m\u001b[1;33m,\u001b[0m\u001b[0maxis\u001b[0m\u001b[1;33m=\u001b[0m\u001b[1;36m1\u001b[0m\u001b[1;33m)\u001b[0m\u001b[1;33m,\u001b[0m\u001b[0mt3\u001b[0m\u001b[1;33m[\u001b[0m\u001b[1;34m'fav'\u001b[0m\u001b[1;33m]\u001b[0m\u001b[1;33m)\u001b[0m\u001b[1;33m\u001b[0m\u001b[1;33m\u001b[0m\u001b[0m\n",
      "\u001b[1;32m~\\AppData\\Local\\Programs\\Python\\Python38\\lib\\site-packages\\pandas\\core\\frame.py\u001b[0m in \u001b[0;36mdrop\u001b[1;34m(self, labels, axis, index, columns, level, inplace, errors)\u001b[0m\n\u001b[0;32m   3988\u001b[0m                 \u001b[0mweight\u001b[0m  \u001b[1;36m1.0\u001b[0m     \u001b[1;36m0.8\u001b[0m\u001b[1;33m\u001b[0m\u001b[1;33m\u001b[0m\u001b[0m\n\u001b[0;32m   3989\u001b[0m         \"\"\"\n\u001b[1;32m-> 3990\u001b[1;33m         return super().drop(\n\u001b[0m\u001b[0;32m   3991\u001b[0m             \u001b[0mlabels\u001b[0m\u001b[1;33m=\u001b[0m\u001b[0mlabels\u001b[0m\u001b[1;33m,\u001b[0m\u001b[1;33m\u001b[0m\u001b[1;33m\u001b[0m\u001b[0m\n\u001b[0;32m   3992\u001b[0m             \u001b[0maxis\u001b[0m\u001b[1;33m=\u001b[0m\u001b[0maxis\u001b[0m\u001b[1;33m,\u001b[0m\u001b[1;33m\u001b[0m\u001b[1;33m\u001b[0m\u001b[0m\n",
      "\u001b[1;32m~\\AppData\\Local\\Programs\\Python\\Python38\\lib\\site-packages\\pandas\\core\\generic.py\u001b[0m in \u001b[0;36mdrop\u001b[1;34m(self, labels, axis, index, columns, level, inplace, errors)\u001b[0m\n\u001b[0;32m   3934\u001b[0m         \u001b[1;32mfor\u001b[0m \u001b[0maxis\u001b[0m\u001b[1;33m,\u001b[0m \u001b[0mlabels\u001b[0m \u001b[1;32min\u001b[0m \u001b[0maxes\u001b[0m\u001b[1;33m.\u001b[0m\u001b[0mitems\u001b[0m\u001b[1;33m(\u001b[0m\u001b[1;33m)\u001b[0m\u001b[1;33m:\u001b[0m\u001b[1;33m\u001b[0m\u001b[1;33m\u001b[0m\u001b[0m\n\u001b[0;32m   3935\u001b[0m             \u001b[1;32mif\u001b[0m \u001b[0mlabels\u001b[0m \u001b[1;32mis\u001b[0m \u001b[1;32mnot\u001b[0m \u001b[1;32mNone\u001b[0m\u001b[1;33m:\u001b[0m\u001b[1;33m\u001b[0m\u001b[1;33m\u001b[0m\u001b[0m\n\u001b[1;32m-> 3936\u001b[1;33m                 \u001b[0mobj\u001b[0m \u001b[1;33m=\u001b[0m \u001b[0mobj\u001b[0m\u001b[1;33m.\u001b[0m\u001b[0m_drop_axis\u001b[0m\u001b[1;33m(\u001b[0m\u001b[0mlabels\u001b[0m\u001b[1;33m,\u001b[0m \u001b[0maxis\u001b[0m\u001b[1;33m,\u001b[0m \u001b[0mlevel\u001b[0m\u001b[1;33m=\u001b[0m\u001b[0mlevel\u001b[0m\u001b[1;33m,\u001b[0m \u001b[0merrors\u001b[0m\u001b[1;33m=\u001b[0m\u001b[0merrors\u001b[0m\u001b[1;33m)\u001b[0m\u001b[1;33m\u001b[0m\u001b[1;33m\u001b[0m\u001b[0m\n\u001b[0m\u001b[0;32m   3937\u001b[0m \u001b[1;33m\u001b[0m\u001b[0m\n\u001b[0;32m   3938\u001b[0m         \u001b[1;32mif\u001b[0m \u001b[0minplace\u001b[0m\u001b[1;33m:\u001b[0m\u001b[1;33m\u001b[0m\u001b[1;33m\u001b[0m\u001b[0m\n",
      "\u001b[1;32m~\\AppData\\Local\\Programs\\Python\\Python38\\lib\\site-packages\\pandas\\core\\generic.py\u001b[0m in \u001b[0;36m_drop_axis\u001b[1;34m(self, labels, axis, level, errors)\u001b[0m\n\u001b[0;32m   3968\u001b[0m                 \u001b[0mnew_axis\u001b[0m \u001b[1;33m=\u001b[0m \u001b[0maxis\u001b[0m\u001b[1;33m.\u001b[0m\u001b[0mdrop\u001b[0m\u001b[1;33m(\u001b[0m\u001b[0mlabels\u001b[0m\u001b[1;33m,\u001b[0m \u001b[0mlevel\u001b[0m\u001b[1;33m=\u001b[0m\u001b[0mlevel\u001b[0m\u001b[1;33m,\u001b[0m \u001b[0merrors\u001b[0m\u001b[1;33m=\u001b[0m\u001b[0merrors\u001b[0m\u001b[1;33m)\u001b[0m\u001b[1;33m\u001b[0m\u001b[1;33m\u001b[0m\u001b[0m\n\u001b[0;32m   3969\u001b[0m             \u001b[1;32melse\u001b[0m\u001b[1;33m:\u001b[0m\u001b[1;33m\u001b[0m\u001b[1;33m\u001b[0m\u001b[0m\n\u001b[1;32m-> 3970\u001b[1;33m                 \u001b[0mnew_axis\u001b[0m \u001b[1;33m=\u001b[0m \u001b[0maxis\u001b[0m\u001b[1;33m.\u001b[0m\u001b[0mdrop\u001b[0m\u001b[1;33m(\u001b[0m\u001b[0mlabels\u001b[0m\u001b[1;33m,\u001b[0m \u001b[0merrors\u001b[0m\u001b[1;33m=\u001b[0m\u001b[0merrors\u001b[0m\u001b[1;33m)\u001b[0m\u001b[1;33m\u001b[0m\u001b[1;33m\u001b[0m\u001b[0m\n\u001b[0m\u001b[0;32m   3971\u001b[0m             \u001b[0mresult\u001b[0m \u001b[1;33m=\u001b[0m \u001b[0mself\u001b[0m\u001b[1;33m.\u001b[0m\u001b[0mreindex\u001b[0m\u001b[1;33m(\u001b[0m\u001b[1;33m**\u001b[0m\u001b[1;33m{\u001b[0m\u001b[0maxis_name\u001b[0m\u001b[1;33m:\u001b[0m \u001b[0mnew_axis\u001b[0m\u001b[1;33m}\u001b[0m\u001b[1;33m)\u001b[0m\u001b[1;33m\u001b[0m\u001b[1;33m\u001b[0m\u001b[0m\n\u001b[0;32m   3972\u001b[0m \u001b[1;33m\u001b[0m\u001b[0m\n",
      "\u001b[1;32m~\\AppData\\Local\\Programs\\Python\\Python38\\lib\\site-packages\\pandas\\core\\indexes\\base.py\u001b[0m in \u001b[0;36mdrop\u001b[1;34m(self, labels, errors)\u001b[0m\n\u001b[0;32m   5016\u001b[0m         \u001b[1;32mif\u001b[0m \u001b[0mmask\u001b[0m\u001b[1;33m.\u001b[0m\u001b[0many\u001b[0m\u001b[1;33m(\u001b[0m\u001b[1;33m)\u001b[0m\u001b[1;33m:\u001b[0m\u001b[1;33m\u001b[0m\u001b[1;33m\u001b[0m\u001b[0m\n\u001b[0;32m   5017\u001b[0m             \u001b[1;32mif\u001b[0m \u001b[0merrors\u001b[0m \u001b[1;33m!=\u001b[0m \u001b[1;34m\"ignore\"\u001b[0m\u001b[1;33m:\u001b[0m\u001b[1;33m\u001b[0m\u001b[1;33m\u001b[0m\u001b[0m\n\u001b[1;32m-> 5018\u001b[1;33m                 \u001b[1;32mraise\u001b[0m \u001b[0mKeyError\u001b[0m\u001b[1;33m(\u001b[0m\u001b[1;34mf\"{labels[mask]} not found in axis\"\u001b[0m\u001b[1;33m)\u001b[0m\u001b[1;33m\u001b[0m\u001b[1;33m\u001b[0m\u001b[0m\n\u001b[0m\u001b[0;32m   5019\u001b[0m             \u001b[0mindexer\u001b[0m \u001b[1;33m=\u001b[0m \u001b[0mindexer\u001b[0m\u001b[1;33m[\u001b[0m\u001b[1;33m~\u001b[0m\u001b[0mmask\u001b[0m\u001b[1;33m]\u001b[0m\u001b[1;33m\u001b[0m\u001b[1;33m\u001b[0m\u001b[0m\n\u001b[0;32m   5020\u001b[0m         \u001b[1;32mreturn\u001b[0m \u001b[0mself\u001b[0m\u001b[1;33m.\u001b[0m\u001b[0mdelete\u001b[0m\u001b[1;33m(\u001b[0m\u001b[0mindexer\u001b[0m\u001b[1;33m)\u001b[0m\u001b[1;33m\u001b[0m\u001b[1;33m\u001b[0m\u001b[0m\n",
      "\u001b[1;31mKeyError\u001b[0m: \"['fav'] not found in axis\""
     ]
    }
   ],
   "source": [
    "lgb1.fit(t1.drop(['fav','Registration_Date','Patient_ID','Health_Camp_ID','index'],axis=1),t1['fav'])\n",
    "lgb2.fit(t1.drop(['fav','Registration_Date','Patient_ID','Health_Camp_ID','index'],axis=1),t2['fav'])\n",
    "lgb3.fit(t1.drop(['fav','Registration_Date','Patient_ID','Health_Camp_ID','index'],axis=1),t3['fav'])"
   ]
  },
  {
   "cell_type": "code",
   "execution_count": 80,
   "metadata": {},
   "outputs": [],
   "source": [
    "sub=pd.DataFrame({'Patient_ID':test['Patient_ID'].values,'Health_Camp_ID':test['Health_Camp_ID'].values})"
   ]
  },
  {
   "cell_type": "code",
   "execution_count": null,
   "metadata": {},
   "outputs": [],
   "source": [
    "sub['Outcome']=-1"
   ]
  },
  {
   "cell_type": "code",
   "execution_count": null,
   "metadata": {},
   "outputs": [],
   "source": [
    "for r in range(len(test)):\n",
    "    d=test.iloc[r]\n",
    "    if d['Health_Camp_ID'] in camp1['Health_Camp_ID'].values:\n",
    "        p=lgb1.predict(d)\n",
    "        sub.iloc[r]['Outcome']=p\n",
    "    elif d['Health_Camp_ID'] in camp2['Health_Camp_ID'].values:\n",
    "        p=lgb2.predict(d)\n",
    "        sub.iloc[r]['Outcome']=p\n",
    "    else:\n",
    "        p=lgb3.predict(d)\n",
    "        sub.iloc[r]['Outcome']=p"
   ]
  },
  {
   "cell_type": "code",
   "execution_count": 65,
   "metadata": {},
   "outputs": [
    {
     "output_type": "execute_result",
     "data": {
      "text/plain": "{'learning_rate': 0.1, 'n_estimators': 64}"
     },
     "metadata": {},
     "execution_count": 65
    }
   ],
   "source": [
    "grid.best_params_"
   ]
  },
  {
   "cell_type": "code",
   "execution_count": 66,
   "metadata": {},
   "outputs": [],
   "source": [
    "pred=grid.predict_proba(test.drop(['Registration_Date','Patient_ID','Health_Camp_ID'],axis=1))"
   ]
  },
  {
   "cell_type": "code",
   "execution_count": 67,
   "metadata": {},
   "outputs": [
    {
     "output_type": "execute_result",
     "data": {
      "text/plain": "(35249, 2)"
     },
     "metadata": {},
     "execution_count": 67
    }
   ],
   "source": [
    "pred.shape"
   ]
  },
  {
   "cell_type": "code",
   "execution_count": 43,
   "metadata": {},
   "outputs": [],
   "source": [
    "p=lgb.predict(test.drop(['Registration_Date','Patient_ID','Health_Camp_ID'],axis=1))"
   ]
  },
  {
   "cell_type": "code",
   "execution_count": 44,
   "metadata": {},
   "outputs": [
    {
     "output_type": "execute_result",
     "data": {
      "text/plain": "array([0., 0., 0., ..., 0., 0., 1.])"
     },
     "metadata": {},
     "execution_count": 44
    }
   ],
   "source": [
    "p"
   ]
  },
  {
   "cell_type": "code",
   "execution_count": 68,
   "metadata": {},
   "outputs": [],
   "source": [
    "p1=pred[:,0]\n",
    "p2=pred[:,1]"
   ]
  },
  {
   "cell_type": "code",
   "execution_count": 69,
   "metadata": {},
   "outputs": [
    {
     "output_type": "execute_result",
     "data": {
      "text/plain": "array([0.31085801, 0.26396674, 0.26396674, ..., 0.26396674, 0.26396674,\n       0.58508967])"
     },
     "metadata": {},
     "execution_count": 69
    }
   ],
   "source": [
    "p2"
   ]
  },
  {
   "cell_type": "code",
   "execution_count": 55,
   "metadata": {},
   "outputs": [],
   "source": [
    "sub=pd.DataFrame(columns='Patient_ID Health_Camp_ID Outcome'.split())"
   ]
  },
  {
   "cell_type": "code",
   "execution_count": 56,
   "metadata": {},
   "outputs": [],
   "source": [
    "sub['Patient_ID']=test['Patient_ID'].values\n",
    "sub['Health_Camp_ID']=test['Health_Camp_ID'].values"
   ]
  },
  {
   "cell_type": "code",
   "execution_count": 70,
   "metadata": {},
   "outputs": [],
   "source": [
    "sub['Outcome']=p2"
   ]
  },
  {
   "cell_type": "code",
   "execution_count": 71,
   "metadata": {},
   "outputs": [],
   "source": [
    "sub.to_csv('Mysub3.csv',index=False)"
   ]
  },
  {
   "cell_type": "code",
   "execution_count": null,
   "metadata": {},
   "outputs": [],
   "source": []
  }
 ]
}