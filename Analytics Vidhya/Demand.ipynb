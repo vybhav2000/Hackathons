{
 "cells": [
  {
   "cell_type": "code",
   "execution_count": 1,
   "metadata": {},
   "outputs": [],
   "source": [
    "import numpy as np\n",
    "import pandas as pd\n",
    "import matplotlib.pyplot as plt\n",
    "import seaborn as sns\n",
    "import plotly.express as px\n",
    "from pmdarima import auto_arima\n",
    "from statsmodels.tsa.seasonal import seasonal_decompose\n",
    "from warnings import filterwarnings\n",
    "filterwarnings('ignore')"
   ]
  },
  {
   "cell_type": "code",
   "execution_count": 2,
   "metadata": {},
   "outputs": [],
   "source": [
    "train=pd.read_csv('train.csv')\n",
    "test=pd.read_csv('test.csv')"
   ]
  },
  {
   "cell_type": "code",
   "execution_count": 22,
   "metadata": {},
   "outputs": [
    {
     "output_type": "execute_result",
     "data": {
      "text/plain": "150150"
     },
     "metadata": {},
     "execution_count": 22
    }
   ],
   "source": [
    "len(train)"
   ]
  },
  {
   "cell_type": "code",
   "execution_count": 4,
   "metadata": {
    "tags": []
   },
   "outputs": [
    {
     "output_type": "stream",
     "name": "stdout",
     "text": "<class 'pandas.core.frame.DataFrame'>\nRangeIndex: 150150 entries, 0 to 150149\nData columns (total 9 columns):\n #   Column           Non-Null Count   Dtype  \n---  ------           --------------   -----  \n 0   record_ID        150150 non-null  int64  \n 1   week             150150 non-null  object \n 2   store_id         150150 non-null  int64  \n 3   sku_id           150150 non-null  int64  \n 4   total_price      150149 non-null  float64\n 5   base_price       150150 non-null  float64\n 6   is_featured_sku  150150 non-null  int64  \n 7   is_display_sku   150150 non-null  int64  \n 8   units_sold       150150 non-null  int64  \ndtypes: float64(2), int64(6), object(1)\nmemory usage: 10.3+ MB\n"
    }
   ],
   "source": [
    "train.info()"
   ]
  },
  {
   "cell_type": "code",
   "execution_count": 3,
   "metadata": {},
   "outputs": [],
   "source": [
    "train['week']=pd.to_datetime(train['week'])\n",
    "test['week']=pd.to_datetime(test['week'])"
   ]
  },
  {
   "cell_type": "code",
   "execution_count": 4,
   "metadata": {},
   "outputs": [],
   "source": [
    "train['discount']=train['base_price']-train['total_price']\n",
    "test['discount']=test['base_price']-test['total_price']"
   ]
  },
  {
   "cell_type": "code",
   "execution_count": 5,
   "metadata": {},
   "outputs": [],
   "source": [
    "from sklearn.preprocessing import OrdinalEncoder"
   ]
  },
  {
   "cell_type": "code",
   "execution_count": 9,
   "metadata": {},
   "outputs": [],
   "source": [
    "test['units_sold']=-1"
   ]
  },
  {
   "cell_type": "code",
   "execution_count": 11,
   "metadata": {},
   "outputs": [],
   "source": [
    "train1=train.append(test)"
   ]
  },
  {
   "cell_type": "code",
   "execution_count": 12,
   "metadata": {},
   "outputs": [
    {
     "output_type": "execute_result",
     "data": {
      "text/plain": "       record_ID       week  store_id  sku_id  total_price  base_price  \\\n0              1 2011-01-17      8091  216418      99.0375    111.8625   \n1              2 2011-01-17      8091  216419      99.0375     99.0375   \n2              3 2011-01-17      8091  216425     133.9500    133.9500   \n3              4 2011-01-17      8091  216233     133.9500    133.9500   \n4              5 2011-01-17      8091  217390     141.0750    141.0750   \n...          ...        ...       ...     ...          ...         ...   \n13855     232281 2013-01-10      9984  223245     241.5375    241.5375   \n13856     232282 2013-01-10      9984  223153     240.8250    240.8250   \n13857     232285 2013-01-10      9984  245338     382.6125    401.8500   \n13858     232286 2013-01-10      9984  547934     191.6625    191.6625   \n13859     232287 2013-01-10      9984  679023     234.4125    234.4125   \n\n       is_featured_sku  is_display_sku  units_sold  discount  Week_no  \n0                    0               0          20   12.8250      1.0  \n1                    0               0          28    0.0000      1.0  \n2                    0               0          19    0.0000      1.0  \n3                    0               0          44    0.0000      1.0  \n4                    0               0          52    0.0000      1.0  \n...                ...             ...         ...       ...      ...  \n13855                0               0          -1    0.0000      NaN  \n13856                0               0          -1    0.0000      NaN  \n13857                1               1          -1   19.2375      NaN  \n13858                0               0          -1    0.0000      NaN  \n13859                0               0          -1    0.0000      NaN  \n\n[164010 rows x 11 columns]",
      "text/html": "<div>\n<style scoped>\n    .dataframe tbody tr th:only-of-type {\n        vertical-align: middle;\n    }\n\n    .dataframe tbody tr th {\n        vertical-align: top;\n    }\n\n    .dataframe thead th {\n        text-align: right;\n    }\n</style>\n<table border=\"1\" class=\"dataframe\">\n  <thead>\n    <tr style=\"text-align: right;\">\n      <th></th>\n      <th>record_ID</th>\n      <th>week</th>\n      <th>store_id</th>\n      <th>sku_id</th>\n      <th>total_price</th>\n      <th>base_price</th>\n      <th>is_featured_sku</th>\n      <th>is_display_sku</th>\n      <th>units_sold</th>\n      <th>discount</th>\n      <th>Week_no</th>\n    </tr>\n  </thead>\n  <tbody>\n    <tr>\n      <th>0</th>\n      <td>1</td>\n      <td>2011-01-17</td>\n      <td>8091</td>\n      <td>216418</td>\n      <td>99.0375</td>\n      <td>111.8625</td>\n      <td>0</td>\n      <td>0</td>\n      <td>20</td>\n      <td>12.8250</td>\n      <td>1.0</td>\n    </tr>\n    <tr>\n      <th>1</th>\n      <td>2</td>\n      <td>2011-01-17</td>\n      <td>8091</td>\n      <td>216419</td>\n      <td>99.0375</td>\n      <td>99.0375</td>\n      <td>0</td>\n      <td>0</td>\n      <td>28</td>\n      <td>0.0000</td>\n      <td>1.0</td>\n    </tr>\n    <tr>\n      <th>2</th>\n      <td>3</td>\n      <td>2011-01-17</td>\n      <td>8091</td>\n      <td>216425</td>\n      <td>133.9500</td>\n      <td>133.9500</td>\n      <td>0</td>\n      <td>0</td>\n      <td>19</td>\n      <td>0.0000</td>\n      <td>1.0</td>\n    </tr>\n    <tr>\n      <th>3</th>\n      <td>4</td>\n      <td>2011-01-17</td>\n      <td>8091</td>\n      <td>216233</td>\n      <td>133.9500</td>\n      <td>133.9500</td>\n      <td>0</td>\n      <td>0</td>\n      <td>44</td>\n      <td>0.0000</td>\n      <td>1.0</td>\n    </tr>\n    <tr>\n      <th>4</th>\n      <td>5</td>\n      <td>2011-01-17</td>\n      <td>8091</td>\n      <td>217390</td>\n      <td>141.0750</td>\n      <td>141.0750</td>\n      <td>0</td>\n      <td>0</td>\n      <td>52</td>\n      <td>0.0000</td>\n      <td>1.0</td>\n    </tr>\n    <tr>\n      <th>...</th>\n      <td>...</td>\n      <td>...</td>\n      <td>...</td>\n      <td>...</td>\n      <td>...</td>\n      <td>...</td>\n      <td>...</td>\n      <td>...</td>\n      <td>...</td>\n      <td>...</td>\n      <td>...</td>\n    </tr>\n    <tr>\n      <th>13855</th>\n      <td>232281</td>\n      <td>2013-01-10</td>\n      <td>9984</td>\n      <td>223245</td>\n      <td>241.5375</td>\n      <td>241.5375</td>\n      <td>0</td>\n      <td>0</td>\n      <td>-1</td>\n      <td>0.0000</td>\n      <td>NaN</td>\n    </tr>\n    <tr>\n      <th>13856</th>\n      <td>232282</td>\n      <td>2013-01-10</td>\n      <td>9984</td>\n      <td>223153</td>\n      <td>240.8250</td>\n      <td>240.8250</td>\n      <td>0</td>\n      <td>0</td>\n      <td>-1</td>\n      <td>0.0000</td>\n      <td>NaN</td>\n    </tr>\n    <tr>\n      <th>13857</th>\n      <td>232285</td>\n      <td>2013-01-10</td>\n      <td>9984</td>\n      <td>245338</td>\n      <td>382.6125</td>\n      <td>401.8500</td>\n      <td>1</td>\n      <td>1</td>\n      <td>-1</td>\n      <td>19.2375</td>\n      <td>NaN</td>\n    </tr>\n    <tr>\n      <th>13858</th>\n      <td>232286</td>\n      <td>2013-01-10</td>\n      <td>9984</td>\n      <td>547934</td>\n      <td>191.6625</td>\n      <td>191.6625</td>\n      <td>0</td>\n      <td>0</td>\n      <td>-1</td>\n      <td>0.0000</td>\n      <td>NaN</td>\n    </tr>\n    <tr>\n      <th>13859</th>\n      <td>232287</td>\n      <td>2013-01-10</td>\n      <td>9984</td>\n      <td>679023</td>\n      <td>234.4125</td>\n      <td>234.4125</td>\n      <td>0</td>\n      <td>0</td>\n      <td>-1</td>\n      <td>0.0000</td>\n      <td>NaN</td>\n    </tr>\n  </tbody>\n</table>\n<p>164010 rows × 11 columns</p>\n</div>"
     },
     "metadata": {},
     "execution_count": 12
    }
   ],
   "source": [
    "train1"
   ]
  },
  {
   "cell_type": "code",
   "execution_count": 13,
   "metadata": {},
   "outputs": [],
   "source": [
    "enc=OrdinalEncoder()\n",
    "train1['Week_no']=enc.fit_transform(train1['week'].values.reshape(-1,1))\n"
   ]
  },
  {
   "cell_type": "code",
   "execution_count": 16,
   "metadata": {},
   "outputs": [],
   "source": [
    "train1['Week_no']=train1['Week_no']%52"
   ]
  },
  {
   "cell_type": "code",
   "execution_count": 36,
   "metadata": {},
   "outputs": [],
   "source": [
    "train1['month_no']=(train1['Week_no']/4).astype(int)"
   ]
  },
  {
   "cell_type": "code",
   "execution_count": 41,
   "metadata": {},
   "outputs": [
    {
     "output_type": "execute_result",
     "data": {
      "text/plain": "       record_ID       week  store_id  sku_id  total_price  base_price  \\\n0              1 2011-01-17      8091  216418      99.0375    111.8625   \n1              2 2011-01-17      8091  216419      99.0375     99.0375   \n2              3 2011-01-17      8091  216425     133.9500    133.9500   \n3              4 2011-01-17      8091  216233     133.9500    133.9500   \n4              5 2011-01-17      8091  217390     141.0750    141.0750   \n...          ...        ...       ...     ...          ...         ...   \n13855     232281 2013-01-10      9984  223245     241.5375    241.5375   \n13856     232282 2013-01-10      9984  223153     240.8250    240.8250   \n13857     232285 2013-01-10      9984  245338     382.6125    401.8500   \n13858     232286 2013-01-10      9984  547934     191.6625    191.6625   \n13859     232287 2013-01-10      9984  679023     234.4125    234.4125   \n\n       is_featured_sku  is_display_sku  units_sold  discount  Week_no  \\\n0                    0               0          20   12.8250      1.0   \n1                    0               0          28    0.0000      1.0   \n2                    0               0          19    0.0000      1.0   \n3                    0               0          44    0.0000      1.0   \n4                    0               0          52    0.0000      1.0   \n...                ...             ...         ...       ...      ...   \n13855                0               0          -1    0.0000     51.0   \n13856                0               0          -1    0.0000     51.0   \n13857                1               1          -1   19.2375     51.0   \n13858                0               0          -1    0.0000     51.0   \n13859                0               0          -1    0.0000     51.0   \n\n       month_no  month_sine  \n0             0         0.0  \n1             0         0.0  \n2             0         0.0  \n3             0         0.0  \n4             0         0.0  \n...         ...         ...  \n13855        12         0.0  \n13856        12         0.0  \n13857        12         0.0  \n13858        12         0.0  \n13859        12         0.0  \n\n[164010 rows x 13 columns]",
      "text/html": "<div>\n<style scoped>\n    .dataframe tbody tr th:only-of-type {\n        vertical-align: middle;\n    }\n\n    .dataframe tbody tr th {\n        vertical-align: top;\n    }\n\n    .dataframe thead th {\n        text-align: right;\n    }\n</style>\n<table border=\"1\" class=\"dataframe\">\n  <thead>\n    <tr style=\"text-align: right;\">\n      <th></th>\n      <th>record_ID</th>\n      <th>week</th>\n      <th>store_id</th>\n      <th>sku_id</th>\n      <th>total_price</th>\n      <th>base_price</th>\n      <th>is_featured_sku</th>\n      <th>is_display_sku</th>\n      <th>units_sold</th>\n      <th>discount</th>\n      <th>Week_no</th>\n      <th>month_no</th>\n      <th>month_sine</th>\n    </tr>\n  </thead>\n  <tbody>\n    <tr>\n      <th>0</th>\n      <td>1</td>\n      <td>2011-01-17</td>\n      <td>8091</td>\n      <td>216418</td>\n      <td>99.0375</td>\n      <td>111.8625</td>\n      <td>0</td>\n      <td>0</td>\n      <td>20</td>\n      <td>12.8250</td>\n      <td>1.0</td>\n      <td>0</td>\n      <td>0.0</td>\n    </tr>\n    <tr>\n      <th>1</th>\n      <td>2</td>\n      <td>2011-01-17</td>\n      <td>8091</td>\n      <td>216419</td>\n      <td>99.0375</td>\n      <td>99.0375</td>\n      <td>0</td>\n      <td>0</td>\n      <td>28</td>\n      <td>0.0000</td>\n      <td>1.0</td>\n      <td>0</td>\n      <td>0.0</td>\n    </tr>\n    <tr>\n      <th>2</th>\n      <td>3</td>\n      <td>2011-01-17</td>\n      <td>8091</td>\n      <td>216425</td>\n      <td>133.9500</td>\n      <td>133.9500</td>\n      <td>0</td>\n      <td>0</td>\n      <td>19</td>\n      <td>0.0000</td>\n      <td>1.0</td>\n      <td>0</td>\n      <td>0.0</td>\n    </tr>\n    <tr>\n      <th>3</th>\n      <td>4</td>\n      <td>2011-01-17</td>\n      <td>8091</td>\n      <td>216233</td>\n      <td>133.9500</td>\n      <td>133.9500</td>\n      <td>0</td>\n      <td>0</td>\n      <td>44</td>\n      <td>0.0000</td>\n      <td>1.0</td>\n      <td>0</td>\n      <td>0.0</td>\n    </tr>\n    <tr>\n      <th>4</th>\n      <td>5</td>\n      <td>2011-01-17</td>\n      <td>8091</td>\n      <td>217390</td>\n      <td>141.0750</td>\n      <td>141.0750</td>\n      <td>0</td>\n      <td>0</td>\n      <td>52</td>\n      <td>0.0000</td>\n      <td>1.0</td>\n      <td>0</td>\n      <td>0.0</td>\n    </tr>\n    <tr>\n      <th>...</th>\n      <td>...</td>\n      <td>...</td>\n      <td>...</td>\n      <td>...</td>\n      <td>...</td>\n      <td>...</td>\n      <td>...</td>\n      <td>...</td>\n      <td>...</td>\n      <td>...</td>\n      <td>...</td>\n      <td>...</td>\n      <td>...</td>\n    </tr>\n    <tr>\n      <th>13855</th>\n      <td>232281</td>\n      <td>2013-01-10</td>\n      <td>9984</td>\n      <td>223245</td>\n      <td>241.5375</td>\n      <td>241.5375</td>\n      <td>0</td>\n      <td>0</td>\n      <td>-1</td>\n      <td>0.0000</td>\n      <td>51.0</td>\n      <td>12</td>\n      <td>0.0</td>\n    </tr>\n    <tr>\n      <th>13856</th>\n      <td>232282</td>\n      <td>2013-01-10</td>\n      <td>9984</td>\n      <td>223153</td>\n      <td>240.8250</td>\n      <td>240.8250</td>\n      <td>0</td>\n      <td>0</td>\n      <td>-1</td>\n      <td>0.0000</td>\n      <td>51.0</td>\n      <td>12</td>\n      <td>0.0</td>\n    </tr>\n    <tr>\n      <th>13857</th>\n      <td>232285</td>\n      <td>2013-01-10</td>\n      <td>9984</td>\n      <td>245338</td>\n      <td>382.6125</td>\n      <td>401.8500</td>\n      <td>1</td>\n      <td>1</td>\n      <td>-1</td>\n      <td>19.2375</td>\n      <td>51.0</td>\n      <td>12</td>\n      <td>0.0</td>\n    </tr>\n    <tr>\n      <th>13858</th>\n      <td>232286</td>\n      <td>2013-01-10</td>\n      <td>9984</td>\n      <td>547934</td>\n      <td>191.6625</td>\n      <td>191.6625</td>\n      <td>0</td>\n      <td>0</td>\n      <td>-1</td>\n      <td>0.0000</td>\n      <td>51.0</td>\n      <td>12</td>\n      <td>0.0</td>\n    </tr>\n    <tr>\n      <th>13859</th>\n      <td>232287</td>\n      <td>2013-01-10</td>\n      <td>9984</td>\n      <td>679023</td>\n      <td>234.4125</td>\n      <td>234.4125</td>\n      <td>0</td>\n      <td>0</td>\n      <td>-1</td>\n      <td>0.0000</td>\n      <td>51.0</td>\n      <td>12</td>\n      <td>0.0</td>\n    </tr>\n  </tbody>\n</table>\n<p>164010 rows × 13 columns</p>\n</div>"
     },
     "metadata": {},
     "execution_count": 41
    }
   ],
   "source": [
    "train1"
   ]
  },
  {
   "cell_type": "code",
   "execution_count": 48,
   "metadata": {},
   "outputs": [],
   "source": [
    "train1['month_sine']=np.sin(2*3.1415926535897933*train1['month_no']/12)"
   ]
  },
  {
   "cell_type": "code",
   "execution_count": 47,
   "metadata": {},
   "outputs": [
    {
     "output_type": "execute_result",
     "data": {
      "text/plain": "3.141592653589793"
     },
     "metadata": {},
     "execution_count": 47
    }
   ],
   "source": [
    "np.arcsin(1)"
   ]
  },
  {
   "cell_type": "code",
   "execution_count": 49,
   "metadata": {},
   "outputs": [
    {
     "output_type": "execute_result",
     "data": {
      "text/plain": "       record_ID       week  store_id  sku_id  total_price  base_price  \\\n0              1 2011-01-17      8091  216418      99.0375    111.8625   \n1              2 2011-01-17      8091  216419      99.0375     99.0375   \n2              3 2011-01-17      8091  216425     133.9500    133.9500   \n3              4 2011-01-17      8091  216233     133.9500    133.9500   \n4              5 2011-01-17      8091  217390     141.0750    141.0750   \n...          ...        ...       ...     ...          ...         ...   \n13855     232281 2013-01-10      9984  223245     241.5375    241.5375   \n13856     232282 2013-01-10      9984  223153     240.8250    240.8250   \n13857     232285 2013-01-10      9984  245338     382.6125    401.8500   \n13858     232286 2013-01-10      9984  547934     191.6625    191.6625   \n13859     232287 2013-01-10      9984  679023     234.4125    234.4125   \n\n       is_featured_sku  is_display_sku  units_sold  discount  Week_no  \\\n0                    0               0          20   12.8250      1.0   \n1                    0               0          28    0.0000      1.0   \n2                    0               0          19    0.0000      1.0   \n3                    0               0          44    0.0000      1.0   \n4                    0               0          52    0.0000      1.0   \n...                ...             ...         ...       ...      ...   \n13855                0               0          -1    0.0000     51.0   \n13856                0               0          -1    0.0000     51.0   \n13857                1               1          -1   19.2375     51.0   \n13858                0               0          -1    0.0000     51.0   \n13859                0               0          -1    0.0000     51.0   \n\n       month_no    month_sine  \n0             0  0.000000e+00  \n1             0  0.000000e+00  \n2             0  0.000000e+00  \n3             0  0.000000e+00  \n4             0  0.000000e+00  \n...         ...           ...  \n13855        12 -2.449294e-16  \n13856        12 -2.449294e-16  \n13857        12 -2.449294e-16  \n13858        12 -2.449294e-16  \n13859        12 -2.449294e-16  \n\n[164010 rows x 13 columns]",
      "text/html": "<div>\n<style scoped>\n    .dataframe tbody tr th:only-of-type {\n        vertical-align: middle;\n    }\n\n    .dataframe tbody tr th {\n        vertical-align: top;\n    }\n\n    .dataframe thead th {\n        text-align: right;\n    }\n</style>\n<table border=\"1\" class=\"dataframe\">\n  <thead>\n    <tr style=\"text-align: right;\">\n      <th></th>\n      <th>record_ID</th>\n      <th>week</th>\n      <th>store_id</th>\n      <th>sku_id</th>\n      <th>total_price</th>\n      <th>base_price</th>\n      <th>is_featured_sku</th>\n      <th>is_display_sku</th>\n      <th>units_sold</th>\n      <th>discount</th>\n      <th>Week_no</th>\n      <th>month_no</th>\n      <th>month_sine</th>\n    </tr>\n  </thead>\n  <tbody>\n    <tr>\n      <th>0</th>\n      <td>1</td>\n      <td>2011-01-17</td>\n      <td>8091</td>\n      <td>216418</td>\n      <td>99.0375</td>\n      <td>111.8625</td>\n      <td>0</td>\n      <td>0</td>\n      <td>20</td>\n      <td>12.8250</td>\n      <td>1.0</td>\n      <td>0</td>\n      <td>0.000000e+00</td>\n    </tr>\n    <tr>\n      <th>1</th>\n      <td>2</td>\n      <td>2011-01-17</td>\n      <td>8091</td>\n      <td>216419</td>\n      <td>99.0375</td>\n      <td>99.0375</td>\n      <td>0</td>\n      <td>0</td>\n      <td>28</td>\n      <td>0.0000</td>\n      <td>1.0</td>\n      <td>0</td>\n      <td>0.000000e+00</td>\n    </tr>\n    <tr>\n      <th>2</th>\n      <td>3</td>\n      <td>2011-01-17</td>\n      <td>8091</td>\n      <td>216425</td>\n      <td>133.9500</td>\n      <td>133.9500</td>\n      <td>0</td>\n      <td>0</td>\n      <td>19</td>\n      <td>0.0000</td>\n      <td>1.0</td>\n      <td>0</td>\n      <td>0.000000e+00</td>\n    </tr>\n    <tr>\n      <th>3</th>\n      <td>4</td>\n      <td>2011-01-17</td>\n      <td>8091</td>\n      <td>216233</td>\n      <td>133.9500</td>\n      <td>133.9500</td>\n      <td>0</td>\n      <td>0</td>\n      <td>44</td>\n      <td>0.0000</td>\n      <td>1.0</td>\n      <td>0</td>\n      <td>0.000000e+00</td>\n    </tr>\n    <tr>\n      <th>4</th>\n      <td>5</td>\n      <td>2011-01-17</td>\n      <td>8091</td>\n      <td>217390</td>\n      <td>141.0750</td>\n      <td>141.0750</td>\n      <td>0</td>\n      <td>0</td>\n      <td>52</td>\n      <td>0.0000</td>\n      <td>1.0</td>\n      <td>0</td>\n      <td>0.000000e+00</td>\n    </tr>\n    <tr>\n      <th>...</th>\n      <td>...</td>\n      <td>...</td>\n      <td>...</td>\n      <td>...</td>\n      <td>...</td>\n      <td>...</td>\n      <td>...</td>\n      <td>...</td>\n      <td>...</td>\n      <td>...</td>\n      <td>...</td>\n      <td>...</td>\n      <td>...</td>\n    </tr>\n    <tr>\n      <th>13855</th>\n      <td>232281</td>\n      <td>2013-01-10</td>\n      <td>9984</td>\n      <td>223245</td>\n      <td>241.5375</td>\n      <td>241.5375</td>\n      <td>0</td>\n      <td>0</td>\n      <td>-1</td>\n      <td>0.0000</td>\n      <td>51.0</td>\n      <td>12</td>\n      <td>-2.449294e-16</td>\n    </tr>\n    <tr>\n      <th>13856</th>\n      <td>232282</td>\n      <td>2013-01-10</td>\n      <td>9984</td>\n      <td>223153</td>\n      <td>240.8250</td>\n      <td>240.8250</td>\n      <td>0</td>\n      <td>0</td>\n      <td>-1</td>\n      <td>0.0000</td>\n      <td>51.0</td>\n      <td>12</td>\n      <td>-2.449294e-16</td>\n    </tr>\n    <tr>\n      <th>13857</th>\n      <td>232285</td>\n      <td>2013-01-10</td>\n      <td>9984</td>\n      <td>245338</td>\n      <td>382.6125</td>\n      <td>401.8500</td>\n      <td>1</td>\n      <td>1</td>\n      <td>-1</td>\n      <td>19.2375</td>\n      <td>51.0</td>\n      <td>12</td>\n      <td>-2.449294e-16</td>\n    </tr>\n    <tr>\n      <th>13858</th>\n      <td>232286</td>\n      <td>2013-01-10</td>\n      <td>9984</td>\n      <td>547934</td>\n      <td>191.6625</td>\n      <td>191.6625</td>\n      <td>0</td>\n      <td>0</td>\n      <td>-1</td>\n      <td>0.0000</td>\n      <td>51.0</td>\n      <td>12</td>\n      <td>-2.449294e-16</td>\n    </tr>\n    <tr>\n      <th>13859</th>\n      <td>232287</td>\n      <td>2013-01-10</td>\n      <td>9984</td>\n      <td>679023</td>\n      <td>234.4125</td>\n      <td>234.4125</td>\n      <td>0</td>\n      <td>0</td>\n      <td>-1</td>\n      <td>0.0000</td>\n      <td>51.0</td>\n      <td>12</td>\n      <td>-2.449294e-16</td>\n    </tr>\n  </tbody>\n</table>\n<p>164010 rows × 13 columns</p>\n</div>"
     },
     "metadata": {},
     "execution_count": 49
    }
   ],
   "source": [
    "train1"
   ]
  },
  {
   "cell_type": "code",
   "execution_count": 60,
   "metadata": {},
   "outputs": [],
   "source": [
    "stores=train['store_id'].unique()"
   ]
  },
  {
   "cell_type": "code",
   "execution_count": 10,
   "metadata": {},
   "outputs": [
    {
     "output_type": "execute_result",
     "data": {
      "text/plain": "            discount  base_price\ndiscount    1.000000    0.376067\nbase_price  0.376067    1.000000",
      "text/html": "<div>\n<style scoped>\n    .dataframe tbody tr th:only-of-type {\n        vertical-align: middle;\n    }\n\n    .dataframe tbody tr th {\n        vertical-align: top;\n    }\n\n    .dataframe thead th {\n        text-align: right;\n    }\n</style>\n<table border=\"1\" class=\"dataframe\">\n  <thead>\n    <tr style=\"text-align: right;\">\n      <th></th>\n      <th>discount</th>\n      <th>base_price</th>\n    </tr>\n  </thead>\n  <tbody>\n    <tr>\n      <th>discount</th>\n      <td>1.000000</td>\n      <td>0.376067</td>\n    </tr>\n    <tr>\n      <th>base_price</th>\n      <td>0.376067</td>\n      <td>1.000000</td>\n    </tr>\n  </tbody>\n</table>\n</div>"
     },
     "metadata": {},
     "execution_count": 10
    }
   ],
   "source": [
    "train[['discount','base_price']].corr()"
   ]
  },
  {
   "cell_type": "code",
   "execution_count": 64,
   "metadata": {},
   "outputs": [],
   "source": [
    "cols=['base_price',\n",
    "       'is_featured_sku', 'is_display_sku','units_sold','discount','Week_no','month_sine']"
   ]
  },
  {
   "cell_type": "code",
   "execution_count": 51,
   "metadata": {},
   "outputs": [],
   "source": [
    "train=train1.iloc[:len(train)]\n",
    "test=train1.iloc[len(train):]"
   ]
  },
  {
   "cell_type": "code",
   "execution_count": 54,
   "metadata": {},
   "outputs": [],
   "source": [
    "test.drop(['units_sold'],axis=1,inplace=True)"
   ]
  },
  {
   "cell_type": "code",
   "execution_count": 52,
   "metadata": {},
   "outputs": [
    {
     "output_type": "execute_result",
     "data": {
      "text/plain": "150150"
     },
     "metadata": {},
     "execution_count": 52
    }
   ],
   "source": [
    "len(train)"
   ]
  },
  {
   "cell_type": "code",
   "execution_count": 53,
   "metadata": {},
   "outputs": [],
   "source": [
    "from xgboost import XGBRegressor\n",
    "from lightgbm import LGBMRegressor"
   ]
  },
  {
   "cell_type": "code",
   "execution_count": 55,
   "metadata": {},
   "outputs": [],
   "source": [
    "sub=pd.DataFrame({'record_ID':test['record_ID'].values,'units_sold':[0]*len(test)})"
   ]
  },
  {
   "cell_type": "code",
   "execution_count": 56,
   "metadata": {},
   "outputs": [
    {
     "output_type": "execute_result",
     "data": {
      "text/plain": "Index(['record_ID', 'week', 'store_id', 'sku_id', 'total_price', 'base_price',\n       'is_featured_sku', 'is_display_sku', 'discount', 'Week_no', 'month_no',\n       'month_sine'],\n      dtype='object')"
     },
     "metadata": {},
     "execution_count": 56
    }
   ],
   "source": [
    "test.columns"
   ]
  },
  {
   "cell_type": "code",
   "execution_count": 57,
   "metadata": {},
   "outputs": [
    {
     "output_type": "execute_result",
     "data": {
      "text/plain": "   record_ID  units_sold\n0     212645           0\n1     212646           0\n2     212647           0\n3     212648           0\n4     212649           0",
      "text/html": "<div>\n<style scoped>\n    .dataframe tbody tr th:only-of-type {\n        vertical-align: middle;\n    }\n\n    .dataframe tbody tr th {\n        vertical-align: top;\n    }\n\n    .dataframe thead th {\n        text-align: right;\n    }\n</style>\n<table border=\"1\" class=\"dataframe\">\n  <thead>\n    <tr style=\"text-align: right;\">\n      <th></th>\n      <th>record_ID</th>\n      <th>units_sold</th>\n    </tr>\n  </thead>\n  <tbody>\n    <tr>\n      <th>0</th>\n      <td>212645</td>\n      <td>0</td>\n    </tr>\n    <tr>\n      <th>1</th>\n      <td>212646</td>\n      <td>0</td>\n    </tr>\n    <tr>\n      <th>2</th>\n      <td>212647</td>\n      <td>0</td>\n    </tr>\n    <tr>\n      <th>3</th>\n      <td>212648</td>\n      <td>0</td>\n    </tr>\n    <tr>\n      <th>4</th>\n      <td>212649</td>\n      <td>0</td>\n    </tr>\n  </tbody>\n</table>\n</div>"
     },
     "metadata": {},
     "execution_count": 57
    }
   ],
   "source": [
    "sub.head()"
   ]
  },
  {
   "cell_type": "code",
   "execution_count": 58,
   "metadata": {},
   "outputs": [],
   "source": [
    "from sklearn.model_selection import GridSearchCV"
   ]
  },
  {
   "cell_type": "code",
   "execution_count": 66,
   "metadata": {
    "tags": [
     "outputPrepend"
    ]
   },
   "outputs": [
    {
     "output_type": "stream",
     "name": "stdout",
     "text": "lBackend with 1 concurrent workers.\nFitting 5 folds for each of 9 candidates, totalling 45 fits\n[Parallel(n_jobs=1)]: Done  45 out of  45 | elapsed:    1.9s finished\n[Parallel(n_jobs=1)]: Using backend SequentialBackend with 1 concurrent workers.\nFitting 5 folds for each of 9 candidates, totalling 45 fits\n[Parallel(n_jobs=1)]: Done  45 out of  45 | elapsed:    2.0s finished\n[Parallel(n_jobs=1)]: Using backend SequentialBackend with 1 concurrent workers.\nFitting 5 folds for each of 9 candidates, totalling 45 fits\n[Parallel(n_jobs=1)]: Done  45 out of  45 | elapsed:    1.7s finished\n[Parallel(n_jobs=1)]: Using backend SequentialBackend with 1 concurrent workers.\nFitting 5 folds for each of 9 candidates, totalling 45 fits\n[Parallel(n_jobs=1)]: Done  45 out of  45 | elapsed:    1.7s finished\n[Parallel(n_jobs=1)]: Using backend SequentialBackend with 1 concurrent workers.\nFitting 5 folds for each of 9 candidates, totalling 45 fits\n[Parallel(n_jobs=1)]: Done  45 out of  45 | elapsed:    1.7s finished\n[Parallel(n_jobs=1)]: Using backend SequentialBackend with 1 concurrent workers.\nFitting 5 folds for each of 9 candidates, totalling 45 fits\n[Parallel(n_jobs=1)]: Done  45 out of  45 | elapsed:    1.8s finished\n[Parallel(n_jobs=1)]: Using backend SequentialBackend with 1 concurrent workers.\nFitting 5 folds for each of 9 candidates, totalling 45 fits\n[Parallel(n_jobs=1)]: Done  45 out of  45 | elapsed:    1.7s finished\n[Parallel(n_jobs=1)]: Using backend SequentialBackend with 1 concurrent workers.\nFitting 5 folds for each of 9 candidates, totalling 45 fits\n[Parallel(n_jobs=1)]: Done  45 out of  45 | elapsed:    1.7s finished\n[Parallel(n_jobs=1)]: Using backend SequentialBackend with 1 concurrent workers.\nFitting 5 folds for each of 9 candidates, totalling 45 fits\n[Parallel(n_jobs=1)]: Done  45 out of  45 | elapsed:    1.6s finished\n[Parallel(n_jobs=1)]: Using backend SequentialBackend with 1 concurrent workers.\nFitting 5 folds for each of 9 candidates, totalling 45 fits\n[Parallel(n_jobs=1)]: Done  45 out of  45 | elapsed:    1.6s finished\n[Parallel(n_jobs=1)]: Using backend SequentialBackend with 1 concurrent workers.\nFitting 5 folds for each of 9 candidates, totalling 45 fits\n[Parallel(n_jobs=1)]: Done  45 out of  45 | elapsed:    1.5s finished\n[Parallel(n_jobs=1)]: Using backend SequentialBackend with 1 concurrent workers.\nFitting 5 folds for each of 9 candidates, totalling 45 fits\n[Parallel(n_jobs=1)]: Done  45 out of  45 | elapsed:    1.5s finished\n[Parallel(n_jobs=1)]: Using backend SequentialBackend with 1 concurrent workers.\nFitting 5 folds for each of 9 candidates, totalling 45 fits\n[Parallel(n_jobs=1)]: Done  45 out of  45 | elapsed:    1.6s finished\n[Parallel(n_jobs=1)]: Using backend SequentialBackend with 1 concurrent workers.\nFitting 5 folds for each of 9 candidates, totalling 45 fits\n[Parallel(n_jobs=1)]: Done  45 out of  45 | elapsed:    1.6s finished\n[Parallel(n_jobs=1)]: Using backend SequentialBackend with 1 concurrent workers.\nFitting 5 folds for each of 9 candidates, totalling 45 fits\n[Parallel(n_jobs=1)]: Done  45 out of  45 | elapsed:    1.6s finished\n[Parallel(n_jobs=1)]: Using backend SequentialBackend with 1 concurrent workers.\nFitting 5 folds for each of 9 candidates, totalling 45 fits\n[Parallel(n_jobs=1)]: Done  45 out of  45 | elapsed:    1.6s finished\n[Parallel(n_jobs=1)]: Using backend SequentialBackend with 1 concurrent workers.\nFitting 5 folds for each of 9 candidates, totalling 45 fits\n[Parallel(n_jobs=1)]: Done  45 out of  45 | elapsed:    1.7s finished\n[Parallel(n_jobs=1)]: Using backend SequentialBackend with 1 concurrent workers.\nFitting 5 folds for each of 9 candidates, totalling 45 fits\n[Parallel(n_jobs=1)]: Done  45 out of  45 | elapsed:    1.5s finished\n[Parallel(n_jobs=1)]: Using backend SequentialBackend with 1 concurrent workers.\nFitting 5 folds for each of 9 candidates, totalling 45 fits\n[Parallel(n_jobs=1)]: Done  45 out of  45 | elapsed:    2.0s finished\n[Parallel(n_jobs=1)]: Using backend SequentialBackend with 1 concurrent workers.\nFitting 5 folds for each of 9 candidates, totalling 45 fits\n[Parallel(n_jobs=1)]: Done  45 out of  45 | elapsed:    1.9s finished\n[Parallel(n_jobs=1)]: Using backend SequentialBackend with 1 concurrent workers.\nFitting 5 folds for each of 9 candidates, totalling 45 fits\n[Parallel(n_jobs=1)]: Done  45 out of  45 | elapsed:    1.7s finished\n[Parallel(n_jobs=1)]: Using backend SequentialBackend with 1 concurrent workers.\nFitting 5 folds for each of 9 candidates, totalling 45 fits\n[Parallel(n_jobs=1)]: Done  45 out of  45 | elapsed:    1.6s finished\n[Parallel(n_jobs=1)]: Using backend SequentialBackend with 1 concurrent workers.\nFitting 5 folds for each of 9 candidates, totalling 45 fits\n[Parallel(n_jobs=1)]: Done  45 out of  45 | elapsed:    1.7s finished\n[Parallel(n_jobs=1)]: Using backend SequentialBackend with 1 concurrent workers.\nFitting 5 folds for each of 9 candidates, totalling 45 fits\n[Parallel(n_jobs=1)]: Done  45 out of  45 | elapsed:    1.6s finished\n[Parallel(n_jobs=1)]: Using backend SequentialBackend with 1 concurrent workers.\nFitting 5 folds for each of 9 candidates, totalling 45 fits\n[Parallel(n_jobs=1)]: Done  45 out of  45 | elapsed:    1.5s finished\n[Parallel(n_jobs=1)]: Using backend SequentialBackend with 1 concurrent workers.\nFitting 5 folds for each of 9 candidates, totalling 45 fits\n[Parallel(n_jobs=1)]: Done  45 out of  45 | elapsed:    1.5s finished\n[Parallel(n_jobs=1)]: Using backend SequentialBackend with 1 concurrent workers.\nFitting 5 folds for each of 9 candidates, totalling 45 fits\n[Parallel(n_jobs=1)]: Done  45 out of  45 | elapsed:    1.6s finished\n[Parallel(n_jobs=1)]: Using backend SequentialBackend with 1 concurrent workers.\nFitting 5 folds for each of 9 candidates, totalling 45 fits\n[Parallel(n_jobs=1)]: Done  45 out of  45 | elapsed:    1.7s finished\n[Parallel(n_jobs=1)]: Using backend SequentialBackend with 1 concurrent workers.\nFitting 5 folds for each of 9 candidates, totalling 45 fits\n[Parallel(n_jobs=1)]: Done  45 out of  45 | elapsed:    1.5s finished\n[Parallel(n_jobs=1)]: Using backend SequentialBackend with 1 concurrent workers.\nFitting 5 folds for each of 9 candidates, totalling 45 fits\n[Parallel(n_jobs=1)]: Done  45 out of  45 | elapsed:    1.5s finished\n[Parallel(n_jobs=1)]: Using backend SequentialBackend with 1 concurrent workers.\nFitting 5 folds for each of 9 candidates, totalling 45 fits\n[Parallel(n_jobs=1)]: Done  45 out of  45 | elapsed:    1.6s finished\n[Parallel(n_jobs=1)]: Using backend SequentialBackend with 1 concurrent workers.\nFitting 5 folds for each of 9 candidates, totalling 45 fits\n[Parallel(n_jobs=1)]: Done  45 out of  45 | elapsed:    1.6s finished\n[Parallel(n_jobs=1)]: Using backend SequentialBackend with 1 concurrent workers.\nFitting 5 folds for each of 9 candidates, totalling 45 fits\n[Parallel(n_jobs=1)]: Done  45 out of  45 | elapsed:    1.6s finished\n[Parallel(n_jobs=1)]: Using backend SequentialBackend with 1 concurrent workers.\nFitting 5 folds for each of 9 candidates, totalling 45 fits\n[Parallel(n_jobs=1)]: Done  45 out of  45 | elapsed:    1.5s finished\n[Parallel(n_jobs=1)]: Using backend SequentialBackend with 1 concurrent workers.\nFitting 5 folds for each of 9 candidates, totalling 45 fits\n[Parallel(n_jobs=1)]: Done  45 out of  45 | elapsed:    1.6s finished\n[Parallel(n_jobs=1)]: Using backend SequentialBackend with 1 concurrent workers.\nFitting 5 folds for each of 9 candidates, totalling 45 fits\n[Parallel(n_jobs=1)]: Done  45 out of  45 | elapsed:    1.5s finished\n[Parallel(n_jobs=1)]: Using backend SequentialBackend with 1 concurrent workers.\nFitting 5 folds for each of 9 candidates, totalling 45 fits\n[Parallel(n_jobs=1)]: Done  45 out of  45 | elapsed:    1.5s finished\n[Parallel(n_jobs=1)]: Using backend SequentialBackend with 1 concurrent workers.\nFitting 5 folds for each of 9 candidates, totalling 45 fits\n[Parallel(n_jobs=1)]: Done  45 out of  45 | elapsed:    1.5s finished\n[Parallel(n_jobs=1)]: Using backend SequentialBackend with 1 concurrent workers.\nFitting 5 folds for each of 9 candidates, totalling 45 fits\n[Parallel(n_jobs=1)]: Done  45 out of  45 | elapsed:    1.6s finished\n[Parallel(n_jobs=1)]: Using backend SequentialBackend with 1 concurrent workers.\nFitting 5 folds for each of 9 candidates, totalling 45 fits\n[Parallel(n_jobs=1)]: Done  45 out of  45 | elapsed:    1.5s finished\n[Parallel(n_jobs=1)]: Using backend SequentialBackend with 1 concurrent workers.\nFitting 5 folds for each of 9 candidates, totalling 45 fits\n[Parallel(n_jobs=1)]: Done  45 out of  45 | elapsed:    1.5s finished\n[Parallel(n_jobs=1)]: Using backend SequentialBackend with 1 concurrent workers.\nFitting 5 folds for each of 9 candidates, totalling 45 fits\n[Parallel(n_jobs=1)]: Done  45 out of  45 | elapsed:    1.6s finished\n[Parallel(n_jobs=1)]: Using backend SequentialBackend with 1 concurrent workers.\nFitting 5 folds for each of 9 candidates, totalling 45 fits\n[Parallel(n_jobs=1)]: Done  45 out of  45 | elapsed:    1.5s finished\n[Parallel(n_jobs=1)]: Using backend SequentialBackend with 1 concurrent workers.\nFitting 5 folds for each of 9 candidates, totalling 45 fits\n[Parallel(n_jobs=1)]: Done  45 out of  45 | elapsed:    1.5s finished\n[Parallel(n_jobs=1)]: Using backend SequentialBackend with 1 concurrent workers.\nFitting 5 folds for each of 9 candidates, totalling 45 fits\n[Parallel(n_jobs=1)]: Done  45 out of  45 | elapsed:    1.5s finished\n[Parallel(n_jobs=1)]: Using backend SequentialBackend with 1 concurrent workers.\nFitting 5 folds for each of 9 candidates, totalling 45 fits\n[Parallel(n_jobs=1)]: Done  45 out of  45 | elapsed:    1.6s finished\n[Parallel(n_jobs=1)]: Using backend SequentialBackend with 1 concurrent workers.\nFitting 5 folds for each of 9 candidates, totalling 45 fits\n[Parallel(n_jobs=1)]: Done  45 out of  45 | elapsed:    1.5s finished\n[Parallel(n_jobs=1)]: Using backend SequentialBackend with 1 concurrent workers.\nFitting 5 folds for each of 9 candidates, totalling 45 fits\n[Parallel(n_jobs=1)]: Done  45 out of  45 | elapsed:    1.6s finished\n[Parallel(n_jobs=1)]: Using backend SequentialBackend with 1 concurrent workers.\nFitting 5 folds for each of 9 candidates, totalling 45 fits\n[Parallel(n_jobs=1)]: Done  45 out of  45 | elapsed:    1.5s finished\n[Parallel(n_jobs=1)]: Using backend SequentialBackend with 1 concurrent workers.\nFitting 5 folds for each of 9 candidates, totalling 45 fits\n[Parallel(n_jobs=1)]: Done  45 out of  45 | elapsed:    1.6s finished\n[Parallel(n_jobs=1)]: Using backend SequentialBackend with 1 concurrent workers.\nFitting 5 folds for each of 9 candidates, totalling 45 fits\n[Parallel(n_jobs=1)]: Done  45 out of  45 | elapsed:    1.5s finished\n[Parallel(n_jobs=1)]: Using backend SequentialBackend with 1 concurrent workers.\nFitting 5 folds for each of 9 candidates, totalling 45 fits\n[Parallel(n_jobs=1)]: Done  45 out of  45 | elapsed:    1.5s finished\n[Parallel(n_jobs=1)]: Using backend SequentialBackend with 1 concurrent workers.\nFitting 5 folds for each of 9 candidates, totalling 45 fits\n[Parallel(n_jobs=1)]: Done  45 out of  45 | elapsed:    1.5s finished\n[Parallel(n_jobs=1)]: Using backend SequentialBackend with 1 concurrent workers.\nFitting 5 folds for each of 9 candidates, totalling 45 fits\n[Parallel(n_jobs=1)]: Done  45 out of  45 | elapsed:    1.6s finished\n[Parallel(n_jobs=1)]: Using backend SequentialBackend with 1 concurrent workers.\nFitting 5 folds for each of 9 candidates, totalling 45 fits\n[Parallel(n_jobs=1)]: Done  45 out of  45 | elapsed:    1.6s finished\n[Parallel(n_jobs=1)]: Using backend SequentialBackend with 1 concurrent workers.\nFitting 5 folds for each of 9 candidates, totalling 45 fits\n[Parallel(n_jobs=1)]: Done  45 out of  45 | elapsed:    1.5s finished\n[Parallel(n_jobs=1)]: Using backend SequentialBackend with 1 concurrent workers.\nFitting 5 folds for each of 9 candidates, totalling 45 fits\n[Parallel(n_jobs=1)]: Done  45 out of  45 | elapsed:    1.6s finished\n[Parallel(n_jobs=1)]: Using backend SequentialBackend with 1 concurrent workers.\nFitting 5 folds for each of 9 candidates, totalling 45 fits\n[Parallel(n_jobs=1)]: Done  45 out of  45 | elapsed:    1.6s finished\n[Parallel(n_jobs=1)]: Using backend SequentialBackend with 1 concurrent workers.\nFitting 5 folds for each of 9 candidates, totalling 45 fits\n[Parallel(n_jobs=1)]: Done  45 out of  45 | elapsed:    1.5s finished\n[Parallel(n_jobs=1)]: Using backend SequentialBackend with 1 concurrent workers.\nFitting 5 folds for each of 9 candidates, totalling 45 fits\n[Parallel(n_jobs=1)]: Done  45 out of  45 | elapsed:    1.6s finished\n[Parallel(n_jobs=1)]: Using backend SequentialBackend with 1 concurrent workers.\nFitting 5 folds for each of 9 candidates, totalling 45 fits\n[Parallel(n_jobs=1)]: Done  45 out of  45 | elapsed:    1.5s finished\n[Parallel(n_jobs=1)]: Using backend SequentialBackend with 1 concurrent workers.\nFitting 5 folds for each of 9 candidates, totalling 45 fits\n[Parallel(n_jobs=1)]: Done  45 out of  45 | elapsed:    1.5s finished\n[Parallel(n_jobs=1)]: Using backend SequentialBackend with 1 concurrent workers.\nFitting 5 folds for each of 9 candidates, totalling 45 fits\n[Parallel(n_jobs=1)]: Done  45 out of  45 | elapsed:    1.5s finished\n[Parallel(n_jobs=1)]: Using backend SequentialBackend with 1 concurrent workers.\nFitting 5 folds for each of 9 candidates, totalling 45 fits\n[Parallel(n_jobs=1)]: Done  45 out of  45 | elapsed:    1.7s finished\n[Parallel(n_jobs=1)]: Using backend SequentialBackend with 1 concurrent workers.\nFitting 5 folds for each of 9 candidates, totalling 45 fits\n[Parallel(n_jobs=1)]: Done  45 out of  45 | elapsed:    1.7s finished\n[Parallel(n_jobs=1)]: Using backend SequentialBackend with 1 concurrent workers.\nFitting 5 folds for each of 9 candidates, totalling 45 fits\n[Parallel(n_jobs=1)]: Done  45 out of  45 | elapsed:    1.9s finished\n[Parallel(n_jobs=1)]: Using backend SequentialBackend with 1 concurrent workers.\nFitting 5 folds for each of 9 candidates, totalling 45 fits\n[Parallel(n_jobs=1)]: Done  45 out of  45 | elapsed:    1.6s finished\n[Parallel(n_jobs=1)]: Using backend SequentialBackend with 1 concurrent workers.\nFitting 5 folds for each of 9 candidates, totalling 45 fits\n[Parallel(n_jobs=1)]: Done  45 out of  45 | elapsed:    1.7s finished\n[Parallel(n_jobs=1)]: Using backend SequentialBackend with 1 concurrent workers.\nFitting 5 folds for each of 9 candidates, totalling 45 fits\n[Parallel(n_jobs=1)]: Done  45 out of  45 | elapsed:    1.6s finished\n[Parallel(n_jobs=1)]: Using backend SequentialBackend with 1 concurrent workers.\nFitting 5 folds for each of 9 candidates, totalling 45 fits\n[Parallel(n_jobs=1)]: Done  45 out of  45 | elapsed:    1.6s finished\n[Parallel(n_jobs=1)]: Using backend SequentialBackend with 1 concurrent workers.\nFitting 5 folds for each of 9 candidates, totalling 45 fits\n[Parallel(n_jobs=1)]: Done  45 out of  45 | elapsed:    1.8s finished\n[Parallel(n_jobs=1)]: Using backend SequentialBackend with 1 concurrent workers.\nFitting 5 folds for each of 9 candidates, totalling 45 fits\n[Parallel(n_jobs=1)]: Done  45 out of  45 | elapsed:    1.9s finished\n[Parallel(n_jobs=1)]: Using backend SequentialBackend with 1 concurrent workers.\nFitting 5 folds for each of 9 candidates, totalling 45 fits\n[Parallel(n_jobs=1)]: Done  45 out of  45 | elapsed:    1.9s finished\n[Parallel(n_jobs=1)]: Using backend SequentialBackend with 1 concurrent workers.\nFitting 5 folds for each of 9 candidates, totalling 45 fits\n[Parallel(n_jobs=1)]: Done  45 out of  45 | elapsed:    1.7s finished\n[Parallel(n_jobs=1)]: Using backend SequentialBackend with 1 concurrent workers.\nFitting 5 folds for each of 9 candidates, totalling 45 fits\n[Parallel(n_jobs=1)]: Done  45 out of  45 | elapsed:    1.7s finished\n[Parallel(n_jobs=1)]: Using backend SequentialBackend with 1 concurrent workers.\nFitting 5 folds for each of 9 candidates, totalling 45 fits\n[Parallel(n_jobs=1)]: Done  45 out of  45 | elapsed:    1.7s finished\n[Parallel(n_jobs=1)]: Using backend SequentialBackend with 1 concurrent workers.\nFitting 5 folds for each of 9 candidates, totalling 45 fits\n[Parallel(n_jobs=1)]: Done  45 out of  45 | elapsed:    1.7s finished\n[Parallel(n_jobs=1)]: Using backend SequentialBackend with 1 concurrent workers.\nFitting 5 folds for each of 9 candidates, totalling 45 fits\n[Parallel(n_jobs=1)]: Done  45 out of  45 | elapsed:    1.6s finished\n[Parallel(n_jobs=1)]: Using backend SequentialBackend with 1 concurrent workers.\nFitting 5 folds for each of 9 candidates, totalling 45 fits\n[Parallel(n_jobs=1)]: Done  45 out of  45 | elapsed:    1.6s finished\n[Parallel(n_jobs=1)]: Using backend SequentialBackend with 1 concurrent workers.\nFitting 5 folds for each of 9 candidates, totalling 45 fits\n[Parallel(n_jobs=1)]: Done  45 out of  45 | elapsed:    1.6s finished\n[Parallel(n_jobs=1)]: Using backend SequentialBackend with 1 concurrent workers.\nFitting 5 folds for each of 9 candidates, totalling 45 fits\n[Parallel(n_jobs=1)]: Done  45 out of  45 | elapsed:    1.6s finished\n[Parallel(n_jobs=1)]: Using backend SequentialBackend with 1 concurrent workers.\nFitting 5 folds for each of 9 candidates, totalling 45 fits\n[Parallel(n_jobs=1)]: Done  45 out of  45 | elapsed:    1.6s finished\n[Parallel(n_jobs=1)]: Using backend SequentialBackend with 1 concurrent workers.\nFitting 5 folds for each of 9 candidates, totalling 45 fits\n[Parallel(n_jobs=1)]: Done  45 out of  45 | elapsed:    1.7s finished\n[Parallel(n_jobs=1)]: Using backend SequentialBackend with 1 concurrent workers.\nFitting 5 folds for each of 9 candidates, totalling 45 fits\n[Parallel(n_jobs=1)]: Done  45 out of  45 | elapsed:    1.7s finished\n[Parallel(n_jobs=1)]: Using backend SequentialBackend with 1 concurrent workers.\nFitting 5 folds for each of 9 candidates, totalling 45 fits\n[Parallel(n_jobs=1)]: Done  45 out of  45 | elapsed:    1.7s finished\n[Parallel(n_jobs=1)]: Using backend SequentialBackend with 1 concurrent workers.\nFitting 5 folds for each of 9 candidates, totalling 45 fits\n[Parallel(n_jobs=1)]: Done  45 out of  45 | elapsed:    1.5s finished\n[Parallel(n_jobs=1)]: Using backend SequentialBackend with 1 concurrent workers.\nFitting 5 folds for each of 9 candidates, totalling 45 fits\n[Parallel(n_jobs=1)]: Done  45 out of  45 | elapsed:    1.5s finished\n[Parallel(n_jobs=1)]: Using backend SequentialBackend with 1 concurrent workers.\nFitting 5 folds for each of 9 candidates, totalling 45 fits\n[Parallel(n_jobs=1)]: Done  45 out of  45 | elapsed:    1.5s finished\n[Parallel(n_jobs=1)]: Using backend SequentialBackend with 1 concurrent workers.\nFitting 5 folds for each of 9 candidates, totalling 45 fits\n[Parallel(n_jobs=1)]: Done  45 out of  45 | elapsed:    1.6s finished\n[Parallel(n_jobs=1)]: Using backend SequentialBackend with 1 concurrent workers.\nFitting 5 folds for each of 9 candidates, totalling 45 fits\n[Parallel(n_jobs=1)]: Done  45 out of  45 | elapsed:    1.6s finished\n[Parallel(n_jobs=1)]: Using backend SequentialBackend with 1 concurrent workers.\nFitting 5 folds for each of 9 candidates, totalling 45 fits\n[Parallel(n_jobs=1)]: Done  45 out of  45 | elapsed:    1.8s finished\n[Parallel(n_jobs=1)]: Using backend SequentialBackend with 1 concurrent workers.\nFitting 5 folds for each of 9 candidates, totalling 45 fits\n[Parallel(n_jobs=1)]: Done  45 out of  45 | elapsed:    1.7s finished\n[Parallel(n_jobs=1)]: Using backend SequentialBackend with 1 concurrent workers.\nFitting 5 folds for each of 9 candidates, totalling 45 fits\n[Parallel(n_jobs=1)]: Done  45 out of  45 | elapsed:    1.7s finished\n[Parallel(n_jobs=1)]: Using backend SequentialBackend with 1 concurrent workers.\nFitting 5 folds for each of 9 candidates, totalling 45 fits\n[Parallel(n_jobs=1)]: Done  45 out of  45 | elapsed:    1.6s finished\n[Parallel(n_jobs=1)]: Using backend SequentialBackend with 1 concurrent workers.\nFitting 5 folds for each of 9 candidates, totalling 45 fits\n[Parallel(n_jobs=1)]: Done  45 out of  45 | elapsed:    1.7s finished\n"
    }
   ],
   "source": [
    "for store in stores:\n",
    "    d=train[train['store_id']==store]\n",
    "    t=test[test['store_id']==store]\n",
    "    skus=d['sku_id'].unique()\n",
    "    params={'max_depth':[4,6,8],'learning_rate':[0.001,0.01,0.1]}\n",
    "    for sku1 in skus:\n",
    "        k=d[d['sku_id']==sku1]\n",
    "        v=t[t['sku_id']==sku1]\n",
    "        mod=LGBMRegressor()\n",
    "        grid=GridSearchCV(mod,params,verbose=1)\n",
    "        grid.fit(k[cols].drop(['units_sold'],axis=1),k['units_sold'])\n",
    "        preds=grid.predict(v[['base_price','is_featured_sku', 'is_display_sku','discount','Week_no','month_sine']])\n",
    "        rec=v['record_ID'].values\n",
    "        i=0\n",
    "        for rec1 in rec:\n",
    "            sub.loc[sub['record_ID']==rec1,'units_sold']=preds[i]\n",
    "            i+=1\n"
   ]
  },
  {
   "cell_type": "code",
   "execution_count": 69,
   "metadata": {},
   "outputs": [],
   "source": [
    "sub['units_sold']=sub['units_sold'].apply(lambda x: x if x>0 else 0)"
   ]
  },
  {
   "cell_type": "code",
   "execution_count": 70,
   "metadata": {},
   "outputs": [
    {
     "output_type": "execute_result",
     "data": {
      "text/plain": "   record_ID  units_sold\n0     212645   20.440103\n1     212646   25.607180\n2     212647   25.879713\n3     212648   27.397195\n4     212649   23.492581",
      "text/html": "<div>\n<style scoped>\n    .dataframe tbody tr th:only-of-type {\n        vertical-align: middle;\n    }\n\n    .dataframe tbody tr th {\n        vertical-align: top;\n    }\n\n    .dataframe thead th {\n        text-align: right;\n    }\n</style>\n<table border=\"1\" class=\"dataframe\">\n  <thead>\n    <tr style=\"text-align: right;\">\n      <th></th>\n      <th>record_ID</th>\n      <th>units_sold</th>\n    </tr>\n  </thead>\n  <tbody>\n    <tr>\n      <th>0</th>\n      <td>212645</td>\n      <td>20.440103</td>\n    </tr>\n    <tr>\n      <th>1</th>\n      <td>212646</td>\n      <td>25.607180</td>\n    </tr>\n    <tr>\n      <th>2</th>\n      <td>212647</td>\n      <td>25.879713</td>\n    </tr>\n    <tr>\n      <th>3</th>\n      <td>212648</td>\n      <td>27.397195</td>\n    </tr>\n    <tr>\n      <th>4</th>\n      <td>212649</td>\n      <td>23.492581</td>\n    </tr>\n  </tbody>\n</table>\n</div>"
     },
     "metadata": {},
     "execution_count": 70
    }
   ],
   "source": [
    "sub.head()"
   ]
  },
  {
   "cell_type": "code",
   "execution_count": 71,
   "metadata": {},
   "outputs": [],
   "source": [
    "sub.to_csv('MySub8.csv',index=False)"
   ]
  },
  {
   "cell_type": "code",
   "execution_count": 72,
   "metadata": {},
   "outputs": [
    {
     "output_type": "execute_result",
     "data": {
      "text/plain": "{'learning_rate': 0.1, 'max_depth': 4}"
     },
     "metadata": {},
     "execution_count": 72
    }
   ],
   "source": [
    "grid.best_params_"
   ]
  },
  {
   "cell_type": "code",
   "execution_count": null,
   "metadata": {},
   "outputs": [],
   "source": []
  }
 ],
 "metadata": {
  "language_info": {
   "codemirror_mode": {
    "name": "ipython",
    "version": 3
   },
   "file_extension": ".py",
   "mimetype": "text/x-python",
   "name": "python",
   "nbconvert_exporter": "python",
   "pygments_lexer": "ipython3",
   "version": "3.8.3-final"
  },
  "orig_nbformat": 2,
  "kernelspec": {
   "name": "python_defaultSpec_1594621553589",
   "display_name": "Python 3.8.3 64-bit"
  }
 },
 "nbformat": 4,
 "nbformat_minor": 2
}